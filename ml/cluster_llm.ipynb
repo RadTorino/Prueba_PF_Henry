{
 "cells": [
  {
   "cell_type": "code",
   "execution_count": 1,
   "metadata": {},
   "outputs": [],
   "source": [
    "import pandas as pd\n",
    "import ast\n",
    "import os\n",
    "from dotenv import load_dotenv"
   ]
  },
  {
   "cell_type": "code",
   "execution_count": null,
   "metadata": {},
   "outputs": [],
   "source": [
    "load_dotenv()\n",
    "api_key = os.getenv(\"GROQ_API_KEY\")"
   ]
  },
  {
   "cell_type": "code",
   "execution_count": 2,
   "metadata": {},
   "outputs": [],
   "source": [
    "df = pd.read_csv(\"reviews_google.csv\")"
   ]
  },
  {
   "cell_type": "code",
   "execution_count": 3,
   "metadata": {},
   "outputs": [],
   "source": [
    "pd.set_option('display.max_rows', None)\n",
    "pd.set_option('display.max_columns', None)\n",
    "pd.set_option('display.max_colwidth', None)"
   ]
  },
  {
   "cell_type": "code",
   "execution_count": 4,
   "metadata": {},
   "outputs": [
    {
     "data": {
      "text/html": [
       "<div>\n",
       "<style scoped>\n",
       "    .dataframe tbody tr th:only-of-type {\n",
       "        vertical-align: middle;\n",
       "    }\n",
       "\n",
       "    .dataframe tbody tr th {\n",
       "        vertical-align: top;\n",
       "    }\n",
       "\n",
       "    .dataframe thead th {\n",
       "        text-align: right;\n",
       "    }\n",
       "</style>\n",
       "<table border=\"1\" class=\"dataframe\">\n",
       "  <thead>\n",
       "    <tr style=\"text-align: right;\">\n",
       "      <th></th>\n",
       "      <th>user_id</th>\n",
       "      <th>name</th>\n",
       "      <th>date</th>\n",
       "      <th>rating</th>\n",
       "      <th>text</th>\n",
       "      <th>gmap_id</th>\n",
       "    </tr>\n",
       "  </thead>\n",
       "  <tbody>\n",
       "    <tr>\n",
       "      <th>0</th>\n",
       "      <td>115087327175786879005</td>\n",
       "      <td>James Drummond</td>\n",
       "      <td>2019-05-06 01:42:12+00:00</td>\n",
       "      <td>1</td>\n",
       "      <td>The location is a franchise of sorts operated by Sodexo, the food service intermediary working on contract for the university. As a result, the service is not and will never be up to Starbucks's standards. This is less about the quality of the food &amp; beverages, and more to do with the quality and friendliness of the servers. I personally have only had to deal with slow service, but that could happen at any time during a rush. The worst stories come from others; I have been around while the building was hosting an added-security event, which required the presence of LEOs; the baristas refused to provide him with a glass of water without charging him. At other foodservice locations in the same building and operated by the same company, not even students are charged for water glasses. That one event does a good job summarizing the apathy and disregard the employees have for their customers. Another critical issue is that this location doesn't accept Starbucks's own rewards program, which is extremely annoying after having signed up for the program just for the convenience of the location being in the same building that I work for. I've personally made a resolution to never purchase another item at this location again.</td>\n",
       "      <td>0x88891beed225fed1:0x3c63ad3e69972d22</td>\n",
       "    </tr>\n",
       "    <tr>\n",
       "      <th>1</th>\n",
       "      <td>103797448577708424762</td>\n",
       "      <td>Matthew Pearson</td>\n",
       "      <td>2019-04-19 12:10:35+00:00</td>\n",
       "      <td>1</td>\n",
       "      <td>Go to the one in Sterne. This place is a mess. Wrong size coffee, stale croissant, long wait.</td>\n",
       "      <td>0x88891beed225fed1:0x3c63ad3e69972d22</td>\n",
       "    </tr>\n",
       "    <tr>\n",
       "      <th>2</th>\n",
       "      <td>105327613948110783717</td>\n",
       "      <td>Gargya Malla</td>\n",
       "      <td>2021-03-23 19:05:56+00:00</td>\n",
       "      <td>1</td>\n",
       "      <td>NaN</td>\n",
       "      <td>0x88891beed225fed1:0x3c63ad3e69972d22</td>\n",
       "    </tr>\n",
       "    <tr>\n",
       "      <th>3</th>\n",
       "      <td>109991408114401717608</td>\n",
       "      <td>Tessa Moore</td>\n",
       "      <td>2019-10-25 11:47:08+00:00</td>\n",
       "      <td>1</td>\n",
       "      <td>NaN</td>\n",
       "      <td>0x88891beed225fed1:0x3c63ad3e69972d22</td>\n",
       "    </tr>\n",
       "    <tr>\n",
       "      <th>4</th>\n",
       "      <td>101745792789153591390</td>\n",
       "      <td>Shayla Rose</td>\n",
       "      <td>2021-06-07 16:53:41+00:00</td>\n",
       "      <td>1</td>\n",
       "      <td>NaN</td>\n",
       "      <td>0x88891beed225fed1:0x3c63ad3e69972d22</td>\n",
       "    </tr>\n",
       "  </tbody>\n",
       "</table>\n",
       "</div>"
      ],
      "text/plain": [
       "                 user_id             name                       date  rating  \\\n",
       "0  115087327175786879005   James Drummond  2019-05-06 01:42:12+00:00       1   \n",
       "1  103797448577708424762  Matthew Pearson  2019-04-19 12:10:35+00:00       1   \n",
       "2  105327613948110783717     Gargya Malla  2021-03-23 19:05:56+00:00       1   \n",
       "3  109991408114401717608      Tessa Moore  2019-10-25 11:47:08+00:00       1   \n",
       "4  101745792789153591390      Shayla Rose  2021-06-07 16:53:41+00:00       1   \n",
       "\n",
       "                                                                                                                                                                                                                                                                                                                                                                                                                                                                                                                                                                                                                                                                                                                                                                                                                                                                                                                                                                                                                                                                                                                                                                                                                                                                                 text  \\\n",
       "0  The location is a franchise of sorts operated by Sodexo, the food service intermediary working on contract for the university. As a result, the service is not and will never be up to Starbucks's standards. This is less about the quality of the food & beverages, and more to do with the quality and friendliness of the servers. I personally have only had to deal with slow service, but that could happen at any time during a rush. The worst stories come from others; I have been around while the building was hosting an added-security event, which required the presence of LEOs; the baristas refused to provide him with a glass of water without charging him. At other foodservice locations in the same building and operated by the same company, not even students are charged for water glasses. That one event does a good job summarizing the apathy and disregard the employees have for their customers. Another critical issue is that this location doesn't accept Starbucks's own rewards program, which is extremely annoying after having signed up for the program just for the convenience of the location being in the same building that I work for. I've personally made a resolution to never purchase another item at this location again.   \n",
       "1                                                                                                                                                                                                                                                                                                                                                                                                                                                                                                                                                                                                                                                                                                                                                                                                                                                                                                                                                                                                                                                                                                                                                                                       Go to the one in Sterne. This place is a mess. Wrong size coffee, stale croissant, long wait.   \n",
       "2                                                                                                                                                                                                                                                                                                                                                                                                                                                                                                                                                                                                                                                                                                                                                                                                                                                                                                                                                                                                                                                                                                                                                                                                                                                                                 NaN   \n",
       "3                                                                                                                                                                                                                                                                                                                                                                                                                                                                                                                                                                                                                                                                                                                                                                                                                                                                                                                                                                                                                                                                                                                                                                                                                                                                                 NaN   \n",
       "4                                                                                                                                                                                                                                                                                                                                                                                                                                                                                                                                                                                                                                                                                                                                                                                                                                                                                                                                                                                                                                                                                                                                                                                                                                                                                 NaN   \n",
       "\n",
       "                                 gmap_id  \n",
       "0  0x88891beed225fed1:0x3c63ad3e69972d22  \n",
       "1  0x88891beed225fed1:0x3c63ad3e69972d22  \n",
       "2  0x88891beed225fed1:0x3c63ad3e69972d22  \n",
       "3  0x88891beed225fed1:0x3c63ad3e69972d22  \n",
       "4  0x88891beed225fed1:0x3c63ad3e69972d22  "
      ]
     },
     "execution_count": 4,
     "metadata": {},
     "output_type": "execute_result"
    }
   ],
   "source": [
    "df.head()"
   ]
  },
  {
   "cell_type": "code",
   "execution_count": 3,
   "metadata": {},
   "outputs": [],
   "source": [
    "reviews = list(df.text.dropna())"
   ]
  },
  {
   "cell_type": "code",
   "execution_count": 4,
   "metadata": {},
   "outputs": [
    {
     "name": "stdout",
     "output_type": "stream",
     "text": [
      "(156729, 6)\n"
     ]
    },
    {
     "data": {
      "text/plain": [
       "75035"
      ]
     },
     "execution_count": 4,
     "metadata": {},
     "output_type": "execute_result"
    }
   ],
   "source": [
    "print(df.shape)\n",
    "len(reviews)\n"
   ]
  },
  {
   "cell_type": "code",
   "execution_count": 21,
   "metadata": {},
   "outputs": [
    {
     "name": "stdout",
     "output_type": "stream",
     "text": [
      "Rude\n"
     ]
    }
   ],
   "source": [
    "print(reviews[5])"
   ]
  },
  {
   "cell_type": "code",
   "execution_count": 5,
   "metadata": {},
   "outputs": [],
   "source": [
    "from groq import Groq\n",
    "\n",
    "def cluster_and_tag(review):\n",
    "    client = Groq(api_key = api_key)\n",
    "    \n",
    "\n",
    "    completion = client.chat.completions.create(\n",
    "        model=\"llama3-70b-8192\",\n",
    "        messages=[\n",
    "            {\n",
    "                \"role\": \"system\",\n",
    "                \"content\": \"You are a business specialist. You have to clasisify Starbucks client reviews into one of five clusters: \\n1) Service.\\n2) Place.\\n3) Coffee.\\n4) Food.\\n5) Time\\n\\nAditionally, add a positive, neutral or negative tag to the review.\\n\\n. Return your answer in the specify format, without any other messages.\"\n",
    "            },\n",
    "            {\n",
    "                \"role\": \"user\",\n",
    "                \"content\": \"Review: The location is a franchise of sorts operated by Sodexo, the food service intermediary working on contract for the university. As a result, the service is not and will never be up to Starbucks's standards. This is less about the quality of the food & beverages, and more to do with the quality and friendliness of the servers. I personally have only had to deal with slow service, but that could happen at any time during a rush. The worst stories come from others; I have been around while the building was hosting an added-security event, which required the presence of LEOs; the baristas refused to provide him with a glass of water without charging him. At other foodservice locations in the same building and operated by the same company, not even students are charged for water glasses. That one event does a good job summarizing the apathy and disregard the employees have for their customers. Another critical issue is that this location doesn't accept Starbucks's own rewards program, which is extremely annoying after having signed up for the program just for the convenience of the location being in the same building that I work for. I've personally made a resolution to never purchase another item at this location again.\"\n",
    "            },\n",
    "            {\n",
    "                \"role\": \"assistant\",\n",
    "                \"content\": \"{'cluster': 'Service', 'tag': 'negative'}\"\n",
    "            },\n",
    "            {\n",
    "                \"role\": \"user\",\n",
    "                \"content\": \"Go to the one in Sterne. This place is a mess. Wrong size coffee, stale croissant, long wait.\"\n",
    "            },\n",
    "            {\n",
    "                \"role\": \"assistant\",\n",
    "                \"content\": \"[{'cluster': 'place', 'tag': 'negative'},{'cluster': 'food', 'tag': 'negative'}]\"\n",
    "            },\n",
    "            {\n",
    "                \"role\": \"user\",\n",
    "                \"content\": f\"Review: {review}\"\n",
    "            }\n",
    "        ],\n",
    "        temperature=1,\n",
    "        max_tokens=1024,\n",
    "        top_p=1,\n",
    "        stream=True,\n",
    "        stop=None,\n",
    "    )\n",
    "    answer =[]\n",
    "    for chunk in completion:\n",
    "      sent = (chunk.choices[0].delta.content or \"\") \n",
    "      answer.append(sent)\n",
    "\n",
    "    return ast.literal_eval(\"\".join(answer))\n",
    "    \n"
   ]
  },
  {
   "cell_type": "markdown",
   "metadata": {},
   "source": [
    "Abro el archivo con las reviews ya analizadas. Este trabajo se hace de a partes porque analizar 500 reviews lleva 40 minutos."
   ]
  },
  {
   "cell_type": "code",
   "execution_count": 6,
   "metadata": {},
   "outputs": [
    {
     "data": {
      "text/plain": [
       "(2144, 3)"
      ]
     },
     "execution_count": 6,
     "metadata": {},
     "output_type": "execute_result"
    }
   ],
   "source": [
    "clustered = pd.read_csv(\"reviews_cluster.csv\")\n",
    "clustered.shape"
   ]
  },
  {
   "cell_type": "markdown",
   "metadata": {},
   "source": [
    "Selecciono al azar 500 reviews que no hayan sido analizadas. Se hace al azar porque las reviews venían ordenadas por puntaje y queremos que todas las muestras sean representativas para tener un MVP en caso de no llegar a procesar todas las reviews. "
   ]
  },
  {
   "cell_type": "code",
   "execution_count": 7,
   "metadata": {},
   "outputs": [],
   "source": [
    "import random\n",
    "r = random.sample([review for review in reviews if review not in list(clustered.reviews)], 500)"
   ]
  },
  {
   "cell_type": "code",
   "execution_count": 79,
   "metadata": {},
   "outputs": [
    {
     "data": {
      "text/plain": [
       "(500, 3)"
      ]
     },
     "execution_count": 79,
     "metadata": {},
     "output_type": "execute_result"
    }
   ],
   "source": [
    "reviews_cluster.shape"
   ]
  },
  {
   "cell_type": "markdown",
   "metadata": {},
   "source": [
    "Corremos el código que analiza cada review y devuelve un diccionario con la categoría que se está calificando y el tipo de calificación (Positivo-Neutro-Negativo). En caso que el review califique más de una categoría devuelve una lista de diccionarios."
   ]
  },
  {
   "cell_type": "code",
   "execution_count": null,
   "metadata": {},
   "outputs": [],
   "source": [
    "reviews_cluster = pd.DataFrame()\n",
    "clusters = []\n",
    "tags = []\n",
    "for review in r:\n",
    "    try:\n",
    "        analisis = cluster_and_tag(review)\n",
    "        print(analisis)\n",
    "        if isinstance(analisis, list):\n",
    "            clusters.append([element['cluster'] for element in analisis])\n",
    "            tags.append([element['tag'] for element in analisis])\n",
    "        elif isinstance(analisis, dict):\n",
    "            clusters.append(analisis['cluster'])\n",
    "            tags.append(analisis['tag'])\n",
    "        else: \n",
    "            clusters.append(None)\n",
    "            tags.append(None)\n",
    "    except Exception as e:\n",
    "        clusters.append(None)\n",
    "        tags.append(None)\n",
    "\n",
    "reviews_cluster['reviews'] = r\n",
    "reviews_cluster['clusters'] = clusters\n",
    "reviews_cluster['tags'] = tags\n"
   ]
  },
  {
   "cell_type": "code",
   "execution_count": 35,
   "metadata": {},
   "outputs": [],
   "source": [
    "def cap(el):\n",
    "    if isinstance(el, str):\n",
    "        return el.capitalize()\n",
    "    elif isinstance(el, list):\n",
    "        el = [e.capitalize() for e in el]\n",
    "    return el"
   ]
  },
  {
   "cell_type": "code",
   "execution_count": 81,
   "metadata": {},
   "outputs": [],
   "source": [
    "reviews_cluster.clusters = reviews_cluster['clusters'].apply(cap)\n",
    "reviews_cluster.tags = reviews_cluster['tags'].apply(cap)"
   ]
  },
  {
   "cell_type": "code",
   "execution_count": 82,
   "metadata": {},
   "outputs": [],
   "source": [
    "reviews_cluster = reviews_cluster.explode(['clusters', 'tags'])"
   ]
  },
  {
   "cell_type": "code",
   "execution_count": 84,
   "metadata": {},
   "outputs": [
    {
     "data": {
      "text/plain": [
       "(723, 3)"
      ]
     },
     "execution_count": 84,
     "metadata": {},
     "output_type": "execute_result"
    }
   ],
   "source": [
    "reviews_cluster.shape"
   ]
  },
  {
   "cell_type": "code",
   "execution_count": 83,
   "metadata": {},
   "outputs": [
    {
     "data": {
      "text/plain": [
       "clusters  tags    \n",
       "Coffee    Positive    133\n",
       "          Negative     40\n",
       "          Neutral      20\n",
       "Food      Positive     28\n",
       "          Negative     13\n",
       "          Neutral       2\n",
       "Neutral   Neutral       1\n",
       "None      None          2\n",
       "          Neutral       1\n",
       "Place     Positive    115\n",
       "          Neutral      26\n",
       "          Negative     25\n",
       "Service   Positive    204\n",
       "          Negative     48\n",
       "          Neutral      12\n",
       "Time      Negative     25\n",
       "          Positive     20\n",
       "          Neutral       7\n",
       "Name: count, dtype: int64"
      ]
     },
     "execution_count": 83,
     "metadata": {},
     "output_type": "execute_result"
    }
   ],
   "source": [
    "reviews_cluster.groupby(\"clusters\")[\"tags\"].value_counts()"
   ]
  },
  {
   "cell_type": "markdown",
   "metadata": {},
   "source": [
    "Abre el archivo y agrega las nuevas reviews etiquetadas."
   ]
  },
  {
   "cell_type": "code",
   "execution_count": 85,
   "metadata": {},
   "outputs": [],
   "source": [
    "import os\n",
    "# Ruta del archivo CSV\n",
    "file_path = 'reviews_cluster.csv'\n",
    "\n",
    "# Verificar si el archivo existe\n",
    "if os.path.exists(file_path):\n",
    "    # Leer el archivo CSV existente\n",
    "    existing_df = pd.read_csv(file_path)\n",
    "    # Concatenar el DataFrame existente con el nuevo DataFrame\n",
    "    updated_df = pd.concat([existing_df, reviews_cluster], ignore_index=True)\n",
    "else:\n",
    "    # Si el archivo no existe, el DataFrame actualizado es el nuevo DataFrame\n",
    "    updated_df = reviews_cluster\n",
    "\n",
    "# Guardar el DataFrame actualizado en el archivo CSV\n",
    "updated_df.to_csv(file_path, index=False)"
   ]
  }
 ],
 "metadata": {
  "kernelspec": {
   "display_name": "sklearn-env",
   "language": "python",
   "name": "python3"
  },
  "language_info": {
   "codemirror_mode": {
    "name": "ipython",
    "version": 3
   },
   "file_extension": ".py",
   "mimetype": "text/x-python",
   "name": "python",
   "nbconvert_exporter": "python",
   "pygments_lexer": "ipython3",
   "version": "3.12.4"
  }
 },
 "nbformat": 4,
 "nbformat_minor": 2
}
