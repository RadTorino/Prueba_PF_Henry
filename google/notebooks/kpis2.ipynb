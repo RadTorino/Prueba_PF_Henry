{
 "cells": [
  {
   "cell_type": "markdown",
   "metadata": {},
   "source": [
    "- **KPI: que el porcentaje de reviews negativas asociadas a un factor específico sobre el total, se mantenga por debajo del 5%, medir entre el ultimo semestre y el anterior.**"
   ]
  },
  {
   "cell_type": "code",
   "execution_count": 1,
   "metadata": {},
   "outputs": [
    {
     "name": "stdout",
     "output_type": "stream",
     "text": [
      "Porcentaje del último semestre de 2021: 4.160246533127889%\n",
      "Porcentaje del primer semestre de 2021: 4.681784930504755%\n",
      "Disminución porcentual: 11.1397342064715%\n",
      "KPI cumplido: True\n"
     ]
    },
    {
     "name": "stderr",
     "output_type": "stream",
     "text": [
      "C:\\Users\\zimme\\AppData\\Local\\Temp\\ipykernel_7128\\1019895353.py:30: SettingWithCopyWarning: \n",
      "A value is trying to be set on a copy of a slice from a DataFrame.\n",
      "Try using .loc[row_indexer,col_indexer] = value instead\n",
      "\n",
      "See the caveats in the documentation: https://pandas.pydata.org/pandas-docs/stable/user_guide/indexing.html#returning-a-view-versus-a-copy\n",
      "  last_semester_reviews['contains_patterns'] = last_semester_reviews['text'].apply(lambda x: contains_patterns(x, patterns))\n",
      "C:\\Users\\zimme\\AppData\\Local\\Temp\\ipykernel_7128\\1019895353.py:31: SettingWithCopyWarning: \n",
      "A value is trying to be set on a copy of a slice from a DataFrame.\n",
      "Try using .loc[row_indexer,col_indexer] = value instead\n",
      "\n",
      "See the caveats in the documentation: https://pandas.pydata.org/pandas-docs/stable/user_guide/indexing.html#returning-a-view-versus-a-copy\n",
      "  previous_semester_reviews['contains_patterns'] = previous_semester_reviews['text'].apply(lambda x: contains_patterns(x, patterns))\n"
     ]
    }
   ],
   "source": [
    "# Import necessary libraries\n",
    "import pandas as pd\n",
    "\n",
    "# Load the data\n",
    "df = pd.read_parquet('../data/Starbucks_reviews_ETL_limpio.parquet')\n",
    "\n",
    "# Convert the 'date' column to datetime format\n",
    "df['date'] = pd.to_datetime(df['date'])\n",
    "\n",
    "# Define the patterns\n",
    "patterns = ['slow', 'long', 'line', 'slowest']\n",
    "\n",
    "# Filter reviews for the last semester of 2021 and the previous semester\n",
    "start_date_last_semester = '2021-07-01'\n",
    "end_date_last_semester = '2021-12-31'\n",
    "start_date_previous_semester = '2021-01-01'\n",
    "end_date_previous_semester = '2021-06-30'\n",
    "\n",
    "# Filter reviews based on the date range\n",
    "last_semester_reviews = df[(df['date'] >= start_date_last_semester) & (df['date'] <= end_date_last_semester)]\n",
    "previous_semester_reviews = df[(df['date'] >= start_date_previous_semester) & (df['date'] <= end_date_previous_semester)]\n",
    "\n",
    "# Function to check if a review contains any of the patterns\n",
    "def contains_patterns(text, patterns):\n",
    "    if text is None:\n",
    "        return False\n",
    "    return any(pattern in text.lower() for pattern in patterns)\n",
    "\n",
    "# Apply the function to filter reviews containing the patterns\n",
    "last_semester_reviews['contains_patterns'] = last_semester_reviews['text'].apply(lambda x: contains_patterns(x, patterns))\n",
    "previous_semester_reviews['contains_patterns'] = previous_semester_reviews['text'].apply(lambda x: contains_patterns(x, patterns))\n",
    "\n",
    "# Calculate the percentage of negative reviews associated with slow service\n",
    "last_semester_negative_reviews = last_semester_reviews[last_semester_reviews['contains_patterns']]\n",
    "previous_semester_negative_reviews = previous_semester_reviews[previous_semester_reviews['contains_patterns']]\n",
    "\n",
    "# Calculate the KPI\n",
    "last_semester_kpi = (len(last_semester_negative_reviews) / len(last_semester_reviews)) * 100\n",
    "previous_semester_kpi = (len(previous_semester_negative_reviews) / len(previous_semester_reviews)) * 100\n",
    "\n",
    "# Calculate the percentage decrease between the two KPIs\n",
    "percentage_decrease = ((previous_semester_kpi - last_semester_kpi) / previous_semester_kpi) * 100\n",
    "\n",
    "# Check if the KPI condition is met (5% decrease)\n",
    "kpi_condition_met = percentage_decrease >= 5\n",
    "\n",
    "# Print the results\n",
    "print('Porcentaje del último semestre de 2021: ' + str(last_semester_kpi) + '%')\n",
    "print('Porcentaje del primer semestre de 2021: ' + str(previous_semester_kpi) + '%')\n",
    "print('Disminución porcentual: ' + str(percentage_decrease) + '%')\n",
    "print('KPI cumplido: ' + str(kpi_condition_met))"
   ]
  },
  {
   "cell_type": "markdown",
   "metadata": {},
   "source": [
    "- **KPI:el objetivo es incrementar el total de reviews en al menos un 10% entre el ultimo año(2021) y el anterior(2020).**"
   ]
  },
  {
   "cell_type": "code",
   "execution_count": 3,
   "metadata": {},
   "outputs": [
    {
     "name": "stdout",
     "output_type": "stream",
     "text": [
      "Reviews en 2020: 27658\n",
      "Reviews en 2021: 18427\n",
      "Variacion porcentual: -33.375515221635695\n",
      "KPI Alcanzado: False\n"
     ]
    }
   ],
   "source": [
    "# Este código calcula el KPI \"Aumento Anual de Reviews\" para verificar si el total de reviews aumentó al menos un 10% entre 2020 y 2021.\n",
    "\n",
    "import pandas as pd\n",
    "\n",
    "# Cargar los datos\n",
    "df = pd.read_parquet('../data/Starbucks_reviews_ETL_limpio.parquet')\n",
    "\n",
    "# Extraer el año de la fecha del review\n",
    "df['year'] = pd.to_datetime(df['date']).dt.year\n",
    "\n",
    "# Contar el número de reviews por año\n",
    "reviews_per_year = df['year'].value_counts().sort_index()\n",
    "\n",
    "# Calcular el aumento porcentual de reviews de 2020 a 2021\n",
    "reviews_2020 = reviews_per_year.get(2020, 0)\n",
    "reviews_2021 = reviews_per_year.get(2021, 0)\n",
    "\n",
    "if reviews_2020 > 0:\n",
    "    percentaje_variation = ((reviews_2021 - reviews_2020) / reviews_2020) * 100\n",
    "else:\n",
    "    percentaje_variation = float('inf')  # Si no hubo reviews en 2020, el aumento se considera infinito\n",
    "\n",
    "# Verificar si el aumento es al menos del 10%\n",
    "kpi_achieved = percentaje_variation >= 10\n",
    "\n",
    "print('Reviews en 2020:', reviews_2020)\n",
    "print('Reviews en 2021:', reviews_2021)\n",
    "print('Variacion porcentual:', percentaje_variation)\n",
    "print('KPI Alcanzado:', kpi_achieved)"
   ]
  },
  {
   "cell_type": "markdown",
   "metadata": {},
   "source": [
    "- **KPI: Que la puntuación promedio de Starbucks sea superior en un 5% a la de su principal competidor(Dunkin), medida por semestre(el ultimo comparado con el anterior).**"
   ]
  },
  {
   "cell_type": "code",
   "execution_count": 6,
   "metadata": {},
   "outputs": [
    {
     "name": "stdout",
     "output_type": "stream",
     "text": [
      "Puntuación Promedio de Starbucks: 4.24807023162943\n",
      "Puntuación Promedio de Dunkin: 4.059433996080868\n",
      "Variación Porcentual: 4.646860516285729\n",
      "KPI Cumplido (5%): False\n"
     ]
    }
   ],
   "source": [
    "# Importar las bibliotecas necesarias\n",
    "import pandas as pd\n",
    "\n",
    "# Cargar los datos\n",
    "starbucks_df = pd.read_parquet('../data/Starbucks_reviews_ETL_limpio.parquet')\n",
    "dunkin_df = pd.read_parquet('../data/Dunkin_reviews_ETL_limpio.parquet')\n",
    "\n",
    "# Convertir las columnas de fecha a tipo datetime\n",
    "starbucks_df['date'] = pd.to_datetime(starbucks_df['date'])\n",
    "dunkin_df['date'] = pd.to_datetime(dunkin_df['date'])\n",
    "\n",
    "# Filtrar los datos para el último semestre de 2021 y el semestre anterior\n",
    "fecha_inicio_semestre_1 = '2021-01-01'\n",
    "fecha_fin_semestre_1 = '2021-06-30'\n",
    "fecha_inicio_semestre_2 = '2021-07-01'\n",
    "fecha_fin_semestre_2 = '2021-12-31'\n",
    "\n",
    "starbucks_semestre_1 = starbucks_df[(starbucks_df['date'] >= fecha_inicio_semestre_1) & (starbucks_df['date'] <= fecha_fin_semestre_1)]\n",
    "starbucks_semestre_2 = starbucks_df[(starbucks_df['date'] >= fecha_inicio_semestre_2) & (starbucks_df['date'] <= fecha_fin_semestre_2)]\n",
    "\n",
    "dunkin_semestre_1 = dunkin_df[(dunkin_df['date'] >= fecha_inicio_semestre_1) & (dunkin_df['date'] <= fecha_fin_semestre_1)]\n",
    "dunkin_semestre_2 = dunkin_df[(dunkin_df['date'] >= fecha_inicio_semestre_2) & (dunkin_df['date'] <= fecha_fin_semestre_2)]\n",
    "\n",
    "# Calcular las puntuaciones promedio para cada semestre\n",
    "puntuacion_promedio_starbucks_semestre_1 = starbucks_semestre_1['rating'].mean()\n",
    "puntuacion_promedio_starbucks_semestre_2 = starbucks_semestre_2['rating'].mean()\n",
    "\n",
    "puntuacion_promedio_dunkin_semestre_1 = dunkin_semestre_1['rating'].mean()\n",
    "puntuacion_promedio_dunkin_semestre_2 = dunkin_semestre_2['rating'].mean()\n",
    "\n",
    "# Calcular la puntuación promedio total para el año 2021\n",
    "puntuacion_promedio_starbucks = (puntuacion_promedio_starbucks_semestre_1 + puntuacion_promedio_starbucks_semestre_2) / 2\n",
    "puntuacion_promedio_dunkin = (puntuacion_promedio_dunkin_semestre_1 + puntuacion_promedio_dunkin_semestre_2) / 2\n",
    "\n",
    "# Calcular la variación porcentual\n",
    "variacion_porcentual = ((puntuacion_promedio_starbucks - puntuacion_promedio_dunkin) / puntuacion_promedio_dunkin) * 100\n",
    "\n",
    "# Calcular el KPI para una diferencia del 5%\n",
    "kpi_5_por_ciento = puntuacion_promedio_starbucks > (puntuacion_promedio_dunkin * 1.05)\n",
    "\n",
    "# Imprimir los resultados\n",
    "print('Puntuación Promedio de Starbucks:', puntuacion_promedio_starbucks)\n",
    "print('Puntuación Promedio de Dunkin:', puntuacion_promedio_dunkin)\n",
    "print('Variación Porcentual:', variacion_porcentual)\n",
    "print('KPI Cumplido (5%):', kpi_5_por_ciento)"
   ]
  }
 ],
 "metadata": {
  "kernelspec": {
   "display_name": "Python 3",
   "language": "python",
   "name": "python3"
  },
  "language_info": {
   "codemirror_mode": {
    "name": "ipython",
    "version": 3
   },
   "file_extension": ".py",
   "mimetype": "text/x-python",
   "name": "python",
   "nbconvert_exporter": "python",
   "pygments_lexer": "ipython3",
   "version": "3.12.0"
  }
 },
 "nbformat": 4,
 "nbformat_minor": 2
}
