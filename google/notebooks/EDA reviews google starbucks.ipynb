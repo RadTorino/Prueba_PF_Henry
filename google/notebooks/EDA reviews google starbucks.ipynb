{
 "cells": [
  {
   "cell_type": "markdown",
   "metadata": {},
   "source": [
    "- **EDA STARBUCKS**"
   ]
  },
  {
   "cell_type": "code",
   "execution_count": 2,
   "metadata": {},
   "outputs": [],
   "source": [
    "import pandas as pd\n",
    "\n",
    "# Cargar los dataframes desde los archivos parquet\n",
    "df = pd.read_parquet('../data/Starbucks_reviews_ETL_limpio.parquet')\n",
    "df1 = pd.read_parquet('../data/Starbucks_metadata_ETL_limpio.parquet')\n",
    "\n",
    "# Unir los dataframes en una columna común (asumiendo que 'gmap_id' es la columna común)\n",
    "merged_df = pd.merge(df, df1, on='gmap_id')"
   ]
  },
  {
   "cell_type": "code",
   "execution_count": 20,
   "metadata": {},
   "outputs": [
    {
     "data": {
      "text/html": [
       "<div>\n",
       "<style scoped>\n",
       "    .dataframe tbody tr th:only-of-type {\n",
       "        vertical-align: middle;\n",
       "    }\n",
       "\n",
       "    .dataframe tbody tr th {\n",
       "        vertical-align: top;\n",
       "    }\n",
       "\n",
       "    .dataframe thead th {\n",
       "        text-align: right;\n",
       "    }\n",
       "</style>\n",
       "<table border=\"1\" class=\"dataframe\">\n",
       "  <thead>\n",
       "    <tr style=\"text-align: right;\">\n",
       "      <th></th>\n",
       "      <th>user_id</th>\n",
       "      <th>name_x</th>\n",
       "      <th>time</th>\n",
       "      <th>rating</th>\n",
       "      <th>text</th>\n",
       "      <th>gmap_id</th>\n",
       "      <th>name_y</th>\n",
       "      <th>address</th>\n",
       "      <th>state</th>\n",
       "      <th>num_of_reviews</th>\n",
       "      <th>avg_rating</th>\n",
       "      <th>price</th>\n",
       "      <th>latitude</th>\n",
       "      <th>longitude</th>\n",
       "      <th>category</th>\n",
       "      <th>description</th>\n",
       "      <th>hours</th>\n",
       "      <th>MISC</th>\n",
       "      <th>relative_results</th>\n",
       "      <th>url</th>\n",
       "    </tr>\n",
       "  </thead>\n",
       "  <tbody>\n",
       "    <tr>\n",
       "      <th>0</th>\n",
       "      <td>100107003653040726165</td>\n",
       "      <td>Jacob McCalpin</td>\n",
       "      <td>2017-09-21 09:22:11</td>\n",
       "      <td>5</td>\n",
       "      <td>Chanel is the greatest barista of all time. I'...</td>\n",
       "      <td>0x88891beed225fed1:0x3c63ad3e69972d22</td>\n",
       "      <td>Starbucks</td>\n",
       "      <td>Starbucks, 1400 University Blvd, Birmingham, A...</td>\n",
       "      <td>AL</td>\n",
       "      <td>18</td>\n",
       "      <td>2.6</td>\n",
       "      <td>Moderate</td>\n",
       "      <td>33.501601</td>\n",
       "      <td>-86.807263</td>\n",
       "      <td>[Coffee shop, Cafe, Coffee store, Espresso bar]</td>\n",
       "      <td>Seattle-based coffeehouse chain known for its ...</td>\n",
       "      <td>[[Saturday, 10AM–1:30PM], [Sunday, Closed], [M...</td>\n",
       "      <td>{'Accessibility': ['Wheelchair accessible entr...</td>\n",
       "      <td>[0x88891bc276c68cf9:0x669c302b2c5da34e, 0x8889...</td>\n",
       "      <td>https://www.google.com/maps/place//data=!4m2!3...</td>\n",
       "    </tr>\n",
       "    <tr>\n",
       "      <th>1</th>\n",
       "      <td>108921061266588850634</td>\n",
       "      <td>Alex Z</td>\n",
       "      <td>2018-10-03 12:11:08</td>\n",
       "      <td>2</td>\n",
       "      <td>The food is always warm and delicious but the ...</td>\n",
       "      <td>0x88891beed225fed1:0x3c63ad3e69972d22</td>\n",
       "      <td>Starbucks</td>\n",
       "      <td>Starbucks, 1400 University Blvd, Birmingham, A...</td>\n",
       "      <td>AL</td>\n",
       "      <td>18</td>\n",
       "      <td>2.6</td>\n",
       "      <td>Moderate</td>\n",
       "      <td>33.501601</td>\n",
       "      <td>-86.807263</td>\n",
       "      <td>[Coffee shop, Cafe, Coffee store, Espresso bar]</td>\n",
       "      <td>Seattle-based coffeehouse chain known for its ...</td>\n",
       "      <td>[[Saturday, 10AM–1:30PM], [Sunday, Closed], [M...</td>\n",
       "      <td>{'Accessibility': ['Wheelchair accessible entr...</td>\n",
       "      <td>[0x88891bc276c68cf9:0x669c302b2c5da34e, 0x8889...</td>\n",
       "      <td>https://www.google.com/maps/place//data=!4m2!3...</td>\n",
       "    </tr>\n",
       "    <tr>\n",
       "      <th>2</th>\n",
       "      <td>115087327175786879005</td>\n",
       "      <td>James Drummond</td>\n",
       "      <td>2019-05-06 01:42:12</td>\n",
       "      <td>1</td>\n",
       "      <td>The location is a franchise of sorts operated ...</td>\n",
       "      <td>0x88891beed225fed1:0x3c63ad3e69972d22</td>\n",
       "      <td>Starbucks</td>\n",
       "      <td>Starbucks, 1400 University Blvd, Birmingham, A...</td>\n",
       "      <td>AL</td>\n",
       "      <td>18</td>\n",
       "      <td>2.6</td>\n",
       "      <td>Moderate</td>\n",
       "      <td>33.501601</td>\n",
       "      <td>-86.807263</td>\n",
       "      <td>[Coffee shop, Cafe, Coffee store, Espresso bar]</td>\n",
       "      <td>Seattle-based coffeehouse chain known for its ...</td>\n",
       "      <td>[[Saturday, 10AM–1:30PM], [Sunday, Closed], [M...</td>\n",
       "      <td>{'Accessibility': ['Wheelchair accessible entr...</td>\n",
       "      <td>[0x88891bc276c68cf9:0x669c302b2c5da34e, 0x8889...</td>\n",
       "      <td>https://www.google.com/maps/place//data=!4m2!3...</td>\n",
       "    </tr>\n",
       "    <tr>\n",
       "      <th>3</th>\n",
       "      <td>103797448577708424762</td>\n",
       "      <td>Matthew Pearson</td>\n",
       "      <td>2019-04-19 12:10:35</td>\n",
       "      <td>1</td>\n",
       "      <td>Go to the one in Sterne. This place is a mess....</td>\n",
       "      <td>0x88891beed225fed1:0x3c63ad3e69972d22</td>\n",
       "      <td>Starbucks</td>\n",
       "      <td>Starbucks, 1400 University Blvd, Birmingham, A...</td>\n",
       "      <td>AL</td>\n",
       "      <td>18</td>\n",
       "      <td>2.6</td>\n",
       "      <td>Moderate</td>\n",
       "      <td>33.501601</td>\n",
       "      <td>-86.807263</td>\n",
       "      <td>[Coffee shop, Cafe, Coffee store, Espresso bar]</td>\n",
       "      <td>Seattle-based coffeehouse chain known for its ...</td>\n",
       "      <td>[[Saturday, 10AM–1:30PM], [Sunday, Closed], [M...</td>\n",
       "      <td>{'Accessibility': ['Wheelchair accessible entr...</td>\n",
       "      <td>[0x88891bc276c68cf9:0x669c302b2c5da34e, 0x8889...</td>\n",
       "      <td>https://www.google.com/maps/place//data=!4m2!3...</td>\n",
       "    </tr>\n",
       "    <tr>\n",
       "      <th>4</th>\n",
       "      <td>104674782787422072897</td>\n",
       "      <td>Craig Winn</td>\n",
       "      <td>2018-08-19 00:06:29</td>\n",
       "      <td>5</td>\n",
       "      <td>Open early and well staffed.</td>\n",
       "      <td>0x88891beed225fed1:0x3c63ad3e69972d22</td>\n",
       "      <td>Starbucks</td>\n",
       "      <td>Starbucks, 1400 University Blvd, Birmingham, A...</td>\n",
       "      <td>AL</td>\n",
       "      <td>18</td>\n",
       "      <td>2.6</td>\n",
       "      <td>Moderate</td>\n",
       "      <td>33.501601</td>\n",
       "      <td>-86.807263</td>\n",
       "      <td>[Coffee shop, Cafe, Coffee store, Espresso bar]</td>\n",
       "      <td>Seattle-based coffeehouse chain known for its ...</td>\n",
       "      <td>[[Saturday, 10AM–1:30PM], [Sunday, Closed], [M...</td>\n",
       "      <td>{'Accessibility': ['Wheelchair accessible entr...</td>\n",
       "      <td>[0x88891bc276c68cf9:0x669c302b2c5da34e, 0x8889...</td>\n",
       "      <td>https://www.google.com/maps/place//data=!4m2!3...</td>\n",
       "    </tr>\n",
       "  </tbody>\n",
       "</table>\n",
       "</div>"
      ],
      "text/plain": [
       "                 user_id           name_x                time  rating  \\\n",
       "0  100107003653040726165   Jacob McCalpin 2017-09-21 09:22:11       5   \n",
       "1  108921061266588850634           Alex Z 2018-10-03 12:11:08       2   \n",
       "2  115087327175786879005   James Drummond 2019-05-06 01:42:12       1   \n",
       "3  103797448577708424762  Matthew Pearson 2019-04-19 12:10:35       1   \n",
       "4  104674782787422072897       Craig Winn 2018-08-19 00:06:29       5   \n",
       "\n",
       "                                                text  \\\n",
       "0  Chanel is the greatest barista of all time. I'...   \n",
       "1  The food is always warm and delicious but the ...   \n",
       "2  The location is a franchise of sorts operated ...   \n",
       "3  Go to the one in Sterne. This place is a mess....   \n",
       "4                       Open early and well staffed.   \n",
       "\n",
       "                                 gmap_id     name_y  \\\n",
       "0  0x88891beed225fed1:0x3c63ad3e69972d22  Starbucks   \n",
       "1  0x88891beed225fed1:0x3c63ad3e69972d22  Starbucks   \n",
       "2  0x88891beed225fed1:0x3c63ad3e69972d22  Starbucks   \n",
       "3  0x88891beed225fed1:0x3c63ad3e69972d22  Starbucks   \n",
       "4  0x88891beed225fed1:0x3c63ad3e69972d22  Starbucks   \n",
       "\n",
       "                                             address state  num_of_reviews  \\\n",
       "0  Starbucks, 1400 University Blvd, Birmingham, A...    AL              18   \n",
       "1  Starbucks, 1400 University Blvd, Birmingham, A...    AL              18   \n",
       "2  Starbucks, 1400 University Blvd, Birmingham, A...    AL              18   \n",
       "3  Starbucks, 1400 University Blvd, Birmingham, A...    AL              18   \n",
       "4  Starbucks, 1400 University Blvd, Birmingham, A...    AL              18   \n",
       "\n",
       "   avg_rating     price   latitude  longitude  \\\n",
       "0         2.6  Moderate  33.501601 -86.807263   \n",
       "1         2.6  Moderate  33.501601 -86.807263   \n",
       "2         2.6  Moderate  33.501601 -86.807263   \n",
       "3         2.6  Moderate  33.501601 -86.807263   \n",
       "4         2.6  Moderate  33.501601 -86.807263   \n",
       "\n",
       "                                          category  \\\n",
       "0  [Coffee shop, Cafe, Coffee store, Espresso bar]   \n",
       "1  [Coffee shop, Cafe, Coffee store, Espresso bar]   \n",
       "2  [Coffee shop, Cafe, Coffee store, Espresso bar]   \n",
       "3  [Coffee shop, Cafe, Coffee store, Espresso bar]   \n",
       "4  [Coffee shop, Cafe, Coffee store, Espresso bar]   \n",
       "\n",
       "                                         description  \\\n",
       "0  Seattle-based coffeehouse chain known for its ...   \n",
       "1  Seattle-based coffeehouse chain known for its ...   \n",
       "2  Seattle-based coffeehouse chain known for its ...   \n",
       "3  Seattle-based coffeehouse chain known for its ...   \n",
       "4  Seattle-based coffeehouse chain known for its ...   \n",
       "\n",
       "                                               hours  \\\n",
       "0  [[Saturday, 10AM–1:30PM], [Sunday, Closed], [M...   \n",
       "1  [[Saturday, 10AM–1:30PM], [Sunday, Closed], [M...   \n",
       "2  [[Saturday, 10AM–1:30PM], [Sunday, Closed], [M...   \n",
       "3  [[Saturday, 10AM–1:30PM], [Sunday, Closed], [M...   \n",
       "4  [[Saturday, 10AM–1:30PM], [Sunday, Closed], [M...   \n",
       "\n",
       "                                                MISC  \\\n",
       "0  {'Accessibility': ['Wheelchair accessible entr...   \n",
       "1  {'Accessibility': ['Wheelchair accessible entr...   \n",
       "2  {'Accessibility': ['Wheelchair accessible entr...   \n",
       "3  {'Accessibility': ['Wheelchair accessible entr...   \n",
       "4  {'Accessibility': ['Wheelchair accessible entr...   \n",
       "\n",
       "                                    relative_results  \\\n",
       "0  [0x88891bc276c68cf9:0x669c302b2c5da34e, 0x8889...   \n",
       "1  [0x88891bc276c68cf9:0x669c302b2c5da34e, 0x8889...   \n",
       "2  [0x88891bc276c68cf9:0x669c302b2c5da34e, 0x8889...   \n",
       "3  [0x88891bc276c68cf9:0x669c302b2c5da34e, 0x8889...   \n",
       "4  [0x88891bc276c68cf9:0x669c302b2c5da34e, 0x8889...   \n",
       "\n",
       "                                                 url  \n",
       "0  https://www.google.com/maps/place//data=!4m2!3...  \n",
       "1  https://www.google.com/maps/place//data=!4m2!3...  \n",
       "2  https://www.google.com/maps/place//data=!4m2!3...  \n",
       "3  https://www.google.com/maps/place//data=!4m2!3...  \n",
       "4  https://www.google.com/maps/place//data=!4m2!3...  "
      ]
     },
     "execution_count": 20,
     "metadata": {},
     "output_type": "execute_result"
    }
   ],
   "source": [
    "merged_df.head()"
   ]
  },
  {
   "cell_type": "code",
   "execution_count": 21,
   "metadata": {},
   "outputs": [],
   "source": [
    "merged_df.to_parquet('../data/merged_starbucks(x gmap_id)')"
   ]
  },
  {
   "cell_type": "code",
   "execution_count": 3,
   "metadata": {},
   "outputs": [
    {
     "data": {
      "image/png": "[encoded data removed]",
      "text/plain": [
       "<Figure size 1000x600 with 1 Axes>"
      ]
     },
     "metadata": {},
     "output_type": "display_data"
    }
   ],
   "source": [
    "import matplotlib.pyplot as plt\n",
    "import seaborn as sns\n",
    "\n",
    "# Configuración de estilo para los gráficos\n",
    "sns.set(style='whitegrid')\n",
    "\n",
    "# Columnas importantes para el análisis\n",
    "important_columns = ['avg_rating', 'num_of_reviews', 'price', 'state', 'rating']\n",
    "\n",
    "# Exploración de la distribución de las calificaciones promedio\n",
    "plt.figure(figsize=(10, 6))\n",
    "sns.histplot(merged_df['avg_rating'], bins=20, kde=True)\n",
    "plt.title('Distribución de Calificaciones Promedio')\n",
    "plt.xlabel('Calificación Promedio')\n",
    "plt.ylabel('Frecuencia')\n",
    "plt.show()"
   ]
  },
  {
   "cell_type": "markdown",
   "metadata": {},
   "source": [
    "- **La mayoría de las calificaciones promedio se concentran alrededor de 3.5 a 4.5, lo que indica que la mayoría de las tiendas Starbucks tienen una calificación bastante buena.**"
   ]
  },
  {
   "cell_type": "code",
   "execution_count": 4,
   "metadata": {},
   "outputs": [
    {
     "data": {
      "text/html": [
       "<div>\n",
       "<style scoped>\n",
       "    .dataframe tbody tr th:only-of-type {\n",
       "        vertical-align: middle;\n",
       "    }\n",
       "\n",
       "    .dataframe tbody tr th {\n",
       "        vertical-align: top;\n",
       "    }\n",
       "\n",
       "    .dataframe thead th {\n",
       "        text-align: right;\n",
       "    }\n",
       "</style>\n",
       "<table border=\"1\" class=\"dataframe\">\n",
       "  <thead>\n",
       "    <tr style=\"text-align: right;\">\n",
       "      <th></th>\n",
       "      <th>gmap_id</th>\n",
       "      <th>user_id</th>\n",
       "      <th>name_x</th>\n",
       "      <th>time</th>\n",
       "      <th>rating</th>\n",
       "      <th>text</th>\n",
       "      <th>name_y</th>\n",
       "      <th>address</th>\n",
       "      <th>state</th>\n",
       "      <th>num_of_reviews</th>\n",
       "      <th>avg_rating</th>\n",
       "      <th>price</th>\n",
       "      <th>latitude</th>\n",
       "      <th>longitude</th>\n",
       "      <th>category</th>\n",
       "      <th>description</th>\n",
       "      <th>hours</th>\n",
       "      <th>MISC</th>\n",
       "      <th>relative_results</th>\n",
       "      <th>url</th>\n",
       "    </tr>\n",
       "  </thead>\n",
       "  <tbody>\n",
       "    <tr>\n",
       "      <th>0</th>\n",
       "      <td>0x4cb204000ffe30e5:0xa7ac14186a5f5a6e</td>\n",
       "      <td>[106683231759012064520, 106963995335504393272,...</td>\n",
       "      <td>[Brooke Jansen, Chelsie Boynton, VintageClassi...</td>\n",
       "      <td>[2021-02-01 15:39:07, 2021-04-22 08:07:27, 202...</td>\n",
       "      <td>[5, 1, 3, 4, 2]</td>\n",
       "      <td>[100% worth it to get my dog a pupaccino. New ...</td>\n",
       "      <td>[Starbucks]</td>\n",
       "      <td>[Starbucks, 274 Western Ave, Augusta, Me 04330...</td>\n",
       "      <td>[ME]</td>\n",
       "      <td>[448]</td>\n",
       "      <td>[4.1]</td>\n",
       "      <td>[Moderate]</td>\n",
       "      <td>[44.314715]</td>\n",
       "      <td>[-69.804681]</td>\n",
       "      <td>[[Coffee shop, Breakfast restaurant, Cafe, Cof...</td>\n",
       "      <td>[Seattle-based coffeehouse chain known for its...</td>\n",
       "      <td>[[[Friday, 5:30AM–9PM], [Saturday, 6AM–9PM], [...</td>\n",
       "      <td>[{'Accessibility': ['Wheelchair-accessible car...</td>\n",
       "      <td>[[0x4cb203d84bd033bb:0x9bad233af6634b65, 0x4cb...</td>\n",
       "      <td>[https://www.google.com/maps/place//data=!4m2!...</td>\n",
       "    </tr>\n",
       "    <tr>\n",
       "      <th>1</th>\n",
       "      <td>0x4cb206a9e6afff7f:0x4cd3e00632f903cd</td>\n",
       "      <td>[118215583941292611400, 116651514692242373923,...</td>\n",
       "      <td>[Marcia Kay, Shirley Ayala, Aubrey Knorr, Troy...</td>\n",
       "      <td>[2021-04-20 22:09:14, 2018-07-07 22:03:46, 201...</td>\n",
       "      <td>[5, 4, 1, 2, 3]</td>\n",
       "      <td>[I have never had a bad experience at this Sta...</td>\n",
       "      <td>[Starbucks]</td>\n",
       "      <td>[Starbucks, 43 Crossing Way, Augusta, Me 04330]</td>\n",
       "      <td>[ME]</td>\n",
       "      <td>[48]</td>\n",
       "      <td>[3.8]</td>\n",
       "      <td>[Moderate]</td>\n",
       "      <td>[44.310145999999996]</td>\n",
       "      <td>[-69.80653]</td>\n",
       "      <td>[[Coffee shop, Cafe, Coffee store, Espresso bar]]</td>\n",
       "      <td>[Seattle-based coffeehouse chain known for its...</td>\n",
       "      <td>[[[Wednesday, 8AM–8PM], [Thursday, 8AM–8PM], [...</td>\n",
       "      <td>[{'Accessibility': ['Wheelchair accessible ent...</td>\n",
       "      <td>[[0x4cb203d84bd033bb:0x9bad233af6634b65, 0x4cb...</td>\n",
       "      <td>[https://www.google.com/maps/place//data=!4m2!...</td>\n",
       "    </tr>\n",
       "    <tr>\n",
       "      <th>2</th>\n",
       "      <td>0x4cb298b49db8e7d7:0x511c14c2cef94af1</td>\n",
       "      <td>[111091105762495070793, 110510744206022083945,...</td>\n",
       "      <td>[Seth Reynolds, Heather Rose Nelson, alan bark...</td>\n",
       "      <td>[2018-10-21 14:11:00, 2019-11-14 16:07:30, 202...</td>\n",
       "      <td>[3, 5, 4, 1, 2]</td>\n",
       "      <td>[I come here relatively often- only because of...</td>\n",
       "      <td>[Starbucks]</td>\n",
       "      <td>[Starbucks, 210 Us-1, Scarborough, Me 04074]</td>\n",
       "      <td>[ME]</td>\n",
       "      <td>[206]</td>\n",
       "      <td>[4.2]</td>\n",
       "      <td>[Moderate]</td>\n",
       "      <td>[43.591482]</td>\n",
       "      <td>[-70.330925]</td>\n",
       "      <td>[[Coffee shop, Breakfast restaurant, Cafe, Cof...</td>\n",
       "      <td>[Seattle-based coffeehouse chain known for its...</td>\n",
       "      <td>[[[Tuesday, 5AM–9PM], [Wednesday, 5AM–9PM], [T...</td>\n",
       "      <td>[{'Accessibility': ['Wheelchair accessible ent...</td>\n",
       "      <td>[[0x4cb298aff67347f3:0x48c7374341f467c0, 0x4cb...</td>\n",
       "      <td>[https://www.google.com/maps/place//data=!4m2!...</td>\n",
       "    </tr>\n",
       "    <tr>\n",
       "      <th>3</th>\n",
       "      <td>0x4cb29b3d3824e409:0x2a73a5ecc700b03c</td>\n",
       "      <td>[113239410160527446903, 102814330295069332026,...</td>\n",
       "      <td>[Jasin, Jo-Nell Martin, Avik Dutta, Arron Veys...</td>\n",
       "      <td>[2021-04-03 12:49:21, 2021-03-05 17:38:11, 201...</td>\n",
       "      <td>[5, 4, 1, 2, 3]</td>\n",
       "      <td>[Great staff, very personable and friendly. I ...</td>\n",
       "      <td>[Starbucks]</td>\n",
       "      <td>[Starbucks, 91 Auburn St, Portland, Me 04103]</td>\n",
       "      <td>[ME]</td>\n",
       "      <td>[113]</td>\n",
       "      <td>[4.1]</td>\n",
       "      <td>[Moderate]</td>\n",
       "      <td>[43.70276]</td>\n",
       "      <td>[-70.288539]</td>\n",
       "      <td>[[Coffee shop, Breakfast restaurant, Cafe, Cof...</td>\n",
       "      <td>[Seattle-based coffeehouse chain known for its...</td>\n",
       "      <td>[[[Saturday, 6AM–6:30PM], [Sunday, 6AM–6:30PM]...</td>\n",
       "      <td>[{'Accessibility': ['Wheelchair accessible ent...</td>\n",
       "      <td>[[0x4cb29c6e8e0ad67d:0x16b2cb35f458f92, 0x4cb2...</td>\n",
       "      <td>[https://www.google.com/maps/place//data=!4m2!...</td>\n",
       "    </tr>\n",
       "    <tr>\n",
       "      <th>4</th>\n",
       "      <td>0x4cb29f0baa70cc2b:0xdd1eb4468b30b9f5</td>\n",
       "      <td>[102737282901554388704, 109808999952810016658,...</td>\n",
       "      <td>[David Kellogg, Kelly Turner, Kurt Otterstein,...</td>\n",
       "      <td>[2021-03-24 17:50:23, 2021-04-21 01:46:44, 202...</td>\n",
       "      <td>[5, 2, 4, 3, 1]</td>\n",
       "      <td>[We loved our coffees. They were made just rig...</td>\n",
       "      <td>[Starbucks]</td>\n",
       "      <td>[Starbucks, 50 Market St, South Portland, Me 0...</td>\n",
       "      <td>[ME]</td>\n",
       "      <td>[68]</td>\n",
       "      <td>[4.2]</td>\n",
       "      <td>[Moderate]</td>\n",
       "      <td>[43.635334]</td>\n",
       "      <td>[-70.255585]</td>\n",
       "      <td>[[Coffee shop, Breakfast restaurant, Cafe, Cof...</td>\n",
       "      <td>[Seattle-based coffeehouse chain known for its...</td>\n",
       "      <td>[[[Friday, 5AM–9PM], [Saturday, 5AM–9PM], [Sun...</td>\n",
       "      <td>[{'Accessibility': ['Wheelchair accessible ent...</td>\n",
       "      <td>[None]</td>\n",
       "      <td>[https://www.google.com/maps/place//data=!4m2!...</td>\n",
       "    </tr>\n",
       "  </tbody>\n",
       "</table>\n",
       "</div>"
      ],
      "text/plain": [
       "                                 gmap_id  \\\n",
       "0  0x4cb204000ffe30e5:0xa7ac14186a5f5a6e   \n",
       "1  0x4cb206a9e6afff7f:0x4cd3e00632f903cd   \n",
       "2  0x4cb298b49db8e7d7:0x511c14c2cef94af1   \n",
       "3  0x4cb29b3d3824e409:0x2a73a5ecc700b03c   \n",
       "4  0x4cb29f0baa70cc2b:0xdd1eb4468b30b9f5   \n",
       "\n",
       "                                             user_id  \\\n",
       "0  [106683231759012064520, 106963995335504393272,...   \n",
       "1  [118215583941292611400, 116651514692242373923,...   \n",
       "2  [111091105762495070793, 110510744206022083945,...   \n",
       "3  [113239410160527446903, 102814330295069332026,...   \n",
       "4  [102737282901554388704, 109808999952810016658,...   \n",
       "\n",
       "                                              name_x  \\\n",
       "0  [Brooke Jansen, Chelsie Boynton, VintageClassi...   \n",
       "1  [Marcia Kay, Shirley Ayala, Aubrey Knorr, Troy...   \n",
       "2  [Seth Reynolds, Heather Rose Nelson, alan bark...   \n",
       "3  [Jasin, Jo-Nell Martin, Avik Dutta, Arron Veys...   \n",
       "4  [David Kellogg, Kelly Turner, Kurt Otterstein,...   \n",
       "\n",
       "                                                time           rating  \\\n",
       "0  [2021-02-01 15:39:07, 2021-04-22 08:07:27, 202...  [5, 1, 3, 4, 2]   \n",
       "1  [2021-04-20 22:09:14, 2018-07-07 22:03:46, 201...  [5, 4, 1, 2, 3]   \n",
       "2  [2018-10-21 14:11:00, 2019-11-14 16:07:30, 202...  [3, 5, 4, 1, 2]   \n",
       "3  [2021-04-03 12:49:21, 2021-03-05 17:38:11, 201...  [5, 4, 1, 2, 3]   \n",
       "4  [2021-03-24 17:50:23, 2021-04-21 01:46:44, 202...  [5, 2, 4, 3, 1]   \n",
       "\n",
       "                                                text       name_y  \\\n",
       "0  [100% worth it to get my dog a pupaccino. New ...  [Starbucks]   \n",
       "1  [I have never had a bad experience at this Sta...  [Starbucks]   \n",
       "2  [I come here relatively often- only because of...  [Starbucks]   \n",
       "3  [Great staff, very personable and friendly. I ...  [Starbucks]   \n",
       "4  [We loved our coffees. They were made just rig...  [Starbucks]   \n",
       "\n",
       "                                             address state num_of_reviews  \\\n",
       "0  [Starbucks, 274 Western Ave, Augusta, Me 04330...  [ME]          [448]   \n",
       "1    [Starbucks, 43 Crossing Way, Augusta, Me 04330]  [ME]           [48]   \n",
       "2       [Starbucks, 210 Us-1, Scarborough, Me 04074]  [ME]          [206]   \n",
       "3      [Starbucks, 91 Auburn St, Portland, Me 04103]  [ME]          [113]   \n",
       "4  [Starbucks, 50 Market St, South Portland, Me 0...  [ME]           [68]   \n",
       "\n",
       "  avg_rating       price              latitude     longitude  \\\n",
       "0      [4.1]  [Moderate]           [44.314715]  [-69.804681]   \n",
       "1      [3.8]  [Moderate]  [44.310145999999996]   [-69.80653]   \n",
       "2      [4.2]  [Moderate]           [43.591482]  [-70.330925]   \n",
       "3      [4.1]  [Moderate]            [43.70276]  [-70.288539]   \n",
       "4      [4.2]  [Moderate]           [43.635334]  [-70.255585]   \n",
       "\n",
       "                                            category  \\\n",
       "0  [[Coffee shop, Breakfast restaurant, Cafe, Cof...   \n",
       "1  [[Coffee shop, Cafe, Coffee store, Espresso bar]]   \n",
       "2  [[Coffee shop, Breakfast restaurant, Cafe, Cof...   \n",
       "3  [[Coffee shop, Breakfast restaurant, Cafe, Cof...   \n",
       "4  [[Coffee shop, Breakfast restaurant, Cafe, Cof...   \n",
       "\n",
       "                                         description  \\\n",
       "0  [Seattle-based coffeehouse chain known for its...   \n",
       "1  [Seattle-based coffeehouse chain known for its...   \n",
       "2  [Seattle-based coffeehouse chain known for its...   \n",
       "3  [Seattle-based coffeehouse chain known for its...   \n",
       "4  [Seattle-based coffeehouse chain known for its...   \n",
       "\n",
       "                                               hours  \\\n",
       "0  [[[Friday, 5:30AM–9PM], [Saturday, 6AM–9PM], [...   \n",
       "1  [[[Wednesday, 8AM–8PM], [Thursday, 8AM–8PM], [...   \n",
       "2  [[[Tuesday, 5AM–9PM], [Wednesday, 5AM–9PM], [T...   \n",
       "3  [[[Saturday, 6AM–6:30PM], [Sunday, 6AM–6:30PM]...   \n",
       "4  [[[Friday, 5AM–9PM], [Saturday, 5AM–9PM], [Sun...   \n",
       "\n",
       "                                                MISC  \\\n",
       "0  [{'Accessibility': ['Wheelchair-accessible car...   \n",
       "1  [{'Accessibility': ['Wheelchair accessible ent...   \n",
       "2  [{'Accessibility': ['Wheelchair accessible ent...   \n",
       "3  [{'Accessibility': ['Wheelchair accessible ent...   \n",
       "4  [{'Accessibility': ['Wheelchair accessible ent...   \n",
       "\n",
       "                                    relative_results  \\\n",
       "0  [[0x4cb203d84bd033bb:0x9bad233af6634b65, 0x4cb...   \n",
       "1  [[0x4cb203d84bd033bb:0x9bad233af6634b65, 0x4cb...   \n",
       "2  [[0x4cb298aff67347f3:0x48c7374341f467c0, 0x4cb...   \n",
       "3  [[0x4cb29c6e8e0ad67d:0x16b2cb35f458f92, 0x4cb2...   \n",
       "4                                             [None]   \n",
       "\n",
       "                                                 url  \n",
       "0  [https://www.google.com/maps/place//data=!4m2!...  \n",
       "1  [https://www.google.com/maps/place//data=!4m2!...  \n",
       "2  [https://www.google.com/maps/place//data=!4m2!...  \n",
       "3  [https://www.google.com/maps/place//data=!4m2!...  \n",
       "4  [https://www.google.com/maps/place//data=!4m2!...  "
      ]
     },
     "execution_count": 4,
     "metadata": {},
     "output_type": "execute_result"
    }
   ],
   "source": [
    "# Verifique los tipos de datos para identificar posibles problemas con la agregación\n",
    "merged_df.dtypes\n",
    "\n",
    "# Intentar agrupar por 'GMAP_ID' y agregue las columnas restantes tomando valores únicos\n",
    "\n",
    "df_agrupados = merged_df.groupby('gmap_id').agg(lambda x: x.drop_duplicates().tolist() if pd.api.types.is_object_dtype(x) else x.unique().tolist()).reset_index()\n",
    "\n",
    "# Display the first few rows of the grouped dataframe\n",
    "df_agrupados.head()"
   ]
  },
  {
   "cell_type": "code",
   "execution_count": 5,
   "metadata": {},
   "outputs": [
    {
     "name": "stdout",
     "output_type": "stream",
     "text": [
      "Column: name_x\n",
      "0    'Brooke Jansen', 'Chelsie Boynton', 'VintageCl...\n",
      "1    'Marcia Kay', 'Shirley Ayala', 'Aubrey Knorr',...\n",
      "2    'Seth Reynolds', 'Heather Rose Nelson', 'alan ...\n",
      "3    'Jasin', 'Jo-Nell Martin', 'Avik Dutta', 'Arro...\n",
      "4    'David Kellogg', 'Kelly Turner', 'Kurt Otterst...\n",
      "5    'Sidious1966', 'M.Evergreen', 'Andrew Bessette...\n",
      "6    'Tony Thompson', 'Dee Ramos', 'Parker Bosel', ...\n",
      "7    'Mary A. Shaffer', 'Melissa Witte', 'Kevin', '...\n",
      "8    'Clyde Magnuson', 'Kristen Stvincent', 'Barb B...\n",
      "9    'Mary Rhodes', 'Adam Kicker', 'Jennifer Mannin...\n",
      "Name: name_x, dtype: object\n",
      "\n",
      "Column: address\n",
      "0    'Starbucks, 274 Western Ave, Augusta, Me 04330...\n",
      "1      'Starbucks, 43 Crossing Way, Augusta, Me 04330'\n",
      "2         'Starbucks, 210 Us-1, Scarborough, Me 04074'\n",
      "3        'Starbucks, 91 Auburn St, Portland, Me 04103'\n",
      "4    'Starbucks, 50 Market St, South Portland, Me 0...\n",
      "5    'Starbucks, 18 Lower Mountain View Dr, Colches...\n",
      "6    'Starbucks, 1138 3 Mile Rd, Sault Ste. Marie, ...\n",
      "7     'Starbucks, 430 N Lake St, Boyne City, Mi 49712'\n",
      "8    'Starbucks, 3250 Us Hwy 41 W, Marquette, Mi 49...\n",
      "9    'Starbucks, 3620 Us-41 West, Marquette, Mi 49855'\n",
      "Name: address, dtype: object\n",
      "\n",
      "Column: description\n",
      "0    'Seattle-based coffeehouse chain known for its...\n",
      "1    'Seattle-based coffeehouse chain known for its...\n",
      "2    'Seattle-based coffeehouse chain known for its...\n",
      "3    'Seattle-based coffeehouse chain known for its...\n",
      "4    'Seattle-based coffeehouse chain known for its...\n",
      "5    'Seattle-based coffeehouse chain known for its...\n",
      "6    'Seattle-based coffeehouse chain known for its...\n",
      "7    'Seattle-based coffeehouse chain known for its...\n",
      "8    'Seattle-based coffeehouse chain known for its...\n",
      "9    'Seattle-based coffeehouse chain known for its...\n",
      "Name: description, dtype: object\n",
      "\n",
      "Column: latitude\n",
      "0             44.314715\n",
      "1    44.310145999999996\n",
      "2             43.591482\n",
      "3              43.70276\n",
      "4             43.635334\n",
      "5    44.507079999999995\n",
      "6    46.465160499999996\n",
      "7             45.220368\n",
      "8    46.551263999999996\n",
      "9              46.55281\n",
      "Name: latitude, dtype: object\n",
      "\n",
      "Column: longitude\n",
      "0            -69.804681\n",
      "1             -69.80653\n",
      "2            -70.330925\n",
      "3            -70.288539\n",
      "4            -70.255585\n",
      "5    -73.17994999999999\n",
      "6    -84.38826519999999\n",
      "7             -85.01447\n",
      "8            -87.460348\n",
      "9            -87.470838\n",
      "Name: longitude, dtype: object\n",
      "\n",
      "Column: avg_rating\n",
      "0    4.1\n",
      "1    3.8\n",
      "2    4.2\n",
      "3    4.1\n",
      "4    4.2\n",
      "5    4.4\n",
      "6    4.1\n",
      "7    3.6\n",
      "8    4.3\n",
      "9    3.8\n",
      "Name: avg_rating, dtype: object\n",
      "\n",
      "Column: name_y\n",
      "0    'Starbucks'\n",
      "1    'Starbucks'\n",
      "2    'Starbucks'\n",
      "3    'Starbucks'\n",
      "4    'Starbucks'\n",
      "5    'Starbucks'\n",
      "6    'Starbucks'\n",
      "7    'Starbucks'\n",
      "8    'Starbucks'\n",
      "9    'Starbucks'\n",
      "Name: name_y, dtype: object\n",
      "\n",
      "Column: state\n",
      "0    'ME'\n",
      "1    'ME'\n",
      "2    'ME'\n",
      "3    'ME'\n",
      "4    'ME'\n",
      "5    'VT'\n",
      "6    'MI'\n",
      "7    'MI'\n",
      "8    'MI'\n",
      "9    'MI'\n",
      "Name: state, dtype: object\n",
      "\n",
      "Column: text\n",
      "0    \"100% worth it to get my dog a pupaccino. New ...\n",
      "1    \"I have never had a bad experience at this Sta...\n",
      "2    'I come here relatively often- only because of...\n",
      "3    'Great staff, very personable and friendly. I ...\n",
      "4    \"We loved our coffees. They were made just rig...\n",
      "5    'Always enjoy Starbucks.  The service is frien...\n",
      "6    'Here in sault sainte marie,\\nMichigan\\nDrinks...\n",
      "7    'SUPER GREAT STARBUCKS HERE - lucky me - I can...\n",
      "8    \"Starbucks Great Place To Grab A Cup Of Coffee...\n",
      "9    'Service was quick in drive thru even though t...\n",
      "Name: text, dtype: object\n",
      "\n",
      "Column: num_of_reviews\n",
      "0    448\n",
      "1     48\n",
      "2    206\n",
      "3    113\n",
      "4     68\n",
      "5     35\n",
      "6     48\n",
      "7     88\n",
      "8     38\n",
      "9    108\n",
      "Name: num_of_reviews, dtype: object\n",
      "\n",
      "Column: price\n",
      "0    'Moderate'\n",
      "1    'Moderate'\n",
      "2    'Moderate'\n",
      "3    'Moderate'\n",
      "4    'Moderate'\n",
      "5    'Moderate'\n",
      "6    'Moderate'\n",
      "7    'Moderate'\n",
      "8    'Moderate'\n",
      "9    'Moderate'\n",
      "Name: price, dtype: object\n",
      "\n",
      "Column: url\n",
      "0    'https://www.google.com/maps/place//data=!4m2!...\n",
      "1    'https://www.google.com/maps/place//data=!4m2!...\n",
      "2    'https://www.google.com/maps/place//data=!4m2!...\n",
      "3    'https://www.google.com/maps/place//data=!4m2!...\n",
      "4    'https://www.google.com/maps/place//data=!4m2!...\n",
      "5    'https://www.google.com/maps/place//data=!4m2!...\n",
      "6    'https://www.google.com/maps/place//data=!4m2!...\n",
      "7    'https://www.google.com/maps/place//data=!4m2!...\n",
      "8    'https://www.google.com/maps/place//data=!4m2!...\n",
      "9    'https://www.google.com/maps/place//data=!4m2!...\n",
      "Name: url, dtype: object\n",
      "\n",
      "Column: state\n",
      "0    'ME'\n",
      "1    'ME'\n",
      "2    'ME'\n",
      "3    'ME'\n",
      "4    'ME'\n",
      "5    'VT'\n",
      "6    'MI'\n",
      "7    'MI'\n",
      "8    'MI'\n",
      "9    'MI'\n",
      "Name: state, dtype: object\n",
      "\n"
     ]
    }
   ],
   "source": [
    "# Asegúrese de que todos los valores en las columnas especificadas sean cadenas y luego retire los soportes correctamente\n",
    "columnas_a_limpiar = ['name_x', 'address', 'description', 'latitude', 'longitude', 'avg_rating','name_y','state','text','num_of_reviews', 'price', 'url', 'state']\n",
    "for column in columnas_a_limpiar:\n",
    "    df_agrupados[column] = df_agrupados[column].astype(str).str.replace(r'^\\[|\\]$', '', regex=True)\n",
    "\n",
    "# Verificar los cambios\n",
    "for column in columnas_a_limpiar:\n",
    "    print('Column:', column)\n",
    "    print(df_agrupados[column].head(10))\n",
    "    print('\\\n",
    "')"
   ]
  },
  {
   "cell_type": "code",
   "execution_count": 6,
   "metadata": {},
   "outputs": [
    {
     "data": {
      "text/html": [
       "<div>\n",
       "<style scoped>\n",
       "    .dataframe tbody tr th:only-of-type {\n",
       "        vertical-align: middle;\n",
       "    }\n",
       "\n",
       "    .dataframe tbody tr th {\n",
       "        vertical-align: top;\n",
       "    }\n",
       "\n",
       "    .dataframe thead th {\n",
       "        text-align: right;\n",
       "    }\n",
       "</style>\n",
       "<table border=\"1\" class=\"dataframe\">\n",
       "  <thead>\n",
       "    <tr style=\"text-align: right;\">\n",
       "      <th></th>\n",
       "      <th>gmap_id</th>\n",
       "      <th>user_id</th>\n",
       "      <th>name_x</th>\n",
       "      <th>time</th>\n",
       "      <th>rating</th>\n",
       "      <th>text</th>\n",
       "      <th>name_y</th>\n",
       "      <th>address</th>\n",
       "      <th>state</th>\n",
       "      <th>num_of_reviews</th>\n",
       "      <th>avg_rating</th>\n",
       "      <th>price</th>\n",
       "      <th>latitude</th>\n",
       "      <th>longitude</th>\n",
       "      <th>category</th>\n",
       "      <th>description</th>\n",
       "      <th>hours</th>\n",
       "      <th>MISC</th>\n",
       "      <th>relative_results</th>\n",
       "      <th>url</th>\n",
       "    </tr>\n",
       "  </thead>\n",
       "  <tbody>\n",
       "    <tr>\n",
       "      <th>0</th>\n",
       "      <td>0x4cb204000ffe30e5:0xa7ac14186a5f5a6e</td>\n",
       "      <td>[106683231759012064520, 106963995335504393272,...</td>\n",
       "      <td>'Brooke Jansen', 'Chelsie Boynton', 'VintageCl...</td>\n",
       "      <td>[2021-02-01 15:39:07, 2021-04-22 08:07:27, 202...</td>\n",
       "      <td>[5, 1, 3, 4, 2]</td>\n",
       "      <td>\"100% worth it to get my dog a pupaccino. New ...</td>\n",
       "      <td>'Starbucks'</td>\n",
       "      <td>'Starbucks, 274 Western Ave, Augusta, Me 04330...</td>\n",
       "      <td>'ME'</td>\n",
       "      <td>448</td>\n",
       "      <td>4.1</td>\n",
       "      <td>'Moderate'</td>\n",
       "      <td>44.314715</td>\n",
       "      <td>-69.804681</td>\n",
       "      <td>[[Coffee shop, Breakfast restaurant, Cafe, Cof...</td>\n",
       "      <td>'Seattle-based coffeehouse chain known for its...</td>\n",
       "      <td>[[[Friday, 5:30AM–9PM], [Saturday, 6AM–9PM], [...</td>\n",
       "      <td>[{'Accessibility': ['Wheelchair-accessible car...</td>\n",
       "      <td>[[0x4cb203d84bd033bb:0x9bad233af6634b65, 0x4cb...</td>\n",
       "      <td>'https://www.google.com/maps/place//data=!4m2!...</td>\n",
       "    </tr>\n",
       "    <tr>\n",
       "      <th>1</th>\n",
       "      <td>0x4cb206a9e6afff7f:0x4cd3e00632f903cd</td>\n",
       "      <td>[118215583941292611400, 116651514692242373923,...</td>\n",
       "      <td>'Marcia Kay', 'Shirley Ayala', 'Aubrey Knorr',...</td>\n",
       "      <td>[2021-04-20 22:09:14, 2018-07-07 22:03:46, 201...</td>\n",
       "      <td>[5, 4, 1, 2, 3]</td>\n",
       "      <td>\"I have never had a bad experience at this Sta...</td>\n",
       "      <td>'Starbucks'</td>\n",
       "      <td>'Starbucks, 43 Crossing Way, Augusta, Me 04330'</td>\n",
       "      <td>'ME'</td>\n",
       "      <td>48</td>\n",
       "      <td>3.8</td>\n",
       "      <td>'Moderate'</td>\n",
       "      <td>44.310145999999996</td>\n",
       "      <td>-69.80653</td>\n",
       "      <td>[[Coffee shop, Cafe, Coffee store, Espresso bar]]</td>\n",
       "      <td>'Seattle-based coffeehouse chain known for its...</td>\n",
       "      <td>[[[Wednesday, 8AM–8PM], [Thursday, 8AM–8PM], [...</td>\n",
       "      <td>[{'Accessibility': ['Wheelchair accessible ent...</td>\n",
       "      <td>[[0x4cb203d84bd033bb:0x9bad233af6634b65, 0x4cb...</td>\n",
       "      <td>'https://www.google.com/maps/place//data=!4m2!...</td>\n",
       "    </tr>\n",
       "    <tr>\n",
       "      <th>2</th>\n",
       "      <td>0x4cb298b49db8e7d7:0x511c14c2cef94af1</td>\n",
       "      <td>[111091105762495070793, 110510744206022083945,...</td>\n",
       "      <td>'Seth Reynolds', 'Heather Rose Nelson', 'alan ...</td>\n",
       "      <td>[2018-10-21 14:11:00, 2019-11-14 16:07:30, 202...</td>\n",
       "      <td>[3, 5, 4, 1, 2]</td>\n",
       "      <td>'I come here relatively often- only because of...</td>\n",
       "      <td>'Starbucks'</td>\n",
       "      <td>'Starbucks, 210 Us-1, Scarborough, Me 04074'</td>\n",
       "      <td>'ME'</td>\n",
       "      <td>206</td>\n",
       "      <td>4.2</td>\n",
       "      <td>'Moderate'</td>\n",
       "      <td>43.591482</td>\n",
       "      <td>-70.330925</td>\n",
       "      <td>[[Coffee shop, Breakfast restaurant, Cafe, Cof...</td>\n",
       "      <td>'Seattle-based coffeehouse chain known for its...</td>\n",
       "      <td>[[[Tuesday, 5AM–9PM], [Wednesday, 5AM–9PM], [T...</td>\n",
       "      <td>[{'Accessibility': ['Wheelchair accessible ent...</td>\n",
       "      <td>[[0x4cb298aff67347f3:0x48c7374341f467c0, 0x4cb...</td>\n",
       "      <td>'https://www.google.com/maps/place//data=!4m2!...</td>\n",
       "    </tr>\n",
       "    <tr>\n",
       "      <th>3</th>\n",
       "      <td>0x4cb29b3d3824e409:0x2a73a5ecc700b03c</td>\n",
       "      <td>[113239410160527446903, 102814330295069332026,...</td>\n",
       "      <td>'Jasin', 'Jo-Nell Martin', 'Avik Dutta', 'Arro...</td>\n",
       "      <td>[2021-04-03 12:49:21, 2021-03-05 17:38:11, 201...</td>\n",
       "      <td>[5, 4, 1, 2, 3]</td>\n",
       "      <td>'Great staff, very personable and friendly. I ...</td>\n",
       "      <td>'Starbucks'</td>\n",
       "      <td>'Starbucks, 91 Auburn St, Portland, Me 04103'</td>\n",
       "      <td>'ME'</td>\n",
       "      <td>113</td>\n",
       "      <td>4.1</td>\n",
       "      <td>'Moderate'</td>\n",
       "      <td>43.70276</td>\n",
       "      <td>-70.288539</td>\n",
       "      <td>[[Coffee shop, Breakfast restaurant, Cafe, Cof...</td>\n",
       "      <td>'Seattle-based coffeehouse chain known for its...</td>\n",
       "      <td>[[[Saturday, 6AM–6:30PM], [Sunday, 6AM–6:30PM]...</td>\n",
       "      <td>[{'Accessibility': ['Wheelchair accessible ent...</td>\n",
       "      <td>[[0x4cb29c6e8e0ad67d:0x16b2cb35f458f92, 0x4cb2...</td>\n",
       "      <td>'https://www.google.com/maps/place//data=!4m2!...</td>\n",
       "    </tr>\n",
       "    <tr>\n",
       "      <th>4</th>\n",
       "      <td>0x4cb29f0baa70cc2b:0xdd1eb4468b30b9f5</td>\n",
       "      <td>[102737282901554388704, 109808999952810016658,...</td>\n",
       "      <td>'David Kellogg', 'Kelly Turner', 'Kurt Otterst...</td>\n",
       "      <td>[2021-03-24 17:50:23, 2021-04-21 01:46:44, 202...</td>\n",
       "      <td>[5, 2, 4, 3, 1]</td>\n",
       "      <td>\"We loved our coffees. They were made just rig...</td>\n",
       "      <td>'Starbucks'</td>\n",
       "      <td>'Starbucks, 50 Market St, South Portland, Me 0...</td>\n",
       "      <td>'ME'</td>\n",
       "      <td>68</td>\n",
       "      <td>4.2</td>\n",
       "      <td>'Moderate'</td>\n",
       "      <td>43.635334</td>\n",
       "      <td>-70.255585</td>\n",
       "      <td>[[Coffee shop, Breakfast restaurant, Cafe, Cof...</td>\n",
       "      <td>'Seattle-based coffeehouse chain known for its...</td>\n",
       "      <td>[[[Friday, 5AM–9PM], [Saturday, 5AM–9PM], [Sun...</td>\n",
       "      <td>[{'Accessibility': ['Wheelchair accessible ent...</td>\n",
       "      <td>[None]</td>\n",
       "      <td>'https://www.google.com/maps/place//data=!4m2!...</td>\n",
       "    </tr>\n",
       "  </tbody>\n",
       "</table>\n",
       "</div>"
      ],
      "text/plain": [
       "                                 gmap_id  \\\n",
       "0  0x4cb204000ffe30e5:0xa7ac14186a5f5a6e   \n",
       "1  0x4cb206a9e6afff7f:0x4cd3e00632f903cd   \n",
       "2  0x4cb298b49db8e7d7:0x511c14c2cef94af1   \n",
       "3  0x4cb29b3d3824e409:0x2a73a5ecc700b03c   \n",
       "4  0x4cb29f0baa70cc2b:0xdd1eb4468b30b9f5   \n",
       "\n",
       "                                             user_id  \\\n",
       "0  [106683231759012064520, 106963995335504393272,...   \n",
       "1  [118215583941292611400, 116651514692242373923,...   \n",
       "2  [111091105762495070793, 110510744206022083945,...   \n",
       "3  [113239410160527446903, 102814330295069332026,...   \n",
       "4  [102737282901554388704, 109808999952810016658,...   \n",
       "\n",
       "                                              name_x  \\\n",
       "0  'Brooke Jansen', 'Chelsie Boynton', 'VintageCl...   \n",
       "1  'Marcia Kay', 'Shirley Ayala', 'Aubrey Knorr',...   \n",
       "2  'Seth Reynolds', 'Heather Rose Nelson', 'alan ...   \n",
       "3  'Jasin', 'Jo-Nell Martin', 'Avik Dutta', 'Arro...   \n",
       "4  'David Kellogg', 'Kelly Turner', 'Kurt Otterst...   \n",
       "\n",
       "                                                time           rating  \\\n",
       "0  [2021-02-01 15:39:07, 2021-04-22 08:07:27, 202...  [5, 1, 3, 4, 2]   \n",
       "1  [2021-04-20 22:09:14, 2018-07-07 22:03:46, 201...  [5, 4, 1, 2, 3]   \n",
       "2  [2018-10-21 14:11:00, 2019-11-14 16:07:30, 202...  [3, 5, 4, 1, 2]   \n",
       "3  [2021-04-03 12:49:21, 2021-03-05 17:38:11, 201...  [5, 4, 1, 2, 3]   \n",
       "4  [2021-03-24 17:50:23, 2021-04-21 01:46:44, 202...  [5, 2, 4, 3, 1]   \n",
       "\n",
       "                                                text       name_y  \\\n",
       "0  \"100% worth it to get my dog a pupaccino. New ...  'Starbucks'   \n",
       "1  \"I have never had a bad experience at this Sta...  'Starbucks'   \n",
       "2  'I come here relatively often- only because of...  'Starbucks'   \n",
       "3  'Great staff, very personable and friendly. I ...  'Starbucks'   \n",
       "4  \"We loved our coffees. They were made just rig...  'Starbucks'   \n",
       "\n",
       "                                             address state num_of_reviews  \\\n",
       "0  'Starbucks, 274 Western Ave, Augusta, Me 04330...  'ME'            448   \n",
       "1    'Starbucks, 43 Crossing Way, Augusta, Me 04330'  'ME'             48   \n",
       "2       'Starbucks, 210 Us-1, Scarborough, Me 04074'  'ME'            206   \n",
       "3      'Starbucks, 91 Auburn St, Portland, Me 04103'  'ME'            113   \n",
       "4  'Starbucks, 50 Market St, South Portland, Me 0...  'ME'             68   \n",
       "\n",
       "  avg_rating       price            latitude   longitude  \\\n",
       "0        4.1  'Moderate'           44.314715  -69.804681   \n",
       "1        3.8  'Moderate'  44.310145999999996   -69.80653   \n",
       "2        4.2  'Moderate'           43.591482  -70.330925   \n",
       "3        4.1  'Moderate'            43.70276  -70.288539   \n",
       "4        4.2  'Moderate'           43.635334  -70.255585   \n",
       "\n",
       "                                            category  \\\n",
       "0  [[Coffee shop, Breakfast restaurant, Cafe, Cof...   \n",
       "1  [[Coffee shop, Cafe, Coffee store, Espresso bar]]   \n",
       "2  [[Coffee shop, Breakfast restaurant, Cafe, Cof...   \n",
       "3  [[Coffee shop, Breakfast restaurant, Cafe, Cof...   \n",
       "4  [[Coffee shop, Breakfast restaurant, Cafe, Cof...   \n",
       "\n",
       "                                         description  \\\n",
       "0  'Seattle-based coffeehouse chain known for its...   \n",
       "1  'Seattle-based coffeehouse chain known for its...   \n",
       "2  'Seattle-based coffeehouse chain known for its...   \n",
       "3  'Seattle-based coffeehouse chain known for its...   \n",
       "4  'Seattle-based coffeehouse chain known for its...   \n",
       "\n",
       "                                               hours  \\\n",
       "0  [[[Friday, 5:30AM–9PM], [Saturday, 6AM–9PM], [...   \n",
       "1  [[[Wednesday, 8AM–8PM], [Thursday, 8AM–8PM], [...   \n",
       "2  [[[Tuesday, 5AM–9PM], [Wednesday, 5AM–9PM], [T...   \n",
       "3  [[[Saturday, 6AM–6:30PM], [Sunday, 6AM–6:30PM]...   \n",
       "4  [[[Friday, 5AM–9PM], [Saturday, 5AM–9PM], [Sun...   \n",
       "\n",
       "                                                MISC  \\\n",
       "0  [{'Accessibility': ['Wheelchair-accessible car...   \n",
       "1  [{'Accessibility': ['Wheelchair accessible ent...   \n",
       "2  [{'Accessibility': ['Wheelchair accessible ent...   \n",
       "3  [{'Accessibility': ['Wheelchair accessible ent...   \n",
       "4  [{'Accessibility': ['Wheelchair accessible ent...   \n",
       "\n",
       "                                    relative_results  \\\n",
       "0  [[0x4cb203d84bd033bb:0x9bad233af6634b65, 0x4cb...   \n",
       "1  [[0x4cb203d84bd033bb:0x9bad233af6634b65, 0x4cb...   \n",
       "2  [[0x4cb298aff67347f3:0x48c7374341f467c0, 0x4cb...   \n",
       "3  [[0x4cb29c6e8e0ad67d:0x16b2cb35f458f92, 0x4cb2...   \n",
       "4                                             [None]   \n",
       "\n",
       "                                                 url  \n",
       "0  'https://www.google.com/maps/place//data=!4m2!...  \n",
       "1  'https://www.google.com/maps/place//data=!4m2!...  \n",
       "2  'https://www.google.com/maps/place//data=!4m2!...  \n",
       "3  'https://www.google.com/maps/place//data=!4m2!...  \n",
       "4  'https://www.google.com/maps/place//data=!4m2!...  "
      ]
     },
     "execution_count": 6,
     "metadata": {},
     "output_type": "execute_result"
    }
   ],
   "source": [
    "df_agrupados.head()"
   ]
  },
  {
   "cell_type": "code",
   "execution_count": 7,
   "metadata": {},
   "outputs": [
    {
     "name": "stdout",
     "output_type": "stream",
     "text": [
      "  state  num_reviews\n",
      "0  'AK'           21\n",
      "1  'AL'           14\n",
      "2  'AR'           18\n",
      "3  'AZ'          106\n",
      "4  'CA'          214\n",
      "count     52.000000\n",
      "mean      43.346154\n",
      "std       41.694917\n",
      "min        1.000000\n",
      "25%       11.750000\n",
      "50%       31.500000\n",
      "75%       66.750000\n",
      "max      214.000000\n",
      "Name: num_reviews, dtype: float64\n"
     ]
    }
   ],
   "source": [
    "# Realizar un análisis estadístico según la columna \"state\" y el número de reseñas\n",
    "estadisticas_estado = df_agrupados.groupby('state').size().reset_index(name='num_reviews')\n",
    "\n",
    "# Mostrar las primeras filas del resultado\n",
    "print(estadisticas_estado.head())\n",
    "\n",
    "# Descripción estadística del número de reseñas por estado\n",
    "description = estadisticas_estado['num_reviews'].describe()\n",
    "print(description)"
   ]
  },
  {
   "cell_type": "markdown",
   "metadata": {},
   "source": [
    "- Distribución de Reseñas por Estado: \n",
    "\n",
    "La mayoría de los estados tienen un número bajo de reseñas, con una mediana de 2 reseñas por estado. Sin embargo, hay algunos estados con un número significativamente mayor de reseñas, como se observa en el valor máximo de 496 reseñas.\n",
    "\n",
    "- Estadísticas Descriptivas:\n",
    "\n",
    "Media:El número promedio de reseñas por estado es aproximadamente 16.49.\n",
    "Desviación Estándar: La desviación estándar es bastante alta (57.36), lo que indica una gran variabilidad en el número de reseñas entre los estados.\n",
    "Percentiles: El 25% de los estados tienen 1 o menos reseñas, el 50% tienen 2 o menos, y el 75% tienen 8 o menos reseñas."
   ]
  },
  {
   "cell_type": "code",
   "execution_count": 8,
   "metadata": {},
   "outputs": [],
   "source": [
    "df_agrupados.to_parquet('../data/merged_starbucks_agrupado(uniico gmap_id).parquet')"
   ]
  },
  {
   "cell_type": "code",
   "execution_count": 10,
   "metadata": {},
   "outputs": [
    {
     "data": {
      "text/html": [
       "<div>\n",
       "<style scoped>\n",
       "    .dataframe tbody tr th:only-of-type {\n",
       "        vertical-align: middle;\n",
       "    }\n",
       "\n",
       "    .dataframe tbody tr th {\n",
       "        vertical-align: top;\n",
       "    }\n",
       "\n",
       "    .dataframe thead th {\n",
       "        text-align: right;\n",
       "    }\n",
       "</style>\n",
       "<table border=\"1\" class=\"dataframe\">\n",
       "  <thead>\n",
       "    <tr style=\"text-align: right;\">\n",
       "      <th></th>\n",
       "      <th>gmap_id</th>\n",
       "      <th>user_id</th>\n",
       "      <th>name_x</th>\n",
       "      <th>time</th>\n",
       "      <th>rating</th>\n",
       "      <th>text</th>\n",
       "      <th>name_y</th>\n",
       "      <th>address</th>\n",
       "      <th>state</th>\n",
       "      <th>num_of_reviews</th>\n",
       "      <th>...</th>\n",
       "      <th>price</th>\n",
       "      <th>latitude</th>\n",
       "      <th>longitude</th>\n",
       "      <th>category</th>\n",
       "      <th>description</th>\n",
       "      <th>hours</th>\n",
       "      <th>MISC</th>\n",
       "      <th>relative_results</th>\n",
       "      <th>url</th>\n",
       "      <th>review_range</th>\n",
       "    </tr>\n",
       "  </thead>\n",
       "  <tbody>\n",
       "    <tr>\n",
       "      <th>0</th>\n",
       "      <td>0x4cb204000ffe30e5:0xa7ac14186a5f5a6e</td>\n",
       "      <td>[106683231759012064520, 106963995335504393272,...</td>\n",
       "      <td>'Brooke Jansen', 'Chelsie Boynton', 'VintageCl...</td>\n",
       "      <td>[2021-02-01 15:39:07, 2021-04-22 08:07:27, 202...</td>\n",
       "      <td>[5, 1, 3, 4, 2]</td>\n",
       "      <td>\"100% worth it to get my dog a pupaccino. New ...</td>\n",
       "      <td>'Starbucks'</td>\n",
       "      <td>'Starbucks, 274 Western Ave, Augusta, Me 04330...</td>\n",
       "      <td>'ME'</td>\n",
       "      <td>448</td>\n",
       "      <td>...</td>\n",
       "      <td>'Moderate'</td>\n",
       "      <td>44.314715</td>\n",
       "      <td>-69.804681</td>\n",
       "      <td>[[Coffee shop, Breakfast restaurant, Cafe, Cof...</td>\n",
       "      <td>'Seattle-based coffeehouse chain known for its...</td>\n",
       "      <td>[[[Friday, 5:30AM–9PM], [Saturday, 6AM–9PM], [...</td>\n",
       "      <td>[{'Accessibility': ['Wheelchair-accessible car...</td>\n",
       "      <td>[[0x4cb203d84bd033bb:0x9bad233af6634b65, 0x4cb...</td>\n",
       "      <td>'https://www.google.com/maps/place//data=!4m2!...</td>\n",
       "      <td>101-500</td>\n",
       "    </tr>\n",
       "    <tr>\n",
       "      <th>1</th>\n",
       "      <td>0x4cb206a9e6afff7f:0x4cd3e00632f903cd</td>\n",
       "      <td>[118215583941292611400, 116651514692242373923,...</td>\n",
       "      <td>'Marcia Kay', 'Shirley Ayala', 'Aubrey Knorr',...</td>\n",
       "      <td>[2021-04-20 22:09:14, 2018-07-07 22:03:46, 201...</td>\n",
       "      <td>[5, 4, 1, 2, 3]</td>\n",
       "      <td>\"I have never had a bad experience at this Sta...</td>\n",
       "      <td>'Starbucks'</td>\n",
       "      <td>'Starbucks, 43 Crossing Way, Augusta, Me 04330'</td>\n",
       "      <td>'ME'</td>\n",
       "      <td>48</td>\n",
       "      <td>...</td>\n",
       "      <td>'Moderate'</td>\n",
       "      <td>44.310145999999996</td>\n",
       "      <td>-69.80653</td>\n",
       "      <td>[[Coffee shop, Cafe, Coffee store, Espresso bar]]</td>\n",
       "      <td>'Seattle-based coffeehouse chain known for its...</td>\n",
       "      <td>[[[Wednesday, 8AM–8PM], [Thursday, 8AM–8PM], [...</td>\n",
       "      <td>[{'Accessibility': ['Wheelchair accessible ent...</td>\n",
       "      <td>[[0x4cb203d84bd033bb:0x9bad233af6634b65, 0x4cb...</td>\n",
       "      <td>'https://www.google.com/maps/place//data=!4m2!...</td>\n",
       "      <td>11-50</td>\n",
       "    </tr>\n",
       "    <tr>\n",
       "      <th>2</th>\n",
       "      <td>0x4cb298b49db8e7d7:0x511c14c2cef94af1</td>\n",
       "      <td>[111091105762495070793, 110510744206022083945,...</td>\n",
       "      <td>'Seth Reynolds', 'Heather Rose Nelson', 'alan ...</td>\n",
       "      <td>[2018-10-21 14:11:00, 2019-11-14 16:07:30, 202...</td>\n",
       "      <td>[3, 5, 4, 1, 2]</td>\n",
       "      <td>'I come here relatively often- only because of...</td>\n",
       "      <td>'Starbucks'</td>\n",
       "      <td>'Starbucks, 210 Us-1, Scarborough, Me 04074'</td>\n",
       "      <td>'ME'</td>\n",
       "      <td>206</td>\n",
       "      <td>...</td>\n",
       "      <td>'Moderate'</td>\n",
       "      <td>43.591482</td>\n",
       "      <td>-70.330925</td>\n",
       "      <td>[[Coffee shop, Breakfast restaurant, Cafe, Cof...</td>\n",
       "      <td>'Seattle-based coffeehouse chain known for its...</td>\n",
       "      <td>[[[Tuesday, 5AM–9PM], [Wednesday, 5AM–9PM], [T...</td>\n",
       "      <td>[{'Accessibility': ['Wheelchair accessible ent...</td>\n",
       "      <td>[[0x4cb298aff67347f3:0x48c7374341f467c0, 0x4cb...</td>\n",
       "      <td>'https://www.google.com/maps/place//data=!4m2!...</td>\n",
       "      <td>101-500</td>\n",
       "    </tr>\n",
       "    <tr>\n",
       "      <th>3</th>\n",
       "      <td>0x4cb29b3d3824e409:0x2a73a5ecc700b03c</td>\n",
       "      <td>[113239410160527446903, 102814330295069332026,...</td>\n",
       "      <td>'Jasin', 'Jo-Nell Martin', 'Avik Dutta', 'Arro...</td>\n",
       "      <td>[2021-04-03 12:49:21, 2021-03-05 17:38:11, 201...</td>\n",
       "      <td>[5, 4, 1, 2, 3]</td>\n",
       "      <td>'Great staff, very personable and friendly. I ...</td>\n",
       "      <td>'Starbucks'</td>\n",
       "      <td>'Starbucks, 91 Auburn St, Portland, Me 04103'</td>\n",
       "      <td>'ME'</td>\n",
       "      <td>113</td>\n",
       "      <td>...</td>\n",
       "      <td>'Moderate'</td>\n",
       "      <td>43.70276</td>\n",
       "      <td>-70.288539</td>\n",
       "      <td>[[Coffee shop, Breakfast restaurant, Cafe, Cof...</td>\n",
       "      <td>'Seattle-based coffeehouse chain known for its...</td>\n",
       "      <td>[[[Saturday, 6AM–6:30PM], [Sunday, 6AM–6:30PM]...</td>\n",
       "      <td>[{'Accessibility': ['Wheelchair accessible ent...</td>\n",
       "      <td>[[0x4cb29c6e8e0ad67d:0x16b2cb35f458f92, 0x4cb2...</td>\n",
       "      <td>'https://www.google.com/maps/place//data=!4m2!...</td>\n",
       "      <td>101-500</td>\n",
       "    </tr>\n",
       "    <tr>\n",
       "      <th>4</th>\n",
       "      <td>0x4cb29f0baa70cc2b:0xdd1eb4468b30b9f5</td>\n",
       "      <td>[102737282901554388704, 109808999952810016658,...</td>\n",
       "      <td>'David Kellogg', 'Kelly Turner', 'Kurt Otterst...</td>\n",
       "      <td>[2021-03-24 17:50:23, 2021-04-21 01:46:44, 202...</td>\n",
       "      <td>[5, 2, 4, 3, 1]</td>\n",
       "      <td>\"We loved our coffees. They were made just rig...</td>\n",
       "      <td>'Starbucks'</td>\n",
       "      <td>'Starbucks, 50 Market St, South Portland, Me 0...</td>\n",
       "      <td>'ME'</td>\n",
       "      <td>68</td>\n",
       "      <td>...</td>\n",
       "      <td>'Moderate'</td>\n",
       "      <td>43.635334</td>\n",
       "      <td>-70.255585</td>\n",
       "      <td>[[Coffee shop, Breakfast restaurant, Cafe, Cof...</td>\n",
       "      <td>'Seattle-based coffeehouse chain known for its...</td>\n",
       "      <td>[[[Friday, 5AM–9PM], [Saturday, 5AM–9PM], [Sun...</td>\n",
       "      <td>[{'Accessibility': ['Wheelchair accessible ent...</td>\n",
       "      <td>[None]</td>\n",
       "      <td>'https://www.google.com/maps/place//data=!4m2!...</td>\n",
       "      <td>51-100</td>\n",
       "    </tr>\n",
       "  </tbody>\n",
       "</table>\n",
       "<p>5 rows × 21 columns</p>\n",
       "</div>"
      ],
      "text/plain": [
       "                                 gmap_id  \\\n",
       "0  0x4cb204000ffe30e5:0xa7ac14186a5f5a6e   \n",
       "1  0x4cb206a9e6afff7f:0x4cd3e00632f903cd   \n",
       "2  0x4cb298b49db8e7d7:0x511c14c2cef94af1   \n",
       "3  0x4cb29b3d3824e409:0x2a73a5ecc700b03c   \n",
       "4  0x4cb29f0baa70cc2b:0xdd1eb4468b30b9f5   \n",
       "\n",
       "                                             user_id  \\\n",
       "0  [106683231759012064520, 106963995335504393272,...   \n",
       "1  [118215583941292611400, 116651514692242373923,...   \n",
       "2  [111091105762495070793, 110510744206022083945,...   \n",
       "3  [113239410160527446903, 102814330295069332026,...   \n",
       "4  [102737282901554388704, 109808999952810016658,...   \n",
       "\n",
       "                                              name_x  \\\n",
       "0  'Brooke Jansen', 'Chelsie Boynton', 'VintageCl...   \n",
       "1  'Marcia Kay', 'Shirley Ayala', 'Aubrey Knorr',...   \n",
       "2  'Seth Reynolds', 'Heather Rose Nelson', 'alan ...   \n",
       "3  'Jasin', 'Jo-Nell Martin', 'Avik Dutta', 'Arro...   \n",
       "4  'David Kellogg', 'Kelly Turner', 'Kurt Otterst...   \n",
       "\n",
       "                                                time           rating  \\\n",
       "0  [2021-02-01 15:39:07, 2021-04-22 08:07:27, 202...  [5, 1, 3, 4, 2]   \n",
       "1  [2021-04-20 22:09:14, 2018-07-07 22:03:46, 201...  [5, 4, 1, 2, 3]   \n",
       "2  [2018-10-21 14:11:00, 2019-11-14 16:07:30, 202...  [3, 5, 4, 1, 2]   \n",
       "3  [2021-04-03 12:49:21, 2021-03-05 17:38:11, 201...  [5, 4, 1, 2, 3]   \n",
       "4  [2021-03-24 17:50:23, 2021-04-21 01:46:44, 202...  [5, 2, 4, 3, 1]   \n",
       "\n",
       "                                                text       name_y  \\\n",
       "0  \"100% worth it to get my dog a pupaccino. New ...  'Starbucks'   \n",
       "1  \"I have never had a bad experience at this Sta...  'Starbucks'   \n",
       "2  'I come here relatively often- only because of...  'Starbucks'   \n",
       "3  'Great staff, very personable and friendly. I ...  'Starbucks'   \n",
       "4  \"We loved our coffees. They were made just rig...  'Starbucks'   \n",
       "\n",
       "                                             address state  num_of_reviews  \\\n",
       "0  'Starbucks, 274 Western Ave, Augusta, Me 04330...  'ME'             448   \n",
       "1    'Starbucks, 43 Crossing Way, Augusta, Me 04330'  'ME'              48   \n",
       "2       'Starbucks, 210 Us-1, Scarborough, Me 04074'  'ME'             206   \n",
       "3      'Starbucks, 91 Auburn St, Portland, Me 04103'  'ME'             113   \n",
       "4  'Starbucks, 50 Market St, South Portland, Me 0...  'ME'              68   \n",
       "\n",
       "   ...       price            latitude   longitude  \\\n",
       "0  ...  'Moderate'           44.314715  -69.804681   \n",
       "1  ...  'Moderate'  44.310145999999996   -69.80653   \n",
       "2  ...  'Moderate'           43.591482  -70.330925   \n",
       "3  ...  'Moderate'            43.70276  -70.288539   \n",
       "4  ...  'Moderate'           43.635334  -70.255585   \n",
       "\n",
       "                                            category  \\\n",
       "0  [[Coffee shop, Breakfast restaurant, Cafe, Cof...   \n",
       "1  [[Coffee shop, Cafe, Coffee store, Espresso bar]]   \n",
       "2  [[Coffee shop, Breakfast restaurant, Cafe, Cof...   \n",
       "3  [[Coffee shop, Breakfast restaurant, Cafe, Cof...   \n",
       "4  [[Coffee shop, Breakfast restaurant, Cafe, Cof...   \n",
       "\n",
       "                                         description  \\\n",
       "0  'Seattle-based coffeehouse chain known for its...   \n",
       "1  'Seattle-based coffeehouse chain known for its...   \n",
       "2  'Seattle-based coffeehouse chain known for its...   \n",
       "3  'Seattle-based coffeehouse chain known for its...   \n",
       "4  'Seattle-based coffeehouse chain known for its...   \n",
       "\n",
       "                                               hours  \\\n",
       "0  [[[Friday, 5:30AM–9PM], [Saturday, 6AM–9PM], [...   \n",
       "1  [[[Wednesday, 8AM–8PM], [Thursday, 8AM–8PM], [...   \n",
       "2  [[[Tuesday, 5AM–9PM], [Wednesday, 5AM–9PM], [T...   \n",
       "3  [[[Saturday, 6AM–6:30PM], [Sunday, 6AM–6:30PM]...   \n",
       "4  [[[Friday, 5AM–9PM], [Saturday, 5AM–9PM], [Sun...   \n",
       "\n",
       "                                                MISC  \\\n",
       "0  [{'Accessibility': ['Wheelchair-accessible car...   \n",
       "1  [{'Accessibility': ['Wheelchair accessible ent...   \n",
       "2  [{'Accessibility': ['Wheelchair accessible ent...   \n",
       "3  [{'Accessibility': ['Wheelchair accessible ent...   \n",
       "4  [{'Accessibility': ['Wheelchair accessible ent...   \n",
       "\n",
       "                                    relative_results  \\\n",
       "0  [[0x4cb203d84bd033bb:0x9bad233af6634b65, 0x4cb...   \n",
       "1  [[0x4cb203d84bd033bb:0x9bad233af6634b65, 0x4cb...   \n",
       "2  [[0x4cb298aff67347f3:0x48c7374341f467c0, 0x4cb...   \n",
       "3  [[0x4cb29c6e8e0ad67d:0x16b2cb35f458f92, 0x4cb2...   \n",
       "4                                             [None]   \n",
       "\n",
       "                                                 url review_range  \n",
       "0  'https://www.google.com/maps/place//data=!4m2!...      101-500  \n",
       "1  'https://www.google.com/maps/place//data=!4m2!...        11-50  \n",
       "2  'https://www.google.com/maps/place//data=!4m2!...      101-500  \n",
       "3  'https://www.google.com/maps/place//data=!4m2!...      101-500  \n",
       "4  'https://www.google.com/maps/place//data=!4m2!...       51-100  \n",
       "\n",
       "[5 rows x 21 columns]"
      ]
     },
     "execution_count": 10,
     "metadata": {},
     "output_type": "execute_result"
    }
   ],
   "source": [
    "# Convertir la columna 'num_of_reviews' a tipo numérico\n",
    "df_agrupados['num_of_reviews'] = pd.to_numeric(df_agrupados['num_of_reviews'], errors='coerce')\n",
    "\n",
    "# Crear rangos para el número de reseñas\n",
    "bins = [0, 10, 50, 100, 500, 1000, float('inf')]\n",
    "labels = ['0-10', '11-50', '51-100', '101-500', '501-1000', '1000+']\n",
    "df_agrupados['review_range'] = pd.cut(df_agrupados['num_of_reviews'], bins=bins, labels=labels, right=False)\n",
    "\n",
    "# Guardar el dataframe modificado\n",
    "df_agrupados.to_parquet('../data/merged_starbucks_agrupado_con_rangos_de_reviews.parquet')\n",
    "\n",
    "# Mostrar las primeras filas del dataframe con la nueva columna\n",
    "df_agrupados.head()"
   ]
  },
  {
   "cell_type": "code",
   "execution_count": 11,
   "metadata": {},
   "outputs": [
    {
     "data": {
      "application/vnd.plotly.v1+json": {
       "config": {
        "plotlyServerURL": "https://plot.ly"
       },
       "data": [
        {
         "alignmentgroup": "True",
         "bingroup": "x",
         "hovertemplate": "Rango de Reseñas=%{x}<br>count=%{y}<extra></extra>",
         "legendgroup": "",
         "marker": {
          "color": "#636efa",
          "pattern": {
           "shape": ""
          }
         },
         "name": "",
         "offsetgroup": "",
         "orientation": "v",
         "showlegend": false,
         "type": "histogram",
         "x": [
          "101-500",
          "11-50",
          "101-500",
          "101-500",
          "51-100",
          "11-50",
          "11-50",
          "51-100",
          "11-50",
          "101-500",
          "11-50",
          "11-50",
          "11-50",
          "101-500",
          "11-50",
          "51-100",
          "101-500",
          "501-1000",
          "11-50",
          "11-50",
          "101-500",
          "11-50",
          "11-50",
          "101-500",
          "51-100",
          "51-100",
          "11-50",
          "51-100",
          "11-50",
          "101-500",
          "11-50",
          "11-50",
          "51-100",
          "11-50",
          "11-50",
          "101-500",
          "11-50",
          "101-500",
          "11-50",
          "11-50",
          "51-100",
          "101-500",
          "11-50",
          "11-50",
          "11-50",
          "11-50",
          "51-100",
          "51-100",
          "11-50",
          "51-100",
          "501-1000",
          "11-50",
          "11-50",
          "101-500",
          "11-50",
          "101-500",
          "51-100",
          "11-50",
          "101-500",
          "11-50",
          "11-50",
          "101-500",
          "11-50",
          "11-50",
          "51-100",
          "11-50",
          "51-100",
          "101-500",
          "11-50",
          "11-50",
          "51-100",
          "11-50",
          "11-50",
          "101-500",
          "101-500",
          "11-50",
          "11-50",
          "11-50",
          "11-50",
          "51-100",
          "51-100",
          "11-50",
          "11-50",
          "11-50",
          "101-500",
          "11-50",
          "11-50",
          "11-50",
          "101-500",
          "101-500",
          "11-50",
          "11-50",
          "11-50",
          "11-50",
          "11-50",
          "11-50",
          "51-100",
          "11-50",
          "51-100",
          "11-50",
          "11-50",
          "101-500",
          "11-50",
          "11-50",
          "101-500",
          "11-50",
          "11-50",
          "11-50",
          "51-100",
          "11-50",
          "11-50",
          "11-50",
          "51-100",
          "101-500",
          "11-50",
          "51-100",
          "51-100",
          "11-50",
          "51-100",
          "51-100",
          "51-100",
          "51-100",
          "51-100",
          "51-100",
          "51-100",
          "51-100",
          "11-50",
          "11-50",
          "101-500",
          "101-500",
          "101-500",
          "11-50",
          "11-50",
          "11-50",
          "11-50",
          "51-100",
          "11-50",
          "11-50",
          "11-50",
          "501-1000",
          "101-500",
          "101-500",
          "11-50",
          "51-100",
          "11-50",
          "11-50",
          "11-50",
          "11-50",
          "11-50",
          "51-100",
          "51-100",
          "11-50",
          "101-500",
          "101-500",
          "101-500",
          "11-50",
          "11-50",
          "101-500",
          "11-50",
          "51-100",
          "11-50",
          "11-50",
          "51-100",
          "11-50",
          "11-50",
          "101-500",
          "101-500",
          "11-50",
          "101-500",
          "101-500",
          "11-50",
          "11-50",
          "51-100",
          "11-50",
          "11-50",
          "11-50",
          "11-50",
          "11-50",
          "11-50",
          "51-100",
          "51-100",
          "51-100",
          "11-50",
          "51-100",
          "51-100",
          "11-50",
          "11-50",
          "51-100",
          "11-50",
          "51-100",
          "11-50",
          "11-50",
          "11-50",
          "11-50",
          "101-500",
          "101-500",
          "11-50",
          "51-100",
          "11-50",
          "11-50",
          "101-500",
          "11-50",
          "11-50",
          "11-50",
          "11-50",
          "11-50",
          "11-50",
          "11-50",
          "101-500",
          "11-50",
          "101-500",
          "51-100",
          "51-100",
          "51-100",
          "11-50",
          "11-50",
          "11-50",
          "101-500",
          "11-50",
          "101-500",
          "11-50",
          "11-50",
          "101-500",
          "101-500",
          "11-50",
          "11-50",
          "51-100",
          "51-100",
          "101-500",
          "11-50",
          "11-50",
          "11-50",
          "101-500",
          "51-100",
          "11-50",
          "11-50",
          "11-50",
          "11-50",
          "11-50",
          "11-50",
          "101-500",
          "51-100",
          "11-50",
          "101-500",
          "101-500",
          "11-50",
          "51-100",
          "11-50",
          "11-50",
          "501-1000",
          "51-100",
          "11-50",
          "11-50",
          "51-100",
          "101-500",
          "11-50",
          "51-100",
          "51-100",
          "51-100",
          "51-100",
          "11-50",
          "11-50",
          "11-50",
          "11-50",
          "101-500",
          "11-50",
          "11-50",
          "11-50",
          "101-500",
          "51-100",
          "51-100",
          "101-500",
          "101-500",
          "11-50",
          "501-1000",
          "101-500",
          "11-50",
          "101-500",
          "11-50",
          "11-50",
          "11-50",
          "51-100",
          "501-1000",
          "11-50",
          "11-50",
          "11-50",
          "11-50",
          "51-100",
          "101-500",
          "51-100",
          "11-50",
          "51-100",
          "11-50",
          "11-50",
          "11-50",
          "101-500",
          "11-50",
          "101-500",
          "101-500",
          "11-50",
          "11-50",
          "101-500",
          "101-500",
          "51-100",
          "51-100",
          "11-50",
          "51-100",
          "11-50",
          "11-50",
          "51-100",
          "11-50",
          "11-50",
          "11-50",
          "51-100",
          "101-500",
          "11-50",
          "501-1000",
          "11-50",
          "51-100",
          "51-100",
          "11-50",
          "11-50",
          "11-50",
          "11-50",
          "51-100",
          "11-50",
          "11-50",
          "11-50",
          "51-100",
          "51-100",
          "101-500",
          "11-50",
          "11-50",
          "11-50",
          "51-100",
          "51-100",
          "51-100",
          "11-50",
          "51-100",
          "101-500",
          "51-100",
          "11-50",
          "101-500",
          "101-500",
          "101-500",
          "11-50",
          "101-500",
          "101-500",
          "101-500",
          "11-50",
          "101-500",
          "51-100",
          "51-100",
          "11-50",
          "11-50",
          "101-500",
          "11-50",
          "51-100",
          "501-1000",
          "0-10",
          "11-50",
          "11-50",
          "11-50",
          "11-50",
          "11-50",
          "11-50",
          "11-50",
          "11-50",
          "11-50",
          "11-50",
          "11-50",
          "11-50",
          "51-100",
          "11-50",
          "11-50",
          "11-50",
          "11-50",
          "11-50",
          "101-500",
          "11-50",
          "11-50",
          "11-50",
          "11-50",
          "11-50",
          "11-50",
          "11-50",
          "11-50",
          "11-50",
          "11-50",
          "101-500",
          "11-50",
          "11-50",
          "11-50",
          "11-50",
          "101-500",
          "101-500",
          "101-500",
          "11-50",
          "11-50",
          "51-100",
          "501-1000",
          "101-500",
          "11-50",
          "101-500",
          "11-50",
          "101-500",
          "51-100",
          "51-100",
          "51-100",
          "11-50",
          "501-1000",
          "11-50",
          "101-500",
          "501-1000",
          "501-1000",
          "11-50",
          "101-500",
          "11-50",
          "51-100",
          "11-50",
          "11-50",
          "11-50",
          "51-100",
          "51-100",
          "11-50",
          "11-50",
          "101-500",
          "11-50",
          "51-100",
          "101-500",
          "101-500",
          "51-100",
          "11-50",
          "11-50",
          "51-100",
          "501-1000",
          "11-50",
          "501-1000",
          "11-50",
          "11-50",
          "11-50",
          "11-50",
          "11-50",
          "11-50",
          "101-500",
          "11-50",
          "11-50",
          "51-100",
          "11-50",
          "11-50",
          "101-500",
          "11-50",
          "11-50",
          "11-50",
          "11-50",
          "11-50",
          "11-50",
          "51-100",
          "11-50",
          "51-100",
          "101-500",
          "11-50",
          "101-500",
          "11-50",
          "101-500",
          "11-50",
          "11-50",
          "11-50",
          "11-50",
          "51-100",
          "101-500",
          "11-50",
          "101-500",
          "11-50",
          "101-500",
          "11-50",
          "51-100",
          "11-50",
          "11-50",
          "11-50",
          "11-50",
          "51-100",
          "11-50",
          "51-100",
          "51-100",
          "501-1000",
          "51-100",
          "11-50",
          "501-1000",
          "11-50",
          "11-50",
          "101-500",
          "11-50",
          "11-50",
          "501-1000",
          "51-100",
          "11-50",
          "11-50",
          "11-50",
          "101-500",
          "11-50",
          "51-100",
          "51-100",
          "11-50",
          "11-50",
          "11-50",
          "11-50",
          "51-100",
          "101-500",
          "51-100",
          "11-50",
          "101-500",
          "101-500",
          "11-50",
          "51-100",
          "101-500",
          "11-50",
          "51-100",
          "101-500",
          "11-50",
          "51-100",
          "101-500",
          "101-500",
          "11-50",
          "51-100",
          "101-500",
          "101-500",
          "11-50",
          "101-500",
          "51-100",
          "11-50",
          "11-50",
          "101-500",
          "11-50",
          "11-50",
          "11-50",
          "11-50",
          "11-50",
          "11-50",
          "11-50",
          "51-100",
          "51-100",
          "51-100",
          "101-500",
          "51-100",
          "11-50",
          "101-500",
          "11-50",
          "11-50",
          "101-500",
          "11-50",
          "11-50",
          "51-100",
          "101-500",
          "11-50",
          "11-50",
          "11-50",
          "11-50",
          "11-50",
          "11-50",
          "11-50",
          "11-50",
          "11-50",
          "11-50",
          "11-50",
          "11-50",
          "51-100",
          "51-100",
          "11-50",
          "11-50",
          "11-50",
          "11-50",
          "101-500",
          "11-50",
          "501-1000",
          "11-50",
          "11-50",
          "101-500",
          "11-50",
          "501-1000",
          "51-100",
          "11-50",
          "51-100",
          "11-50",
          "101-500",
          "11-50",
          "51-100",
          "101-500",
          "101-500",
          "11-50",
          "51-100",
          "51-100",
          "11-50",
          "11-50",
          "11-50",
          "11-50",
          "11-50",
          "11-50",
          "11-50",
          "101-500",
          "51-100",
          "11-50",
          "101-500",
          "11-50",
          "11-50",
          "11-50",
          "11-50",
          "11-50",
          "11-50",
          "11-50",
          "11-50",
          "11-50",
          "51-100",
          "11-50",
          "11-50",
          "11-50",
          "101-500",
          "11-50",
          "11-50",
          "51-100",
          "11-50",
          "11-50",
          "11-50",
          "51-100",
          "11-50",
          "101-500",
          "11-50",
          "101-500",
          "51-100",
          "101-500",
          "11-50",
          "11-50",
          "11-50",
          "11-50",
          "101-500",
          "51-100",
          "11-50",
          "101-500",
          "11-50",
          "51-100",
          "11-50",
          "11-50",
          "11-50",
          "51-100",
          "11-50",
          "11-50",
          "11-50",
          "501-1000",
          "11-50",
          "11-50",
          "11-50",
          "101-500",
          "11-50",
          "51-100",
          "11-50",
          "11-50",
          "11-50",
          "101-500",
          "501-1000",
          "11-50",
          "101-500",
          "11-50",
          "51-100",
          "501-1000",
          "11-50",
          "11-50",
          "11-50",
          "11-50",
          "51-100",
          "11-50",
          "11-50",
          "11-50",
          "501-1000",
          "101-500",
          "11-50",
          "11-50",
          "51-100",
          "11-50",
          "11-50",
          "11-50",
          "501-1000",
          "11-50",
          "11-50",
          "11-50",
          "51-100",
          "11-50",
          "11-50",
          "11-50",
          "11-50",
          "11-50",
          "11-50",
          "11-50",
          "11-50",
          "11-50",
          "501-1000",
          "501-1000",
          "501-1000",
          "11-50",
          "11-50",
          "11-50",
          "11-50",
          "51-100",
          "51-100",
          "11-50",
          "1000+",
          "51-100",
          "11-50",
          "11-50",
          "11-50",
          "11-50",
          "11-50",
          "11-50",
          "11-50",
          "11-50",
          "51-100",
          "51-100",
          "51-100",
          "11-50",
          "101-500",
          "101-500",
          "101-500",
          "51-100",
          "11-50",
          "51-100",
          "11-50",
          "101-500",
          "501-1000",
          "51-100",
          "11-50",
          "11-50",
          "101-500",
          "51-100",
          "11-50",
          "11-50",
          "11-50",
          "101-500",
          "11-50",
          "11-50",
          "51-100",
          "11-50",
          "11-50",
          "11-50",
          "11-50",
          "51-100",
          "11-50",
          "11-50",
          "51-100",
          "101-500",
          "11-50",
          "101-500",
          "501-1000",
          "101-500",
          "11-50",
          "101-500",
          "51-100",
          "11-50",
          "51-100",
          "11-50",
          "11-50",
          "501-1000",
          "11-50",
          "501-1000",
          "11-50",
          "11-50",
          "51-100",
          "11-50",
          "11-50",
          "501-1000",
          "51-100",
          "11-50",
          "51-100",
          "11-50",
          "101-500",
          "11-50",
          "11-50",
          "11-50",
          "11-50",
          "11-50",
          "11-50",
          "11-50",
          "11-50",
          "11-50",
          "11-50",
          "11-50",
          "51-100",
          "101-500",
          "11-50",
          "11-50",
          "51-100",
          "51-100",
          "101-500",
          "11-50",
          "101-500",
          "51-100",
          "11-50",
          "11-50",
          "11-50",
          "11-50",
          "11-50",
          "11-50",
          "101-500",
          "11-50",
          "101-500",
          "11-50",
          "11-50",
          "11-50",
          "11-50",
          "11-50",
          "11-50",
          "101-500",
          "51-100",
          "11-50",
          "11-50",
          "11-50",
          "11-50",
          "11-50",
          "51-100",
          "11-50",
          "11-50",
          "101-500",
          "51-100",
          "51-100",
          "501-1000",
          "11-50",
          "101-500",
          "51-100",
          "51-100",
          "11-50",
          "11-50",
          "11-50",
          "11-50",
          "11-50",
          "11-50",
          "11-50",
          "11-50",
          "501-1000",
          "51-100",
          "11-50",
          "51-100",
          "11-50",
          "101-500",
          "11-50",
          "11-50",
          "51-100",
          "101-500",
          "101-500",
          "11-50",
          "101-500",
          "101-500",
          "101-500",
          "11-50",
          "11-50",
          "11-50",
          "51-100",
          "101-500",
          "11-50",
          "51-100",
          "11-50",
          "51-100",
          "51-100",
          "51-100",
          "101-500",
          "11-50",
          "11-50",
          "51-100",
          "101-500",
          "51-100",
          "11-50",
          "51-100",
          "11-50",
          "51-100",
          "101-500",
          "11-50",
          "11-50",
          "101-500",
          "51-100",
          "51-100",
          "101-500",
          "11-50",
          "11-50",
          "11-50",
          "11-50",
          "11-50",
          "11-50",
          "11-50",
          "51-100",
          "51-100",
          "11-50",
          "11-50",
          "11-50",
          "101-500",
          "11-50",
          "11-50",
          "51-100",
          "11-50",
          "51-100",
          "51-100",
          "51-100",
          "101-500",
          "101-500",
          "51-100",
          "11-50",
          "11-50",
          "11-50",
          "11-50",
          "11-50",
          "101-500",
          "501-1000",
          "11-50",
          "11-50",
          "51-100",
          "11-50",
          "11-50",
          "11-50",
          "11-50",
          "51-100",
          "51-100",
          "51-100",
          "11-50",
          "11-50",
          "101-500",
          "11-50",
          "11-50",
          "51-100",
          "11-50",
          "11-50",
          "11-50",
          "11-50",
          "11-50",
          "101-500",
          "11-50",
          "11-50",
          "51-100",
          "11-50",
          "11-50",
          "11-50",
          "51-100",
          "11-50",
          "11-50",
          "11-50",
          "51-100",
          "11-50",
          "11-50",
          "51-100",
          "11-50",
          "101-500",
          "11-50",
          "11-50",
          "51-100",
          "11-50",
          "11-50",
          "11-50",
          "51-100",
          "51-100",
          "51-100",
          "11-50",
          "11-50",
          "11-50",
          "11-50",
          "51-100",
          "11-50",
          "11-50",
          "11-50",
          "51-100",
          "11-50",
          "11-50",
          "11-50",
          "11-50",
          "51-100",
          "11-50",
          "51-100",
          "11-50",
          "51-100",
          "51-100",
          "11-50",
          "51-100",
          "11-50",
          "51-100",
          "11-50",
          "51-100",
          "11-50",
          "51-100",
          "101-500",
          "51-100",
          "11-50",
          "101-500",
          "101-500",
          "51-100",
          "51-100",
          "101-500",
          "51-100",
          "11-50",
          "11-50",
          "11-50",
          "11-50",
          "11-50",
          "11-50",
          "51-100",
          "11-50",
          "11-50",
          "11-50",
          "51-100",
          "51-100",
          "51-100",
          "51-100",
          "11-50",
          "11-50",
          "101-500",
          "51-100",
          "11-50",
          "101-500",
          "51-100",
          "11-50",
          "11-50",
          "11-50",
          "51-100",
          "11-50",
          "501-1000",
          "51-100",
          "11-50",
          "101-500",
          "11-50",
          "11-50",
          "51-100",
          "51-100",
          "11-50",
          "101-500",
          "11-50",
          "51-100",
          "11-50",
          "101-500",
          "51-100",
          "51-100",
          "11-50",
          "51-100",
          "11-50",
          "11-50",
          "51-100",
          "101-500",
          "101-500",
          "101-500",
          "51-100",
          "101-500",
          "11-50",
          "51-100",
          "101-500",
          "101-500",
          "51-100",
          "101-500",
          "11-50",
          "11-50",
          "11-50",
          "101-500",
          "11-50",
          "11-50",
          "51-100",
          "51-100",
          "11-50",
          "501-1000",
          "101-500",
          "11-50",
          "11-50",
          "11-50",
          "101-500",
          "11-50",
          "11-50",
          "51-100",
          "51-100",
          "51-100",
          "11-50",
          "51-100",
          "101-500",
          "101-500",
          "11-50",
          "51-100",
          "11-50",
          "51-100",
          "11-50",
          "11-50",
          "51-100",
          "51-100",
          "11-50",
          "11-50",
          "51-100",
          "11-50",
          "101-500",
          "11-50",
          "51-100",
          "11-50",
          "51-100",
          "51-100",
          "11-50",
          "11-50",
          "101-500",
          "11-50",
          "51-100",
          "101-500",
          "101-500",
          "101-500",
          "51-100",
          "51-100",
          "51-100",
          "101-500",
          "11-50",
          "11-50",
          "11-50",
          "11-50",
          "11-50",
          "11-50",
          "11-50",
          "11-50",
          "101-500",
          "11-50",
          "51-100",
          "11-50",
          "11-50",
          "11-50",
          "11-50",
          "51-100",
          "11-50",
          "11-50",
          "101-500",
          "11-50",
          "51-100",
          "51-100",
          "11-50",
          "51-100",
          "11-50",
          "11-50",
          "11-50",
          "11-50",
          "11-50",
          "11-50",
          "11-50",
          "11-50",
          "11-50",
          "11-50",
          "101-500",
          "501-1000",
          "51-100",
          "11-50",
          "101-500",
          "101-500",
          "51-100",
          "501-1000",
          "51-100",
          "11-50",
          "101-500",
          "101-500",
          "51-100",
          "11-50",
          "11-50",
          "51-100",
          "11-50",
          "51-100",
          "11-50",
          "51-100",
          "11-50",
          "51-100",
          "11-50",
          "11-50",
          "11-50",
          "101-500",
          "51-100",
          "11-50",
          "11-50",
          "101-500",
          "51-100",
          "11-50",
          "11-50",
          "11-50",
          "11-50",
          "11-50",
          "11-50",
          "11-50",
          "51-100",
          "11-50",
          "51-100",
          "51-100",
          "51-100",
          "51-100",
          "11-50",
          "11-50",
          "101-500",
          "11-50",
          "11-50",
          "11-50",
          "11-50",
          "11-50",
          "51-100",
          "11-50",
          "51-100",
          "101-500",
          "51-100",
          "101-500",
          "101-500",
          "51-100",
          "501-1000",
          "11-50",
          "11-50",
          "11-50",
          "11-50",
          "101-500",
          "51-100",
          "11-50",
          "11-50",
          "101-500",
          "11-50",
          "11-50",
          "101-500",
          "51-100",
          "51-100",
          "51-100",
          "51-100",
          "101-500",
          "51-100",
          "101-500",
          "11-50",
          "11-50",
          "101-500",
          "11-50",
          "101-500",
          "101-500",
          "11-50",
          "11-50",
          "11-50",
          "51-100",
          "51-100",
          "51-100",
          "101-500",
          "11-50",
          "101-500",
          "101-500",
          "101-500",
          "11-50",
          "51-100",
          "51-100",
          "11-50",
          "51-100",
          "11-50",
          "51-100",
          "11-50",
          "11-50",
          "101-500",
          "51-100",
          "11-50",
          "101-500",
          "51-100",
          "101-500",
          "11-50",
          "101-500",
          "51-100",
          "51-100",
          "11-50",
          "101-500",
          "101-500",
          "51-100",
          "11-50",
          "51-100",
          "11-50",
          "101-500",
          "501-1000",
          "101-500",
          "11-50",
          "11-50",
          "11-50",
          "11-50",
          "51-100",
          "11-50",
          "11-50",
          "51-100",
          "11-50",
          "51-100",
          "501-1000",
          "501-1000",
          "501-1000",
          "101-500",
          "51-100",
          "501-1000",
          "11-50",
          "11-50",
          "51-100",
          "51-100",
          "51-100",
          "101-500",
          "11-50",
          "51-100",
          "51-100",
          "51-100",
          "101-500",
          "51-100",
          "11-50",
          "11-50",
          "11-50",
          "11-50",
          "11-50",
          "11-50",
          "11-50",
          "51-100",
          "11-50",
          "101-500",
          "11-50",
          "11-50",
          "101-500",
          "51-100",
          "101-500",
          "11-50",
          "51-100",
          "101-500",
          "11-50",
          "51-100",
          "11-50",
          "101-500",
          "11-50",
          "11-50",
          "11-50",
          "101-500",
          "11-50",
          "51-100",
          "11-50",
          "11-50",
          "11-50",
          "101-500",
          "101-500",
          "11-50",
          "11-50",
          "101-500",
          "501-1000",
          "101-500",
          "501-1000",
          "11-50",
          "11-50",
          "11-50",
          "51-100",
          "11-50",
          "101-500",
          "11-50",
          "11-50",
          "11-50",
          "11-50",
          "11-50",
          "51-100",
          "51-100",
          "11-50",
          "51-100",
          "51-100",
          "11-50",
          "11-50",
          "11-50",
          "51-100",
          "11-50",
          "51-100",
          "11-50",
          "51-100",
          "11-50",
          "11-50",
          "101-500",
          "11-50",
          "11-50",
          "501-1000",
          "51-100",
          "11-50",
          "11-50",
          "11-50",
          "51-100",
          "101-500",
          "11-50",
          "51-100",
          "51-100",
          "11-50",
          "11-50",
          "11-50",
          "11-50",
          "11-50",
          "101-500",
          "11-50",
          "11-50",
          "101-500",
          "51-100",
          "11-50",
          "11-50",
          "11-50",
          "101-500",
          "11-50",
          "11-50",
          "11-50",
          "101-500",
          "51-100",
          "101-500",
          "51-100",
          "11-50",
          "11-50",
          "51-100",
          "11-50",
          "11-50",
          "101-500",
          "11-50",
          "11-50",
          "11-50",
          "101-500",
          "51-100",
          "11-50",
          "51-100",
          "51-100",
          "51-100",
          "51-100",
          "51-100",
          "11-50",
          "11-50",
          "51-100",
          "11-50",
          "11-50",
          "11-50",
          "51-100",
          "501-1000",
          "501-1000",
          "11-50",
          "11-50",
          "11-50",
          "11-50",
          "11-50",
          "11-50",
          "51-100",
          "11-50",
          "501-1000",
          "11-50",
          "101-500",
          "101-500",
          "11-50",
          "11-50",
          "51-100",
          "101-500",
          "51-100",
          "101-500",
          "11-50",
          "11-50",
          "51-100",
          "11-50",
          "11-50",
          "51-100",
          "11-50",
          "101-500",
          "11-50",
          "51-100",
          "11-50",
          "11-50",
          "101-500",
          "51-100",
          "51-100",
          "51-100",
          "11-50",
          "101-500",
          "51-100",
          "51-100",
          "51-100",
          "11-50",
          "101-500",
          "51-100",
          "101-500",
          "11-50",
          "11-50",
          "11-50",
          "51-100",
          "51-100",
          "11-50",
          "11-50",
          "51-100",
          "11-50",
          "51-100",
          "51-100",
          "51-100",
          "51-100",
          "11-50",
          "51-100",
          "101-500",
          "11-50",
          "11-50",
          "11-50",
          "101-500",
          "51-100",
          "11-50",
          "11-50",
          "51-100",
          "51-100",
          "51-100",
          "11-50",
          "51-100",
          "11-50",
          "101-500",
          "11-50",
          "11-50",
          "51-100",
          "51-100",
          "101-500",
          "11-50",
          "11-50",
          "11-50",
          "11-50",
          "11-50",
          "11-50",
          "101-500",
          "11-50",
          "51-100",
          "51-100",
          "11-50",
          "11-50",
          "101-500",
          "11-50",
          "101-500",
          "101-500",
          "51-100",
          "11-50",
          "11-50",
          "101-500",
          "11-50",
          "101-500",
          "11-50",
          "1000+",
          "51-100",
          "11-50",
          "11-50",
          "11-50",
          "11-50",
          "51-100",
          "51-100",
          "11-50",
          "11-50",
          "51-100",
          "101-500",
          "51-100",
          "11-50",
          "11-50",
          "101-500",
          "11-50",
          "101-500",
          "101-500",
          "11-50",
          "101-500",
          "101-500",
          "11-50",
          "51-100",
          "11-50",
          "11-50",
          "11-50",
          "101-500",
          "101-500",
          "51-100",
          "11-50",
          "51-100",
          "501-1000",
          "51-100",
          "101-500",
          "51-100",
          "11-50",
          "11-50",
          "51-100",
          "101-500",
          "51-100",
          "51-100",
          "11-50",
          "11-50",
          "51-100",
          "51-100",
          "11-50",
          "11-50",
          "11-50",
          "11-50",
          "101-500",
          "11-50",
          "11-50",
          "11-50",
          "51-100",
          "11-50",
          "11-50",
          "11-50",
          "11-50",
          "11-50",
          "51-100",
          "51-100",
          "51-100",
          "11-50",
          "101-500",
          "51-100",
          "101-500",
          "51-100",
          "501-1000",
          "11-50",
          "101-500",
          "11-50",
          "101-500",
          "11-50",
          "11-50",
          "11-50",
          "11-50",
          "51-100",
          "11-50",
          "11-50",
          "501-1000",
          "11-50",
          "11-50",
          "11-50",
          "11-50",
          "51-100",
          "11-50",
          "11-50",
          "11-50",
          "11-50",
          "51-100",
          "101-500",
          "51-100",
          "11-50",
          "501-1000",
          "11-50",
          "11-50",
          "51-100",
          "11-50",
          "11-50",
          "11-50",
          "11-50",
          "51-100",
          "11-50",
          "101-500",
          "11-50",
          "11-50",
          "101-500",
          "51-100",
          "101-500",
          "11-50",
          "11-50",
          "11-50",
          "11-50",
          "11-50",
          "101-500",
          "101-500",
          "11-50",
          "11-50",
          "101-500",
          "11-50",
          "51-100",
          "51-100",
          "51-100",
          "11-50",
          "11-50",
          "11-50",
          "501-1000",
          "501-1000",
          "11-50",
          "11-50",
          "51-100",
          "501-1000",
          "501-1000",
          "11-50",
          "51-100",
          "101-500",
          "11-50",
          "11-50",
          "501-1000",
          "501-1000",
          "101-500",
          "501-1000",
          "11-50",
          "101-500",
          "11-50",
          "101-500",
          "11-50",
          "11-50",
          "51-100",
          "11-50",
          "11-50",
          "11-50",
          "501-1000",
          "11-50",
          "11-50",
          "101-500",
          "501-1000",
          "101-500",
          "101-500",
          "101-500",
          "11-50",
          "11-50",
          "11-50",
          "11-50",
          "51-100",
          "101-500",
          "101-500",
          "101-500",
          "101-500",
          "11-50",
          "501-1000",
          "1000+",
          "501-1000",
          "51-100",
          "11-50",
          "51-100",
          "11-50",
          "101-500",
          "11-50",
          "11-50",
          "11-50",
          "11-50",
          "11-50",
          "51-100",
          "11-50",
          "11-50",
          "11-50",
          "11-50",
          "11-50",
          "11-50",
          "501-1000",
          "101-500",
          "11-50",
          "11-50",
          "11-50",
          "51-100",
          "11-50",
          "11-50",
          "51-100",
          "101-500",
          "51-100",
          "51-100",
          "101-500",
          "11-50",
          "11-50",
          "11-50",
          "11-50",
          "11-50",
          "11-50",
          "11-50",
          "51-100",
          "11-50",
          "11-50",
          "11-50",
          "51-100",
          "51-100",
          "11-50",
          "11-50",
          "11-50",
          "11-50",
          "11-50",
          "501-1000",
          "11-50",
          "11-50",
          "11-50",
          "11-50",
          "51-100",
          "51-100",
          "101-500",
          "11-50",
          "101-500",
          "11-50",
          "101-500",
          "11-50",
          "51-100",
          "101-500",
          "11-50",
          "11-50",
          "11-50",
          "101-500",
          "51-100",
          "51-100",
          "11-50",
          "11-50",
          "11-50",
          "11-50",
          "11-50",
          "11-50",
          "11-50",
          "11-50",
          "11-50",
          "51-100",
          "101-500",
          "11-50",
          "11-50",
          "51-100",
          "11-50",
          "11-50",
          "51-100",
          "51-100",
          "51-100",
          "11-50",
          "51-100",
          "51-100",
          "101-500",
          "11-50",
          "101-500",
          "51-100",
          "101-500",
          "11-50",
          "0-10",
          "11-50",
          "11-50",
          "11-50",
          "11-50",
          "11-50",
          "11-50",
          "11-50",
          "51-100",
          "11-50",
          "11-50",
          "101-500",
          "11-50",
          "11-50",
          "101-500",
          "101-500",
          "11-50",
          "11-50",
          "101-500",
          "11-50",
          "51-100",
          "51-100",
          "11-50",
          "11-50",
          "51-100",
          "11-50",
          "101-500",
          "51-100",
          "51-100",
          "51-100",
          "51-100",
          "11-50",
          "51-100",
          "11-50",
          "11-50",
          "51-100",
          "101-500",
          "11-50",
          "101-500",
          "11-50",
          "11-50",
          "101-500",
          "11-50",
          "11-50",
          "101-500",
          "51-100",
          "11-50",
          "51-100",
          "11-50",
          "101-500",
          "101-500",
          "101-500",
          "101-500",
          "11-50",
          "51-100",
          "11-50",
          "11-50",
          "11-50",
          "11-50",
          "11-50",
          "11-50",
          "11-50",
          "51-100",
          "11-50",
          "51-100",
          "11-50",
          "51-100",
          "11-50",
          "51-100",
          "11-50",
          "101-500",
          "11-50",
          "11-50",
          "11-50",
          "11-50",
          "51-100",
          "11-50",
          "11-50",
          "11-50",
          "11-50",
          "11-50",
          "11-50",
          "101-500",
          "501-1000",
          "11-50",
          "101-500",
          "11-50",
          "11-50",
          "11-50",
          "11-50",
          "11-50",
          "11-50",
          "101-500",
          "51-100",
          "11-50",
          "101-500",
          "51-100",
          "11-50",
          "11-50",
          "101-500",
          "11-50",
          "11-50",
          "51-100",
          "11-50",
          "51-100",
          "101-500",
          "11-50",
          "11-50",
          "101-500",
          "51-100",
          "51-100",
          "11-50",
          "101-500",
          "101-500",
          "101-500",
          "11-50",
          "101-500",
          "11-50",
          "11-50",
          "11-50",
          "51-100",
          "11-50",
          "11-50",
          "101-500",
          "51-100",
          "51-100",
          "11-50",
          "11-50",
          "101-500",
          "11-50",
          "11-50",
          "11-50",
          "11-50",
          "101-500",
          "11-50",
          "11-50",
          "11-50",
          "11-50",
          "11-50",
          "11-50",
          "11-50",
          "11-50",
          "101-500",
          "11-50",
          "51-100",
          "51-100",
          "11-50",
          "11-50",
          "101-500",
          "11-50",
          "51-100",
          "11-50",
          "11-50",
          "51-100",
          "11-50",
          "11-50",
          "101-500",
          "51-100",
          "51-100",
          "11-50",
          "51-100",
          "51-100",
          "51-100",
          "11-50",
          "101-500",
          "11-50",
          "11-50",
          "101-500",
          "51-100",
          "51-100",
          "11-50",
          "101-500",
          "11-50",
          "11-50",
          "11-50",
          "11-50",
          "51-100",
          "501-1000",
          "11-50",
          "11-50",
          "101-500",
          "51-100",
          "101-500",
          "101-500",
          "101-500",
          "101-500",
          "11-50",
          "11-50",
          "11-50",
          "101-500",
          "11-50",
          "11-50",
          "101-500",
          "11-50",
          "51-100",
          "101-500",
          "101-500",
          "11-50",
          "11-50",
          "11-50",
          "101-500",
          "501-1000",
          "11-50",
          "101-500",
          "101-500",
          "101-500",
          "11-50",
          "101-500",
          "101-500",
          "11-50",
          "101-500",
          "101-500",
          "51-100",
          "11-50",
          "11-50",
          "51-100",
          "51-100",
          "11-50",
          "501-1000",
          "11-50",
          "51-100",
          "101-500",
          "101-500",
          "11-50",
          "51-100",
          "101-500",
          "101-500",
          "101-500",
          "11-50",
          "51-100",
          "51-100",
          "11-50",
          "51-100",
          "101-500",
          "101-500",
          "11-50",
          "11-50",
          "101-500",
          "51-100",
          "101-500",
          "51-100",
          "11-50",
          "11-50",
          "101-500",
          "101-500",
          "101-500",
          "11-50",
          "51-100",
          "11-50",
          "51-100",
          "101-500",
          "11-50",
          "51-100",
          "101-500",
          "101-500",
          "101-500",
          "51-100",
          "11-50",
          "11-50",
          "101-500",
          "11-50",
          "51-100",
          "101-500",
          "51-100",
          "101-500",
          "11-50",
          "11-50",
          "11-50",
          "51-100",
          "51-100",
          "11-50",
          "11-50",
          "51-100",
          "11-50",
          "51-100",
          "51-100",
          "101-500",
          "11-50",
          "101-500",
          "11-50",
          "11-50",
          "101-500",
          "11-50",
          "11-50",
          "11-50",
          "11-50",
          "101-500",
          "11-50",
          "101-500",
          "11-50",
          "101-500",
          "51-100",
          "11-50",
          "11-50",
          "11-50",
          "51-100",
          "11-50",
          "11-50",
          "11-50",
          "51-100",
          "11-50",
          "11-50",
          "11-50",
          "11-50",
          "11-50",
          "11-50",
          "11-50",
          "501-1000",
          "11-50",
          "11-50",
          "51-100",
          "101-500",
          "101-500",
          "51-100",
          "11-50",
          "101-500",
          "11-50",
          "101-500",
          "11-50",
          "11-50",
          "11-50",
          "101-500",
          "11-50",
          "11-50",
          "11-50",
          "11-50",
          "11-50",
          "11-50",
          "11-50",
          "11-50",
          "11-50",
          "11-50",
          "101-500",
          "51-100",
          "51-100",
          "51-100",
          "51-100",
          "51-100",
          "11-50",
          "11-50",
          "51-100",
          "51-100",
          "51-100",
          "51-100",
          "11-50",
          "101-500",
          "11-50",
          "11-50",
          "11-50",
          "51-100",
          "101-500",
          "51-100",
          "101-500",
          "11-50",
          "51-100",
          "11-50",
          "51-100",
          "11-50",
          "51-100",
          "51-100",
          "11-50",
          "11-50",
          "11-50",
          "11-50",
          "11-50",
          "51-100",
          "11-50",
          "11-50",
          "51-100",
          "11-50",
          "51-100",
          "11-50",
          "51-100",
          "51-100",
          "101-500",
          "11-50",
          "11-50",
          "51-100",
          "101-500",
          "11-50",
          "11-50",
          "51-100",
          "11-50",
          "11-50",
          "51-100",
          "11-50",
          "51-100",
          "51-100",
          "51-100",
          "11-50",
          "11-50",
          "51-100",
          "51-100",
          "11-50",
          "101-500",
          "11-50",
          "11-50",
          "11-50",
          "11-50",
          "11-50",
          "101-500",
          "101-500",
          "51-100",
          "101-500",
          "101-500",
          "51-100",
          "51-100",
          "101-500",
          "11-50",
          "11-50",
          "101-500",
          "11-50",
          "101-500",
          "11-50",
          "11-50",
          "101-500",
          "101-500",
          "101-500",
          "101-500",
          "11-50",
          "51-100",
          "11-50",
          "51-100",
          "11-50",
          "11-50",
          "11-50",
          "51-100",
          "51-100",
          "101-500",
          "11-50",
          "51-100",
          "11-50",
          "11-50",
          "51-100",
          "11-50",
          "101-500",
          "51-100",
          "51-100",
          "101-500",
          "101-500",
          "51-100",
          "51-100",
          "51-100",
          "11-50",
          "501-1000",
          "11-50",
          "51-100",
          "51-100",
          "11-50",
          "11-50",
          "11-50",
          "11-50",
          "51-100",
          "101-500",
          "101-500",
          "11-50",
          "11-50",
          "11-50",
          "501-1000",
          "51-100",
          "101-500",
          "11-50",
          "11-50",
          "101-500",
          "101-500",
          "11-50"
         ],
         "xaxis": "x",
         "yaxis": "y"
        }
       ],
       "layout": {
        "bargap": 0.2,
        "barmode": "relative",
        "legend": {
         "tracegroupgap": 0
        },
        "paper_bgcolor": "black",
        "plot_bgcolor": "black",
        "template": {
         "data": {
          "bar": [
           {
            "error_x": {
             "color": "#2a3f5f"
            },
            "error_y": {
             "color": "#2a3f5f"
            },
            "marker": {
             "line": {
              "color": "#E5ECF6",
              "width": 0.5
             },
             "pattern": {
              "fillmode": "overlay",
              "size": 10,
              "solidity": 0.2
             }
            },
            "type": "bar"
           }
          ],
          "barpolar": [
           {
            "marker": {
             "line": {
              "color": "#E5ECF6",
              "width": 0.5
             },
             "pattern": {
              "fillmode": "overlay",
              "size": 10,
              "solidity": 0.2
             }
            },
            "type": "barpolar"
           }
          ],
          "carpet": [
           {
            "aaxis": {
             "endlinecolor": "#2a3f5f",
             "gridcolor": "white",
             "linecolor": "white",
             "minorgridcolor": "white",
             "startlinecolor": "#2a3f5f"
            },
            "baxis": {
             "endlinecolor": "#2a3f5f",
             "gridcolor": "white",
             "linecolor": "white",
             "minorgridcolor": "white",
             "startlinecolor": "#2a3f5f"
            },
            "type": "carpet"
           }
          ],
          "choropleth": [
           {
            "colorbar": {
             "outlinewidth": 0,
             "ticks": ""
            },
            "type": "choropleth"
           }
          ],
          "contour": [
           {
            "colorbar": {
             "outlinewidth": 0,
             "ticks": ""
            },
            "colorscale": [
             [
              0,
              "#0d0887"
             ],
             [
              0.1111111111111111,
              "#46039f"
             ],
             [
              0.2222222222222222,
              "#7201a8"
             ],
             [
              0.3333333333333333,
              "#9c179e"
             ],
             [
              0.4444444444444444,
              "#bd3786"
             ],
             [
              0.5555555555555556,
              "#d8576b"
             ],
             [
              0.6666666666666666,
              "#ed7953"
             ],
             [
              0.7777777777777778,
              "#fb9f3a"
             ],
             [
              0.8888888888888888,
              "#fdca26"
             ],
             [
              1,
              "#f0f921"
             ]
            ],
            "type": "contour"
           }
          ],
          "contourcarpet": [
           {
            "colorbar": {
             "outlinewidth": 0,
             "ticks": ""
            },
            "type": "contourcarpet"
           }
          ],
          "heatmap": [
           {
            "colorbar": {
             "outlinewidth": 0,
             "ticks": ""
            },
            "colorscale": [
             [
              0,
              "#0d0887"
             ],
             [
              0.1111111111111111,
              "#46039f"
             ],
             [
              0.2222222222222222,
              "#7201a8"
             ],
             [
              0.3333333333333333,
              "#9c179e"
             ],
             [
              0.4444444444444444,
              "#bd3786"
             ],
             [
              0.5555555555555556,
              "#d8576b"
             ],
             [
              0.6666666666666666,
              "#ed7953"
             ],
             [
              0.7777777777777778,
              "#fb9f3a"
             ],
             [
              0.8888888888888888,
              "#fdca26"
             ],
             [
              1,
              "#f0f921"
             ]
            ],
            "type": "heatmap"
           }
          ],
          "heatmapgl": [
           {
            "colorbar": {
             "outlinewidth": 0,
             "ticks": ""
            },
            "colorscale": [
             [
              0,
              "#0d0887"
             ],
             [
              0.1111111111111111,
              "#46039f"
             ],
             [
              0.2222222222222222,
              "#7201a8"
             ],
             [
              0.3333333333333333,
              "#9c179e"
             ],
             [
              0.4444444444444444,
              "#bd3786"
             ],
             [
              0.5555555555555556,
              "#d8576b"
             ],
             [
              0.6666666666666666,
              "#ed7953"
             ],
             [
              0.7777777777777778,
              "#fb9f3a"
             ],
             [
              0.8888888888888888,
              "#fdca26"
             ],
             [
              1,
              "#f0f921"
             ]
            ],
            "type": "heatmapgl"
           }
          ],
          "histogram": [
           {
            "marker": {
             "pattern": {
              "fillmode": "overlay",
              "size": 10,
              "solidity": 0.2
             }
            },
            "type": "histogram"
           }
          ],
          "histogram2d": [
           {
            "colorbar": {
             "outlinewidth": 0,
             "ticks": ""
            },
            "colorscale": [
             [
              0,
              "#0d0887"
             ],
             [
              0.1111111111111111,
              "#46039f"
             ],
             [
              0.2222222222222222,
              "#7201a8"
             ],
             [
              0.3333333333333333,
              "#9c179e"
             ],
             [
              0.4444444444444444,
              "#bd3786"
             ],
             [
              0.5555555555555556,
              "#d8576b"
             ],
             [
              0.6666666666666666,
              "#ed7953"
             ],
             [
              0.7777777777777778,
              "#fb9f3a"
             ],
             [
              0.8888888888888888,
              "#fdca26"
             ],
             [
              1,
              "#f0f921"
             ]
            ],
            "type": "histogram2d"
           }
          ],
          "histogram2dcontour": [
           {
            "colorbar": {
             "outlinewidth": 0,
             "ticks": ""
            },
            "colorscale": [
             [
              0,
              "#0d0887"
             ],
             [
              0.1111111111111111,
              "#46039f"
             ],
             [
              0.2222222222222222,
              "#7201a8"
             ],
             [
              0.3333333333333333,
              "#9c179e"
             ],
             [
              0.4444444444444444,
              "#bd3786"
             ],
             [
              0.5555555555555556,
              "#d8576b"
             ],
             [
              0.6666666666666666,
              "#ed7953"
             ],
             [
              0.7777777777777778,
              "#fb9f3a"
             ],
             [
              0.8888888888888888,
              "#fdca26"
             ],
             [
              1,
              "#f0f921"
             ]
            ],
            "type": "histogram2dcontour"
           }
          ],
          "mesh3d": [
           {
            "colorbar": {
             "outlinewidth": 0,
             "ticks": ""
            },
            "type": "mesh3d"
           }
          ],
          "parcoords": [
           {
            "line": {
             "colorbar": {
              "outlinewidth": 0,
              "ticks": ""
             }
            },
            "type": "parcoords"
           }
          ],
          "pie": [
           {
            "automargin": true,
            "type": "pie"
           }
          ],
          "scatter": [
           {
            "fillpattern": {
             "fillmode": "overlay",
             "size": 10,
             "solidity": 0.2
            },
            "type": "scatter"
           }
          ],
          "scatter3d": [
           {
            "line": {
             "colorbar": {
              "outlinewidth": 0,
              "ticks": ""
             }
            },
            "marker": {
             "colorbar": {
              "outlinewidth": 0,
              "ticks": ""
             }
            },
            "type": "scatter3d"
           }
          ],
          "scattercarpet": [
           {
            "marker": {
             "colorbar": {
              "outlinewidth": 0,
              "ticks": ""
             }
            },
            "type": "scattercarpet"
           }
          ],
          "scattergeo": [
           {
            "marker": {
             "colorbar": {
              "outlinewidth": 0,
              "ticks": ""
             }
            },
            "type": "scattergeo"
           }
          ],
          "scattergl": [
           {
            "marker": {
             "colorbar": {
              "outlinewidth": 0,
              "ticks": ""
             }
            },
            "type": "scattergl"
           }
          ],
          "scattermapbox": [
           {
            "marker": {
             "colorbar": {
              "outlinewidth": 0,
              "ticks": ""
             }
            },
            "type": "scattermapbox"
           }
          ],
          "scatterpolar": [
           {
            "marker": {
             "colorbar": {
              "outlinewidth": 0,
              "ticks": ""
             }
            },
            "type": "scatterpolar"
           }
          ],
          "scatterpolargl": [
           {
            "marker": {
             "colorbar": {
              "outlinewidth": 0,
              "ticks": ""
             }
            },
            "type": "scatterpolargl"
           }
          ],
          "scatterternary": [
           {
            "marker": {
             "colorbar": {
              "outlinewidth": 0,
              "ticks": ""
             }
            },
            "type": "scatterternary"
           }
          ],
          "surface": [
           {
            "colorbar": {
             "outlinewidth": 0,
             "ticks": ""
            },
            "colorscale": [
             [
              0,
              "#0d0887"
             ],
             [
              0.1111111111111111,
              "#46039f"
             ],
             [
              0.2222222222222222,
              "#7201a8"
             ],
             [
              0.3333333333333333,
              "#9c179e"
             ],
             [
              0.4444444444444444,
              "#bd3786"
             ],
             [
              0.5555555555555556,
              "#d8576b"
             ],
             [
              0.6666666666666666,
              "#ed7953"
             ],
             [
              0.7777777777777778,
              "#fb9f3a"
             ],
             [
              0.8888888888888888,
              "#fdca26"
             ],
             [
              1,
              "#f0f921"
             ]
            ],
            "type": "surface"
           }
          ],
          "table": [
           {
            "cells": {
             "fill": {
              "color": "#EBF0F8"
             },
             "line": {
              "color": "white"
             }
            },
            "header": {
             "fill": {
              "color": "#C8D4E3"
             },
             "line": {
              "color": "white"
             }
            },
            "type": "table"
           }
          ]
         },
         "layout": {
          "annotationdefaults": {
           "arrowcolor": "#2a3f5f",
           "arrowhead": 0,
           "arrowwidth": 1
          },
          "autotypenumbers": "strict",
          "coloraxis": {
           "colorbar": {
            "outlinewidth": 0,
            "ticks": ""
           }
          },
          "colorscale": {
           "diverging": [
            [
             0,
             "#8e0152"
            ],
            [
             0.1,
             "#c51b7d"
            ],
            [
             0.2,
             "#de77ae"
            ],
            [
             0.3,
             "#f1b6da"
            ],
            [
             0.4,
             "#fde0ef"
            ],
            [
             0.5,
             "#f7f7f7"
            ],
            [
             0.6,
             "#e6f5d0"
            ],
            [
             0.7,
             "#b8e186"
            ],
            [
             0.8,
             "#7fbc41"
            ],
            [
             0.9,
             "#4d9221"
            ],
            [
             1,
             "#276419"
            ]
           ],
           "sequential": [
            [
             0,
             "#0d0887"
            ],
            [
             0.1111111111111111,
             "#46039f"
            ],
            [
             0.2222222222222222,
             "#7201a8"
            ],
            [
             0.3333333333333333,
             "#9c179e"
            ],
            [
             0.4444444444444444,
             "#bd3786"
            ],
            [
             0.5555555555555556,
             "#d8576b"
            ],
            [
             0.6666666666666666,
             "#ed7953"
            ],
            [
             0.7777777777777778,
             "#fb9f3a"
            ],
            [
             0.8888888888888888,
             "#fdca26"
            ],
            [
             1,
             "#f0f921"
            ]
           ],
           "sequentialminus": [
            [
             0,
             "#0d0887"
            ],
            [
             0.1111111111111111,
             "#46039f"
            ],
            [
             0.2222222222222222,
             "#7201a8"
            ],
            [
             0.3333333333333333,
             "#9c179e"
            ],
            [
             0.4444444444444444,
             "#bd3786"
            ],
            [
             0.5555555555555556,
             "#d8576b"
            ],
            [
             0.6666666666666666,
             "#ed7953"
            ],
            [
             0.7777777777777778,
             "#fb9f3a"
            ],
            [
             0.8888888888888888,
             "#fdca26"
            ],
            [
             1,
             "#f0f921"
            ]
           ]
          },
          "colorway": [
           "#636efa",
           "#EF553B",
           "#00cc96",
           "#ab63fa",
           "#FFA15A",
           "#19d3f3",
           "#FF6692",
           "#B6E880",
           "#FF97FF",
           "#FECB52"
          ],
          "font": {
           "color": "#2a3f5f"
          },
          "geo": {
           "bgcolor": "white",
           "lakecolor": "white",
           "landcolor": "#E5ECF6",
           "showlakes": true,
           "showland": true,
           "subunitcolor": "white"
          },
          "hoverlabel": {
           "align": "left"
          },
          "hovermode": "closest",
          "mapbox": {
           "style": "light"
          },
          "paper_bgcolor": "white",
          "plot_bgcolor": "#E5ECF6",
          "polar": {
           "angularaxis": {
            "gridcolor": "white",
            "linecolor": "white",
            "ticks": ""
           },
           "bgcolor": "#E5ECF6",
           "radialaxis": {
            "gridcolor": "white",
            "linecolor": "white",
            "ticks": ""
           }
          },
          "scene": {
           "xaxis": {
            "backgroundcolor": "#E5ECF6",
            "gridcolor": "white",
            "gridwidth": 2,
            "linecolor": "white",
            "showbackground": true,
            "ticks": "",
            "zerolinecolor": "white"
           },
           "yaxis": {
            "backgroundcolor": "#E5ECF6",
            "gridcolor": "white",
            "gridwidth": 2,
            "linecolor": "white",
            "showbackground": true,
            "ticks": "",
            "zerolinecolor": "white"
           },
           "zaxis": {
            "backgroundcolor": "#E5ECF6",
            "gridcolor": "white",
            "gridwidth": 2,
            "linecolor": "white",
            "showbackground": true,
            "ticks": "",
            "zerolinecolor": "white"
           }
          },
          "shapedefaults": {
           "line": {
            "color": "#2a3f5f"
           }
          },
          "ternary": {
           "aaxis": {
            "gridcolor": "white",
            "linecolor": "white",
            "ticks": ""
           },
           "baxis": {
            "gridcolor": "white",
            "linecolor": "white",
            "ticks": ""
           },
           "bgcolor": "#E5ECF6",
           "caxis": {
            "gridcolor": "white",
            "linecolor": "white",
            "ticks": ""
           }
          },
          "title": {
           "x": 0.05
          },
          "xaxis": {
           "automargin": true,
           "gridcolor": "white",
           "linecolor": "white",
           "ticks": "",
           "title": {
            "standoff": 15
           },
           "zerolinecolor": "white",
           "zerolinewidth": 2
          },
          "yaxis": {
           "automargin": true,
           "gridcolor": "white",
           "linecolor": "white",
           "ticks": "",
           "title": {
            "standoff": 15
           },
           "zerolinecolor": "white",
           "zerolinewidth": 2
          }
         }
        },
        "title": {
         "font": {
          "color": "white",
          "family": "Arial, sans-serif",
          "size": 24
         },
         "text": "Distribución de los Rangos de Reseñas"
        },
        "xaxis": {
         "anchor": "y",
         "domain": [
          0,
          1
         ],
         "tickfont": {
          "color": "white",
          "family": "Arial, sans-serif",
          "size": 14
         },
         "title": {
          "font": {
           "color": "white",
           "family": "Arial, sans-serif",
           "size": 18
          },
          "text": "Rango de Reseñas"
         }
        },
        "yaxis": {
         "anchor": "x",
         "domain": [
          0,
          1
         ],
         "tickfont": {
          "color": "white",
          "family": "Arial, sans-serif",
          "size": 14
         },
         "title": {
          "text": "Frecuencia"
         }
        }
       }
      }
     },
     "metadata": {},
     "output_type": "display_data"
    }
   ],
   "source": [
    "import pandas as pd\n",
    "import plotly.express as px\n",
    "\n",
    "\n",
    "# Crear el gráfico con Plotly\n",
    "fig = px.histogram(df_agrupados, x='review_range', title='Distribución de los Rangos de Reseñas', labels={'review_range': 'Rango de Reseñas', 'count': 'Frecuencia'})\n",
    "\n",
    "# Mejorar la estética del gráfico con fondo negro\n",
    "fig.update_layout(\n",
    "    title_font=dict(size=24, family='Arial, sans-serif', color='white'),\n",
    "    xaxis_title_font=dict(size=18, family='Arial, sans-serif', color='white'),\n",
    "    yaxis_title_font=dict(size=18, family='Arial, sans-serif', color='white'),\n",
    "    xaxis_tickfont=dict(size=14, family='Arial, sans-serif', color='white'),\n",
    "    yaxis_tickfont=dict(size=14, family='Arial, sans-serif', color='white'),\n",
    "    bargap=0.2,\n",
    "    yaxis_title='Frecuencia',\n",
    "    plot_bgcolor='black',\n",
    "    paper_bgcolor='black'\n",
    ")\n",
    "\n",
    "# Guardar el gráfico como HTML\n",
    "fig.write_html('review_ranges_distribution_black_background.html')\n",
    "\n",
    "# Mostrar el gráfico\n",
    "fig.show()"
   ]
  },
  {
   "cell_type": "markdown",
   "metadata": {},
   "source": [
    "- **La mayoría de las tiendas tienen menos de 50 reseñas, con algunas excepciones que tienen un número significativamente mayor de reseñas.Entre todas las cantidades de reseñas posibles, 18 es la que se observa con mayor regularidad en las tiendas. Por lo tanto es la moda**"
   ]
  },
  {
   "cell_type": "code",
   "execution_count": 14,
   "metadata": {},
   "outputs": [
    {
     "data": {
      "image/png": "[encoded data removed]",
      "text/plain": [
       "<Figure size 1000x600 with 1 Axes>"
      ]
     },
     "metadata": {},
     "output_type": "display_data"
    }
   ],
   "source": [
    "# Exploración de la distribución de calificaciones de reseñas\n",
    "plt.figure(figsize=(10, 6))\n",
    "sns.histplot(df['rating'], bins=20, kde=True)\n",
    "plt.title('Distribución de Calificaciones de Reseñas')\n",
    "plt.xlabel('Calificación de Reseña')\n",
    "plt.ylabel('Frecuencia')\n",
    "plt.show()"
   ]
  },
  {
   "cell_type": "markdown",
   "metadata": {},
   "source": [
    "- **Las calificaciones de las reseñas individuales también tienden a concentrarse en el rango de 3 a 5 estrellas, lo que sugiere una satisfacción general positiva entre los clientes.**"
   ]
  },
  {
   "cell_type": "code",
   "execution_count": 6,
   "metadata": {},
   "outputs": [
    {
     "data": {
      "application/vnd.plotly.v1+json": {
       "config": {
        "plotlyServerURL": "https://plot.ly"
       },
       "data": [
        {
         "alignmentgroup": "True",
         "hovertemplate": "Estado=%{x}<br>Número de Reviews=%{marker.color}<extra></extra>",
         "legendgroup": "",
         "marker": {
          "color": [
           58699,
           29456,
           18740,
           12002,
           10126,
           9745,
           9109,
           8734,
           8222,
           7525,
           7339,
           7092,
           6673,
           6298,
           5883,
           5567,
           4720,
           4708,
           4406,
           4307,
           4133,
           4117,
           4063,
           4026,
           3652,
           2871,
           2779,
           2437,
           2305,
           2209,
           1952,
           1759,
           1731,
           1469,
           1282,
           1259,
           1256,
           969,
           934,
           883,
           873,
           843,
           651,
           593,
           541,
           395,
           362,
           275,
           150,
           68,
           42
          ],
          "coloraxis": "coloraxis",
          "pattern": {
           "shape": ""
          }
         },
         "name": "",
         "offsetgroup": "",
         "orientation": "v",
         "showlegend": false,
         "textposition": "auto",
         "type": "bar",
         "x": [
          "CA",
          "TX",
          "FL",
          "WA",
          "NY",
          "AZ",
          "IL",
          "IN",
          "MI",
          "CO",
          "VA",
          "NE",
          "NC",
          "OH",
          "PA",
          "GA",
          "OR",
          "MN",
          "TN",
          "NJ",
          "NV",
          "MA",
          "MO",
          "WI",
          "MD",
          "CT",
          "IA",
          "HI",
          "SC",
          "ID",
          "OK",
          "DC",
          "AR",
          "KY",
          "UT",
          "KS",
          "NM",
          "AK",
          "AL",
          "ME",
          "LA",
          "DE",
          "WV",
          "MS",
          "MT",
          "WY",
          "RI",
          "SD",
          "NH",
          "VT",
          "ND"
         ],
         "xaxis": "x",
         "y": [
          58699,
          29456,
          18740,
          12002,
          10126,
          9745,
          9109,
          8734,
          8222,
          7525,
          7339,
          7092,
          6673,
          6298,
          5883,
          5567,
          4720,
          4708,
          4406,
          4307,
          4133,
          4117,
          4063,
          4026,
          3652,
          2871,
          2779,
          2437,
          2305,
          2209,
          1952,
          1759,
          1731,
          1469,
          1282,
          1259,
          1256,
          969,
          934,
          883,
          873,
          843,
          651,
          593,
          541,
          395,
          362,
          275,
          150,
          68,
          42
         ],
         "yaxis": "y"
        }
       ],
       "layout": {
        "barmode": "relative",
        "coloraxis": {
         "colorbar": {
          "title": {
           "text": "Número de Reviews"
          }
         },
         "colorscale": [
          [
           0,
           "#440154"
          ],
          [
           0.1111111111111111,
           "#482878"
          ],
          [
           0.2222222222222222,
           "#3e4989"
          ],
          [
           0.3333333333333333,
           "#31688e"
          ],
          [
           0.4444444444444444,
           "#26828e"
          ],
          [
           0.5555555555555556,
           "#1f9e89"
          ],
          [
           0.6666666666666666,
           "#35b779"
          ],
          [
           0.7777777777777778,
           "#6ece58"
          ],
          [
           0.8888888888888888,
           "#b5de2b"
          ],
          [
           1,
           "#fde725"
          ]
         ]
        },
        "legend": {
         "tracegroupgap": 0
        },
        "template": {
         "data": {
          "bar": [
           {
            "error_x": {
             "color": "#2a3f5f"
            },
            "error_y": {
             "color": "#2a3f5f"
            },
            "marker": {
             "line": {
              "color": "#E5ECF6",
              "width": 0.5
             },
             "pattern": {
              "fillmode": "overlay",
              "size": 10,
              "solidity": 0.2
             }
            },
            "type": "bar"
           }
          ],
          "barpolar": [
           {
            "marker": {
             "line": {
              "color": "#E5ECF6",
              "width": 0.5
             },
             "pattern": {
              "fillmode": "overlay",
              "size": 10,
              "solidity": 0.2
             }
            },
            "type": "barpolar"
           }
          ],
          "carpet": [
           {
            "aaxis": {
             "endlinecolor": "#2a3f5f",
             "gridcolor": "white",
             "linecolor": "white",
             "minorgridcolor": "white",
             "startlinecolor": "#2a3f5f"
            },
            "baxis": {
             "endlinecolor": "#2a3f5f",
             "gridcolor": "white",
             "linecolor": "white",
             "minorgridcolor": "white",
             "startlinecolor": "#2a3f5f"
            },
            "type": "carpet"
           }
          ],
          "choropleth": [
           {
            "colorbar": {
             "outlinewidth": 0,
             "ticks": ""
            },
            "type": "choropleth"
           }
          ],
          "contour": [
           {
            "colorbar": {
             "outlinewidth": 0,
             "ticks": ""
            },
            "colorscale": [
             [
              0,
              "#0d0887"
             ],
             [
              0.1111111111111111,
              "#46039f"
             ],
             [
              0.2222222222222222,
              "#7201a8"
             ],
             [
              0.3333333333333333,
              "#9c179e"
             ],
             [
              0.4444444444444444,
              "#bd3786"
             ],
             [
              0.5555555555555556,
              "#d8576b"
             ],
             [
              0.6666666666666666,
              "#ed7953"
             ],
             [
              0.7777777777777778,
              "#fb9f3a"
             ],
             [
              0.8888888888888888,
              "#fdca26"
             ],
             [
              1,
              "#f0f921"
             ]
            ],
            "type": "contour"
           }
          ],
          "contourcarpet": [
           {
            "colorbar": {
             "outlinewidth": 0,
             "ticks": ""
            },
            "type": "contourcarpet"
           }
          ],
          "heatmap": [
           {
            "colorbar": {
             "outlinewidth": 0,
             "ticks": ""
            },
            "colorscale": [
             [
              0,
              "#0d0887"
             ],
             [
              0.1111111111111111,
              "#46039f"
             ],
             [
              0.2222222222222222,
              "#7201a8"
             ],
             [
              0.3333333333333333,
              "#9c179e"
             ],
             [
              0.4444444444444444,
              "#bd3786"
             ],
             [
              0.5555555555555556,
              "#d8576b"
             ],
             [
              0.6666666666666666,
              "#ed7953"
             ],
             [
              0.7777777777777778,
              "#fb9f3a"
             ],
             [
              0.8888888888888888,
              "#fdca26"
             ],
             [
              1,
              "#f0f921"
             ]
            ],
            "type": "heatmap"
           }
          ],
          "heatmapgl": [
           {
            "colorbar": {
             "outlinewidth": 0,
             "ticks": ""
            },
            "colorscale": [
             [
              0,
              "#0d0887"
             ],
             [
              0.1111111111111111,
              "#46039f"
             ],
             [
              0.2222222222222222,
              "#7201a8"
             ],
             [
              0.3333333333333333,
              "#9c179e"
             ],
             [
              0.4444444444444444,
              "#bd3786"
             ],
             [
              0.5555555555555556,
              "#d8576b"
             ],
             [
              0.6666666666666666,
              "#ed7953"
             ],
             [
              0.7777777777777778,
              "#fb9f3a"
             ],
             [
              0.8888888888888888,
              "#fdca26"
             ],
             [
              1,
              "#f0f921"
             ]
            ],
            "type": "heatmapgl"
           }
          ],
          "histogram": [
           {
            "marker": {
             "pattern": {
              "fillmode": "overlay",
              "size": 10,
              "solidity": 0.2
             }
            },
            "type": "histogram"
           }
          ],
          "histogram2d": [
           {
            "colorbar": {
             "outlinewidth": 0,
             "ticks": ""
            },
            "colorscale": [
             [
              0,
              "#0d0887"
             ],
             [
              0.1111111111111111,
              "#46039f"
             ],
             [
              0.2222222222222222,
              "#7201a8"
             ],
             [
              0.3333333333333333,
              "#9c179e"
             ],
             [
              0.4444444444444444,
              "#bd3786"
             ],
             [
              0.5555555555555556,
              "#d8576b"
             ],
             [
              0.6666666666666666,
              "#ed7953"
             ],
             [
              0.7777777777777778,
              "#fb9f3a"
             ],
             [
              0.8888888888888888,
              "#fdca26"
             ],
             [
              1,
              "#f0f921"
             ]
            ],
            "type": "histogram2d"
           }
          ],
          "histogram2dcontour": [
           {
            "colorbar": {
             "outlinewidth": 0,
             "ticks": ""
            },
            "colorscale": [
             [
              0,
              "#0d0887"
             ],
             [
              0.1111111111111111,
              "#46039f"
             ],
             [
              0.2222222222222222,
              "#7201a8"
             ],
             [
              0.3333333333333333,
              "#9c179e"
             ],
             [
              0.4444444444444444,
              "#bd3786"
             ],
             [
              0.5555555555555556,
              "#d8576b"
             ],
             [
              0.6666666666666666,
              "#ed7953"
             ],
             [
              0.7777777777777778,
              "#fb9f3a"
             ],
             [
              0.8888888888888888,
              "#fdca26"
             ],
             [
              1,
              "#f0f921"
             ]
            ],
            "type": "histogram2dcontour"
           }
          ],
          "mesh3d": [
           {
            "colorbar": {
             "outlinewidth": 0,
             "ticks": ""
            },
            "type": "mesh3d"
           }
          ],
          "parcoords": [
           {
            "line": {
             "colorbar": {
              "outlinewidth": 0,
              "ticks": ""
             }
            },
            "type": "parcoords"
           }
          ],
          "pie": [
           {
            "automargin": true,
            "type": "pie"
           }
          ],
          "scatter": [
           {
            "fillpattern": {
             "fillmode": "overlay",
             "size": 10,
             "solidity": 0.2
            },
            "type": "scatter"
           }
          ],
          "scatter3d": [
           {
            "line": {
             "colorbar": {
              "outlinewidth": 0,
              "ticks": ""
             }
            },
            "marker": {
             "colorbar": {
              "outlinewidth": 0,
              "ticks": ""
             }
            },
            "type": "scatter3d"
           }
          ],
          "scattercarpet": [
           {
            "marker": {
             "colorbar": {
              "outlinewidth": 0,
              "ticks": ""
             }
            },
            "type": "scattercarpet"
           }
          ],
          "scattergeo": [
           {
            "marker": {
             "colorbar": {
              "outlinewidth": 0,
              "ticks": ""
             }
            },
            "type": "scattergeo"
           }
          ],
          "scattergl": [
           {
            "marker": {
             "colorbar": {
              "outlinewidth": 0,
              "ticks": ""
             }
            },
            "type": "scattergl"
           }
          ],
          "scattermapbox": [
           {
            "marker": {
             "colorbar": {
              "outlinewidth": 0,
              "ticks": ""
             }
            },
            "type": "scattermapbox"
           }
          ],
          "scatterpolar": [
           {
            "marker": {
             "colorbar": {
              "outlinewidth": 0,
              "ticks": ""
             }
            },
            "type": "scatterpolar"
           }
          ],
          "scatterpolargl": [
           {
            "marker": {
             "colorbar": {
              "outlinewidth": 0,
              "ticks": ""
             }
            },
            "type": "scatterpolargl"
           }
          ],
          "scatterternary": [
           {
            "marker": {
             "colorbar": {
              "outlinewidth": 0,
              "ticks": ""
             }
            },
            "type": "scatterternary"
           }
          ],
          "surface": [
           {
            "colorbar": {
             "outlinewidth": 0,
             "ticks": ""
            },
            "colorscale": [
             [
              0,
              "#0d0887"
             ],
             [
              0.1111111111111111,
              "#46039f"
             ],
             [
              0.2222222222222222,
              "#7201a8"
             ],
             [
              0.3333333333333333,
              "#9c179e"
             ],
             [
              0.4444444444444444,
              "#bd3786"
             ],
             [
              0.5555555555555556,
              "#d8576b"
             ],
             [
              0.6666666666666666,
              "#ed7953"
             ],
             [
              0.7777777777777778,
              "#fb9f3a"
             ],
             [
              0.8888888888888888,
              "#fdca26"
             ],
             [
              1,
              "#f0f921"
             ]
            ],
            "type": "surface"
           }
          ],
          "table": [
           {
            "cells": {
             "fill": {
              "color": "#EBF0F8"
             },
             "line": {
              "color": "white"
             }
            },
            "header": {
             "fill": {
              "color": "#C8D4E3"
             },
             "line": {
              "color": "white"
             }
            },
            "type": "table"
           }
          ]
         },
         "layout": {
          "annotationdefaults": {
           "arrowcolor": "#2a3f5f",
           "arrowhead": 0,
           "arrowwidth": 1
          },
          "autotypenumbers": "strict",
          "coloraxis": {
           "colorbar": {
            "outlinewidth": 0,
            "ticks": ""
           }
          },
          "colorscale": {
           "diverging": [
            [
             0,
             "#8e0152"
            ],
            [
             0.1,
             "#c51b7d"
            ],
            [
             0.2,
             "#de77ae"
            ],
            [
             0.3,
             "#f1b6da"
            ],
            [
             0.4,
             "#fde0ef"
            ],
            [
             0.5,
             "#f7f7f7"
            ],
            [
             0.6,
             "#e6f5d0"
            ],
            [
             0.7,
             "#b8e186"
            ],
            [
             0.8,
             "#7fbc41"
            ],
            [
             0.9,
             "#4d9221"
            ],
            [
             1,
             "#276419"
            ]
           ],
           "sequential": [
            [
             0,
             "#0d0887"
            ],
            [
             0.1111111111111111,
             "#46039f"
            ],
            [
             0.2222222222222222,
             "#7201a8"
            ],
            [
             0.3333333333333333,
             "#9c179e"
            ],
            [
             0.4444444444444444,
             "#bd3786"
            ],
            [
             0.5555555555555556,
             "#d8576b"
            ],
            [
             0.6666666666666666,
             "#ed7953"
            ],
            [
             0.7777777777777778,
             "#fb9f3a"
            ],
            [
             0.8888888888888888,
             "#fdca26"
            ],
            [
             1,
             "#f0f921"
            ]
           ],
           "sequentialminus": [
            [
             0,
             "#0d0887"
            ],
            [
             0.1111111111111111,
             "#46039f"
            ],
            [
             0.2222222222222222,
             "#7201a8"
            ],
            [
             0.3333333333333333,
             "#9c179e"
            ],
            [
             0.4444444444444444,
             "#bd3786"
            ],
            [
             0.5555555555555556,
             "#d8576b"
            ],
            [
             0.6666666666666666,
             "#ed7953"
            ],
            [
             0.7777777777777778,
             "#fb9f3a"
            ],
            [
             0.8888888888888888,
             "#fdca26"
            ],
            [
             1,
             "#f0f921"
            ]
           ]
          },
          "colorway": [
           "#636efa",
           "#EF553B",
           "#00cc96",
           "#ab63fa",
           "#FFA15A",
           "#19d3f3",
           "#FF6692",
           "#B6E880",
           "#FF97FF",
           "#FECB52"
          ],
          "font": {
           "color": "#2a3f5f"
          },
          "geo": {
           "bgcolor": "white",
           "lakecolor": "white",
           "landcolor": "#E5ECF6",
           "showlakes": true,
           "showland": true,
           "subunitcolor": "white"
          },
          "hoverlabel": {
           "align": "left"
          },
          "hovermode": "closest",
          "mapbox": {
           "style": "light"
          },
          "paper_bgcolor": "white",
          "plot_bgcolor": "#E5ECF6",
          "polar": {
           "angularaxis": {
            "gridcolor": "white",
            "linecolor": "white",
            "ticks": ""
           },
           "bgcolor": "#E5ECF6",
           "radialaxis": {
            "gridcolor": "white",
            "linecolor": "white",
            "ticks": ""
           }
          },
          "scene": {
           "xaxis": {
            "backgroundcolor": "#E5ECF6",
            "gridcolor": "white",
            "gridwidth": 2,
            "linecolor": "white",
            "showbackground": true,
            "ticks": "",
            "zerolinecolor": "white"
           },
           "yaxis": {
            "backgroundcolor": "#E5ECF6",
            "gridcolor": "white",
            "gridwidth": 2,
            "linecolor": "white",
            "showbackground": true,
            "ticks": "",
            "zerolinecolor": "white"
           },
           "zaxis": {
            "backgroundcolor": "#E5ECF6",
            "gridcolor": "white",
            "gridwidth": 2,
            "linecolor": "white",
            "showbackground": true,
            "ticks": "",
            "zerolinecolor": "white"
           }
          },
          "shapedefaults": {
           "line": {
            "color": "#2a3f5f"
           }
          },
          "ternary": {
           "aaxis": {
            "gridcolor": "white",
            "linecolor": "white",
            "ticks": ""
           },
           "baxis": {
            "gridcolor": "white",
            "linecolor": "white",
            "ticks": ""
           },
           "bgcolor": "#E5ECF6",
           "caxis": {
            "gridcolor": "white",
            "linecolor": "white",
            "ticks": ""
           }
          },
          "title": {
           "x": 0.05
          },
          "xaxis": {
           "automargin": true,
           "gridcolor": "white",
           "linecolor": "white",
           "ticks": "",
           "title": {
            "standoff": 15
           },
           "zerolinecolor": "white",
           "zerolinewidth": 2
          },
          "yaxis": {
           "automargin": true,
           "gridcolor": "white",
           "linecolor": "white",
           "ticks": "",
           "title": {
            "standoff": 15
           },
           "zerolinecolor": "white",
           "zerolinewidth": 2
          }
         }
        },
        "title": {
         "text": "Número de Reviews por Estado"
        },
        "xaxis": {
         "anchor": "y",
         "domain": [
          0,
          1
         ],
         "title": {
          "text": "Estado"
         }
        },
        "yaxis": {
         "anchor": "x",
         "domain": [
          0,
          1
         ],
         "title": {
          "text": "Número de Reviews"
         }
        }
       }
      }
     },
     "metadata": {},
     "output_type": "display_data"
    }
   ],
   "source": [
    "# Crear un gráfico de barras con el número de reviews por estado usando Plotly\n",
    "import plotly.express as px\n",
    "df = pd.read_parquet('../data/Starbucks_metadata_ETL_limpio.parquet')\n",
    "\n",
    "# Agrupar por estado y sumar el número de reviews\n",
    "reviews_by_state = df.groupby('state')['num_of_reviews'].sum().reset_index()\n",
    "\n",
    "# Ordenar los datos por número de reviews\n",
    "reviews_by_state = reviews_by_state.sort_values(by='num_of_reviews', ascending=False)\n",
    "\n",
    "# Crear el gráfico\n",
    "fig = px.bar(reviews_by_state, x='state', y='num_of_reviews', \n",
    "             title='Número de Reviews por Estado', \n",
    "             labels={'num_of_reviews': 'Número de Reviews', 'state': 'Estado'}, \n",
    "             color='num_of_reviews', color_continuous_scale='Viridis')\n",
    "\n",
    "# Mostrar el gráfico\n",
    "fig.show()"
   ]
  },
  {
   "cell_type": "markdown",
   "metadata": {},
   "source": [
    "- **La gráfica muestra la distribución del número de reviews por estado, con los nombres de los estados en el eje X. Se observa que algunos estados tienen una cantidad significativamente mayor de reviews en comparación con otros. Se puede examinar una cantidad significativamente mayor de reseñas en California en comparación con otros estados, superando los 50700.**"
   ]
  },
  {
   "cell_type": "markdown",
   "metadata": {},
   "source": [
    "- **Surge la necesidad de ajustar la representación gráfica actual, ya que la distribución de las revisiones por estado refleja, en gran medida, la variación poblacional entre ellos. Para abordar esta situación, se propone normalizar los datos dividiendo el número de revisiones por estado por la cantidad de tiendas presentes en cada uno:**"
   ]
  },
  {
   "cell_type": "code",
   "execution_count": 10,
   "metadata": {},
   "outputs": [
    {
     "data": {
      "image/png": "[encoded data removed]",
      "text/plain": [
       "<Figure size 1200x800 with 1 Axes>"
      ]
     },
     "metadata": {},
     "output_type": "display_data"
    }
   ],
   "source": [
    "# Este código genera un gráfico de barras con el número promedio de reseñas por tienda en cada estado.\n",
    "\n",
    "import pandas as pd\n",
    "import matplotlib.pyplot as plt\n",
    "\n",
    "# Agrupar por estado y calcular el número promedio de reseñas por tienda\n",
    "avg_reviews_by_state = df.groupby('state')['num_of_reviews'].mean().sort_values(ascending=False)\n",
    "\n",
    "# Crear el gráfico de barras\n",
    "plt.figure(figsize=(12, 8))\n",
    "avg_reviews_by_state.plot(kind='bar', color='skyblue')\n",
    "plt.title('Número Promedio de Reseñas por Tienda en Cada Estado')\n",
    "plt.xlabel('Estado')\n",
    "plt.ylabel('Número Promedio de Reseñas')\n",
    "plt.xticks(rotation=90)\n",
    "plt.show()"
   ]
  },
  {
   "cell_type": "code",
   "execution_count": 12,
   "metadata": {},
   "outputs": [
    {
     "data": {
      "image/png": "[encoded data removed]",
      "text/plain": [
       "<Figure size 1200x800 with 1 Axes>"
      ]
     },
     "metadata": {},
     "output_type": "display_data"
    },
    {
     "name": "stdout",
     "output_type": "stream",
     "text": [
      "Gráfico generado con éxito.\n"
     ]
    }
   ],
   "source": [
    "# Calcular el número de revisiones por tienda por estado y graficar\n",
    "\n",
    "import pandas as pd\n",
    "import matplotlib.pyplot as plt\n",
    "# Calcular el número de revisiones por tienda por estado\n",
    "reviews_per_store_state = merged_df.groupby(['state', 'gmap_id']).size().reset_index(name='review_count')\n",
    "\n",
    "# Calcular el número de revisiones por estado\n",
    "reviews_per_state = reviews_per_store_state.groupby('state')['review_count'].sum().reset_index()\n",
    "\n",
    "# Calcular el número de tiendas por estado\n",
    "stores_per_state = df1.groupby('state')['gmap_id'].nunique().reset_index(name='store_count')\n",
    "\n",
    "# Unir el número de revisiones y el número de tiendas por estado\n",
    "reviews_and_stores_per_state = pd.merge(reviews_per_state, stores_per_state, on='state')\n",
    "\n",
    "# Calcular el número de revisiones por tienda por estado\n",
    "reviews_and_stores_per_state['reviews_per_store'] = reviews_and_stores_per_state['review_count'] / reviews_and_stores_per_state['store_count']\n",
    "\n",
    "# Graficar\n",
    "plt.figure(figsize=(12, 8))\n",
    "plt.bar(reviews_and_stores_per_state['state'], reviews_and_stores_per_state['reviews_per_store'], color='skyblue')\n",
    "plt.xlabel('Estado')\n",
    "plt.ylabel('Número de Revisiones por Tienda')\n",
    "plt.title('Número de Revisiones por Tienda por Estado')\n",
    "plt.xticks(rotation=90)\n",
    "plt.show()\n",
    "\n",
    "print(\"Gráfico generado con éxito.\")"
   ]
  },
  {
   "cell_type": "code",
   "execution_count": 19,
   "metadata": {},
   "outputs": [
    {
     "name": "stderr",
     "output_type": "stream",
     "text": [
      "C:\\Users\\zimme\\AppData\\Local\\Temp\\ipykernel_11228\\814565098.py:20: FutureWarning:\n",
      "\n",
      "\n",
      "\n",
      "Passing `palette` without assigning `hue` is deprecated and will be removed in v0.14.0. Assign the `x` variable to `hue` and set `legend=False` for the same effect.\n",
      "\n",
      "\n"
     ]
    },
    {
     "data": {
      "image/png": "[encoded data removed]",
      "text/plain": [
       "<Figure size 1200x800 with 1 Axes>"
      ]
     },
     "metadata": {},
     "output_type": "display_data"
    }
   ],
   "source": [
    "# Habilitar TQDM para pandas\n",
    "tqdm.pandas()\n",
    "\n",
    "\n",
    "# Análisis de datos exploratorios centrado la columna 'state' \n",
    "# Count the number of reviews per state\n",
    "conteo_estados = merged_df['state'].value_counts()\n",
    "\n",
    "# Count the number of unique stores (gmap_id) per state\n",
    "store_count_per_state = merged_df.groupby('state')['gmap_id'].nunique()\n",
    "\n",
    "# Calcular el número de revisiones por tienda por estado\n",
    "reviews_per_store = conteo_estados / store_count_per_state\n",
    "\n",
    "# Drop NaN values (if any)\n",
    "reviews_per_store = reviews_per_store.dropna()\n",
    "\n",
    "# Plot the number of reviews per store by state\n",
    "plt.figure(figsize=(12, 8))\n",
    "sns.barplot(x=reviews_per_store.index, y=reviews_per_store.values, palette='viridis')\n",
    "plt.title('Número de Reviews por Tienda de Starbucks por Estado')\n",
    "plt.xlabel('Estado')\n",
    "plt.ylabel('Número de Reviews por Tienda')\n",
    "plt.xticks(rotation=90)\n",
    "plt.show()"
   ]
  },
  {
   "cell_type": "markdown",
   "metadata": {},
   "source": [
    "El gráfico muestra el número promedio de reseñas por tienda de Starbucks en cada estado. A partir de la visualización, se pueden extraer las siguientes conclusiones:\n",
    "\n",
    "Hay una variabilidad significativa en el número de reseñas por tienda entre los diferentes estados.\n",
    "Algunos estados tienen un número considerablemente mayor de reseñas por tienda en comparación con otros.\n",
    "Esta variabilidad puede deberse a factores como la densidad de población, la popularidad de Starbucks en cada estado, y la competencia con otras cafeterías."
   ]
  },
  {
   "cell_type": "code",
   "execution_count": 22,
   "metadata": {},
   "outputs": [
    {
     "data": {
      "application/vnd.plotly.v1+json": {
       "config": {
        "plotlyServerURL": "https://plot.ly"
       },
       "data": [
        {
         "alignmentgroup": "True",
         "hovertemplate": "Estado=%{x}<br>Proporción de Reviews=%{y}<extra></extra>",
         "legendgroup": "",
         "marker": {
          "color": "#1f77b4",
          "pattern": {
           "shape": ""
          }
         },
         "name": "",
         "offsetgroup": "",
         "orientation": "v",
         "showlegend": false,
         "textposition": "auto",
         "type": "bar",
         "x": [
          "CA",
          "FL",
          "WA",
          "TX",
          "AZ",
          "NY",
          "IL",
          "MI",
          "IN",
          "CO",
          "NE",
          "VA",
          "NC",
          "OH",
          "PA",
          "OR",
          "GA",
          "MN",
          "TN",
          "WI",
          "MA",
          "MO",
          "NV",
          "NJ",
          "MD",
          "IA",
          "CT",
          "HI",
          "ID",
          "SC",
          "AR",
          "OK",
          "KY",
          "UT",
          "NM",
          "KS",
          "DC",
          "AK",
          "ME",
          "AL",
          "LA",
          "DE",
          "MT",
          "WV",
          "MS",
          "WY",
          "RI",
          "SD",
          "NH",
          "ND",
          "VT"
         ],
         "xaxis": "x",
         "y": [
          0.11371211879799879,
          0.07367515375545712,
          0.058761671074854215,
          0.048258500366463786,
          0.046524967336923614,
          0.04203180268315223,
          0.040521334565501416,
          0.03938051687326726,
          0.03876230840317389,
          0.03512316369777891,
          0.03215321372805201,
          0.031624231222714384,
          0.030336828016952932,
          0.02890921258086103,
          0.0255249992033396,
          0.02313501800452503,
          0.0228673401102578,
          0.021732895701220483,
          0.018935024377808227,
          0.018705586182722028,
          0.01769223415442465,
          0.017175998215480704,
          0.016564163028584176,
          0.01642395079825372,
          0.01542334533635002,
          0.012249450304324273,
          0.012064625091615946,
          0.010088907300595902,
          0.009502565246486728,
          0.008737771262866066,
          0.007596953570631911,
          0.0074121283579235845,
          0.005965393072241165,
          0.005844300691501227,
          0.005837927408304388,
          0.005563876230840317,
          0.004563270768936618,
          0.004397565405818807,
          0.004231860042700998,
          0.003524425607851885,
          0.0035053057582613684,
          0.0034415729262929798,
          0.002326248366846181,
          0.0021477964373346928,
          0.0019119849590516554,
          0.0018355055606895892,
          0.0014021223033045473,
          0.0011726841082183488,
          0.0004333832573850419,
          0.00015295879672413244,
          0.0001338389471336159
         ],
         "yaxis": "y"
        }
       ],
       "layout": {
        "barmode": "relative",
        "font": {
         "color": "white"
        },
        "legend": {
         "tracegroupgap": 0
        },
        "paper_bgcolor": "black",
        "plot_bgcolor": "black",
        "template": {
         "data": {
          "bar": [
           {
            "error_x": {
             "color": "#2a3f5f"
            },
            "error_y": {
             "color": "#2a3f5f"
            },
            "marker": {
             "line": {
              "color": "#E5ECF6",
              "width": 0.5
             },
             "pattern": {
              "fillmode": "overlay",
              "size": 10,
              "solidity": 0.2
             }
            },
            "type": "bar"
           }
          ],
          "barpolar": [
           {
            "marker": {
             "line": {
              "color": "#E5ECF6",
              "width": 0.5
             },
             "pattern": {
              "fillmode": "overlay",
              "size": 10,
              "solidity": 0.2
             }
            },
            "type": "barpolar"
           }
          ],
          "carpet": [
           {
            "aaxis": {
             "endlinecolor": "#2a3f5f",
             "gridcolor": "white",
             "linecolor": "white",
             "minorgridcolor": "white",
             "startlinecolor": "#2a3f5f"
            },
            "baxis": {
             "endlinecolor": "#2a3f5f",
             "gridcolor": "white",
             "linecolor": "white",
             "minorgridcolor": "white",
             "startlinecolor": "#2a3f5f"
            },
            "type": "carpet"
           }
          ],
          "choropleth": [
           {
            "colorbar": {
             "outlinewidth": 0,
             "ticks": ""
            },
            "type": "choropleth"
           }
          ],
          "contour": [
           {
            "colorbar": {
             "outlinewidth": 0,
             "ticks": ""
            },
            "colorscale": [
             [
              0,
              "#0d0887"
             ],
             [
              0.1111111111111111,
              "#46039f"
             ],
             [
              0.2222222222222222,
              "#7201a8"
             ],
             [
              0.3333333333333333,
              "#9c179e"
             ],
             [
              0.4444444444444444,
              "#bd3786"
             ],
             [
              0.5555555555555556,
              "#d8576b"
             ],
             [
              0.6666666666666666,
              "#ed7953"
             ],
             [
              0.7777777777777778,
              "#fb9f3a"
             ],
             [
              0.8888888888888888,
              "#fdca26"
             ],
             [
              1,
              "#f0f921"
             ]
            ],
            "type": "contour"
           }
          ],
          "contourcarpet": [
           {
            "colorbar": {
             "outlinewidth": 0,
             "ticks": ""
            },
            "type": "contourcarpet"
           }
          ],
          "heatmap": [
           {
            "colorbar": {
             "outlinewidth": 0,
             "ticks": ""
            },
            "colorscale": [
             [
              0,
              "#0d0887"
             ],
             [
              0.1111111111111111,
              "#46039f"
             ],
             [
              0.2222222222222222,
              "#7201a8"
             ],
             [
              0.3333333333333333,
              "#9c179e"
             ],
             [
              0.4444444444444444,
              "#bd3786"
             ],
             [
              0.5555555555555556,
              "#d8576b"
             ],
             [
              0.6666666666666666,
              "#ed7953"
             ],
             [
              0.7777777777777778,
              "#fb9f3a"
             ],
             [
              0.8888888888888888,
              "#fdca26"
             ],
             [
              1,
              "#f0f921"
             ]
            ],
            "type": "heatmap"
           }
          ],
          "heatmapgl": [
           {
            "colorbar": {
             "outlinewidth": 0,
             "ticks": ""
            },
            "colorscale": [
             [
              0,
              "#0d0887"
             ],
             [
              0.1111111111111111,
              "#46039f"
             ],
             [
              0.2222222222222222,
              "#7201a8"
             ],
             [
              0.3333333333333333,
              "#9c179e"
             ],
             [
              0.4444444444444444,
              "#bd3786"
             ],
             [
              0.5555555555555556,
              "#d8576b"
             ],
             [
              0.6666666666666666,
              "#ed7953"
             ],
             [
              0.7777777777777778,
              "#fb9f3a"
             ],
             [
              0.8888888888888888,
              "#fdca26"
             ],
             [
              1,
              "#f0f921"
             ]
            ],
            "type": "heatmapgl"
           }
          ],
          "histogram": [
           {
            "marker": {
             "pattern": {
              "fillmode": "overlay",
              "size": 10,
              "solidity": 0.2
             }
            },
            "type": "histogram"
           }
          ],
          "histogram2d": [
           {
            "colorbar": {
             "outlinewidth": 0,
             "ticks": ""
            },
            "colorscale": [
             [
              0,
              "#0d0887"
             ],
             [
              0.1111111111111111,
              "#46039f"
             ],
             [
              0.2222222222222222,
              "#7201a8"
             ],
             [
              0.3333333333333333,
              "#9c179e"
             ],
             [
              0.4444444444444444,
              "#bd3786"
             ],
             [
              0.5555555555555556,
              "#d8576b"
             ],
             [
              0.6666666666666666,
              "#ed7953"
             ],
             [
              0.7777777777777778,
              "#fb9f3a"
             ],
             [
              0.8888888888888888,
              "#fdca26"
             ],
             [
              1,
              "#f0f921"
             ]
            ],
            "type": "histogram2d"
           }
          ],
          "histogram2dcontour": [
           {
            "colorbar": {
             "outlinewidth": 0,
             "ticks": ""
            },
            "colorscale": [
             [
              0,
              "#0d0887"
             ],
             [
              0.1111111111111111,
              "#46039f"
             ],
             [
              0.2222222222222222,
              "#7201a8"
             ],
             [
              0.3333333333333333,
              "#9c179e"
             ],
             [
              0.4444444444444444,
              "#bd3786"
             ],
             [
              0.5555555555555556,
              "#d8576b"
             ],
             [
              0.6666666666666666,
              "#ed7953"
             ],
             [
              0.7777777777777778,
              "#fb9f3a"
             ],
             [
              0.8888888888888888,
              "#fdca26"
             ],
             [
              1,
              "#f0f921"
             ]
            ],
            "type": "histogram2dcontour"
           }
          ],
          "mesh3d": [
           {
            "colorbar": {
             "outlinewidth": 0,
             "ticks": ""
            },
            "type": "mesh3d"
           }
          ],
          "parcoords": [
           {
            "line": {
             "colorbar": {
              "outlinewidth": 0,
              "ticks": ""
             }
            },
            "type": "parcoords"
           }
          ],
          "pie": [
           {
            "automargin": true,
            "type": "pie"
           }
          ],
          "scatter": [
           {
            "fillpattern": {
             "fillmode": "overlay",
             "size": 10,
             "solidity": 0.2
            },
            "type": "scatter"
           }
          ],
          "scatter3d": [
           {
            "line": {
             "colorbar": {
              "outlinewidth": 0,
              "ticks": ""
             }
            },
            "marker": {
             "colorbar": {
              "outlinewidth": 0,
              "ticks": ""
             }
            },
            "type": "scatter3d"
           }
          ],
          "scattercarpet": [
           {
            "marker": {
             "colorbar": {
              "outlinewidth": 0,
              "ticks": ""
             }
            },
            "type": "scattercarpet"
           }
          ],
          "scattergeo": [
           {
            "marker": {
             "colorbar": {
              "outlinewidth": 0,
              "ticks": ""
             }
            },
            "type": "scattergeo"
           }
          ],
          "scattergl": [
           {
            "marker": {
             "colorbar": {
              "outlinewidth": 0,
              "ticks": ""
             }
            },
            "type": "scattergl"
           }
          ],
          "scattermapbox": [
           {
            "marker": {
             "colorbar": {
              "outlinewidth": 0,
              "ticks": ""
             }
            },
            "type": "scattermapbox"
           }
          ],
          "scatterpolar": [
           {
            "marker": {
             "colorbar": {
              "outlinewidth": 0,
              "ticks": ""
             }
            },
            "type": "scatterpolar"
           }
          ],
          "scatterpolargl": [
           {
            "marker": {
             "colorbar": {
              "outlinewidth": 0,
              "ticks": ""
             }
            },
            "type": "scatterpolargl"
           }
          ],
          "scatterternary": [
           {
            "marker": {
             "colorbar": {
              "outlinewidth": 0,
              "ticks": ""
             }
            },
            "type": "scatterternary"
           }
          ],
          "surface": [
           {
            "colorbar": {
             "outlinewidth": 0,
             "ticks": ""
            },
            "colorscale": [
             [
              0,
              "#0d0887"
             ],
             [
              0.1111111111111111,
              "#46039f"
             ],
             [
              0.2222222222222222,
              "#7201a8"
             ],
             [
              0.3333333333333333,
              "#9c179e"
             ],
             [
              0.4444444444444444,
              "#bd3786"
             ],
             [
              0.5555555555555556,
              "#d8576b"
             ],
             [
              0.6666666666666666,
              "#ed7953"
             ],
             [
              0.7777777777777778,
              "#fb9f3a"
             ],
             [
              0.8888888888888888,
              "#fdca26"
             ],
             [
              1,
              "#f0f921"
             ]
            ],
            "type": "surface"
           }
          ],
          "table": [
           {
            "cells": {
             "fill": {
              "color": "#EBF0F8"
             },
             "line": {
              "color": "white"
             }
            },
            "header": {
             "fill": {
              "color": "#C8D4E3"
             },
             "line": {
              "color": "white"
             }
            },
            "type": "table"
           }
          ]
         },
         "layout": {
          "annotationdefaults": {
           "arrowcolor": "#2a3f5f",
           "arrowhead": 0,
           "arrowwidth": 1
          },
          "autotypenumbers": "strict",
          "coloraxis": {
           "colorbar": {
            "outlinewidth": 0,
            "ticks": ""
           }
          },
          "colorscale": {
           "diverging": [
            [
             0,
             "#8e0152"
            ],
            [
             0.1,
             "#c51b7d"
            ],
            [
             0.2,
             "#de77ae"
            ],
            [
             0.3,
             "#f1b6da"
            ],
            [
             0.4,
             "#fde0ef"
            ],
            [
             0.5,
             "#f7f7f7"
            ],
            [
             0.6,
             "#e6f5d0"
            ],
            [
             0.7,
             "#b8e186"
            ],
            [
             0.8,
             "#7fbc41"
            ],
            [
             0.9,
             "#4d9221"
            ],
            [
             1,
             "#276419"
            ]
           ],
           "sequential": [
            [
             0,
             "#0d0887"
            ],
            [
             0.1111111111111111,
             "#46039f"
            ],
            [
             0.2222222222222222,
             "#7201a8"
            ],
            [
             0.3333333333333333,
             "#9c179e"
            ],
            [
             0.4444444444444444,
             "#bd3786"
            ],
            [
             0.5555555555555556,
             "#d8576b"
            ],
            [
             0.6666666666666666,
             "#ed7953"
            ],
            [
             0.7777777777777778,
             "#fb9f3a"
            ],
            [
             0.8888888888888888,
             "#fdca26"
            ],
            [
             1,
             "#f0f921"
            ]
           ],
           "sequentialminus": [
            [
             0,
             "#0d0887"
            ],
            [
             0.1111111111111111,
             "#46039f"
            ],
            [
             0.2222222222222222,
             "#7201a8"
            ],
            [
             0.3333333333333333,
             "#9c179e"
            ],
            [
             0.4444444444444444,
             "#bd3786"
            ],
            [
             0.5555555555555556,
             "#d8576b"
            ],
            [
             0.6666666666666666,
             "#ed7953"
            ],
            [
             0.7777777777777778,
             "#fb9f3a"
            ],
            [
             0.8888888888888888,
             "#fdca26"
            ],
            [
             1,
             "#f0f921"
            ]
           ]
          },
          "colorway": [
           "#636efa",
           "#EF553B",
           "#00cc96",
           "#ab63fa",
           "#FFA15A",
           "#19d3f3",
           "#FF6692",
           "#B6E880",
           "#FF97FF",
           "#FECB52"
          ],
          "font": {
           "color": "#2a3f5f"
          },
          "geo": {
           "bgcolor": "white",
           "lakecolor": "white",
           "landcolor": "#E5ECF6",
           "showlakes": true,
           "showland": true,
           "subunitcolor": "white"
          },
          "hoverlabel": {
           "align": "left"
          },
          "hovermode": "closest",
          "mapbox": {
           "style": "light"
          },
          "paper_bgcolor": "white",
          "plot_bgcolor": "#E5ECF6",
          "polar": {
           "angularaxis": {
            "gridcolor": "white",
            "linecolor": "white",
            "ticks": ""
           },
           "bgcolor": "#E5ECF6",
           "radialaxis": {
            "gridcolor": "white",
            "linecolor": "white",
            "ticks": ""
           }
          },
          "scene": {
           "xaxis": {
            "backgroundcolor": "#E5ECF6",
            "gridcolor": "white",
            "gridwidth": 2,
            "linecolor": "white",
            "showbackground": true,
            "ticks": "",
            "zerolinecolor": "white"
           },
           "yaxis": {
            "backgroundcolor": "#E5ECF6",
            "gridcolor": "white",
            "gridwidth": 2,
            "linecolor": "white",
            "showbackground": true,
            "ticks": "",
            "zerolinecolor": "white"
           },
           "zaxis": {
            "backgroundcolor": "#E5ECF6",
            "gridcolor": "white",
            "gridwidth": 2,
            "linecolor": "white",
            "showbackground": true,
            "ticks": "",
            "zerolinecolor": "white"
           }
          },
          "shapedefaults": {
           "line": {
            "color": "#2a3f5f"
           }
          },
          "ternary": {
           "aaxis": {
            "gridcolor": "white",
            "linecolor": "white",
            "ticks": ""
           },
           "baxis": {
            "gridcolor": "white",
            "linecolor": "white",
            "ticks": ""
           },
           "bgcolor": "#E5ECF6",
           "caxis": {
            "gridcolor": "white",
            "linecolor": "white",
            "ticks": ""
           }
          },
          "title": {
           "x": 0.05
          },
          "xaxis": {
           "automargin": true,
           "gridcolor": "white",
           "linecolor": "white",
           "ticks": "",
           "title": {
            "standoff": 15
           },
           "zerolinecolor": "white",
           "zerolinewidth": 2
          },
          "yaxis": {
           "automargin": true,
           "gridcolor": "white",
           "linecolor": "white",
           "ticks": "",
           "title": {
            "standoff": 15
           },
           "zerolinecolor": "white",
           "zerolinewidth": 2
          }
         }
        },
        "title": {
         "text": "Proporción de Reviews por Estado"
        },
        "xaxis": {
         "anchor": "y",
         "categoryorder": "total descending",
         "domain": [
          0,
          1
         ],
         "title": {
          "text": "Estado"
         }
        },
        "yaxis": {
         "anchor": "x",
         "domain": [
          0,
          1
         ],
         "title": {
          "text": "Proporción de Reviews"
         }
        }
       }
      }
     },
     "metadata": {},
     "output_type": "display_data"
    }
   ],
   "source": [
    "\n",
    "# Este código calcula la proporción de reviews por estado y genera un gráfico de barras con Plotly con fondo negro.\n",
    "\n",
    "# Contar el número de reviews por estado\n",
    "conteo_estados = merged_df['state'].value_counts().reset_index()\n",
    "conteo_estados.columns = ['state', 'num_reviews']\n",
    "\n",
    "# Calcular las proporciones de reviews por estado\n",
    "conteo_estados['proportion_reviews'] = conteo_estados['num_reviews'] / conteo_estados['num_reviews'].sum()\n",
    "\n",
    "# Graficar las proporciones con Plotly\n",
    "fig = px.bar(conteo_estados, x='state', y='proportion_reviews', title='Proporción de Reviews por Estado', labels={'state': 'Estado', 'proportion_reviews': 'Proporción de Reviews'}, color_discrete_sequence=['#1f77b4'])\n",
    "fig.update_layout(xaxis={'categoryorder':'total descending'}, plot_bgcolor='black', paper_bgcolor='black', font_color='white')\n",
    "fig.show()"
   ]
  },
  {
   "cell_type": "markdown",
   "metadata": {},
   "source": [
    "- **Distribución de Reviews: El gráfico muestra la proporción de reviews por estado, lo que permite visualizar qué estados tienen una mayor o menor participación en términos de reviews.**"
   ]
  },
  {
   "cell_type": "code",
   "execution_count": 23,
   "metadata": {},
   "outputs": [
    {
     "data": {
      "application/vnd.plotly.v1+json": {
       "config": {
        "plotlyServerURL": "https://plot.ly"
       },
       "data": [
        {
         "alignmentgroup": "True",
         "hovertemplate": "Estado=%{x}<br>Promedio de Rating=%{y}<extra></extra>",
         "legendgroup": "",
         "marker": {
          "color": "#636efa",
          "pattern": {
           "shape": ""
          }
         },
         "name": "",
         "offsetgroup": "",
         "orientation": "v",
         "showlegend": false,
         "textposition": "auto",
         "type": "bar",
         "x": [
          "AK",
          "AL",
          "AR",
          "AZ",
          "CA",
          "CO",
          "CT",
          "DC",
          "DE",
          "FL",
          "GA",
          "HI",
          "IA",
          "ID",
          "IL",
          "IN",
          "KS",
          "KY",
          "LA",
          "MA",
          "MD",
          "ME",
          "MI",
          "MN",
          "MO",
          "MS",
          "MT",
          "NC",
          "ND",
          "NE",
          "NH",
          "NJ",
          "NM",
          "NV",
          "NY",
          "OH",
          "OK",
          "OR",
          "PA",
          "RI",
          "SC",
          "SD",
          "TN",
          "TX",
          "UT",
          "VA",
          "VT",
          "WA",
          "WI",
          "WV",
          "WY"
         ],
         "xaxis": "x",
         "y": [
          3.874347826086957,
          4.033273056057866,
          4.296812080536913,
          4.073547945205479,
          4.167587714381796,
          4.0372164761386315,
          4.035710512414157,
          3.939804469273743,
          4.05037037037037,
          4.23666955017301,
          3.994899665551839,
          4.035439039797852,
          4.116545265348595,
          4.055533199195171,
          4.04938659955961,
          4.1866984544557715,
          4.115349369988545,
          3.94508547008547,
          4.167818181818181,
          3.9436239193083575,
          4.103801652892562,
          4.112198795180723,
          3.974558990127852,
          4.083636363636364,
          4.062634508348793,
          3.995,
          3.7936986301369866,
          4.076554621848739,
          3.875,
          4.137205153617443,
          4.041176470588235,
          4.007062475746993,
          4.1644104803493445,
          4.0751442862639475,
          3.9480970432145566,
          4.000595238095238,
          3.972055030094583,
          4.067575757575757,
          4.031410736579276,
          4.069090909090908,
          4.0707512764405545,
          4.058695652173913,
          4.085459441265567,
          4.156920232435288,
          3.952998909487459,
          4.088532849657396,
          4.4,
          4.0745878524945764,
          4.0783645655877345,
          3.9827893175074185,
          3.8739583333333334
         ],
         "yaxis": "y"
        }
       ],
       "layout": {
        "barmode": "relative",
        "legend": {
         "tracegroupgap": 0
        },
        "template": {
         "data": {
          "bar": [
           {
            "error_x": {
             "color": "#2a3f5f"
            },
            "error_y": {
             "color": "#2a3f5f"
            },
            "marker": {
             "line": {
              "color": "#E5ECF6",
              "width": 0.5
             },
             "pattern": {
              "fillmode": "overlay",
              "size": 10,
              "solidity": 0.2
             }
            },
            "type": "bar"
           }
          ],
          "barpolar": [
           {
            "marker": {
             "line": {
              "color": "#E5ECF6",
              "width": 0.5
             },
             "pattern": {
              "fillmode": "overlay",
              "size": 10,
              "solidity": 0.2
             }
            },
            "type": "barpolar"
           }
          ],
          "carpet": [
           {
            "aaxis": {
             "endlinecolor": "#2a3f5f",
             "gridcolor": "white",
             "linecolor": "white",
             "minorgridcolor": "white",
             "startlinecolor": "#2a3f5f"
            },
            "baxis": {
             "endlinecolor": "#2a3f5f",
             "gridcolor": "white",
             "linecolor": "white",
             "minorgridcolor": "white",
             "startlinecolor": "#2a3f5f"
            },
            "type": "carpet"
           }
          ],
          "choropleth": [
           {
            "colorbar": {
             "outlinewidth": 0,
             "ticks": ""
            },
            "type": "choropleth"
           }
          ],
          "contour": [
           {
            "colorbar": {
             "outlinewidth": 0,
             "ticks": ""
            },
            "colorscale": [
             [
              0,
              "#0d0887"
             ],
             [
              0.1111111111111111,
              "#46039f"
             ],
             [
              0.2222222222222222,
              "#7201a8"
             ],
             [
              0.3333333333333333,
              "#9c179e"
             ],
             [
              0.4444444444444444,
              "#bd3786"
             ],
             [
              0.5555555555555556,
              "#d8576b"
             ],
             [
              0.6666666666666666,
              "#ed7953"
             ],
             [
              0.7777777777777778,
              "#fb9f3a"
             ],
             [
              0.8888888888888888,
              "#fdca26"
             ],
             [
              1,
              "#f0f921"
             ]
            ],
            "type": "contour"
           }
          ],
          "contourcarpet": [
           {
            "colorbar": {
             "outlinewidth": 0,
             "ticks": ""
            },
            "type": "contourcarpet"
           }
          ],
          "heatmap": [
           {
            "colorbar": {
             "outlinewidth": 0,
             "ticks": ""
            },
            "colorscale": [
             [
              0,
              "#0d0887"
             ],
             [
              0.1111111111111111,
              "#46039f"
             ],
             [
              0.2222222222222222,
              "#7201a8"
             ],
             [
              0.3333333333333333,
              "#9c179e"
             ],
             [
              0.4444444444444444,
              "#bd3786"
             ],
             [
              0.5555555555555556,
              "#d8576b"
             ],
             [
              0.6666666666666666,
              "#ed7953"
             ],
             [
              0.7777777777777778,
              "#fb9f3a"
             ],
             [
              0.8888888888888888,
              "#fdca26"
             ],
             [
              1,
              "#f0f921"
             ]
            ],
            "type": "heatmap"
           }
          ],
          "heatmapgl": [
           {
            "colorbar": {
             "outlinewidth": 0,
             "ticks": ""
            },
            "colorscale": [
             [
              0,
              "#0d0887"
             ],
             [
              0.1111111111111111,
              "#46039f"
             ],
             [
              0.2222222222222222,
              "#7201a8"
             ],
             [
              0.3333333333333333,
              "#9c179e"
             ],
             [
              0.4444444444444444,
              "#bd3786"
             ],
             [
              0.5555555555555556,
              "#d8576b"
             ],
             [
              0.6666666666666666,
              "#ed7953"
             ],
             [
              0.7777777777777778,
              "#fb9f3a"
             ],
             [
              0.8888888888888888,
              "#fdca26"
             ],
             [
              1,
              "#f0f921"
             ]
            ],
            "type": "heatmapgl"
           }
          ],
          "histogram": [
           {
            "marker": {
             "pattern": {
              "fillmode": "overlay",
              "size": 10,
              "solidity": 0.2
             }
            },
            "type": "histogram"
           }
          ],
          "histogram2d": [
           {
            "colorbar": {
             "outlinewidth": 0,
             "ticks": ""
            },
            "colorscale": [
             [
              0,
              "#0d0887"
             ],
             [
              0.1111111111111111,
              "#46039f"
             ],
             [
              0.2222222222222222,
              "#7201a8"
             ],
             [
              0.3333333333333333,
              "#9c179e"
             ],
             [
              0.4444444444444444,
              "#bd3786"
             ],
             [
              0.5555555555555556,
              "#d8576b"
             ],
             [
              0.6666666666666666,
              "#ed7953"
             ],
             [
              0.7777777777777778,
              "#fb9f3a"
             ],
             [
              0.8888888888888888,
              "#fdca26"
             ],
             [
              1,
              "#f0f921"
             ]
            ],
            "type": "histogram2d"
           }
          ],
          "histogram2dcontour": [
           {
            "colorbar": {
             "outlinewidth": 0,
             "ticks": ""
            },
            "colorscale": [
             [
              0,
              "#0d0887"
             ],
             [
              0.1111111111111111,
              "#46039f"
             ],
             [
              0.2222222222222222,
              "#7201a8"
             ],
             [
              0.3333333333333333,
              "#9c179e"
             ],
             [
              0.4444444444444444,
              "#bd3786"
             ],
             [
              0.5555555555555556,
              "#d8576b"
             ],
             [
              0.6666666666666666,
              "#ed7953"
             ],
             [
              0.7777777777777778,
              "#fb9f3a"
             ],
             [
              0.8888888888888888,
              "#fdca26"
             ],
             [
              1,
              "#f0f921"
             ]
            ],
            "type": "histogram2dcontour"
           }
          ],
          "mesh3d": [
           {
            "colorbar": {
             "outlinewidth": 0,
             "ticks": ""
            },
            "type": "mesh3d"
           }
          ],
          "parcoords": [
           {
            "line": {
             "colorbar": {
              "outlinewidth": 0,
              "ticks": ""
             }
            },
            "type": "parcoords"
           }
          ],
          "pie": [
           {
            "automargin": true,
            "type": "pie"
           }
          ],
          "scatter": [
           {
            "fillpattern": {
             "fillmode": "overlay",
             "size": 10,
             "solidity": 0.2
            },
            "type": "scatter"
           }
          ],
          "scatter3d": [
           {
            "line": {
             "colorbar": {
              "outlinewidth": 0,
              "ticks": ""
             }
            },
            "marker": {
             "colorbar": {
              "outlinewidth": 0,
              "ticks": ""
             }
            },
            "type": "scatter3d"
           }
          ],
          "scattercarpet": [
           {
            "marker": {
             "colorbar": {
              "outlinewidth": 0,
              "ticks": ""
             }
            },
            "type": "scattercarpet"
           }
          ],
          "scattergeo": [
           {
            "marker": {
             "colorbar": {
              "outlinewidth": 0,
              "ticks": ""
             }
            },
            "type": "scattergeo"
           }
          ],
          "scattergl": [
           {
            "marker": {
             "colorbar": {
              "outlinewidth": 0,
              "ticks": ""
             }
            },
            "type": "scattergl"
           }
          ],
          "scattermapbox": [
           {
            "marker": {
             "colorbar": {
              "outlinewidth": 0,
              "ticks": ""
             }
            },
            "type": "scattermapbox"
           }
          ],
          "scatterpolar": [
           {
            "marker": {
             "colorbar": {
              "outlinewidth": 0,
              "ticks": ""
             }
            },
            "type": "scatterpolar"
           }
          ],
          "scatterpolargl": [
           {
            "marker": {
             "colorbar": {
              "outlinewidth": 0,
              "ticks": ""
             }
            },
            "type": "scatterpolargl"
           }
          ],
          "scatterternary": [
           {
            "marker": {
             "colorbar": {
              "outlinewidth": 0,
              "ticks": ""
             }
            },
            "type": "scatterternary"
           }
          ],
          "surface": [
           {
            "colorbar": {
             "outlinewidth": 0,
             "ticks": ""
            },
            "colorscale": [
             [
              0,
              "#0d0887"
             ],
             [
              0.1111111111111111,
              "#46039f"
             ],
             [
              0.2222222222222222,
              "#7201a8"
             ],
             [
              0.3333333333333333,
              "#9c179e"
             ],
             [
              0.4444444444444444,
              "#bd3786"
             ],
             [
              0.5555555555555556,
              "#d8576b"
             ],
             [
              0.6666666666666666,
              "#ed7953"
             ],
             [
              0.7777777777777778,
              "#fb9f3a"
             ],
             [
              0.8888888888888888,
              "#fdca26"
             ],
             [
              1,
              "#f0f921"
             ]
            ],
            "type": "surface"
           }
          ],
          "table": [
           {
            "cells": {
             "fill": {
              "color": "#EBF0F8"
             },
             "line": {
              "color": "white"
             }
            },
            "header": {
             "fill": {
              "color": "#C8D4E3"
             },
             "line": {
              "color": "white"
             }
            },
            "type": "table"
           }
          ]
         },
         "layout": {
          "annotationdefaults": {
           "arrowcolor": "#2a3f5f",
           "arrowhead": 0,
           "arrowwidth": 1
          },
          "autotypenumbers": "strict",
          "coloraxis": {
           "colorbar": {
            "outlinewidth": 0,
            "ticks": ""
           }
          },
          "colorscale": {
           "diverging": [
            [
             0,
             "#8e0152"
            ],
            [
             0.1,
             "#c51b7d"
            ],
            [
             0.2,
             "#de77ae"
            ],
            [
             0.3,
             "#f1b6da"
            ],
            [
             0.4,
             "#fde0ef"
            ],
            [
             0.5,
             "#f7f7f7"
            ],
            [
             0.6,
             "#e6f5d0"
            ],
            [
             0.7,
             "#b8e186"
            ],
            [
             0.8,
             "#7fbc41"
            ],
            [
             0.9,
             "#4d9221"
            ],
            [
             1,
             "#276419"
            ]
           ],
           "sequential": [
            [
             0,
             "#0d0887"
            ],
            [
             0.1111111111111111,
             "#46039f"
            ],
            [
             0.2222222222222222,
             "#7201a8"
            ],
            [
             0.3333333333333333,
             "#9c179e"
            ],
            [
             0.4444444444444444,
             "#bd3786"
            ],
            [
             0.5555555555555556,
             "#d8576b"
            ],
            [
             0.6666666666666666,
             "#ed7953"
            ],
            [
             0.7777777777777778,
             "#fb9f3a"
            ],
            [
             0.8888888888888888,
             "#fdca26"
            ],
            [
             1,
             "#f0f921"
            ]
           ],
           "sequentialminus": [
            [
             0,
             "#0d0887"
            ],
            [
             0.1111111111111111,
             "#46039f"
            ],
            [
             0.2222222222222222,
             "#7201a8"
            ],
            [
             0.3333333333333333,
             "#9c179e"
            ],
            [
             0.4444444444444444,
             "#bd3786"
            ],
            [
             0.5555555555555556,
             "#d8576b"
            ],
            [
             0.6666666666666666,
             "#ed7953"
            ],
            [
             0.7777777777777778,
             "#fb9f3a"
            ],
            [
             0.8888888888888888,
             "#fdca26"
            ],
            [
             1,
             "#f0f921"
            ]
           ]
          },
          "colorway": [
           "#636efa",
           "#EF553B",
           "#00cc96",
           "#ab63fa",
           "#FFA15A",
           "#19d3f3",
           "#FF6692",
           "#B6E880",
           "#FF97FF",
           "#FECB52"
          ],
          "font": {
           "color": "#2a3f5f"
          },
          "geo": {
           "bgcolor": "white",
           "lakecolor": "white",
           "landcolor": "#E5ECF6",
           "showlakes": true,
           "showland": true,
           "subunitcolor": "white"
          },
          "hoverlabel": {
           "align": "left"
          },
          "hovermode": "closest",
          "mapbox": {
           "style": "light"
          },
          "paper_bgcolor": "white",
          "plot_bgcolor": "#E5ECF6",
          "polar": {
           "angularaxis": {
            "gridcolor": "white",
            "linecolor": "white",
            "ticks": ""
           },
           "bgcolor": "#E5ECF6",
           "radialaxis": {
            "gridcolor": "white",
            "linecolor": "white",
            "ticks": ""
           }
          },
          "scene": {
           "xaxis": {
            "backgroundcolor": "#E5ECF6",
            "gridcolor": "white",
            "gridwidth": 2,
            "linecolor": "white",
            "showbackground": true,
            "ticks": "",
            "zerolinecolor": "white"
           },
           "yaxis": {
            "backgroundcolor": "#E5ECF6",
            "gridcolor": "white",
            "gridwidth": 2,
            "linecolor": "white",
            "showbackground": true,
            "ticks": "",
            "zerolinecolor": "white"
           },
           "zaxis": {
            "backgroundcolor": "#E5ECF6",
            "gridcolor": "white",
            "gridwidth": 2,
            "linecolor": "white",
            "showbackground": true,
            "ticks": "",
            "zerolinecolor": "white"
           }
          },
          "shapedefaults": {
           "line": {
            "color": "#2a3f5f"
           }
          },
          "ternary": {
           "aaxis": {
            "gridcolor": "white",
            "linecolor": "white",
            "ticks": ""
           },
           "baxis": {
            "gridcolor": "white",
            "linecolor": "white",
            "ticks": ""
           },
           "bgcolor": "#E5ECF6",
           "caxis": {
            "gridcolor": "white",
            "linecolor": "white",
            "ticks": ""
           }
          },
          "title": {
           "x": 0.05
          },
          "xaxis": {
           "automargin": true,
           "gridcolor": "white",
           "linecolor": "white",
           "ticks": "",
           "title": {
            "standoff": 15
           },
           "zerolinecolor": "white",
           "zerolinewidth": 2
          },
          "yaxis": {
           "automargin": true,
           "gridcolor": "white",
           "linecolor": "white",
           "ticks": "",
           "title": {
            "standoff": 15
           },
           "zerolinecolor": "white",
           "zerolinewidth": 2
          }
         }
        },
        "title": {
         "text": "Promedio de Rating por Estado"
        },
        "xaxis": {
         "anchor": "y",
         "categoryorder": "total descending",
         "domain": [
          0,
          1
         ],
         "title": {
          "text": "Estado"
         }
        },
        "yaxis": {
         "anchor": "x",
         "domain": [
          0,
          1
         ],
         "title": {
          "text": "Promedio de Rating"
         }
        }
       }
      }
     },
     "metadata": {},
     "output_type": "display_data"
    }
   ],
   "source": [
    "# Este código calcula el promedio de 'avg_rating' por cada estado y genera un gráfico con Plotly.\n",
    "\n",
    "# Calcular el promedio de 'avg_rating' por cada estado\n",
    "avg_rating_by_state = merged_df.groupby('state')['avg_rating'].mean().reset_index()\n",
    "\n",
    "# Graficar el promedio de 'avg_rating' por cada estado\n",
    "fig = px.bar(avg_rating_by_state, x='state', y='avg_rating', title='Promedio de Rating por Estado', labels={'state': 'Estado', 'avg_rating': 'Promedio de Rating'})\n",
    "fig.update_layout(xaxis={'categoryorder':'total descending'})\n",
    "fig.show()"
   ]
  },
  {
   "cell_type": "markdown",
   "metadata": {},
   "source": [
    "- **El análisis del gráfico revela una variabilidad moderada en las calificaciones promedio de las tiendas Starbucks por estado. Si bien todas las regiones presentan calificaciones elevadas, no se observan diferencias significativas entre ellas.**"
   ]
  },
  {
   "cell_type": "markdown",
   "metadata": {},
   "source": [
    "- **EDA STARBUCKS Y DUNKIN(PRINCIPAL COMPETENCIA)**"
   ]
  },
  {
   "cell_type": "code",
   "execution_count": 26,
   "metadata": {},
   "outputs": [
    {
     "data": {
      "text/html": [
       "<div>\n",
       "<style scoped>\n",
       "    .dataframe tbody tr th:only-of-type {\n",
       "        vertical-align: middle;\n",
       "    }\n",
       "\n",
       "    .dataframe tbody tr th {\n",
       "        vertical-align: top;\n",
       "    }\n",
       "\n",
       "    .dataframe thead th {\n",
       "        text-align: right;\n",
       "    }\n",
       "</style>\n",
       "<table border=\"1\" class=\"dataframe\">\n",
       "  <thead>\n",
       "    <tr style=\"text-align: right;\">\n",
       "      <th></th>\n",
       "      <th>user_id</th>\n",
       "      <th>name_x</th>\n",
       "      <th>time</th>\n",
       "      <th>rating</th>\n",
       "      <th>text</th>\n",
       "      <th>gmap_id</th>\n",
       "      <th>name_y</th>\n",
       "      <th>address</th>\n",
       "      <th>state</th>\n",
       "      <th>num_of_reviews</th>\n",
       "      <th>avg_rating</th>\n",
       "      <th>price</th>\n",
       "      <th>latitude</th>\n",
       "      <th>longitude</th>\n",
       "      <th>category</th>\n",
       "      <th>description</th>\n",
       "      <th>hours</th>\n",
       "      <th>MISC</th>\n",
       "      <th>relative_results</th>\n",
       "      <th>url</th>\n",
       "    </tr>\n",
       "  </thead>\n",
       "  <tbody>\n",
       "    <tr>\n",
       "      <th>0</th>\n",
       "      <td>104957977998342094168</td>\n",
       "      <td>William Clark</td>\n",
       "      <td>2017-02-15 12:32:04</td>\n",
       "      <td>4</td>\n",
       "      <td>Great coffee and Donuts. Iced tea is also grea...</td>\n",
       "      <td>0x889a4e8a2f05a603:0xea1325e2785d9fb4</td>\n",
       "      <td>Dunkin' Donuts</td>\n",
       "      <td>Dunkin' Donuts, 1976 Michigan Ave, Mobile, Al ...</td>\n",
       "      <td>AL</td>\n",
       "      <td>25</td>\n",
       "      <td>4.0</td>\n",
       "      <td>Low</td>\n",
       "      <td>30.64615</td>\n",
       "      <td>-88.07757</td>\n",
       "      <td>[Donut shop, Bagel shop, Bakery, Breakfast res...</td>\n",
       "      <td>Long-running chain serving signature breakfast...</td>\n",
       "      <td>[[Saturday, 5AM–9PM], [Sunday, 5AM–9PM], [Mond...</td>\n",
       "      <td>{'Accessibility': None, 'Amenities': ['Restroo...</td>\n",
       "      <td>[0x889a4fdde7a5ee2b:0xed5cb142596c6b63, 0x889a...</td>\n",
       "      <td>https://www.google.com/maps/place//data=!4m2!3...</td>\n",
       "    </tr>\n",
       "    <tr>\n",
       "      <th>1</th>\n",
       "      <td>117483898282300950125</td>\n",
       "      <td>Birthday Bandit</td>\n",
       "      <td>2017-02-07 16:03:03</td>\n",
       "      <td>5</td>\n",
       "      <td>I stop by here often because it's on my way to...</td>\n",
       "      <td>0x889a4e8a2f05a603:0xea1325e2785d9fb4</td>\n",
       "      <td>Dunkin' Donuts</td>\n",
       "      <td>Dunkin' Donuts, 1976 Michigan Ave, Mobile, Al ...</td>\n",
       "      <td>AL</td>\n",
       "      <td>25</td>\n",
       "      <td>4.0</td>\n",
       "      <td>Low</td>\n",
       "      <td>30.64615</td>\n",
       "      <td>-88.07757</td>\n",
       "      <td>[Donut shop, Bagel shop, Bakery, Breakfast res...</td>\n",
       "      <td>Long-running chain serving signature breakfast...</td>\n",
       "      <td>[[Saturday, 5AM–9PM], [Sunday, 5AM–9PM], [Mond...</td>\n",
       "      <td>{'Accessibility': None, 'Amenities': ['Restroo...</td>\n",
       "      <td>[0x889a4fdde7a5ee2b:0xed5cb142596c6b63, 0x889a...</td>\n",
       "      <td>https://www.google.com/maps/place//data=!4m2!3...</td>\n",
       "    </tr>\n",
       "    <tr>\n",
       "      <th>2</th>\n",
       "      <td>114586050187658234891</td>\n",
       "      <td>Michael Connolly</td>\n",
       "      <td>2017-03-14 09:14:44</td>\n",
       "      <td>5</td>\n",
       "      <td>Sad to see this location close up. I stopped h...</td>\n",
       "      <td>0x889a4e8a2f05a603:0xea1325e2785d9fb4</td>\n",
       "      <td>Dunkin' Donuts</td>\n",
       "      <td>Dunkin' Donuts, 1976 Michigan Ave, Mobile, Al ...</td>\n",
       "      <td>AL</td>\n",
       "      <td>25</td>\n",
       "      <td>4.0</td>\n",
       "      <td>Low</td>\n",
       "      <td>30.64615</td>\n",
       "      <td>-88.07757</td>\n",
       "      <td>[Donut shop, Bagel shop, Bakery, Breakfast res...</td>\n",
       "      <td>Long-running chain serving signature breakfast...</td>\n",
       "      <td>[[Saturday, 5AM–9PM], [Sunday, 5AM–9PM], [Mond...</td>\n",
       "      <td>{'Accessibility': None, 'Amenities': ['Restroo...</td>\n",
       "      <td>[0x889a4fdde7a5ee2b:0xed5cb142596c6b63, 0x889a...</td>\n",
       "      <td>https://www.google.com/maps/place//data=!4m2!3...</td>\n",
       "    </tr>\n",
       "    <tr>\n",
       "      <th>3</th>\n",
       "      <td>105146756185088866130</td>\n",
       "      <td>Carleen Yates</td>\n",
       "      <td>2015-03-26 11:27:50</td>\n",
       "      <td>5</td>\n",
       "      <td>I had a great experience when I went in the fo...</td>\n",
       "      <td>0x889a4e8a2f05a603:0xea1325e2785d9fb4</td>\n",
       "      <td>Dunkin' Donuts</td>\n",
       "      <td>Dunkin' Donuts, 1976 Michigan Ave, Mobile, Al ...</td>\n",
       "      <td>AL</td>\n",
       "      <td>25</td>\n",
       "      <td>4.0</td>\n",
       "      <td>Low</td>\n",
       "      <td>30.64615</td>\n",
       "      <td>-88.07757</td>\n",
       "      <td>[Donut shop, Bagel shop, Bakery, Breakfast res...</td>\n",
       "      <td>Long-running chain serving signature breakfast...</td>\n",
       "      <td>[[Saturday, 5AM–9PM], [Sunday, 5AM–9PM], [Mond...</td>\n",
       "      <td>{'Accessibility': None, 'Amenities': ['Restroo...</td>\n",
       "      <td>[0x889a4fdde7a5ee2b:0xed5cb142596c6b63, 0x889a...</td>\n",
       "      <td>https://www.google.com/maps/place//data=!4m2!3...</td>\n",
       "    </tr>\n",
       "    <tr>\n",
       "      <th>4</th>\n",
       "      <td>105407381034578943677</td>\n",
       "      <td>Ian Cobb</td>\n",
       "      <td>2017-01-11 10:47:11</td>\n",
       "      <td>4</td>\n",
       "      <td>I used to live up north in they only had Dunki...</td>\n",
       "      <td>0x889a4e8a2f05a603:0xea1325e2785d9fb4</td>\n",
       "      <td>Dunkin' Donuts</td>\n",
       "      <td>Dunkin' Donuts, 1976 Michigan Ave, Mobile, Al ...</td>\n",
       "      <td>AL</td>\n",
       "      <td>25</td>\n",
       "      <td>4.0</td>\n",
       "      <td>Low</td>\n",
       "      <td>30.64615</td>\n",
       "      <td>-88.07757</td>\n",
       "      <td>[Donut shop, Bagel shop, Bakery, Breakfast res...</td>\n",
       "      <td>Long-running chain serving signature breakfast...</td>\n",
       "      <td>[[Saturday, 5AM–9PM], [Sunday, 5AM–9PM], [Mond...</td>\n",
       "      <td>{'Accessibility': None, 'Amenities': ['Restroo...</td>\n",
       "      <td>[0x889a4fdde7a5ee2b:0xed5cb142596c6b63, 0x889a...</td>\n",
       "      <td>https://www.google.com/maps/place//data=!4m2!3...</td>\n",
       "    </tr>\n",
       "  </tbody>\n",
       "</table>\n",
       "</div>"
      ],
      "text/plain": [
       "                 user_id            name_x                time  rating  \\\n",
       "0  104957977998342094168     William Clark 2017-02-15 12:32:04       4   \n",
       "1  117483898282300950125   Birthday Bandit 2017-02-07 16:03:03       5   \n",
       "2  114586050187658234891  Michael Connolly 2017-03-14 09:14:44       5   \n",
       "3  105146756185088866130     Carleen Yates 2015-03-26 11:27:50       5   \n",
       "4  105407381034578943677          Ian Cobb 2017-01-11 10:47:11       4   \n",
       "\n",
       "                                                text  \\\n",
       "0  Great coffee and Donuts. Iced tea is also grea...   \n",
       "1  I stop by here often because it's on my way to...   \n",
       "2  Sad to see this location close up. I stopped h...   \n",
       "3  I had a great experience when I went in the fo...   \n",
       "4  I used to live up north in they only had Dunki...   \n",
       "\n",
       "                                 gmap_id          name_y  \\\n",
       "0  0x889a4e8a2f05a603:0xea1325e2785d9fb4  Dunkin' Donuts   \n",
       "1  0x889a4e8a2f05a603:0xea1325e2785d9fb4  Dunkin' Donuts   \n",
       "2  0x889a4e8a2f05a603:0xea1325e2785d9fb4  Dunkin' Donuts   \n",
       "3  0x889a4e8a2f05a603:0xea1325e2785d9fb4  Dunkin' Donuts   \n",
       "4  0x889a4e8a2f05a603:0xea1325e2785d9fb4  Dunkin' Donuts   \n",
       "\n",
       "                                             address state  num_of_reviews  \\\n",
       "0  Dunkin' Donuts, 1976 Michigan Ave, Mobile, Al ...    AL              25   \n",
       "1  Dunkin' Donuts, 1976 Michigan Ave, Mobile, Al ...    AL              25   \n",
       "2  Dunkin' Donuts, 1976 Michigan Ave, Mobile, Al ...    AL              25   \n",
       "3  Dunkin' Donuts, 1976 Michigan Ave, Mobile, Al ...    AL              25   \n",
       "4  Dunkin' Donuts, 1976 Michigan Ave, Mobile, Al ...    AL              25   \n",
       "\n",
       "   avg_rating price  latitude  longitude  \\\n",
       "0         4.0   Low  30.64615  -88.07757   \n",
       "1         4.0   Low  30.64615  -88.07757   \n",
       "2         4.0   Low  30.64615  -88.07757   \n",
       "3         4.0   Low  30.64615  -88.07757   \n",
       "4         4.0   Low  30.64615  -88.07757   \n",
       "\n",
       "                                            category  \\\n",
       "0  [Donut shop, Bagel shop, Bakery, Breakfast res...   \n",
       "1  [Donut shop, Bagel shop, Bakery, Breakfast res...   \n",
       "2  [Donut shop, Bagel shop, Bakery, Breakfast res...   \n",
       "3  [Donut shop, Bagel shop, Bakery, Breakfast res...   \n",
       "4  [Donut shop, Bagel shop, Bakery, Breakfast res...   \n",
       "\n",
       "                                         description  \\\n",
       "0  Long-running chain serving signature breakfast...   \n",
       "1  Long-running chain serving signature breakfast...   \n",
       "2  Long-running chain serving signature breakfast...   \n",
       "3  Long-running chain serving signature breakfast...   \n",
       "4  Long-running chain serving signature breakfast...   \n",
       "\n",
       "                                               hours  \\\n",
       "0  [[Saturday, 5AM–9PM], [Sunday, 5AM–9PM], [Mond...   \n",
       "1  [[Saturday, 5AM–9PM], [Sunday, 5AM–9PM], [Mond...   \n",
       "2  [[Saturday, 5AM–9PM], [Sunday, 5AM–9PM], [Mond...   \n",
       "3  [[Saturday, 5AM–9PM], [Sunday, 5AM–9PM], [Mond...   \n",
       "4  [[Saturday, 5AM–9PM], [Sunday, 5AM–9PM], [Mond...   \n",
       "\n",
       "                                                MISC  \\\n",
       "0  {'Accessibility': None, 'Amenities': ['Restroo...   \n",
       "1  {'Accessibility': None, 'Amenities': ['Restroo...   \n",
       "2  {'Accessibility': None, 'Amenities': ['Restroo...   \n",
       "3  {'Accessibility': None, 'Amenities': ['Restroo...   \n",
       "4  {'Accessibility': None, 'Amenities': ['Restroo...   \n",
       "\n",
       "                                    relative_results  \\\n",
       "0  [0x889a4fdde7a5ee2b:0xed5cb142596c6b63, 0x889a...   \n",
       "1  [0x889a4fdde7a5ee2b:0xed5cb142596c6b63, 0x889a...   \n",
       "2  [0x889a4fdde7a5ee2b:0xed5cb142596c6b63, 0x889a...   \n",
       "3  [0x889a4fdde7a5ee2b:0xed5cb142596c6b63, 0x889a...   \n",
       "4  [0x889a4fdde7a5ee2b:0xed5cb142596c6b63, 0x889a...   \n",
       "\n",
       "                                                 url  \n",
       "0  https://www.google.com/maps/place//data=!4m2!3...  \n",
       "1  https://www.google.com/maps/place//data=!4m2!3...  \n",
       "2  https://www.google.com/maps/place//data=!4m2!3...  \n",
       "3  https://www.google.com/maps/place//data=!4m2!3...  \n",
       "4  https://www.google.com/maps/place//data=!4m2!3...  "
      ]
     },
     "execution_count": 26,
     "metadata": {},
     "output_type": "execute_result"
    }
   ],
   "source": [
    "\n",
    "# Cargar los dataframes de dunkin\n",
    "df3 = pd.read_parquet('../data/Dunkin_reviews_ETL_limpio.parquet')\n",
    "df4 = pd.read_parquet('../data/Dunkin_metadata_ETL_limpio.parquet')\n",
    "\n",
    "# Unir los dataframes en la columna 'gmap_id'\n",
    "merged_df2 = pd.merge(df3, df4, on='gmap_id')\n",
    "\n",
    "# Mostrar las primeras filas del dataframe unido\n",
    "merged_df2.head()"
   ]
  },
  {
   "cell_type": "code",
   "execution_count": 29,
   "metadata": {},
   "outputs": [],
   "source": [
    "merged_df.to_parquet('../data/merged_dunkin(x gmap_id)')"
   ]
  },
  {
   "cell_type": "code",
   "execution_count": 27,
   "metadata": {},
   "outputs": [
    {
     "data": {
      "image/png": "[encoded data removed]",
      "text/plain": [
       "<Figure size 1400x800 with 1 Axes>"
      ]
     },
     "metadata": {},
     "output_type": "display_data"
    }
   ],
   "source": [
    "# Agrupar por estado y calcular la media de las calificaciones\n",
    "mermerged_df2_avg =merged_df2.groupby('state')['avg_rating'].mean().reset_index()\n",
    "merged_df_avg = merged_df.groupby('state')['avg_rating'].mean().reset_index()\n",
    "\n",
    "# Renombrar las columnas para diferenciarlas\n",
    "mermerged_df2_avg.columns = ['state', 'avg_rating_dunkin']\n",
    "merged_df_avg.columns = ['state', 'avg_rating_starbucks']\n",
    "\n",
    "# Unir los dos dataframes en uno solo\n",
    "df_avg_combined = pd.merge(mermerged_df2_avg, merged_df_avg, on='state', how='outer').fillna(0)\n",
    "\n",
    "# Filtrar los estados que tienen registros de Dunkin\n",
    "df_avg_combined_filtered = df_avg_combined[df_avg_combined['avg_rating_dunkin'] > 0]\n",
    "\n",
    "# Crear el gráfico de líneas\n",
    "plt.figure(figsize=(14, 8))\n",
    "\n",
    "# Crear el gráfico de líneas\n",
    "sns.lineplot(x='state', y='avg_rating_dunkin', data=df_avg_combined_filtered, marker='o', color='#FF4500', label='Dunkin')  # Usar un color naranja más oscuro\n",
    "sns.lineplot(x='state', y='avg_rating_starbucks', data=df_avg_combined_filtered, marker='o', color='green', label='Starbucks')\n",
    "\n",
    "# Añadir etiquetas y título\n",
    "plt.xlabel('State')\n",
    "plt.ylabel('Rating promedio')\n",
    "plt.title('Comparación de la calificación promedio por estado para Dunkin y Starbucks')\n",
    "plt.xticks(rotation=90)\n",
    "plt.legend()\n",
    "\n",
    "# Mostrar el gráfico\n",
    "plt.show()"
   ]
  },
  {
   "cell_type": "markdown",
   "metadata": {},
   "source": [
    "- **El análisis comparativo facilitado por el gráfico revela diferencias significativas en las calificaciones promedio de las tiendas Dunkin' y Starbucks, desglosadas por estado. Estas disparidades destacan variaciones en la satisfacción del cliente entre ambas cadenas, con Starbucks consistentemente posicionada por encima de Dunkin' en términos de valoración.**"
   ]
  },
  {
   "cell_type": "code",
   "execution_count": 30,
   "metadata": {},
   "outputs": [
    {
     "data": {
      "application/vnd.plotly.v1+json": {
       "config": {
        "plotlyServerURL": "https://plot.ly"
       },
       "data": [
        {
         "alignmentgroup": "True",
         "hovertemplate": "Compañia=Rating promedio Dunkin<br>state=%{x}<br>Average Rating=%{y}<extra></extra>",
         "legendgroup": "Rating promedio Dunkin",
         "marker": {
          "color": "#FF4500",
          "pattern": {
           "shape": ""
          }
         },
         "name": "Rating promedio Dunkin",
         "offsetgroup": "Rating promedio Dunkin",
         "orientation": "v",
         "showlegend": true,
         "textposition": "auto",
         "type": "bar",
         "x": [
          "AL",
          "AR",
          "AZ",
          "CA",
          "CO",
          "CT",
          "DC",
          "DE",
          "FL",
          "GA",
          "HI",
          "IA",
          "IL",
          "IN",
          "KS",
          "KY",
          "LA",
          "MA",
          "MD",
          "ME",
          "MI",
          "MN",
          "MO",
          "NC",
          "NE",
          "NH",
          "NJ",
          "NM",
          "NV",
          "NY",
          "OH",
          "OK",
          "PA",
          "RI",
          "SC",
          "TN",
          "TX",
          "UT",
          "VA",
          "VT",
          "WI",
          "WV"
         ],
         "xaxis": "x",
         "y": [
          3.8511415525114154,
          4.359999999999999,
          3.7279870828848227,
          4.0847926267281105,
          3.6296,
          3.860858038081465,
          3.7351648351648348,
          4.080205278592375,
          3.8821492007104794,
          3.9973222124670764,
          3.7437275985663083,
          3.9155555555555557,
          3.7667057444314187,
          3.6194528875379937,
          4.2,
          3.9887573964497043,
          3.7771929824561403,
          3.906102008915649,
          3.9229355033152498,
          3.8316172355903753,
          3.892274052478134,
          3.406586826347305,
          3.967543859649123,
          3.785868102288022,
          4.020038350910834,
          3.7280492353599404,
          3.937570126227209,
          3.298275862068966,
          3.626829268292683,
          3.8964501834468956,
          4.030281375614113,
          4.111363636363635,
          3.907310979618672,
          4.023369079535299,
          3.7043046357615896,
          3.751269035532995,
          3.7173566878980893,
          3.8,
          3.7585536159600994,
          3.7543915343915346,
          3.814189189189189,
          3.700791556728232
         ],
         "yaxis": "y"
        },
        {
         "alignmentgroup": "True",
         "hovertemplate": "Compañia=Rating promedio Starbucks<br>state=%{x}<br>Average Rating=%{y}<extra></extra>",
         "legendgroup": "Rating promedio Starbucks",
         "marker": {
          "color": "green",
          "pattern": {
           "shape": ""
          }
         },
         "name": "Rating promedio Starbucks",
         "offsetgroup": "Rating promedio Starbucks",
         "orientation": "v",
         "showlegend": true,
         "textposition": "auto",
         "type": "bar",
         "x": [
          "AL",
          "AR",
          "AZ",
          "CA",
          "CO",
          "CT",
          "DC",
          "DE",
          "FL",
          "GA",
          "HI",
          "IA",
          "IL",
          "IN",
          "KS",
          "KY",
          "LA",
          "MA",
          "MD",
          "ME",
          "MI",
          "MN",
          "MO",
          "NC",
          "NE",
          "NH",
          "NJ",
          "NM",
          "NV",
          "NY",
          "OH",
          "OK",
          "PA",
          "RI",
          "SC",
          "TN",
          "TX",
          "UT",
          "VA",
          "VT",
          "WI",
          "WV"
         ],
         "xaxis": "x",
         "y": [
          4.033273056057866,
          4.296812080536913,
          4.073547945205479,
          4.167587714381796,
          4.0372164761386315,
          4.035710512414157,
          3.939804469273743,
          4.05037037037037,
          4.23666955017301,
          3.994899665551839,
          4.035439039797852,
          4.116545265348595,
          4.04938659955961,
          4.1866984544557715,
          4.115349369988545,
          3.94508547008547,
          4.167818181818181,
          3.9436239193083575,
          4.103801652892562,
          4.112198795180723,
          3.974558990127852,
          4.083636363636364,
          4.062634508348793,
          4.076554621848739,
          4.137205153617443,
          4.041176470588235,
          4.007062475746993,
          4.1644104803493445,
          4.0751442862639475,
          3.9480970432145566,
          4.000595238095238,
          3.972055030094583,
          4.031410736579276,
          4.069090909090908,
          4.0707512764405545,
          4.085459441265567,
          4.156920232435288,
          3.952998909487459,
          4.088532849657396,
          4.4,
          4.0783645655877345,
          3.9827893175074185
         ],
         "yaxis": "y"
        }
       ],
       "layout": {
        "barmode": "group",
        "legend": {
         "title": {
          "text": "Compañia"
         },
         "tracegroupgap": 0
        },
        "template": {
         "data": {
          "bar": [
           {
            "error_x": {
             "color": "#2a3f5f"
            },
            "error_y": {
             "color": "#2a3f5f"
            },
            "marker": {
             "line": {
              "color": "#E5ECF6",
              "width": 0.5
             },
             "pattern": {
              "fillmode": "overlay",
              "size": 10,
              "solidity": 0.2
             }
            },
            "type": "bar"
           }
          ],
          "barpolar": [
           {
            "marker": {
             "line": {
              "color": "#E5ECF6",
              "width": 0.5
             },
             "pattern": {
              "fillmode": "overlay",
              "size": 10,
              "solidity": 0.2
             }
            },
            "type": "barpolar"
           }
          ],
          "carpet": [
           {
            "aaxis": {
             "endlinecolor": "#2a3f5f",
             "gridcolor": "white",
             "linecolor": "white",
             "minorgridcolor": "white",
             "startlinecolor": "#2a3f5f"
            },
            "baxis": {
             "endlinecolor": "#2a3f5f",
             "gridcolor": "white",
             "linecolor": "white",
             "minorgridcolor": "white",
             "startlinecolor": "#2a3f5f"
            },
            "type": "carpet"
           }
          ],
          "choropleth": [
           {
            "colorbar": {
             "outlinewidth": 0,
             "ticks": ""
            },
            "type": "choropleth"
           }
          ],
          "contour": [
           {
            "colorbar": {
             "outlinewidth": 0,
             "ticks": ""
            },
            "colorscale": [
             [
              0,
              "#0d0887"
             ],
             [
              0.1111111111111111,
              "#46039f"
             ],
             [
              0.2222222222222222,
              "#7201a8"
             ],
             [
              0.3333333333333333,
              "#9c179e"
             ],
             [
              0.4444444444444444,
              "#bd3786"
             ],
             [
              0.5555555555555556,
              "#d8576b"
             ],
             [
              0.6666666666666666,
              "#ed7953"
             ],
             [
              0.7777777777777778,
              "#fb9f3a"
             ],
             [
              0.8888888888888888,
              "#fdca26"
             ],
             [
              1,
              "#f0f921"
             ]
            ],
            "type": "contour"
           }
          ],
          "contourcarpet": [
           {
            "colorbar": {
             "outlinewidth": 0,
             "ticks": ""
            },
            "type": "contourcarpet"
           }
          ],
          "heatmap": [
           {
            "colorbar": {
             "outlinewidth": 0,
             "ticks": ""
            },
            "colorscale": [
             [
              0,
              "#0d0887"
             ],
             [
              0.1111111111111111,
              "#46039f"
             ],
             [
              0.2222222222222222,
              "#7201a8"
             ],
             [
              0.3333333333333333,
              "#9c179e"
             ],
             [
              0.4444444444444444,
              "#bd3786"
             ],
             [
              0.5555555555555556,
              "#d8576b"
             ],
             [
              0.6666666666666666,
              "#ed7953"
             ],
             [
              0.7777777777777778,
              "#fb9f3a"
             ],
             [
              0.8888888888888888,
              "#fdca26"
             ],
             [
              1,
              "#f0f921"
             ]
            ],
            "type": "heatmap"
           }
          ],
          "heatmapgl": [
           {
            "colorbar": {
             "outlinewidth": 0,
             "ticks": ""
            },
            "colorscale": [
             [
              0,
              "#0d0887"
             ],
             [
              0.1111111111111111,
              "#46039f"
             ],
             [
              0.2222222222222222,
              "#7201a8"
             ],
             [
              0.3333333333333333,
              "#9c179e"
             ],
             [
              0.4444444444444444,
              "#bd3786"
             ],
             [
              0.5555555555555556,
              "#d8576b"
             ],
             [
              0.6666666666666666,
              "#ed7953"
             ],
             [
              0.7777777777777778,
              "#fb9f3a"
             ],
             [
              0.8888888888888888,
              "#fdca26"
             ],
             [
              1,
              "#f0f921"
             ]
            ],
            "type": "heatmapgl"
           }
          ],
          "histogram": [
           {
            "marker": {
             "pattern": {
              "fillmode": "overlay",
              "size": 10,
              "solidity": 0.2
             }
            },
            "type": "histogram"
           }
          ],
          "histogram2d": [
           {
            "colorbar": {
             "outlinewidth": 0,
             "ticks": ""
            },
            "colorscale": [
             [
              0,
              "#0d0887"
             ],
             [
              0.1111111111111111,
              "#46039f"
             ],
             [
              0.2222222222222222,
              "#7201a8"
             ],
             [
              0.3333333333333333,
              "#9c179e"
             ],
             [
              0.4444444444444444,
              "#bd3786"
             ],
             [
              0.5555555555555556,
              "#d8576b"
             ],
             [
              0.6666666666666666,
              "#ed7953"
             ],
             [
              0.7777777777777778,
              "#fb9f3a"
             ],
             [
              0.8888888888888888,
              "#fdca26"
             ],
             [
              1,
              "#f0f921"
             ]
            ],
            "type": "histogram2d"
           }
          ],
          "histogram2dcontour": [
           {
            "colorbar": {
             "outlinewidth": 0,
             "ticks": ""
            },
            "colorscale": [
             [
              0,
              "#0d0887"
             ],
             [
              0.1111111111111111,
              "#46039f"
             ],
             [
              0.2222222222222222,
              "#7201a8"
             ],
             [
              0.3333333333333333,
              "#9c179e"
             ],
             [
              0.4444444444444444,
              "#bd3786"
             ],
             [
              0.5555555555555556,
              "#d8576b"
             ],
             [
              0.6666666666666666,
              "#ed7953"
             ],
             [
              0.7777777777777778,
              "#fb9f3a"
             ],
             [
              0.8888888888888888,
              "#fdca26"
             ],
             [
              1,
              "#f0f921"
             ]
            ],
            "type": "histogram2dcontour"
           }
          ],
          "mesh3d": [
           {
            "colorbar": {
             "outlinewidth": 0,
             "ticks": ""
            },
            "type": "mesh3d"
           }
          ],
          "parcoords": [
           {
            "line": {
             "colorbar": {
              "outlinewidth": 0,
              "ticks": ""
             }
            },
            "type": "parcoords"
           }
          ],
          "pie": [
           {
            "automargin": true,
            "type": "pie"
           }
          ],
          "scatter": [
           {
            "fillpattern": {
             "fillmode": "overlay",
             "size": 10,
             "solidity": 0.2
            },
            "type": "scatter"
           }
          ],
          "scatter3d": [
           {
            "line": {
             "colorbar": {
              "outlinewidth": 0,
              "ticks": ""
             }
            },
            "marker": {
             "colorbar": {
              "outlinewidth": 0,
              "ticks": ""
             }
            },
            "type": "scatter3d"
           }
          ],
          "scattercarpet": [
           {
            "marker": {
             "colorbar": {
              "outlinewidth": 0,
              "ticks": ""
             }
            },
            "type": "scattercarpet"
           }
          ],
          "scattergeo": [
           {
            "marker": {
             "colorbar": {
              "outlinewidth": 0,
              "ticks": ""
             }
            },
            "type": "scattergeo"
           }
          ],
          "scattergl": [
           {
            "marker": {
             "colorbar": {
              "outlinewidth": 0,
              "ticks": ""
             }
            },
            "type": "scattergl"
           }
          ],
          "scattermapbox": [
           {
            "marker": {
             "colorbar": {
              "outlinewidth": 0,
              "ticks": ""
             }
            },
            "type": "scattermapbox"
           }
          ],
          "scatterpolar": [
           {
            "marker": {
             "colorbar": {
              "outlinewidth": 0,
              "ticks": ""
             }
            },
            "type": "scatterpolar"
           }
          ],
          "scatterpolargl": [
           {
            "marker": {
             "colorbar": {
              "outlinewidth": 0,
              "ticks": ""
             }
            },
            "type": "scatterpolargl"
           }
          ],
          "scatterternary": [
           {
            "marker": {
             "colorbar": {
              "outlinewidth": 0,
              "ticks": ""
             }
            },
            "type": "scatterternary"
           }
          ],
          "surface": [
           {
            "colorbar": {
             "outlinewidth": 0,
             "ticks": ""
            },
            "colorscale": [
             [
              0,
              "#0d0887"
             ],
             [
              0.1111111111111111,
              "#46039f"
             ],
             [
              0.2222222222222222,
              "#7201a8"
             ],
             [
              0.3333333333333333,
              "#9c179e"
             ],
             [
              0.4444444444444444,
              "#bd3786"
             ],
             [
              0.5555555555555556,
              "#d8576b"
             ],
             [
              0.6666666666666666,
              "#ed7953"
             ],
             [
              0.7777777777777778,
              "#fb9f3a"
             ],
             [
              0.8888888888888888,
              "#fdca26"
             ],
             [
              1,
              "#f0f921"
             ]
            ],
            "type": "surface"
           }
          ],
          "table": [
           {
            "cells": {
             "fill": {
              "color": "#EBF0F8"
             },
             "line": {
              "color": "white"
             }
            },
            "header": {
             "fill": {
              "color": "#C8D4E3"
             },
             "line": {
              "color": "white"
             }
            },
            "type": "table"
           }
          ]
         },
         "layout": {
          "annotationdefaults": {
           "arrowcolor": "#2a3f5f",
           "arrowhead": 0,
           "arrowwidth": 1
          },
          "autotypenumbers": "strict",
          "coloraxis": {
           "colorbar": {
            "outlinewidth": 0,
            "ticks": ""
           }
          },
          "colorscale": {
           "diverging": [
            [
             0,
             "#8e0152"
            ],
            [
             0.1,
             "#c51b7d"
            ],
            [
             0.2,
             "#de77ae"
            ],
            [
             0.3,
             "#f1b6da"
            ],
            [
             0.4,
             "#fde0ef"
            ],
            [
             0.5,
             "#f7f7f7"
            ],
            [
             0.6,
             "#e6f5d0"
            ],
            [
             0.7,
             "#b8e186"
            ],
            [
             0.8,
             "#7fbc41"
            ],
            [
             0.9,
             "#4d9221"
            ],
            [
             1,
             "#276419"
            ]
           ],
           "sequential": [
            [
             0,
             "#0d0887"
            ],
            [
             0.1111111111111111,
             "#46039f"
            ],
            [
             0.2222222222222222,
             "#7201a8"
            ],
            [
             0.3333333333333333,
             "#9c179e"
            ],
            [
             0.4444444444444444,
             "#bd3786"
            ],
            [
             0.5555555555555556,
             "#d8576b"
            ],
            [
             0.6666666666666666,
             "#ed7953"
            ],
            [
             0.7777777777777778,
             "#fb9f3a"
            ],
            [
             0.8888888888888888,
             "#fdca26"
            ],
            [
             1,
             "#f0f921"
            ]
           ],
           "sequentialminus": [
            [
             0,
             "#0d0887"
            ],
            [
             0.1111111111111111,
             "#46039f"
            ],
            [
             0.2222222222222222,
             "#7201a8"
            ],
            [
             0.3333333333333333,
             "#9c179e"
            ],
            [
             0.4444444444444444,
             "#bd3786"
            ],
            [
             0.5555555555555556,
             "#d8576b"
            ],
            [
             0.6666666666666666,
             "#ed7953"
            ],
            [
             0.7777777777777778,
             "#fb9f3a"
            ],
            [
             0.8888888888888888,
             "#fdca26"
            ],
            [
             1,
             "#f0f921"
            ]
           ]
          },
          "colorway": [
           "#636efa",
           "#EF553B",
           "#00cc96",
           "#ab63fa",
           "#FFA15A",
           "#19d3f3",
           "#FF6692",
           "#B6E880",
           "#FF97FF",
           "#FECB52"
          ],
          "font": {
           "color": "#2a3f5f"
          },
          "geo": {
           "bgcolor": "white",
           "lakecolor": "white",
           "landcolor": "#E5ECF6",
           "showlakes": true,
           "showland": true,
           "subunitcolor": "white"
          },
          "hoverlabel": {
           "align": "left"
          },
          "hovermode": "closest",
          "mapbox": {
           "style": "light"
          },
          "paper_bgcolor": "white",
          "plot_bgcolor": "#E5ECF6",
          "polar": {
           "angularaxis": {
            "gridcolor": "white",
            "linecolor": "white",
            "ticks": ""
           },
           "bgcolor": "#E5ECF6",
           "radialaxis": {
            "gridcolor": "white",
            "linecolor": "white",
            "ticks": ""
           }
          },
          "scene": {
           "xaxis": {
            "backgroundcolor": "#E5ECF6",
            "gridcolor": "white",
            "gridwidth": 2,
            "linecolor": "white",
            "showbackground": true,
            "ticks": "",
            "zerolinecolor": "white"
           },
           "yaxis": {
            "backgroundcolor": "#E5ECF6",
            "gridcolor": "white",
            "gridwidth": 2,
            "linecolor": "white",
            "showbackground": true,
            "ticks": "",
            "zerolinecolor": "white"
           },
           "zaxis": {
            "backgroundcolor": "#E5ECF6",
            "gridcolor": "white",
            "gridwidth": 2,
            "linecolor": "white",
            "showbackground": true,
            "ticks": "",
            "zerolinecolor": "white"
           }
          },
          "shapedefaults": {
           "line": {
            "color": "#2a3f5f"
           }
          },
          "ternary": {
           "aaxis": {
            "gridcolor": "white",
            "linecolor": "white",
            "ticks": ""
           },
           "baxis": {
            "gridcolor": "white",
            "linecolor": "white",
            "ticks": ""
           },
           "bgcolor": "#E5ECF6",
           "caxis": {
            "gridcolor": "white",
            "linecolor": "white",
            "ticks": ""
           }
          },
          "title": {
           "x": 0.05
          },
          "xaxis": {
           "automargin": true,
           "gridcolor": "white",
           "linecolor": "white",
           "ticks": "",
           "title": {
            "standoff": 15
           },
           "zerolinecolor": "white",
           "zerolinewidth": 2
          },
          "yaxis": {
           "automargin": true,
           "gridcolor": "white",
           "linecolor": "white",
           "ticks": "",
           "title": {
            "standoff": 15
           },
           "zerolinecolor": "white",
           "zerolinewidth": 2
          }
         }
        },
        "title": {
         "text": "Comparacion de rating promedio de Dunkin y Starbucks"
        },
        "xaxis": {
         "anchor": "y",
         "domain": [
          0,
          1
         ],
         "title": {
          "text": "state"
         }
        },
        "yaxis": {
         "anchor": "x",
         "domain": [
          0,
          1
         ],
         "title": {
          "text": "Average Rating"
         }
        }
       }
      }
     },
     "metadata": {},
     "output_type": "display_data"
    },
    {
     "name": "stdout",
     "output_type": "stream",
     "text": [
      "done\n"
     ]
    }
   ],
   "source": [
    "# Importar las bibliotecas necesarias\n",
    "import pandas as pd\n",
    "import plotly.express as px\n",
    "\n",
    "\n",
    "# Agrupar por estado y calcular la media de las calificaciones\n",
    "merged_df2_avg = merged_df2.groupby('state')['avg_rating'].mean().reset_index()\n",
    "mermerged_df_avg = merged_df.groupby('state')['avg_rating'].mean().reset_index()\n",
    "\n",
    "# Renombrar las columnas para diferenciarlas\n",
    "merged_df2_avg.columns = ['state', 'Rating promedio Dunkin']\n",
    "mermerged_df_avg.columns = ['state', 'Rating promedio Starbucks']\n",
    "\n",
    "# Unir los dos dataframes en uno solo\n",
    "df_avg_combined = pd.merge(merged_df2_avg, mermerged_df_avg, on='state', how='outer').fillna(0)\n",
    "\n",
    "# Filtrar los estados que tienen registros de Dunkin\n",
    "df_avg_combined_filtered = df_avg_combined[df_avg_combined['Rating promedio Dunkin'] > 0]\n",
    "\n",
    "# Crear el gráfico de barras con Plotly\n",
    "fig = px.bar(df_avg_combined_filtered, x='state', y=['Rating promedio Dunkin', 'Rating promedio Starbucks'],\n",
    "             barmode='group', labels={'value': 'Average Rating', 'variable': 'Compañia'},\n",
    "             title='Comparacion de rating promedio de Dunkin y Starbucks',\n",
    "             color_discrete_map={'Rating promedio Dunkin': '#FF4500', 'Rating promedio Starbucks': 'green'})\n",
    "\n",
    "# Mostrar el gráfico\n",
    "fig.show()\n",
    "\n",
    "print('done')"
   ]
  },
  {
   "cell_type": "markdown",
   "metadata": {},
   "source": [
    "- **Comparación Visual: El gráfico de barras permite una comparación visual clara de las calificaciones promedio de Dunkin y Starbucks por estado, mostrando las diferencias en la satisfacción del cliente entre las dos cadenas.**"
   ]
  },
  {
   "cell_type": "code",
   "execution_count": 31,
   "metadata": {},
   "outputs": [
    {
     "data": {
      "application/vnd.plotly.v1+json": {
       "config": {
        "plotlyServerURL": "https://plot.ly"
       },
       "data": [
        {
         "marker": {
          "color": "#FF4500"
         },
         "name": "Dunkin",
         "type": "bar",
         "x": [
          "Dunkin"
         ],
         "y": [
          3.875722020104488
         ]
        },
        {
         "marker": {
          "color": "green"
         },
         "name": "Starbucks",
         "type": "bar",
         "x": [
          "Starbucks"
         ],
         "y": [
          4.08532460829728
         ]
        }
       ],
       "layout": {
        "font": {
         "size": 15
        },
        "template": {
         "data": {
          "bar": [
           {
            "error_x": {
             "color": "#f2f5fa"
            },
            "error_y": {
             "color": "#f2f5fa"
            },
            "marker": {
             "line": {
              "color": "rgb(17,17,17)",
              "width": 0.5
             },
             "pattern": {
              "fillmode": "overlay",
              "size": 10,
              "solidity": 0.2
             }
            },
            "type": "bar"
           }
          ],
          "barpolar": [
           {
            "marker": {
             "line": {
              "color": "rgb(17,17,17)",
              "width": 0.5
             },
             "pattern": {
              "fillmode": "overlay",
              "size": 10,
              "solidity": 0.2
             }
            },
            "type": "barpolar"
           }
          ],
          "carpet": [
           {
            "aaxis": {
             "endlinecolor": "#A2B1C6",
             "gridcolor": "#506784",
             "linecolor": "#506784",
             "minorgridcolor": "#506784",
             "startlinecolor": "#A2B1C6"
            },
            "baxis": {
             "endlinecolor": "#A2B1C6",
             "gridcolor": "#506784",
             "linecolor": "#506784",
             "minorgridcolor": "#506784",
             "startlinecolor": "#A2B1C6"
            },
            "type": "carpet"
           }
          ],
          "choropleth": [
           {
            "colorbar": {
             "outlinewidth": 0,
             "ticks": ""
            },
            "type": "choropleth"
           }
          ],
          "contour": [
           {
            "colorbar": {
             "outlinewidth": 0,
             "ticks": ""
            },
            "colorscale": [
             [
              0,
              "#0d0887"
             ],
             [
              0.1111111111111111,
              "#46039f"
             ],
             [
              0.2222222222222222,
              "#7201a8"
             ],
             [
              0.3333333333333333,
              "#9c179e"
             ],
             [
              0.4444444444444444,
              "#bd3786"
             ],
             [
              0.5555555555555556,
              "#d8576b"
             ],
             [
              0.6666666666666666,
              "#ed7953"
             ],
             [
              0.7777777777777778,
              "#fb9f3a"
             ],
             [
              0.8888888888888888,
              "#fdca26"
             ],
             [
              1,
              "#f0f921"
             ]
            ],
            "type": "contour"
           }
          ],
          "contourcarpet": [
           {
            "colorbar": {
             "outlinewidth": 0,
             "ticks": ""
            },
            "type": "contourcarpet"
           }
          ],
          "heatmap": [
           {
            "colorbar": {
             "outlinewidth": 0,
             "ticks": ""
            },
            "colorscale": [
             [
              0,
              "#0d0887"
             ],
             [
              0.1111111111111111,
              "#46039f"
             ],
             [
              0.2222222222222222,
              "#7201a8"
             ],
             [
              0.3333333333333333,
              "#9c179e"
             ],
             [
              0.4444444444444444,
              "#bd3786"
             ],
             [
              0.5555555555555556,
              "#d8576b"
             ],
             [
              0.6666666666666666,
              "#ed7953"
             ],
             [
              0.7777777777777778,
              "#fb9f3a"
             ],
             [
              0.8888888888888888,
              "#fdca26"
             ],
             [
              1,
              "#f0f921"
             ]
            ],
            "type": "heatmap"
           }
          ],
          "heatmapgl": [
           {
            "colorbar": {
             "outlinewidth": 0,
             "ticks": ""
            },
            "colorscale": [
             [
              0,
              "#0d0887"
             ],
             [
              0.1111111111111111,
              "#46039f"
             ],
             [
              0.2222222222222222,
              "#7201a8"
             ],
             [
              0.3333333333333333,
              "#9c179e"
             ],
             [
              0.4444444444444444,
              "#bd3786"
             ],
             [
              0.5555555555555556,
              "#d8576b"
             ],
             [
              0.6666666666666666,
              "#ed7953"
             ],
             [
              0.7777777777777778,
              "#fb9f3a"
             ],
             [
              0.8888888888888888,
              "#fdca26"
             ],
             [
              1,
              "#f0f921"
             ]
            ],
            "type": "heatmapgl"
           }
          ],
          "histogram": [
           {
            "marker": {
             "pattern": {
              "fillmode": "overlay",
              "size": 10,
              "solidity": 0.2
             }
            },
            "type": "histogram"
           }
          ],
          "histogram2d": [
           {
            "colorbar": {
             "outlinewidth": 0,
             "ticks": ""
            },
            "colorscale": [
             [
              0,
              "#0d0887"
             ],
             [
              0.1111111111111111,
              "#46039f"
             ],
             [
              0.2222222222222222,
              "#7201a8"
             ],
             [
              0.3333333333333333,
              "#9c179e"
             ],
             [
              0.4444444444444444,
              "#bd3786"
             ],
             [
              0.5555555555555556,
              "#d8576b"
             ],
             [
              0.6666666666666666,
              "#ed7953"
             ],
             [
              0.7777777777777778,
              "#fb9f3a"
             ],
             [
              0.8888888888888888,
              "#fdca26"
             ],
             [
              1,
              "#f0f921"
             ]
            ],
            "type": "histogram2d"
           }
          ],
          "histogram2dcontour": [
           {
            "colorbar": {
             "outlinewidth": 0,
             "ticks": ""
            },
            "colorscale": [
             [
              0,
              "#0d0887"
             ],
             [
              0.1111111111111111,
              "#46039f"
             ],
             [
              0.2222222222222222,
              "#7201a8"
             ],
             [
              0.3333333333333333,
              "#9c179e"
             ],
             [
              0.4444444444444444,
              "#bd3786"
             ],
             [
              0.5555555555555556,
              "#d8576b"
             ],
             [
              0.6666666666666666,
              "#ed7953"
             ],
             [
              0.7777777777777778,
              "#fb9f3a"
             ],
             [
              0.8888888888888888,
              "#fdca26"
             ],
             [
              1,
              "#f0f921"
             ]
            ],
            "type": "histogram2dcontour"
           }
          ],
          "mesh3d": [
           {
            "colorbar": {
             "outlinewidth": 0,
             "ticks": ""
            },
            "type": "mesh3d"
           }
          ],
          "parcoords": [
           {
            "line": {
             "colorbar": {
              "outlinewidth": 0,
              "ticks": ""
             }
            },
            "type": "parcoords"
           }
          ],
          "pie": [
           {
            "automargin": true,
            "type": "pie"
           }
          ],
          "scatter": [
           {
            "marker": {
             "line": {
              "color": "#283442"
             }
            },
            "type": "scatter"
           }
          ],
          "scatter3d": [
           {
            "line": {
             "colorbar": {
              "outlinewidth": 0,
              "ticks": ""
             }
            },
            "marker": {
             "colorbar": {
              "outlinewidth": 0,
              "ticks": ""
             }
            },
            "type": "scatter3d"
           }
          ],
          "scattercarpet": [
           {
            "marker": {
             "colorbar": {
              "outlinewidth": 0,
              "ticks": ""
             }
            },
            "type": "scattercarpet"
           }
          ],
          "scattergeo": [
           {
            "marker": {
             "colorbar": {
              "outlinewidth": 0,
              "ticks": ""
             }
            },
            "type": "scattergeo"
           }
          ],
          "scattergl": [
           {
            "marker": {
             "line": {
              "color": "#283442"
             }
            },
            "type": "scattergl"
           }
          ],
          "scattermapbox": [
           {
            "marker": {
             "colorbar": {
              "outlinewidth": 0,
              "ticks": ""
             }
            },
            "type": "scattermapbox"
           }
          ],
          "scatterpolar": [
           {
            "marker": {
             "colorbar": {
              "outlinewidth": 0,
              "ticks": ""
             }
            },
            "type": "scatterpolar"
           }
          ],
          "scatterpolargl": [
           {
            "marker": {
             "colorbar": {
              "outlinewidth": 0,
              "ticks": ""
             }
            },
            "type": "scatterpolargl"
           }
          ],
          "scatterternary": [
           {
            "marker": {
             "colorbar": {
              "outlinewidth": 0,
              "ticks": ""
             }
            },
            "type": "scatterternary"
           }
          ],
          "surface": [
           {
            "colorbar": {
             "outlinewidth": 0,
             "ticks": ""
            },
            "colorscale": [
             [
              0,
              "#0d0887"
             ],
             [
              0.1111111111111111,
              "#46039f"
             ],
             [
              0.2222222222222222,
              "#7201a8"
             ],
             [
              0.3333333333333333,
              "#9c179e"
             ],
             [
              0.4444444444444444,
              "#bd3786"
             ],
             [
              0.5555555555555556,
              "#d8576b"
             ],
             [
              0.6666666666666666,
              "#ed7953"
             ],
             [
              0.7777777777777778,
              "#fb9f3a"
             ],
             [
              0.8888888888888888,
              "#fdca26"
             ],
             [
              1,
              "#f0f921"
             ]
            ],
            "type": "surface"
           }
          ],
          "table": [
           {
            "cells": {
             "fill": {
              "color": "#506784"
             },
             "line": {
              "color": "rgb(17,17,17)"
             }
            },
            "header": {
             "fill": {
              "color": "#2a3f5f"
             },
             "line": {
              "color": "rgb(17,17,17)"
             }
            },
            "type": "table"
           }
          ]
         },
         "layout": {
          "annotationdefaults": {
           "arrowcolor": "#f2f5fa",
           "arrowhead": 0,
           "arrowwidth": 1
          },
          "autotypenumbers": "strict",
          "coloraxis": {
           "colorbar": {
            "outlinewidth": 0,
            "ticks": ""
           }
          },
          "colorscale": {
           "diverging": [
            [
             0,
             "#8e0152"
            ],
            [
             0.1,
             "#c51b7d"
            ],
            [
             0.2,
             "#de77ae"
            ],
            [
             0.3,
             "#f1b6da"
            ],
            [
             0.4,
             "#fde0ef"
            ],
            [
             0.5,
             "#f7f7f7"
            ],
            [
             0.6,
             "#e6f5d0"
            ],
            [
             0.7,
             "#b8e186"
            ],
            [
             0.8,
             "#7fbc41"
            ],
            [
             0.9,
             "#4d9221"
            ],
            [
             1,
             "#276419"
            ]
           ],
           "sequential": [
            [
             0,
             "#0d0887"
            ],
            [
             0.1111111111111111,
             "#46039f"
            ],
            [
             0.2222222222222222,
             "#7201a8"
            ],
            [
             0.3333333333333333,
             "#9c179e"
            ],
            [
             0.4444444444444444,
             "#bd3786"
            ],
            [
             0.5555555555555556,
             "#d8576b"
            ],
            [
             0.6666666666666666,
             "#ed7953"
            ],
            [
             0.7777777777777778,
             "#fb9f3a"
            ],
            [
             0.8888888888888888,
             "#fdca26"
            ],
            [
             1,
             "#f0f921"
            ]
           ],
           "sequentialminus": [
            [
             0,
             "#0d0887"
            ],
            [
             0.1111111111111111,
             "#46039f"
            ],
            [
             0.2222222222222222,
             "#7201a8"
            ],
            [
             0.3333333333333333,
             "#9c179e"
            ],
            [
             0.4444444444444444,
             "#bd3786"
            ],
            [
             0.5555555555555556,
             "#d8576b"
            ],
            [
             0.6666666666666666,
             "#ed7953"
            ],
            [
             0.7777777777777778,
             "#fb9f3a"
            ],
            [
             0.8888888888888888,
             "#fdca26"
            ],
            [
             1,
             "#f0f921"
            ]
           ]
          },
          "colorway": [
           "#636efa",
           "#EF553B",
           "#00cc96",
           "#ab63fa",
           "#FFA15A",
           "#19d3f3",
           "#FF6692",
           "#B6E880",
           "#FF97FF",
           "#FECB52"
          ],
          "font": {
           "color": "#f2f5fa"
          },
          "geo": {
           "bgcolor": "rgb(17,17,17)",
           "lakecolor": "rgb(17,17,17)",
           "landcolor": "rgb(17,17,17)",
           "showlakes": true,
           "showland": true,
           "subunitcolor": "#506784"
          },
          "hoverlabel": {
           "align": "left"
          },
          "hovermode": "closest",
          "mapbox": {
           "style": "dark"
          },
          "paper_bgcolor": "rgb(17,17,17)",
          "plot_bgcolor": "rgb(17,17,17)",
          "polar": {
           "angularaxis": {
            "gridcolor": "#506784",
            "linecolor": "#506784",
            "ticks": ""
           },
           "bgcolor": "rgb(17,17,17)",
           "radialaxis": {
            "gridcolor": "#506784",
            "linecolor": "#506784",
            "ticks": ""
           }
          },
          "scene": {
           "xaxis": {
            "backgroundcolor": "rgb(17,17,17)",
            "gridcolor": "#506784",
            "gridwidth": 2,
            "linecolor": "#506784",
            "showbackground": true,
            "ticks": "",
            "zerolinecolor": "#C8D4E3"
           },
           "yaxis": {
            "backgroundcolor": "rgb(17,17,17)",
            "gridcolor": "#506784",
            "gridwidth": 2,
            "linecolor": "#506784",
            "showbackground": true,
            "ticks": "",
            "zerolinecolor": "#C8D4E3"
           },
           "zaxis": {
            "backgroundcolor": "rgb(17,17,17)",
            "gridcolor": "#506784",
            "gridwidth": 2,
            "linecolor": "#506784",
            "showbackground": true,
            "ticks": "",
            "zerolinecolor": "#C8D4E3"
           }
          },
          "shapedefaults": {
           "line": {
            "color": "#f2f5fa"
           }
          },
          "sliderdefaults": {
           "bgcolor": "#C8D4E3",
           "bordercolor": "rgb(17,17,17)",
           "borderwidth": 1,
           "tickwidth": 0
          },
          "ternary": {
           "aaxis": {
            "gridcolor": "#506784",
            "linecolor": "#506784",
            "ticks": ""
           },
           "baxis": {
            "gridcolor": "#506784",
            "linecolor": "#506784",
            "ticks": ""
           },
           "bgcolor": "rgb(17,17,17)",
           "caxis": {
            "gridcolor": "#506784",
            "linecolor": "#506784",
            "ticks": ""
           }
          },
          "title": {
           "x": 0.05
          },
          "updatemenudefaults": {
           "bgcolor": "#506784",
           "borderwidth": 0
          },
          "xaxis": {
           "automargin": true,
           "gridcolor": "#283442",
           "linecolor": "#506784",
           "ticks": "",
           "title": {
            "standoff": 15
           },
           "zerolinecolor": "#283442",
           "zerolinewidth": 2
          },
          "yaxis": {
           "automargin": true,
           "gridcolor": "#283442",
           "linecolor": "#506784",
           "ticks": "",
           "title": {
            "standoff": 15
           },
           "zerolinecolor": "#283442",
           "zerolinewidth": 2
          }
         }
        },
        "title": {
         "text": "Rating promedio nacional de Dunkin y Starbucks"
        },
        "xaxis": {
         "title": {
          "text": "Compañia"
         }
        },
        "yaxis": {
         "title": {
          "text": "Rating promedio"
         }
        }
       }
      }
     },
     "metadata": {},
     "output_type": "display_data"
    }
   ],
   "source": [
    "# Importar las bibliotecas necesarias\n",
    "import pandas as pd\n",
    "import plotly.graph_objects as go\n",
    "\n",
    "\n",
    "# Calcular la media de las calificaciones a nivel nacional\n",
    "avg_rating_dunkin = merged_df2['avg_rating'].mean()\n",
    "avg_rating_starbucks = merged_df['avg_rating'].mean()\n",
    "\n",
    "# Crear un dataframe con los resultados\n",
    "df_avg_national = pd.DataFrame({\n",
    "    'Compañia': ['Dunkin', 'Starbucks'],\n",
    "    'Rating promedio': [avg_rating_dunkin, avg_rating_starbucks]\n",
    "})\n",
    "\n",
    "# Crear el gráfico de barras con Plotly\n",
    "fig = go.Figure(data=[\n",
    "    go.Bar(name='Dunkin', x=['Dunkin'], y=[avg_rating_dunkin], marker_color='#FF4500'),\n",
    "    go.Bar(name='Starbucks', x=['Starbucks'], y=[avg_rating_starbucks], marker_color='green')\n",
    "])\n",
    "\n",
    "# Actualizar el layout del gráfico\n",
    "fig.update_layout(\n",
    "    title='Rating promedio nacional de Dunkin y Starbucks',\n",
    "    xaxis_title='Compañia',\n",
    "    yaxis_title='Rating promedio',\n",
    "    template='plotly_dark',\n",
    "    font=dict(size=15)\n",
    ")\n",
    "\n",
    "# Mostrar el gráfico\n",
    "fig.show()"
   ]
  },
  {
   "cell_type": "markdown",
   "metadata": {},
   "source": [
    "El gráfico de barras proporciona una comparación de las calificaciones promedio en los Estados Unidos de Dunkin' y Starbucks. Los datos revelan una leve ventaja para Starbucks en términos de valoración promedio."
   ]
  },
  {
   "cell_type": "code",
   "execution_count": 34,
   "metadata": {},
   "outputs": [
    {
     "name": "stdout",
     "output_type": "stream",
     "text": [
      "  state  Rating promedio Dunkin\n",
      "0    AL                3.851142\n",
      "1    AR                4.360000\n",
      "2    AZ                3.727987\n",
      "3    CA                4.084793\n",
      "4    CO                3.629600\n",
      "  state  Rating promedio Starbucks\n",
      "0    AK                   3.874348\n",
      "1    AL                   4.033273\n",
      "2    AR                   4.296812\n",
      "3    AZ                   4.073548\n",
      "4    CA                   4.167588\n",
      "  state  Rating promedio Dunkin  Rating promedio Starbucks\n",
      "0    AL                3.851142                   4.033273\n",
      "1    AR                4.360000                   4.296812\n",
      "2    AZ                3.727987                   4.073548\n",
      "3    CA                4.084793                   4.167588\n",
      "4    CO                3.629600                   4.037216\n"
     ]
    },
    {
     "data": {
      "application/vnd.plotly.v1+json": {
       "config": {
        "plotlyServerURL": "https://plot.ly"
       },
       "data": [
        {
         "alignmentgroup": "True",
         "hovertemplate": "Compañia=Rating promedio Dunkin<br>state=%{x}<br>Rating promedio=%{y}<extra></extra>",
         "legendgroup": "Rating promedio Dunkin",
         "marker": {
          "color": "#FF4500",
          "pattern": {
           "shape": ""
          }
         },
         "name": "Rating promedio Dunkin",
         "offsetgroup": "Rating promedio Dunkin",
         "orientation": "v",
         "showlegend": true,
         "textposition": "auto",
         "type": "bar",
         "x": [
          "AR",
          "KS",
          "OK",
          "CA",
          "DE",
          "OH",
          "RI",
          "NE",
          "GA",
          "KY"
         ],
         "xaxis": "x",
         "y": [
          4.359999999999999,
          4.2,
          4.111363636363635,
          4.0847926267281105,
          4.080205278592375,
          4.030281375614113,
          4.023369079535299,
          4.020038350910834,
          3.9973222124670764,
          3.9887573964497043
         ],
         "yaxis": "y"
        },
        {
         "alignmentgroup": "True",
         "hovertemplate": "Compañia=Rating promedio Starbucks<br>state=%{x}<br>Rating promedio=%{y}<extra></extra>",
         "legendgroup": "Rating promedio Starbucks",
         "marker": {
          "color": "green",
          "pattern": {
           "shape": ""
          }
         },
         "name": "Rating promedio Starbucks",
         "offsetgroup": "Rating promedio Starbucks",
         "orientation": "v",
         "showlegend": true,
         "textposition": "auto",
         "type": "bar",
         "x": [
          "AR",
          "KS",
          "OK",
          "CA",
          "DE",
          "OH",
          "RI",
          "NE",
          "GA",
          "KY"
         ],
         "xaxis": "x",
         "y": [
          4.296812080536913,
          4.115349369988545,
          3.972055030094583,
          4.167587714381796,
          4.05037037037037,
          4.000595238095238,
          4.069090909090908,
          4.137205153617443,
          3.994899665551839,
          3.94508547008547
         ],
         "yaxis": "y"
        }
       ],
       "layout": {
        "barmode": "group",
        "font": {
         "color": "white"
        },
        "legend": {
         "title": {
          "text": "Compañia"
         },
         "tracegroupgap": 0
        },
        "paper_bgcolor": "black",
        "plot_bgcolor": "black",
        "template": {
         "data": {
          "bar": [
           {
            "error_x": {
             "color": "#2a3f5f"
            },
            "error_y": {
             "color": "#2a3f5f"
            },
            "marker": {
             "line": {
              "color": "#E5ECF6",
              "width": 0.5
             },
             "pattern": {
              "fillmode": "overlay",
              "size": 10,
              "solidity": 0.2
             }
            },
            "type": "bar"
           }
          ],
          "barpolar": [
           {
            "marker": {
             "line": {
              "color": "#E5ECF6",
              "width": 0.5
             },
             "pattern": {
              "fillmode": "overlay",
              "size": 10,
              "solidity": 0.2
             }
            },
            "type": "barpolar"
           }
          ],
          "carpet": [
           {
            "aaxis": {
             "endlinecolor": "#2a3f5f",
             "gridcolor": "white",
             "linecolor": "white",
             "minorgridcolor": "white",
             "startlinecolor": "#2a3f5f"
            },
            "baxis": {
             "endlinecolor": "#2a3f5f",
             "gridcolor": "white",
             "linecolor": "white",
             "minorgridcolor": "white",
             "startlinecolor": "#2a3f5f"
            },
            "type": "carpet"
           }
          ],
          "choropleth": [
           {
            "colorbar": {
             "outlinewidth": 0,
             "ticks": ""
            },
            "type": "choropleth"
           }
          ],
          "contour": [
           {
            "colorbar": {
             "outlinewidth": 0,
             "ticks": ""
            },
            "colorscale": [
             [
              0,
              "#0d0887"
             ],
             [
              0.1111111111111111,
              "#46039f"
             ],
             [
              0.2222222222222222,
              "#7201a8"
             ],
             [
              0.3333333333333333,
              "#9c179e"
             ],
             [
              0.4444444444444444,
              "#bd3786"
             ],
             [
              0.5555555555555556,
              "#d8576b"
             ],
             [
              0.6666666666666666,
              "#ed7953"
             ],
             [
              0.7777777777777778,
              "#fb9f3a"
             ],
             [
              0.8888888888888888,
              "#fdca26"
             ],
             [
              1,
              "#f0f921"
             ]
            ],
            "type": "contour"
           }
          ],
          "contourcarpet": [
           {
            "colorbar": {
             "outlinewidth": 0,
             "ticks": ""
            },
            "type": "contourcarpet"
           }
          ],
          "heatmap": [
           {
            "colorbar": {
             "outlinewidth": 0,
             "ticks": ""
            },
            "colorscale": [
             [
              0,
              "#0d0887"
             ],
             [
              0.1111111111111111,
              "#46039f"
             ],
             [
              0.2222222222222222,
              "#7201a8"
             ],
             [
              0.3333333333333333,
              "#9c179e"
             ],
             [
              0.4444444444444444,
              "#bd3786"
             ],
             [
              0.5555555555555556,
              "#d8576b"
             ],
             [
              0.6666666666666666,
              "#ed7953"
             ],
             [
              0.7777777777777778,
              "#fb9f3a"
             ],
             [
              0.8888888888888888,
              "#fdca26"
             ],
             [
              1,
              "#f0f921"
             ]
            ],
            "type": "heatmap"
           }
          ],
          "heatmapgl": [
           {
            "colorbar": {
             "outlinewidth": 0,
             "ticks": ""
            },
            "colorscale": [
             [
              0,
              "#0d0887"
             ],
             [
              0.1111111111111111,
              "#46039f"
             ],
             [
              0.2222222222222222,
              "#7201a8"
             ],
             [
              0.3333333333333333,
              "#9c179e"
             ],
             [
              0.4444444444444444,
              "#bd3786"
             ],
             [
              0.5555555555555556,
              "#d8576b"
             ],
             [
              0.6666666666666666,
              "#ed7953"
             ],
             [
              0.7777777777777778,
              "#fb9f3a"
             ],
             [
              0.8888888888888888,
              "#fdca26"
             ],
             [
              1,
              "#f0f921"
             ]
            ],
            "type": "heatmapgl"
           }
          ],
          "histogram": [
           {
            "marker": {
             "pattern": {
              "fillmode": "overlay",
              "size": 10,
              "solidity": 0.2
             }
            },
            "type": "histogram"
           }
          ],
          "histogram2d": [
           {
            "colorbar": {
             "outlinewidth": 0,
             "ticks": ""
            },
            "colorscale": [
             [
              0,
              "#0d0887"
             ],
             [
              0.1111111111111111,
              "#46039f"
             ],
             [
              0.2222222222222222,
              "#7201a8"
             ],
             [
              0.3333333333333333,
              "#9c179e"
             ],
             [
              0.4444444444444444,
              "#bd3786"
             ],
             [
              0.5555555555555556,
              "#d8576b"
             ],
             [
              0.6666666666666666,
              "#ed7953"
             ],
             [
              0.7777777777777778,
              "#fb9f3a"
             ],
             [
              0.8888888888888888,
              "#fdca26"
             ],
             [
              1,
              "#f0f921"
             ]
            ],
            "type": "histogram2d"
           }
          ],
          "histogram2dcontour": [
           {
            "colorbar": {
             "outlinewidth": 0,
             "ticks": ""
            },
            "colorscale": [
             [
              0,
              "#0d0887"
             ],
             [
              0.1111111111111111,
              "#46039f"
             ],
             [
              0.2222222222222222,
              "#7201a8"
             ],
             [
              0.3333333333333333,
              "#9c179e"
             ],
             [
              0.4444444444444444,
              "#bd3786"
             ],
             [
              0.5555555555555556,
              "#d8576b"
             ],
             [
              0.6666666666666666,
              "#ed7953"
             ],
             [
              0.7777777777777778,
              "#fb9f3a"
             ],
             [
              0.8888888888888888,
              "#fdca26"
             ],
             [
              1,
              "#f0f921"
             ]
            ],
            "type": "histogram2dcontour"
           }
          ],
          "mesh3d": [
           {
            "colorbar": {
             "outlinewidth": 0,
             "ticks": ""
            },
            "type": "mesh3d"
           }
          ],
          "parcoords": [
           {
            "line": {
             "colorbar": {
              "outlinewidth": 0,
              "ticks": ""
             }
            },
            "type": "parcoords"
           }
          ],
          "pie": [
           {
            "automargin": true,
            "type": "pie"
           }
          ],
          "scatter": [
           {
            "fillpattern": {
             "fillmode": "overlay",
             "size": 10,
             "solidity": 0.2
            },
            "type": "scatter"
           }
          ],
          "scatter3d": [
           {
            "line": {
             "colorbar": {
              "outlinewidth": 0,
              "ticks": ""
             }
            },
            "marker": {
             "colorbar": {
              "outlinewidth": 0,
              "ticks": ""
             }
            },
            "type": "scatter3d"
           }
          ],
          "scattercarpet": [
           {
            "marker": {
             "colorbar": {
              "outlinewidth": 0,
              "ticks": ""
             }
            },
            "type": "scattercarpet"
           }
          ],
          "scattergeo": [
           {
            "marker": {
             "colorbar": {
              "outlinewidth": 0,
              "ticks": ""
             }
            },
            "type": "scattergeo"
           }
          ],
          "scattergl": [
           {
            "marker": {
             "colorbar": {
              "outlinewidth": 0,
              "ticks": ""
             }
            },
            "type": "scattergl"
           }
          ],
          "scattermapbox": [
           {
            "marker": {
             "colorbar": {
              "outlinewidth": 0,
              "ticks": ""
             }
            },
            "type": "scattermapbox"
           }
          ],
          "scatterpolar": [
           {
            "marker": {
             "colorbar": {
              "outlinewidth": 0,
              "ticks": ""
             }
            },
            "type": "scatterpolar"
           }
          ],
          "scatterpolargl": [
           {
            "marker": {
             "colorbar": {
              "outlinewidth": 0,
              "ticks": ""
             }
            },
            "type": "scatterpolargl"
           }
          ],
          "scatterternary": [
           {
            "marker": {
             "colorbar": {
              "outlinewidth": 0,
              "ticks": ""
             }
            },
            "type": "scatterternary"
           }
          ],
          "surface": [
           {
            "colorbar": {
             "outlinewidth": 0,
             "ticks": ""
            },
            "colorscale": [
             [
              0,
              "#0d0887"
             ],
             [
              0.1111111111111111,
              "#46039f"
             ],
             [
              0.2222222222222222,
              "#7201a8"
             ],
             [
              0.3333333333333333,
              "#9c179e"
             ],
             [
              0.4444444444444444,
              "#bd3786"
             ],
             [
              0.5555555555555556,
              "#d8576b"
             ],
             [
              0.6666666666666666,
              "#ed7953"
             ],
             [
              0.7777777777777778,
              "#fb9f3a"
             ],
             [
              0.8888888888888888,
              "#fdca26"
             ],
             [
              1,
              "#f0f921"
             ]
            ],
            "type": "surface"
           }
          ],
          "table": [
           {
            "cells": {
             "fill": {
              "color": "#EBF0F8"
             },
             "line": {
              "color": "white"
             }
            },
            "header": {
             "fill": {
              "color": "#C8D4E3"
             },
             "line": {
              "color": "white"
             }
            },
            "type": "table"
           }
          ]
         },
         "layout": {
          "annotationdefaults": {
           "arrowcolor": "#2a3f5f",
           "arrowhead": 0,
           "arrowwidth": 1
          },
          "autotypenumbers": "strict",
          "coloraxis": {
           "colorbar": {
            "outlinewidth": 0,
            "ticks": ""
           }
          },
          "colorscale": {
           "diverging": [
            [
             0,
             "#8e0152"
            ],
            [
             0.1,
             "#c51b7d"
            ],
            [
             0.2,
             "#de77ae"
            ],
            [
             0.3,
             "#f1b6da"
            ],
            [
             0.4,
             "#fde0ef"
            ],
            [
             0.5,
             "#f7f7f7"
            ],
            [
             0.6,
             "#e6f5d0"
            ],
            [
             0.7,
             "#b8e186"
            ],
            [
             0.8,
             "#7fbc41"
            ],
            [
             0.9,
             "#4d9221"
            ],
            [
             1,
             "#276419"
            ]
           ],
           "sequential": [
            [
             0,
             "#0d0887"
            ],
            [
             0.1111111111111111,
             "#46039f"
            ],
            [
             0.2222222222222222,
             "#7201a8"
            ],
            [
             0.3333333333333333,
             "#9c179e"
            ],
            [
             0.4444444444444444,
             "#bd3786"
            ],
            [
             0.5555555555555556,
             "#d8576b"
            ],
            [
             0.6666666666666666,
             "#ed7953"
            ],
            [
             0.7777777777777778,
             "#fb9f3a"
            ],
            [
             0.8888888888888888,
             "#fdca26"
            ],
            [
             1,
             "#f0f921"
            ]
           ],
           "sequentialminus": [
            [
             0,
             "#0d0887"
            ],
            [
             0.1111111111111111,
             "#46039f"
            ],
            [
             0.2222222222222222,
             "#7201a8"
            ],
            [
             0.3333333333333333,
             "#9c179e"
            ],
            [
             0.4444444444444444,
             "#bd3786"
            ],
            [
             0.5555555555555556,
             "#d8576b"
            ],
            [
             0.6666666666666666,
             "#ed7953"
            ],
            [
             0.7777777777777778,
             "#fb9f3a"
            ],
            [
             0.8888888888888888,
             "#fdca26"
            ],
            [
             1,
             "#f0f921"
            ]
           ]
          },
          "colorway": [
           "#636efa",
           "#EF553B",
           "#00cc96",
           "#ab63fa",
           "#FFA15A",
           "#19d3f3",
           "#FF6692",
           "#B6E880",
           "#FF97FF",
           "#FECB52"
          ],
          "font": {
           "color": "#2a3f5f"
          },
          "geo": {
           "bgcolor": "white",
           "lakecolor": "white",
           "landcolor": "#E5ECF6",
           "showlakes": true,
           "showland": true,
           "subunitcolor": "white"
          },
          "hoverlabel": {
           "align": "left"
          },
          "hovermode": "closest",
          "mapbox": {
           "style": "light"
          },
          "paper_bgcolor": "white",
          "plot_bgcolor": "#E5ECF6",
          "polar": {
           "angularaxis": {
            "gridcolor": "white",
            "linecolor": "white",
            "ticks": ""
           },
           "bgcolor": "#E5ECF6",
           "radialaxis": {
            "gridcolor": "white",
            "linecolor": "white",
            "ticks": ""
           }
          },
          "scene": {
           "xaxis": {
            "backgroundcolor": "#E5ECF6",
            "gridcolor": "white",
            "gridwidth": 2,
            "linecolor": "white",
            "showbackground": true,
            "ticks": "",
            "zerolinecolor": "white"
           },
           "yaxis": {
            "backgroundcolor": "#E5ECF6",
            "gridcolor": "white",
            "gridwidth": 2,
            "linecolor": "white",
            "showbackground": true,
            "ticks": "",
            "zerolinecolor": "white"
           },
           "zaxis": {
            "backgroundcolor": "#E5ECF6",
            "gridcolor": "white",
            "gridwidth": 2,
            "linecolor": "white",
            "showbackground": true,
            "ticks": "",
            "zerolinecolor": "white"
           }
          },
          "shapedefaults": {
           "line": {
            "color": "#2a3f5f"
           }
          },
          "ternary": {
           "aaxis": {
            "gridcolor": "white",
            "linecolor": "white",
            "ticks": ""
           },
           "baxis": {
            "gridcolor": "white",
            "linecolor": "white",
            "ticks": ""
           },
           "bgcolor": "#E5ECF6",
           "caxis": {
            "gridcolor": "white",
            "linecolor": "white",
            "ticks": ""
           }
          },
          "title": {
           "x": 0.05
          },
          "xaxis": {
           "automargin": true,
           "gridcolor": "white",
           "linecolor": "white",
           "ticks": "",
           "title": {
            "standoff": 15
           },
           "zerolinecolor": "white",
           "zerolinewidth": 2
          },
          "yaxis": {
           "automargin": true,
           "gridcolor": "white",
           "linecolor": "white",
           "ticks": "",
           "title": {
            "standoff": 15
           },
           "zerolinecolor": "white",
           "zerolinewidth": 2
          }
         }
        },
        "title": {
         "text": "Top 10 estados con mejores ratings para Dunkin y Starbucks"
        },
        "xaxis": {
         "anchor": "y",
         "domain": [
          0,
          1
         ],
         "title": {
          "text": "state"
         }
        },
        "yaxis": {
         "anchor": "x",
         "domain": [
          0,
          1
         ],
         "title": {
          "text": "Rating promedio"
         }
        }
       }
      }
     },
     "metadata": {},
     "output_type": "display_data"
    },
    {
     "name": "stdout",
     "output_type": "stream",
     "text": [
      "Gráfico de barras con fondo negro creado y mostrado con Plotly.\n"
     ]
    }
   ],
   "source": [
    "# Importar las bibliotecas necesarias\n",
    "import pandas as pd\n",
    "import plotly.express as px\n",
    "\n",
    "# Agrupar por estado y calcular la media de las calificaciones\n",
    "merged_df2_avg = merged_df2.groupby('state')['avg_rating'].mean().reset_index()\n",
    "mermerged_df_avg = merged_df.groupby('state')['avg_rating'].mean().reset_index()\n",
    "\n",
    "# Renombrar las columnas para diferenciarlas\n",
    "merged_df2_avg.columns = ['state', 'Rating promedio Dunkin']\n",
    "mermerged_df_avg.columns = ['state', 'Rating promedio Starbucks']\n",
    "\n",
    "# Verificar los nombres de las columnas después de la agrupación y renombrado\n",
    "print(merged_df2_avg.head())\n",
    "print(mermerged_df_avg.head())\n",
    "\n",
    "# Unir los dos dataframes en uno solo\n",
    "df_avg_combined = pd.merge(merged_df2_avg, mermerged_df_avg, on='state', how='inner')\n",
    "\n",
    "# Verificar los nombres de las columnas después de la fusión\n",
    "print(df_avg_combined.head())\n",
    "\n",
    "# Obtener los 10 estados con mejores ratings para Dunkin y Starbucks\n",
    "top10_combined = df_avg_combined.nlargest(10, ['Rating promedio Dunkin', 'Rating promedio Starbucks'])\n",
    "\n",
    "# Crear el gráfico de barras con Plotly\n",
    "fig = px.bar(top10_combined, x='state', y=['Rating promedio Dunkin', 'Rating promedio Starbucks'],\n",
    "             barmode='group', labels={'value': 'Rating promedio', 'variable': 'Compañia'},\n",
    "             title='Top 10 estados con mejores ratings para Dunkin y Starbucks',\n",
    "             color_discrete_map={'Rating promedio Dunkin': '#FF4500', 'Rating promedio Starbucks': 'green'})\n",
    "\n",
    "# Configurar el fondo en negro\n",
    "fig.update_layout(plot_bgcolor='black', paper_bgcolor='black', font_color='white')\n",
    "\n",
    "# Mostrar el gráfico\n",
    "fig.show()\n",
    "\n",
    "print('Gráfico de barras con fondo negro creado y mostrado con Plotly.')"
   ]
  },
  {
   "cell_type": "code",
   "execution_count": 36,
   "metadata": {},
   "outputs": [
    {
     "data": {
      "text/html": [
       "    <style>\n",
       "        .bk-notebook-logo {\n",
       "            display: block;\n",
       "            width: 20px;\n",
       "            height: 20px;\n",
       "            background-image: url(data:image/png;base64,iVBORw0KGgoAAAANSUhEUgAAABQAAAAUCAYAAACNiR0NAAAABHNCSVQICAgIfAhkiAAAAAlwSFlzAAALEgAACxIB0t1+/AAAABx0RVh0U29mdHdhcmUAQWRvYmUgRmlyZXdvcmtzIENTNui8sowAAAOkSURBVDiNjZRtaJVlGMd/1/08zzln5zjP1LWcU9N0NkN8m2CYjpgQYQXqSs0I84OLIC0hkEKoPtiH3gmKoiJDU7QpLgoLjLIQCpEsNJ1vqUOdO7ppbuec5+V+rj4ctwzd8IIbbi6u+8f1539dt3A78eXC7QizUF7gyV1fD1Yqg4JWz84yffhm0qkFqBogB9rM8tZdtwVsPUhWhGcFJngGeWrPzHm5oaMmkfEg1usvLFyc8jLRqDOMru7AyC8saQr7GG7f5fvDeH7Ej8CM66nIF+8yngt6HWaKh7k49Soy9nXurCi1o3qUbS3zWfrYeQDTB/Qj6kX6Ybhw4B+bOYoLKCC9H3Nu/leUTZ1JdRWkkn2ldcCamzrcf47KKXdAJllSlxAOkRgyHsGC/zRday5Qld9DyoM4/q/rUoy/CXh3jzOu3bHUVZeU+DEn8FInkPBFlu3+nW3Nw0mk6vCDiWg8CeJaxEwuHS3+z5RgY+YBR6V1Z1nxSOfoaPa4LASWxxdNp+VWTk7+4vzaou8v8PN+xo+KY2xsw6une2frhw05CTYOmQvsEhjhWjn0bmXPjpE1+kplmmkP3suftwTubK9Vq22qKmrBhpY4jvd5afdRA3wGjFAgcnTK2s4hY0/GPNIb0nErGMCRxWOOX64Z8RAC4oCXdklmEvcL8o0BfkNK4lUg9HTl+oPlQxdNo3Mg4Nv175e/1LDGzZen30MEjRUtmXSfiTVu1kK8W4txyV6BMKlbgk3lMwYCiusNy9fVfvvwMxv8Ynl6vxoByANLTWplvuj/nF9m2+PDtt1eiHPBr1oIfhCChQMBw6Aw0UulqTKZdfVvfG7VcfIqLG9bcldL/+pdWTLxLUy8Qq38heUIjh4XlzZxzQm19lLFlr8vdQ97rjZVOLf8nclzckbcD4wxXMidpX30sFd37Fv/GtwwhzhxGVAprjbg0gCAEeIgwCZyTV2Z1REEW8O4py0wsjeloKoMr6iCY6dP92H6Vw/oTyICIthibxjm/DfN9lVz8IqtqKYLUXfoKVMVQVVJOElGjrnnUt9T9wbgp8AyYKaGlqingHZU/uG2NTZSVqwHQTWkx9hxjkpWDaCg6Ckj5qebgBVbT3V3NNXMSiWSDdGV3hrtzla7J+duwPOToIg42ChPQOQjspnSlp1V+Gjdged7+8UN5CRAV7a5EdFNwCjEaBR27b3W890TE7g24NAP/mMDXRWrGoFPQI9ls/MWO2dWFAar/xcOIImbbpA3zgAAAABJRU5ErkJggg==);\n",
       "        }\n",
       "    </style>\n",
       "    <div>\n",
       "        <a href=\"https://bokeh.org\" target=\"_blank\" class=\"bk-notebook-logo\"></a>\n",
       "        <span id=\"e613b499-afbd-4033-a287-db143447aa40\">Loading BokehJS ...</span>\n",
       "    </div>\n"
      ]
     },
     "metadata": {},
     "output_type": "display_data"
    },
    {
     "data": {
      "application/javascript": "'use strict';\n(function(root) {\n  function now() {\n    return new Date();\n  }\n\n  const force = true;\n\n  if (typeof root._bokeh_onload_callbacks === \"undefined\" || force === true) {\n    root._bokeh_onload_callbacks = [];\n    root._bokeh_is_loading = undefined;\n  }\n\nconst JS_MIME_TYPE = 'application/javascript';\n  const HTML_MIME_TYPE = 'text/html';\n  const EXEC_MIME_TYPE = 'application/vnd.bokehjs_exec.v0+json';\n  const CLASS_NAME = 'output_bokeh rendered_html';\n\n  /**\n   * Render data to the DOM node\n   */\n  function render(props, node) {\n    const script = document.createElement(\"script\");\n    node.appendChild(script);\n  }\n\n  /**\n   * Handle when an output is cleared or removed\n   */\n  function handleClearOutput(event, handle) {\n    function drop(id) {\n      const view = Bokeh.index.get_by_id(id)\n      if (view != null) {\n        view.model.document.clear()\n        Bokeh.index.delete(view)\n      }\n    }\n\n    const cell = handle.cell;\n\n    const id = cell.output_area._bokeh_element_id;\n    const server_id = cell.output_area._bokeh_server_id;\n\n    // Clean up Bokeh references\n    if (id != null) {\n      drop(id)\n    }\n\n    if (server_id !== undefined) {\n      // Clean up Bokeh references\n      const cmd_clean = \"from bokeh.io.state import curstate; print(curstate().uuid_to_server['\" + server_id + \"'].get_sessions()[0].document.roots[0]._id)\";\n      cell.notebook.kernel.execute(cmd_clean, {\n        iopub: {\n          output: function(msg) {\n            const id = msg.content.text.trim()\n            drop(id)\n          }\n        }\n      });\n      // Destroy server and session\n      const cmd_destroy = \"import bokeh.io.notebook as ion; ion.destroy_server('\" + server_id + \"')\";\n      cell.notebook.kernel.execute(cmd_destroy);\n    }\n  }\n\n  /**\n   * Handle when a new output is added\n   */\n  function handleAddOutput(event, handle) {\n    const output_area = handle.output_area;\n    const output = handle.output;\n\n    // limit handleAddOutput to display_data with EXEC_MIME_TYPE content only\n    if ((output.output_type != \"display_data\") || (!Object.prototype.hasOwnProperty.call(output.data, EXEC_MIME_TYPE))) {\n      return\n    }\n\n    const toinsert = output_area.element.find(\".\" + CLASS_NAME.split(' ')[0]);\n\n    if (output.metadata[EXEC_MIME_TYPE][\"id\"] !== undefined) {\n      toinsert[toinsert.length - 1].firstChild.textContent = output.data[JS_MIME_TYPE];\n      // store reference to embed id on output_area\n      output_area._bokeh_element_id = output.metadata[EXEC_MIME_TYPE][\"id\"];\n    }\n    if (output.metadata[EXEC_MIME_TYPE][\"server_id\"] !== undefined) {\n      const bk_div = document.createElement(\"div\");\n      bk_div.innerHTML = output.data[HTML_MIME_TYPE];\n      const script_attrs = bk_div.children[0].attributes;\n      for (let i = 0; i < script_attrs.length; i++) {\n        toinsert[toinsert.length - 1].firstChild.setAttribute(script_attrs[i].name, script_attrs[i].value);\n        toinsert[toinsert.length - 1].firstChild.textContent = bk_div.children[0].textContent\n      }\n      // store reference to server id on output_area\n      output_area._bokeh_server_id = output.metadata[EXEC_MIME_TYPE][\"server_id\"];\n    }\n  }\n\n  function register_renderer(events, OutputArea) {\n\n    function append_mime(data, metadata, element) {\n      // create a DOM node to render to\n      const toinsert = this.create_output_subarea(\n        metadata,\n        CLASS_NAME,\n        EXEC_MIME_TYPE\n      );\n      this.keyboard_manager.register_events(toinsert);\n      // Render to node\n      const props = {data: data, metadata: metadata[EXEC_MIME_TYPE]};\n      render(props, toinsert[toinsert.length - 1]);\n      element.append(toinsert);\n      return toinsert\n    }\n\n    /* Handle when an output is cleared or removed */\n    events.on('clear_output.CodeCell', handleClearOutput);\n    events.on('delete.Cell', handleClearOutput);\n\n    /* Handle when a new output is added */\n    events.on('output_added.OutputArea', handleAddOutput);\n\n    /**\n     * Register the mime type and append_mime function with output_area\n     */\n    OutputArea.prototype.register_mime_type(EXEC_MIME_TYPE, append_mime, {\n      /* Is output safe? */\n      safe: true,\n      /* Index of renderer in `output_area.display_order` */\n      index: 0\n    });\n  }\n\n  // register the mime type if in Jupyter Notebook environment and previously unregistered\n  if (root.Jupyter !== undefined) {\n    const events = require('base/js/events');\n    const OutputArea = require('notebook/js/outputarea').OutputArea;\n\n    if (OutputArea.prototype.mime_types().indexOf(EXEC_MIME_TYPE) == -1) {\n      register_renderer(events, OutputArea);\n    }\n  }\n  if (typeof (root._bokeh_timeout) === \"undefined\" || force === true) {\n    root._bokeh_timeout = Date.now() + 5000;\n    root._bokeh_failed_load = false;\n  }\n\n  const NB_LOAD_WARNING = {'data': {'text/html':\n     \"<div style='background-color: #fdd'>\\n\"+\n     \"<p>\\n\"+\n     \"BokehJS does not appear to have successfully loaded. If loading BokehJS from CDN, this \\n\"+\n     \"may be due to a slow or bad network connection. Possible fixes:\\n\"+\n     \"</p>\\n\"+\n     \"<ul>\\n\"+\n     \"<li>re-rerun `output_notebook()` to attempt to load from CDN again, or</li>\\n\"+\n     \"<li>use INLINE resources instead, as so:</li>\\n\"+\n     \"</ul>\\n\"+\n     \"<code>\\n\"+\n     \"from bokeh.resources import INLINE\\n\"+\n     \"output_notebook(resources=INLINE)\\n\"+\n     \"</code>\\n\"+\n     \"</div>\"}};\n\n  function display_loaded(error = null) {\n    const el = document.getElementById(\"e613b499-afbd-4033-a287-db143447aa40\");\n    if (el != null) {\n      const html = (() => {\n        if (typeof root.Bokeh === \"undefined\") {\n          if (error == null) {\n            return \"BokehJS is loading ...\";\n          } else {\n            return \"BokehJS failed to load.\";\n          }\n        } else {\n          const prefix = `BokehJS ${root.Bokeh.version}`;\n          if (error == null) {\n            return `${prefix} successfully loaded.`;\n          } else {\n            return `${prefix} <b>encountered errors</b> while loading and may not function as expected.`;\n          }\n        }\n      })();\n      el.innerHTML = html;\n\n      if (error != null) {\n        const wrapper = document.createElement(\"div\");\n        wrapper.style.overflow = \"auto\";\n        wrapper.style.height = \"5em\";\n        wrapper.style.resize = \"vertical\";\n        const content = document.createElement(\"div\");\n        content.style.fontFamily = \"monospace\";\n        content.style.whiteSpace = \"pre-wrap\";\n        content.style.backgroundColor = \"rgb(255, 221, 221)\";\n        content.textContent = error.stack ?? error.toString();\n        wrapper.append(content);\n        el.append(wrapper);\n      }\n    } else if (Date.now() < root._bokeh_timeout) {\n      setTimeout(() => display_loaded(error), 100);\n    }\n  }\n\n  function run_callbacks() {\n    try {\n      root._bokeh_onload_callbacks.forEach(function(callback) {\n        if (callback != null)\n          callback();\n      });\n    } finally {\n      delete root._bokeh_onload_callbacks\n    }\n    console.debug(\"Bokeh: all callbacks have finished\");\n  }\n\n  function load_libs(css_urls, js_urls, callback) {\n    if (css_urls == null) css_urls = [];\n    if (js_urls == null) js_urls = [];\n\n    root._bokeh_onload_callbacks.push(callback);\n    if (root._bokeh_is_loading > 0) {\n      console.debug(\"Bokeh: BokehJS is being loaded, scheduling callback at\", now());\n      return null;\n    }\n    if (js_urls == null || js_urls.length === 0) {\n      run_callbacks();\n      return null;\n    }\n    console.debug(\"Bokeh: BokehJS not loaded, scheduling load and callback at\", now());\n    root._bokeh_is_loading = css_urls.length + js_urls.length;\n\n    function on_load() {\n      root._bokeh_is_loading--;\n      if (root._bokeh_is_loading === 0) {\n        console.debug(\"Bokeh: all BokehJS libraries/stylesheets loaded\");\n        run_callbacks()\n      }\n    }\n\n    function on_error(url) {\n      console.error(\"failed to load \" + url);\n    }\n\n    for (let i = 0; i < css_urls.length; i++) {\n      const url = css_urls[i];\n      const element = document.createElement(\"link\");\n      element.onload = on_load;\n      element.onerror = on_error.bind(null, url);\n      element.rel = \"stylesheet\";\n      element.type = \"text/css\";\n      element.href = url;\n      console.debug(\"Bokeh: injecting link tag for BokehJS stylesheet: \", url);\n      document.body.appendChild(element);\n    }\n\n    for (let i = 0; i < js_urls.length; i++) {\n      const url = js_urls[i];\n      const element = document.createElement('script');\n      element.onload = on_load;\n      element.onerror = on_error.bind(null, url);\n      element.async = false;\n      element.src = url;\n      console.debug(\"Bokeh: injecting script tag for BokehJS library: \", url);\n      document.head.appendChild(element);\n    }\n  };\n\n  function inject_raw_css(css) {\n    const element = document.createElement(\"style\");\n    element.appendChild(document.createTextNode(css));\n    document.body.appendChild(element);\n  }\n\n  const js_urls = [\"https://cdn.bokeh.org/bokeh/release/bokeh-3.4.1.min.js\", \"https://cdn.bokeh.org/bokeh/release/bokeh-gl-3.4.1.min.js\", \"https://cdn.bokeh.org/bokeh/release/bokeh-widgets-3.4.1.min.js\", \"https://cdn.bokeh.org/bokeh/release/bokeh-tables-3.4.1.min.js\", \"https://cdn.bokeh.org/bokeh/release/bokeh-mathjax-3.4.1.min.js\"];\n  const css_urls = [];\n\n  const inline_js = [    function(Bokeh) {\n      Bokeh.set_log_level(\"info\");\n    },\nfunction(Bokeh) {\n    }\n  ];\n\n  function run_inline_js() {\n    if (root.Bokeh !== undefined || force === true) {\n      try {\n            for (let i = 0; i < inline_js.length; i++) {\n      inline_js[i].call(root, root.Bokeh);\n    }\n\n      } catch (error) {display_loaded(error);throw error;\n      }if (force === true) {\n        display_loaded();\n      }} else if (Date.now() < root._bokeh_timeout) {\n      setTimeout(run_inline_js, 100);\n    } else if (!root._bokeh_failed_load) {\n      console.log(\"Bokeh: BokehJS failed to load within specified timeout.\");\n      root._bokeh_failed_load = true;\n    } else if (force !== true) {\n      const cell = $(document.getElementById(\"e613b499-afbd-4033-a287-db143447aa40\")).parents('.cell').data().cell;\n      cell.output_area.append_execute_result(NB_LOAD_WARNING)\n    }\n  }\n\n  if (root._bokeh_is_loading === 0) {\n    console.debug(\"Bokeh: BokehJS loaded, going straight to plotting\");\n    run_inline_js();\n  } else {\n    load_libs(css_urls, js_urls, function() {\n      console.debug(\"Bokeh: BokehJS plotting callback run at\", now());\n      run_inline_js();\n    });\n  }\n}(window));",
      "application/vnd.bokehjs_load.v0+json": ""
     },
     "metadata": {},
     "output_type": "display_data"
    },
    {
     "data": {
      "text/html": [
       "\n",
       "  <div id=\"b473bc48-185d-461a-8419-5dbff689f1d8\" data-root-id=\"p1005\" style=\"display: contents;\"></div>\n"
      ]
     },
     "metadata": {},
     "output_type": "display_data"
    },
    {
     "data": {
      "application/javascript": "(function(root) {\n  function embed_document(root) {\n  const docs_json = {\"bcbfbcfb-63b0-4139-aab8-ce9b49fb2273\":{\"version\":\"3.4.1\",\"title\":\"Bokeh Application\",\"roots\":[{\"type\":\"object\",\"name\":\"Figure\",\"id\":\"p1005\",\"attributes\":{\"height\":400,\"x_range\":{\"type\":\"object\",\"name\":\"FactorRange\",\"id\":\"p1004\",\"attributes\":{\"factors\":[[\"AR\",\"Dunkin\"],[\"AR\",\"Starbucks\"],[\"KS\",\"Dunkin\"],[\"KS\",\"Starbucks\"],[\"OK\",\"Dunkin\"],[\"OK\",\"Starbucks\"],[\"CA\",\"Dunkin\"],[\"CA\",\"Starbucks\"],[\"DE\",\"Dunkin\"],[\"DE\",\"Starbucks\"],[\"OH\",\"Dunkin\"],[\"OH\",\"Starbucks\"],[\"RI\",\"Dunkin\"],[\"RI\",\"Starbucks\"],[\"NE\",\"Dunkin\"],[\"NE\",\"Starbucks\"],[\"GA\",\"Dunkin\"],[\"GA\",\"Starbucks\"],[\"KY\",\"Dunkin\"],[\"KY\",\"Starbucks\"]],\"range_padding\":0.1}},\"y_range\":{\"type\":\"object\",\"name\":\"DataRange1d\",\"id\":\"p1007\",\"attributes\":{\"start\":0}},\"x_scale\":{\"type\":\"object\",\"name\":\"CategoricalScale\",\"id\":\"p1015\"},\"y_scale\":{\"type\":\"object\",\"name\":\"LinearScale\",\"id\":\"p1016\"},\"title\":{\"type\":\"object\",\"name\":\"Title\",\"id\":\"p1008\",\"attributes\":{\"text\":\"Top 10 estados con mejores ratings para Dunkin y Starbucks\",\"text_color\":\"white\"}},\"outline_line_color\":\"white\",\"renderers\":[{\"type\":\"object\",\"name\":\"GlyphRenderer\",\"id\":\"p1033\",\"attributes\":{\"data_source\":{\"type\":\"object\",\"name\":\"ColumnDataSource\",\"id\":\"p1001\",\"attributes\":{\"selected\":{\"type\":\"object\",\"name\":\"Selection\",\"id\":\"p1002\",\"attributes\":{\"indices\":[],\"line_indices\":[]}},\"selection_policy\":{\"type\":\"object\",\"name\":\"UnionRenderers\",\"id\":\"p1003\"},\"data\":{\"type\":\"map\",\"entries\":[[\"factors\",[[\"AR\",\"Dunkin\"],[\"AR\",\"Starbucks\"],[\"KS\",\"Dunkin\"],[\"KS\",\"Starbucks\"],[\"OK\",\"Dunkin\"],[\"OK\",\"Starbucks\"],[\"CA\",\"Dunkin\"],[\"CA\",\"Starbucks\"],[\"DE\",\"Dunkin\"],[\"DE\",\"Starbucks\"],[\"OH\",\"Dunkin\"],[\"OH\",\"Starbucks\"],[\"RI\",\"Dunkin\"],[\"RI\",\"Starbucks\"],[\"NE\",\"Dunkin\"],[\"NE\",\"Starbucks\"],[\"GA\",\"Dunkin\"],[\"GA\",\"Starbucks\"],[\"KY\",\"Dunkin\"],[\"KY\",\"Starbucks\"]]],[\"ratings\",[4.359999999999999,4.296812080536913,4.2,4.115349369988545,4.111363636363635,3.972055030094583,4.0847926267281105,4.167587714381796,4.080205278592375,4.05037037037037,4.030281375614113,4.000595238095238,4.023369079535299,4.069090909090908,4.020038350910834,4.137205153617443,3.9973222124670764,3.994899665551839,3.9887573964497043,3.94508547008547]],[\"colors\",[\"green\",\"orange\",\"green\",\"orange\",\"green\",\"orange\",\"green\",\"orange\",\"green\",\"orange\",\"green\",\"orange\",\"green\",\"orange\",\"green\",\"orange\",\"green\",\"orange\",\"green\",\"orange\"]]]}}},\"view\":{\"type\":\"object\",\"name\":\"CDSView\",\"id\":\"p1034\",\"attributes\":{\"filter\":{\"type\":\"object\",\"name\":\"AllIndices\",\"id\":\"p1035\"}}},\"glyph\":{\"type\":\"object\",\"name\":\"VBar\",\"id\":\"p1030\",\"attributes\":{\"x\":{\"type\":\"field\",\"field\":\"factors\"},\"width\":{\"type\":\"value\",\"value\":0.9},\"top\":{\"type\":\"field\",\"field\":\"ratings\"},\"line_color\":{\"type\":\"value\",\"value\":\"#1f77b4\"},\"fill_color\":{\"type\":\"field\",\"field\":\"colors\"}}},\"nonselection_glyph\":{\"type\":\"object\",\"name\":\"VBar\",\"id\":\"p1031\",\"attributes\":{\"x\":{\"type\":\"field\",\"field\":\"factors\"},\"width\":{\"type\":\"value\",\"value\":0.9},\"top\":{\"type\":\"field\",\"field\":\"ratings\"},\"line_color\":{\"type\":\"value\",\"value\":\"#1f77b4\"},\"line_alpha\":{\"type\":\"value\",\"value\":0.1},\"fill_color\":{\"type\":\"field\",\"field\":\"colors\"},\"fill_alpha\":{\"type\":\"value\",\"value\":0.1},\"hatch_alpha\":{\"type\":\"value\",\"value\":0.1}}},\"muted_glyph\":{\"type\":\"object\",\"name\":\"VBar\",\"id\":\"p1032\",\"attributes\":{\"x\":{\"type\":\"field\",\"field\":\"factors\"},\"width\":{\"type\":\"value\",\"value\":0.9},\"top\":{\"type\":\"field\",\"field\":\"ratings\"},\"line_color\":{\"type\":\"value\",\"value\":\"#1f77b4\"},\"line_alpha\":{\"type\":\"value\",\"value\":0.2},\"fill_color\":{\"type\":\"field\",\"field\":\"colors\"},\"fill_alpha\":{\"type\":\"value\",\"value\":0.2},\"hatch_alpha\":{\"type\":\"value\",\"value\":0.2}}}}}],\"toolbar\":{\"type\":\"object\",\"name\":\"Toolbar\",\"id\":\"p1014\"},\"toolbar_location\":null,\"left\":[{\"type\":\"object\",\"name\":\"LinearAxis\",\"id\":\"p1022\",\"attributes\":{\"ticker\":{\"type\":\"object\",\"name\":\"BasicTicker\",\"id\":\"p1023\",\"attributes\":{\"mantissas\":[1,2,5]}},\"formatter\":{\"type\":\"object\",\"name\":\"BasicTickFormatter\",\"id\":\"p1024\"},\"axis_label\":\"Rating promedio\",\"axis_label_text_color\":\"white\",\"major_label_policy\":{\"type\":\"object\",\"name\":\"AllLabels\",\"id\":\"p1025\"},\"major_label_text_color\":\"white\"}}],\"below\":[{\"type\":\"object\",\"name\":\"CategoricalAxis\",\"id\":\"p1017\",\"attributes\":{\"ticker\":{\"type\":\"object\",\"name\":\"CategoricalTicker\",\"id\":\"p1018\"},\"formatter\":{\"type\":\"object\",\"name\":\"CategoricalTickFormatter\",\"id\":\"p1019\"},\"axis_label\":\"Estado y Compa\\u00f1ia\",\"axis_label_text_color\":\"white\",\"major_label_orientation\":1,\"major_label_policy\":{\"type\":\"object\",\"name\":\"AllLabels\",\"id\":\"p1020\"},\"major_label_text_color\":\"white\",\"group_text_font_size\":\"10pt\",\"group_label_orientation\":1,\"subgroup_text_font_size\":\"10pt\",\"subgroup_label_orientation\":1}}],\"center\":[{\"type\":\"object\",\"name\":\"Grid\",\"id\":\"p1021\",\"attributes\":{\"axis\":{\"id\":\"p1017\"},\"grid_line_color\":null}},{\"type\":\"object\",\"name\":\"Grid\",\"id\":\"p1026\",\"attributes\":{\"dimension\":1,\"axis\":{\"id\":\"p1022\"}}}],\"background_fill_color\":\"black\",\"border_fill_color\":\"black\"}}]}};\n  const render_items = [{\"docid\":\"bcbfbcfb-63b0-4139-aab8-ce9b49fb2273\",\"roots\":{\"p1005\":\"b473bc48-185d-461a-8419-5dbff689f1d8\"},\"root_ids\":[\"p1005\"]}];\n  void root.Bokeh.embed.embed_items_notebook(docs_json, render_items);\n  }\n  if (root.Bokeh !== undefined) {\n    embed_document(root);\n  } else {\n    let attempts = 0;\n    const timer = setInterval(function(root) {\n      if (root.Bokeh !== undefined) {\n        clearInterval(timer);\n        embed_document(root);\n      } else {\n        attempts++;\n        if (attempts > 100) {\n          clearInterval(timer);\n          console.log(\"Bokeh: ERROR: Unable to run BokehJS code because BokehJS library is missing\");\n        }\n      }\n    }, 10, root)\n  }\n})(window);",
      "application/vnd.bokehjs_exec.v0+json": ""
     },
     "metadata": {
      "application/vnd.bokehjs_exec.v0+json": {
       "id": "p1005"
      }
     },
     "output_type": "display_data"
    },
    {
     "name": "stdout",
     "output_type": "stream",
     "text": [
      "Gráfico actualizado con fondo negro y colores personalizados para Dunkin (verde) y Starbucks (naranja).\n"
     ]
    }
   ],
   "source": [
    "# Importar las bibliotecas necesarias\n",
    "import pandas as pd\n",
    "from bokeh.plotting import figure, show, output_file\n",
    "from bokeh.io import output_notebook\n",
    "from bokeh.models import ColumnDataSource, FactorRange\n",
    "from bokeh.transform import factor_cmap\n",
    "from bokeh.palettes import Spectral6\n",
    "\n",
    "# Habilitar la salida en el notebook\n",
    "output_notebook()\n",
    "\n",
    "\n",
    "# Agrupar por estado y calcular la media de las calificaciones\n",
    "df_dunkin_avg = merged_df2.groupby('state')['avg_rating'].mean().reset_index()\n",
    "df_merged_avg = merged_df.groupby('state')['avg_rating'].mean().reset_index()\n",
    "\n",
    "# Renombrar las columnas para diferenciarlas\n",
    "df_dunkin_avg.columns = ['state', 'Rating promedio Dunkin']\n",
    "df_merged_avg.columns = ['state', 'Rating promedio Starbucks']\n",
    "\n",
    "# Unir los dos dataframes en uno solo\n",
    "df_avg_combined = pd.merge(df_dunkin_avg, df_merged_avg, on='state', how='inner')\n",
    "\n",
    "# Obtener los 10 estados con mejores ratings para Dunkin y Starbucks\n",
    "top10_combined = df_avg_combined.nlargest(10, ['Rating promedio Dunkin', 'Rating promedio Starbucks'])\n",
    "\n",
    "# Preparar los datos para Bokeh\n",
    "states = top10_combined['state'].tolist()\n",
    "rating_dunkin = top10_combined['Rating promedio Dunkin'].tolist()\n",
    "rating_starbucks = top10_combined['Rating promedio Starbucks'].tolist()\n",
    "\n",
    "# Definir las categorías para el gráfico\n",
    "factors = [(state, company) for state in states for company in ['Dunkin', 'Starbucks']]\n",
    "ratings = sum(zip(rating_dunkin, rating_starbucks), ())\n",
    "\n",
    "# Crear un ColumnDataSource\n",
    "source = ColumnDataSource(data=dict(factors=factors, ratings=ratings, colors=['green' if company == 'Dunkin' else 'orange' for state, company in factors]))\n",
    "\n",
    "# Crear el gráfico de barras con Bokeh\n",
    "p = figure(x_range=FactorRange(*factors), height=400, title=\"Top 10 estados con mejores ratings para Dunkin y Starbucks\",\n",
    "           toolbar_location=None, tools=\"\")\n",
    "\n",
    "p.vbar(x='factors', top='ratings', width=0.9, source=source, fill_color='colors')\n",
    "\n",
    "# Configurar el fondo en negro\n",
    "p.background_fill_color = \"black\"\n",
    "p.border_fill_color = \"black\"\n",
    "p.outline_line_color = \"white\"\n",
    "p.title.text_color = \"white\"\n",
    "p.xaxis.axis_label_text_color = \"white\"\n",
    "p.yaxis.axis_label_text_color = \"white\"\n",
    "p.xaxis.major_label_text_color = \"white\"\n",
    "p.yaxis.major_label_text_color = \"white\"\n",
    "\n",
    "p.y_range.start = 0\n",
    "p.x_range.range_padding = 0.1\n",
    "p.xgrid.grid_line_color = None\n",
    "p.xaxis.major_label_orientation = 1\n",
    "p.xaxis.group_label_orientation = 1\n",
    "p.xaxis.subgroup_label_orientation = 1\n",
    "p.xaxis.group_text_font_size = \"10pt\"\n",
    "p.xaxis.subgroup_text_font_size = \"10pt\"\n",
    "p.xaxis.axis_label = \"Estado y Compañia\"\n",
    "p.yaxis.axis_label = \"Rating promedio\"\n",
    "\n",
    "# Mostrar el gráfico\n",
    "show(p)\n",
    "print('Gráfico actualizado con fondo negro y colores personalizados para Dunkin (verde) y Starbucks (naranja).')"
   ]
  }
 ],
 "metadata": {
  "kernelspec": {
   "display_name": "Python 3",
   "language": "python",
   "name": "python3"
  },
  "language_info": {
   "codemirror_mode": {
    "name": "ipython",
    "version": 3
   },
   "file_extension": ".py",
   "mimetype": "text/x-python",
   "name": "python",
   "nbconvert_exporter": "python",
   "pygments_lexer": "ipython3",
   "version": "3.12.0"
  }
 },
 "nbformat": 4,
 "nbformat_minor": 2
}
