{
 "cells": [
  {
   "cell_type": "code",
   "execution_count": null,
   "metadata": {},
   "outputs": [],
   "source": [
    "import pandas as pd\n",
    "from tqdm import tqdm\n",
    "import os\n",
    "\n",
    "# List of all the files to be merged\n",
    "files = [\n",
    "    'merged_starbucks_data.parquet', 'nebraska starbucks reviews.parquet', 'nevada starbucks reviews.parquet', 'california starbucks reviews.parquet', \n",
    "    'florida starbucks reviews.parquet', 'new hampshire starbucks reviews.parquet', 'new jersey starbucks reviews.parquet', \n",
    "    'new mexico starbucks reviews.parquet', 'new york starbucks reviews.parquet', 'north carolina starbucks reviews.parquet', \n",
    "    'north dakota starbucks reviews.parquet', 'ohio starbucks reviews.parquet', 'oklahoma starbucks reviews.parquet', \n",
    "    'oregon starbucks reviews.parquet', 'pennsylvania starbucks reviews.parquet', 'rhode island starbucks reviews.parquet', \n",
    "    'south carolina starbucks reviews.parquet', 'south dakota starbucks reviews.parquet', 'tennessee starbucks reviews.parquet', \n",
    "    'texas starbucks reviews.parquet', 'utah starbucks reviews.parquet', 'vermont starbucks reviews.parquet', \n",
    "    'virginia starbucks reviews.parquet', 'washington starbucks reviews.parquet', 'west virginia starbucks reviews.parquet', \n",
    "    'wisconsin starbucks reviews.parquet', 'wyoming starbucks reviews.parquet'\n",
    "]\n",
    "\n",
    "# Initialize an empty list to hold dataframes\n",
    "\n",
    "# Read each file and append to the list\n",
    "dfs = [pd.read_parquet(file) for file in tqdm(files, desc='Loading files')]\n",
    "\n",
    "# Concatenate all dataframes\n",
    "merged_df = pd.concat(dfs, ignore_index=True)\n",
    "\n",
    "# Save the merged dataframe to a new parquet file\n",
    "merged_df.to_parquet('merged_starbucks_reviews.parquet')\n",
    "\n",
    "print('All files have been merged and saved as merged_starbucks_reviews.parquet.')"
   ]
  },
  {
   "cell_type": "code",
   "execution_count": null,
   "metadata": {},
   "outputs": [],
   "source": [
    "# Renombrar la columna 'state' por 'open-close'\n",
    "merged_df.rename(columns={'state': 'open-close'}, inplace=True)\n",
    "\n",
    "# Guardar el dataframe actualizado\n",
    "merged_df.to_parquet('merged_starbucks_reviews_updated.parquet')\n",
    "print('Columna renombrada y archivo guardado como merged_starbucks_reviews_updated.parquet')"
   ]
  },
  {
   "cell_type": "code",
   "execution_count": null,
   "metadata": {},
   "outputs": [],
   "source": [
    "import re\n",
    "\n",
    "# Lista de iniciales de estados\n",
    "states = ['AL', 'AK', 'AZ', 'AR', 'CA', 'CO', 'CT', 'DE', 'DC', 'FL', 'GA', 'HI', 'ID', 'IL', 'IN', 'IA', 'KS', 'KY', 'LA', 'ME', 'MD', 'MA', 'MI', 'MN', 'MS', 'MO', 'MT', 'NE', 'NV', 'NH', 'NJ', 'NM', 'NY', 'NC', 'ND', 'OH', 'OK', 'OR', 'PA', 'RI', 'SC', 'SD', 'TN', 'TX', 'UT', 'VT', 'VA', 'WA', 'WV', 'WI', 'WY']\n",
    "\n",
    "# Función para extraer el estado de la dirección\n",
    "def extract_state(address):\n",
    "    for state in states:\n",
    "        if re.search(r'\\\b' + state + r'\\\b', address):\n",
    "            return state\n",
    "    return None\n",
    "\n",
    "# Crear la nueva columna 'state'\n",
    "merged_df['state'] = merged_df['address'].apply(extract_state)\n",
    "\n",
    "# Guardar el dataframe actualizado\n",
    "merged_df.to_parquet('merged_starbucks_reviews_with_state.parquet')\n",
    "print('Nueva columna creada y archivo guardado como merged_starbucks_reviews_with_state.parquet')"
   ]
  }
 ],
 "metadata": {
  "language_info": {
   "name": "python"
  }
 },
 "nbformat": 4,
 "nbformat_minor": 2
}
