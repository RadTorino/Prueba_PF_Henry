{
 "cells": [
  {
   "cell_type": "code",
   "execution_count": 2,
   "metadata": {},
   "outputs": [
    {
     "name": "stdout",
     "output_type": "stream",
     "text": [
      "The most common pattern is: slow service\n",
      "Frequency: 121\n"
     ]
    }
   ],
   "source": [
    "# Import necessary libraries\n",
    "import pandas as pd\n",
    "from collections import Counter\n",
    "import re\n",
    "\n",
    "# Load the dataset\n",
    "file_path = 'merged_starbucks_reviews_with_state.parquet'\n",
    "df = pd.read_parquet(file_path)\n",
    "\n",
    "# Filter negative reviews\n",
    "negative_reviews = df[df['avg_rating'] < 3]['text'].dropna()\n",
    "\n",
    "# Define patterns to search for\n",
    "patterns = {\n",
    "    'slow service': ['slow', 'long', 'line', 'slowest'],\n",
    "    'rude staff': ['rude', 'bad', 'unfriendly', 'horrible', 'customer', 'nasty'],\n",
    "    'incorrect orders': ['wrong', 'size', 'messed', 'incorrect'],\n",
    "    'lack of product availability': ['stock', 'no cups', 'no lids', 'no ingredients', 'ran out'],\n",
    "    'high prices': ['expensive', 'price', 'overpriced', 'expensive']\n",
    "}\n",
    "\n",
    "# Count the frequency of each pattern\n",
    "pattern_counts = Counter()\n",
    "for review in negative_reviews:\n",
    "    for pattern, keywords in patterns.items():\n",
    "        if any(re.search(keyword, review, re.IGNORECASE) for keyword in keywords):\n",
    "            pattern_counts[pattern] += 1\n",
    "\n",
    "# Check if there are elements in the counter before trying to access them\n",
    "if pattern_counts:\n",
    "    most_common_pattern = pattern_counts.most_common(1)[0]\n",
    "    print('The most common pattern is:', most_common_pattern[0])\n",
    "    print('Frequency:', most_common_pattern[1])\n",
    "else:\n",
    "    print('No common patterns found.')"
   ]
  },
  {
   "cell_type": "code",
   "execution_count": 3,
   "metadata": {},
   "outputs": [
    {
     "name": "stdout",
     "output_type": "stream",
     "text": [
      "La palabra \"slow\" se repite: 2283.0 veces en la columna \"text\".\n"
     ]
    }
   ],
   "source": [
    "# Contar la frecuencia de la palabra 'slow' en la columna 'text'\n",
    "slow_count = df['text'].str.count('slow', flags=re.IGNORECASE).sum()\n",
    "print('La palabra \"slow\" se repite:', slow_count, 'veces en la columna \"text\".')"
   ]
  }
 ],
 "metadata": {
  "kernelspec": {
   "display_name": "Python 3",
   "language": "python",
   "name": "python3"
  },
  "language_info": {
   "codemirror_mode": {
    "name": "ipython",
    "version": 3
   },
   "file_extension": ".py",
   "mimetype": "text/x-python",
   "name": "python",
   "nbconvert_exporter": "python",
   "pygments_lexer": "ipython3",
   "version": "3.12.0"
  }
 },
 "nbformat": 4,
 "nbformat_minor": 2
}
