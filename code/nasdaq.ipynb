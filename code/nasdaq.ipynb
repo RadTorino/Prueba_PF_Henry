{
 "cells": [
  {
   "cell_type": "code",
   "execution_count": 8,
   "metadata": {},
   "outputs": [],
   "source": [
    "import yfinance as yf\n",
    "import pandas as pd\n",
    "import pyarrow.parquet as pq"
   ]
  },
  {
   "cell_type": "markdown",
   "metadata": {},
   "source": [
    "### Descargar informacion de Nasdaq de la empresa Starbucks"
   ]
  },
  {
   "cell_type": "code",
   "execution_count": 9,
   "metadata": {},
   "outputs": [
    {
     "name": "stderr",
     "output_type": "stream",
     "text": [
      "[*********************100%%**********************]  1 of 1 completed\n"
     ]
    }
   ],
   "source": [
    "# Descargar datos de Starbucks (SBUX) desde Yahoo Finance\n",
    "ticker = 'SBUX'\n",
    "data = yf.download(ticker, start='2016-01-01', end='2024-01-01')"
   ]
  },
  {
   "cell_type": "code",
   "execution_count": 10,
   "metadata": {},
   "outputs": [],
   "source": [
    "# Guardar los datos en un archivo Parquet\n",
    "data.to_parquet('..//data//starbucks_nasdaq_data.parquet')"
   ]
  },
  {
   "cell_type": "code",
   "execution_count": 11,
   "metadata": {},
   "outputs": [],
   "source": [
    "# Carga el archivo .parquet en un DataFrame de Pandas\n",
    "df_nasdaq_starbucks = pd.read_parquet('..//data//starbucks_nasdaq_data.parquet')"
   ]
  },
  {
   "cell_type": "code",
   "execution_count": 12,
   "metadata": {},
   "outputs": [
    {
     "data": {
      "text/html": [
       "<div>\n",
       "<style scoped>\n",
       "    .dataframe tbody tr th:only-of-type {\n",
       "        vertical-align: middle;\n",
       "    }\n",
       "\n",
       "    .dataframe tbody tr th {\n",
       "        vertical-align: top;\n",
       "    }\n",
       "\n",
       "    .dataframe thead th {\n",
       "        text-align: right;\n",
       "    }\n",
       "</style>\n",
       "<table border=\"1\" class=\"dataframe\">\n",
       "  <thead>\n",
       "    <tr style=\"text-align: right;\">\n",
       "      <th></th>\n",
       "      <th>Open</th>\n",
       "      <th>High</th>\n",
       "      <th>Low</th>\n",
       "      <th>Close</th>\n",
       "      <th>Adj Close</th>\n",
       "      <th>Volume</th>\n",
       "    </tr>\n",
       "    <tr>\n",
       "      <th>Date</th>\n",
       "      <th></th>\n",
       "      <th></th>\n",
       "      <th></th>\n",
       "      <th></th>\n",
       "      <th></th>\n",
       "      <th></th>\n",
       "    </tr>\n",
       "  </thead>\n",
       "  <tbody>\n",
       "    <tr>\n",
       "      <th>2016-01-04</th>\n",
       "      <td>58.770000</td>\n",
       "      <td>58.830002</td>\n",
       "      <td>57.599998</td>\n",
       "      <td>58.259998</td>\n",
       "      <td>49.182030</td>\n",
       "      <td>13521500</td>\n",
       "    </tr>\n",
       "    <tr>\n",
       "      <th>2016-01-05</th>\n",
       "      <td>58.790001</td>\n",
       "      <td>58.790001</td>\n",
       "      <td>57.980000</td>\n",
       "      <td>58.650002</td>\n",
       "      <td>49.511265</td>\n",
       "      <td>9617800</td>\n",
       "    </tr>\n",
       "    <tr>\n",
       "      <th>2016-01-06</th>\n",
       "      <td>57.700001</td>\n",
       "      <td>58.529999</td>\n",
       "      <td>57.639999</td>\n",
       "      <td>58.130001</td>\n",
       "      <td>49.072296</td>\n",
       "      <td>8266300</td>\n",
       "    </tr>\n",
       "    <tr>\n",
       "      <th>2016-01-07</th>\n",
       "      <td>56.880001</td>\n",
       "      <td>57.910000</td>\n",
       "      <td>56.160000</td>\n",
       "      <td>56.689999</td>\n",
       "      <td>47.856663</td>\n",
       "      <td>11140900</td>\n",
       "    </tr>\n",
       "    <tr>\n",
       "      <th>2016-01-08</th>\n",
       "      <td>57.410000</td>\n",
       "      <td>57.730000</td>\n",
       "      <td>56.529999</td>\n",
       "      <td>56.630001</td>\n",
       "      <td>47.806015</td>\n",
       "      <td>10427000</td>\n",
       "    </tr>\n",
       "    <tr>\n",
       "      <th>...</th>\n",
       "      <td>...</td>\n",
       "      <td>...</td>\n",
       "      <td>...</td>\n",
       "      <td>...</td>\n",
       "      <td>...</td>\n",
       "      <td>...</td>\n",
       "    </tr>\n",
       "    <tr>\n",
       "      <th>2023-12-22</th>\n",
       "      <td>94.889999</td>\n",
       "      <td>95.830002</td>\n",
       "      <td>94.339996</td>\n",
       "      <td>95.279999</td>\n",
       "      <td>93.997040</td>\n",
       "      <td>6360400</td>\n",
       "    </tr>\n",
       "    <tr>\n",
       "      <th>2023-12-26</th>\n",
       "      <td>95.339996</td>\n",
       "      <td>95.690002</td>\n",
       "      <td>94.959999</td>\n",
       "      <td>95.669998</td>\n",
       "      <td>94.381783</td>\n",
       "      <td>3709500</td>\n",
       "    </tr>\n",
       "    <tr>\n",
       "      <th>2023-12-27</th>\n",
       "      <td>95.690002</td>\n",
       "      <td>95.779999</td>\n",
       "      <td>94.790001</td>\n",
       "      <td>95.290001</td>\n",
       "      <td>94.006905</td>\n",
       "      <td>4959300</td>\n",
       "    </tr>\n",
       "    <tr>\n",
       "      <th>2023-12-28</th>\n",
       "      <td>95.500000</td>\n",
       "      <td>95.970001</td>\n",
       "      <td>95.110001</td>\n",
       "      <td>95.930000</td>\n",
       "      <td>94.638283</td>\n",
       "      <td>4518300</td>\n",
       "    </tr>\n",
       "    <tr>\n",
       "      <th>2023-12-29</th>\n",
       "      <td>95.879997</td>\n",
       "      <td>96.349998</td>\n",
       "      <td>95.349998</td>\n",
       "      <td>96.010002</td>\n",
       "      <td>94.717209</td>\n",
       "      <td>6134000</td>\n",
       "    </tr>\n",
       "  </tbody>\n",
       "</table>\n",
       "<p>2012 rows × 6 columns</p>\n",
       "</div>"
      ],
      "text/plain": [
       "                 Open       High        Low      Close  Adj Close    Volume\n",
       "Date                                                                       \n",
       "2016-01-04  58.770000  58.830002  57.599998  58.259998  49.182030  13521500\n",
       "2016-01-05  58.790001  58.790001  57.980000  58.650002  49.511265   9617800\n",
       "2016-01-06  57.700001  58.529999  57.639999  58.130001  49.072296   8266300\n",
       "2016-01-07  56.880001  57.910000  56.160000  56.689999  47.856663  11140900\n",
       "2016-01-08  57.410000  57.730000  56.529999  56.630001  47.806015  10427000\n",
       "...               ...        ...        ...        ...        ...       ...\n",
       "2023-12-22  94.889999  95.830002  94.339996  95.279999  93.997040   6360400\n",
       "2023-12-26  95.339996  95.690002  94.959999  95.669998  94.381783   3709500\n",
       "2023-12-27  95.690002  95.779999  94.790001  95.290001  94.006905   4959300\n",
       "2023-12-28  95.500000  95.970001  95.110001  95.930000  94.638283   4518300\n",
       "2023-12-29  95.879997  96.349998  95.349998  96.010002  94.717209   6134000\n",
       "\n",
       "[2012 rows x 6 columns]"
      ]
     },
     "execution_count": 12,
     "metadata": {},
     "output_type": "execute_result"
    }
   ],
   "source": [
    "df_nasdaq_starbucks"
   ]
  },
  {
   "cell_type": "code",
   "execution_count": 13,
   "metadata": {},
   "outputs": [
    {
     "name": "stdout",
     "output_type": "stream",
     "text": [
      "<class 'pandas.core.frame.DataFrame'>\n",
      "DatetimeIndex: 2012 entries, 2016-01-04 to 2023-12-29\n",
      "Data columns (total 6 columns):\n",
      " #   Column     Non-Null Count  Dtype  \n",
      "---  ------     --------------  -----  \n",
      " 0   Open       2012 non-null   float64\n",
      " 1   High       2012 non-null   float64\n",
      " 2   Low        2012 non-null   float64\n",
      " 3   Close      2012 non-null   float64\n",
      " 4   Adj Close  2012 non-null   float64\n",
      " 5   Volume     2012 non-null   int64  \n",
      "dtypes: float64(5), int64(1)\n",
      "memory usage: 110.0 KB\n"
     ]
    }
   ],
   "source": [
    "df_nasdaq_starbucks.info()"
   ]
  },
  {
   "cell_type": "code",
   "execution_count": null,
   "metadata": {},
   "outputs": [],
   "source": [
    "# Guardar los datos en un archivo Parquet\n",
    "data.to_parquet('..//data//starbucks_nasdaq_data.parquet')"
   ]
  }
 ],
 "metadata": {
  "kernelspec": {
   "display_name": "Python 3",
   "language": "python",
   "name": "python3"
  },
  "language_info": {
   "codemirror_mode": {
    "name": "ipython",
    "version": 3
   },
   "file_extension": ".py",
   "mimetype": "text/x-python",
   "name": "python",
   "nbconvert_exporter": "python",
   "pygments_lexer": "ipython3",
   "version": "3.12.3"
  }
 },
 "nbformat": 4,
 "nbformat_minor": 2
}
