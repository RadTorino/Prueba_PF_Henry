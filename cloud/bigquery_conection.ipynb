{
  "cells": [
    {
      "cell_type": "code",
      "execution_count": 3,
      "metadata": {
        "colab": {
          "base_uri": "https://localhost:8080/"
        },
        "id": "lNW_FoDIGVnV",
        "outputId": "38292921-65de-4793-dbb6-4a763f9f161b"
      },
      "outputs": [
        {
          "name": "stderr",
          "output_type": "stream",
          "text": [
            "\n",
            "[notice] A new release of pip is available: 24.0 -> 24.1.2\n",
            "[notice] To update, run: python.exe -m pip install --upgrade pip\n",
            "\n",
            "[notice] A new release of pip is available: 24.0 -> 24.1.2\n",
            "[notice] To update, run: python.exe -m pip install --upgrade pip\n"
          ]
        }
      ],
      "source": [
        "!pip install -q google-cloud-bigquery pandas\n",
        "!pip install -q db-dtypes"
      ]
    },
    {
      "cell_type": "code",
      "execution_count": 1,
      "metadata": {
        "id": "-YDc5uhvIiwj"
      },
      "outputs": [],
      "source": [
        "# Configure environmental variable with credentials\n",
        "from dotenv import load_dotenv\n",
        "import os\n",
        "load_dotenv()\n",
        "credentials_path=os.getenv(\"credentials_path\")\n",
        "os.environ[\"GOOGLE_APPLICATION_CREDENTIALS\"] = credentials_path"
      ]
    },
    {
      "cell_type": "code",
      "execution_count": 4,
      "metadata": {
        "id": "QqffyAhSGKbk"
      },
      "outputs": [],
      "source": [
        "from google.cloud import bigquery\n",
        "import pandas as pd\n",
        "\n",
        "def fetch_table_as_dataframe(client, table_id):\n",
        "    \"\"\"Fetches all data from a BigQuery table and returns it as a DataFrame.\"\"\"\n",
        "    query = f\"SELECT * FROM `{table_id}`\"\n",
        "    query_job = client.query(query)\n",
        "    results = query_job.result()\n",
        "    # Convert results to DataFrame\n",
        "    df = results.to_dataframe()\n",
        "    return df\n",
        "\n",
        "\n",
        "client = bigquery.Client()\n",
        "\n",
        "# TABLAS\n",
        "metadata_Stbcks =  \"verdant-cargo-426713-k3.google.metadata_starbucks\"\n",
        "reviews_google = \"verdant-cargo-426713-k3.google.reviews_starbucks\"\n",
        "#review_yelp = \"verdant-cargo-426713-k3.YELP.review\"\n",
        "#business_yelp = \"verdant-cargo-426713-k3.YELP.business\"\n",
        "user_yelp = \"verdant-cargo-426713-k3.YELP.user\"\n"
      ]
    },
    {
      "cell_type": "code",
      "execution_count": 5,
      "metadata": {},
      "outputs": [
        {
          "name": "stderr",
          "output_type": "stream",
          "text": [
            "c:\\Users\\torin\\AppData\\Local\\Programs\\Python\\Python312\\Lib\\site-packages\\google\\cloud\\bigquery\\table.py:1727: UserWarning: BigQuery Storage module not found, fetch data with the REST endpoint instead.\n",
            "  warnings.warn(\n"
          ]
        }
      ],
      "source": [
        "df = fetch_table_as_dataframe(client, reviews_google)"
      ]
    },
    {
      "cell_type": "code",
      "execution_count": 7,
      "metadata": {},
      "outputs": [
        {
          "data": {
            "text/html": [
              "<div>\n",
              "<style scoped>\n",
              "    .dataframe tbody tr th:only-of-type {\n",
              "        vertical-align: middle;\n",
              "    }\n",
              "\n",
              "    .dataframe tbody tr th {\n",
              "        vertical-align: top;\n",
              "    }\n",
              "\n",
              "    .dataframe thead th {\n",
              "        text-align: right;\n",
              "    }\n",
              "</style>\n",
              "<table border=\"1\" class=\"dataframe\">\n",
              "  <thead>\n",
              "    <tr style=\"text-align: right;\">\n",
              "      <th></th>\n",
              "      <th>user_id</th>\n",
              "      <th>name</th>\n",
              "      <th>date</th>\n",
              "      <th>rating</th>\n",
              "      <th>text</th>\n",
              "      <th>gmap_id</th>\n",
              "    </tr>\n",
              "  </thead>\n",
              "  <tbody>\n",
              "    <tr>\n",
              "      <th>0</th>\n",
              "      <td>115087327175786879005</td>\n",
              "      <td>James Drummond</td>\n",
              "      <td>2019-05-06 01:42:12+00:00</td>\n",
              "      <td>1</td>\n",
              "      <td>The location is a franchise of sorts operated ...</td>\n",
              "      <td>0x88891beed225fed1:0x3c63ad3e69972d22</td>\n",
              "    </tr>\n",
              "  </tbody>\n",
              "</table>\n",
              "</div>"
            ],
            "text/plain": [
              "                 user_id            name                      date  rating  \\\n",
              "0  115087327175786879005  James Drummond 2019-05-06 01:42:12+00:00       1   \n",
              "\n",
              "                                                text  \\\n",
              "0  The location is a franchise of sorts operated ...   \n",
              "\n",
              "                                 gmap_id  \n",
              "0  0x88891beed225fed1:0x3c63ad3e69972d22  "
            ]
          },
          "execution_count": 7,
          "metadata": {},
          "output_type": "execute_result"
        }
      ],
      "source": [
        "df.head(1)"
      ]
    },
    {
      "cell_type": "code",
      "execution_count": 6,
      "metadata": {},
      "outputs": [],
      "source": [
        "df.to_csv('reviews_google.csv', index=False)"
      ]
    }
  ],
  "metadata": {
    "colab": {
      "provenance": []
    },
    "kernelspec": {
      "display_name": "Python 3",
      "name": "python3"
    },
    "language_info": {
      "codemirror_mode": {
        "name": "ipython",
        "version": 3
      },
      "file_extension": ".py",
      "mimetype": "text/x-python",
      "name": "python",
      "nbconvert_exporter": "python",
      "pygments_lexer": "ipython3",
      "version": "3.12.4"
    }
  },
  "nbformat": 4,
  "nbformat_minor": 0
}
