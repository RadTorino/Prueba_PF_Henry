{
  "cells": [
    {
      "cell_type": "code",
      "execution_count": null,
      "metadata": {
        "colab": {
          "base_uri": "https://localhost:8080/"
        },
        "id": "lNW_FoDIGVnV",
        "outputId": "38292921-65de-4793-dbb6-4a763f9f161b"
      },
      "outputs": [],
      "source": [
        "!pip install -q google-cloud-bigquery pandas\n",
        "!pip install -q db-dtypes"
      ]
    },
    {
      "cell_type": "code",
      "execution_count": 1,
      "metadata": {
        "id": "-YDc5uhvIiwj"
      },
      "outputs": [],
      "source": [
        "# Configure environmental variable with credentials\n",
        "import os\n",
        "credentials_path=\"verdant-cargo-426713-k3-71ab39a331b3.json\"\n",
        "os.environ[\"GOOGLE_APPLICATION_CREDENTIALS\"] = credentials_path"
      ]
    },
    {
      "cell_type": "code",
      "execution_count": 3,
      "metadata": {
        "id": "QqffyAhSGKbk"
      },
      "outputs": [],
      "source": [
        "from google.cloud import bigquery\n",
        "import pandas as pd\n",
        "\n",
        "def fetch_table_as_dataframe(client, table_id):\n",
        "    \"\"\"Fetches all data from a BigQuery table and returns it as a DataFrame.\"\"\"\n",
        "    query = f\"SELECT * FROM `{table_id}`\"\n",
        "    query_job = client.query(query)\n",
        "    results = query_job.result()\n",
        "    # Convert results to DataFrame\n",
        "    df = results.to_dataframe()\n",
        "    return df\n",
        "\n",
        "\n",
        "client = bigquery.Client()\n",
        "\n",
        "# TABLAS\n",
        "metadata_Stbcks =  \"verdant-cargo-426713-k3.google.metadata_starbucks\"\n",
        "reviews_google = \"verdant-cargo-426713-k3.google.reviews_starbucks\"\n",
        "#review_yelp = \"verdant-cargo-426713-k3.YELP.review\"\n",
        "#business_yelp = \"verdant-cargo-426713-k3.YELP.business\"\n",
        "user_yelp = \"verdant-cargo-426713-k3.YELP.user\"\n"
      ]
    },
    {
      "cell_type": "code",
      "execution_count": 4,
      "metadata": {},
      "outputs": [
        {
          "name": "stderr",
          "output_type": "stream",
          "text": [
            "c:\\Users\\torin\\Desktop\\Programación\\Henry\\Prueba_PF_Henry\\sklearn-env\\Lib\\site-packages\\google\\cloud\\bigquery\\table.py:1727: UserWarning: BigQuery Storage module not found, fetch data with the REST endpoint instead.\n",
            "  warnings.warn(\n"
          ]
        }
      ],
      "source": [
        "df = fetch_table_as_dataframe(client, reviews_google)"
      ]
    },
    {
      "cell_type": "code",
      "execution_count": 8,
      "metadata": {},
      "outputs": [
        {
          "data": {
            "text/plain": [
              "0    https://www.google.com/maps/place//data=!4m2!3...\n",
              "Name: url, dtype: object"
            ]
          },
          "execution_count": 8,
          "metadata": {},
          "output_type": "execute_result"
        }
      ],
      "source": [
        "df.url.head(1)"
      ]
    },
    {
      "cell_type": "code",
      "execution_count": 6,
      "metadata": {},
      "outputs": [],
      "source": [
        "df.to_csv('reviews_google.csv', index=False)"
      ]
    }
  ],
  "metadata": {
    "colab": {
      "provenance": []
    },
    "kernelspec": {
      "display_name": "Python 3",
      "name": "python3"
    },
    "language_info": {
      "codemirror_mode": {
        "name": "ipython",
        "version": 3
      },
      "file_extension": ".py",
      "mimetype": "text/x-python",
      "name": "python",
      "nbconvert_exporter": "python",
      "pygments_lexer": "ipython3",
      "version": "3.12.4"
    }
  },
  "nbformat": 4,
  "nbformat_minor": 0
}
