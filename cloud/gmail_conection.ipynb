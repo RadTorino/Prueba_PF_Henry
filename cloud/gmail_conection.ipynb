{
 "cells": [
  {
   "cell_type": "code",
   "execution_count": 1,
   "metadata": {},
   "outputs": [],
   "source": [
    "import smtplib\n",
    "from email.mime.multipart import MIMEMultipart\n",
    "from email.mime.text import MIMEText"
   ]
  },
  {
   "cell_type": "code",
   "execution_count": 7,
   "metadata": {},
   "outputs": [],
   "source": [
    "def send_email(subject, body, to_email):\n",
    "    # Configura los parámetros del servidor de correo\n",
    "    smtp_server = 'smtp.gmail.com'  # Cambia esto si usas otro servidor SMTP\n",
    "    smtp_port = 587\n",
    "    from_email = 'torinoconrado@gmail.com'\n",
    "    password = 'zgvb zhdn vrkw wxgs'\n",
    "\n",
    "    # Configura el mensaje de correo\n",
    "    msg = MIMEMultipart()\n",
    "    msg['From'] = from_email\n",
    "    msg['To'] = \"torinoconrado@gmail.com\"\n",
    "    msg['Subject'] = \"Carga automatizada en tabla {tabla}\"\n",
    "    msg.attach(MIMEText(\"Se han cargado \", 'plain'))\n",
    "    \n",
    "    # Conecta al servidor de correo y envía el mensaje\n",
    "    try:\n",
    "        server = smtplib.SMTP(smtp_server, smtp_port)\n",
    "        server.starttls()\n",
    "        server.login(from_email, password)\n",
    "        text = msg.as_string()\n",
    "        server.sendmail(from_email, to_email, text)\n",
    "        server.quit()\n",
    "        print(\"Email sent successfully.\")\n",
    "    except Exception as e:\n",
    "        print(f\"Failed to send email. Error: {str(e)}\")"
   ]
  },
  {
   "cell_type": "code",
   "execution_count": 8,
   "metadata": {},
   "outputs": [
    {
     "name": "stdout",
     "output_type": "stream",
     "text": [
      "Email sent successfully.\n"
     ]
    }
   ],
   "source": [
    "send_email('a','b','b')"
   ]
  }
 ],
 "metadata": {
  "kernelspec": {
   "display_name": "Python 3",
   "language": "python",
   "name": "python3"
  },
  "language_info": {
   "codemirror_mode": {
    "name": "ipython",
    "version": 3
   },
   "file_extension": ".py",
   "mimetype": "text/x-python",
   "name": "python",
   "nbconvert_exporter": "python",
   "pygments_lexer": "ipython3",
   "version": "3.12.4"
  }
 },
 "nbformat": 4,
 "nbformat_minor": 2
}
