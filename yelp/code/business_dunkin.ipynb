{
 "cells": [
  {
   "cell_type": "code",
   "execution_count": 1,
   "metadata": {},
   "outputs": [],
   "source": [
    "import pandas as pd"
   ]
  },
  {
   "cell_type": "markdown",
   "metadata": {},
   "source": [
    "### Limpíar, Filtrar y ordenar DF business de yealp - Trabajaremos con data de la competencia de Starbucks"
   ]
  },
  {
   "cell_type": "code",
   "execution_count": 3,
   "metadata": {},
   "outputs": [],
   "source": [
    "# Cargar el archivo .pkl\n",
    "df = pd.read_pickle('..//data//business.pkl')\n",
    "\n",
    "# Eliminar columnas duplicadas\n",
    "df = df.loc[:, ~df.columns.duplicated()]\n",
    "\n",
    "# Guardar el DataFrame en formato .parquet\n",
    "df.to_parquet('..//data//business_competence.parquet')"
   ]
  },
  {
   "cell_type": "code",
   "execution_count": 29,
   "metadata": {},
   "outputs": [],
   "source": [
    "# Carga el archivo .parquet en un DataFrame de Pandas\n",
    "df_business = pd.read_parquet('..//data//business_competence.parquet')"
   ]
  },
  {
   "cell_type": "code",
   "execution_count": 11,
   "metadata": {},
   "outputs": [],
   "source": [
    "# Filtrar el DataFrame para incluir solo las filas donde 'name' contiene 'Dunkin' \n",
    "df_business_dunkin = df_business[df_business['name'].str.contains('Dunkin', na=False)]"
   ]
  },
  {
   "cell_type": "code",
   "execution_count": 34,
   "metadata": {},
   "outputs": [],
   "source": [
    "# Convertir la columna 'attributes' que contiene diccionarios en una serie de columnas\n",
    "attributes_df = pd.json_normalize(df_business_dunkin['attributes'])\n",
    "\n",
    "# Concatenar el DataFrame original con el DataFrame de atributos\n",
    "df_business_dunkin = pd.concat([df_business_dunkin.drop(columns=['attributes']), attributes_df], axis=1)"
   ]
  },
  {
   "cell_type": "code",
   "execution_count": 37,
   "metadata": {},
   "outputs": [],
   "source": [
    "# Convertir la columna 'postal_code' a tipo numérico (float)\n",
    "df_business_dunkin['postal_code'] = pd.to_numeric(df_business_dunkin['postal_code'], errors='coerce')"
   ]
  },
  {
   "cell_type": "code",
   "execution_count": 38,
   "metadata": {},
   "outputs": [],
   "source": [
    "# Convertir a tipo int, ignorando los NaN\n",
    "df_business_dunkin['postal_code'] = df_business_dunkin['postal_code'].astype('Int64')"
   ]
  },
  {
   "cell_type": "code",
   "execution_count": 39,
   "metadata": {},
   "outputs": [
    {
     "name": "stdout",
     "output_type": "stream",
     "text": [
      "556    33777\n",
      "572    46227\n",
      "728    33511\n",
      "873     8075\n",
      "939     8002\n",
      "Name: postal_code, dtype: Int64\n"
     ]
    }
   ],
   "source": [
    "# Verificar los primeros registros de la columna 'postal_code' después de la conversión\n",
    "print(df_business_dunkin['postal_code'].head())"
   ]
  },
  {
   "cell_type": "code",
   "execution_count": 40,
   "metadata": {},
   "outputs": [],
   "source": [
    "# Convertir la columna 'city' a tipo str\n",
    "df_business_dunkin['city'] = df_business_dunkin['city'].astype(str)"
   ]
  },
  {
   "cell_type": "code",
   "execution_count": 41,
   "metadata": {},
   "outputs": [],
   "source": [
    "# Eliminar las filas donde la columna 'name' tiene valores NaN\n",
    "df_business_dunkin = df_business_dunkin.dropna(subset=['name'])"
   ]
  },
  {
   "cell_type": "code",
   "execution_count": 42,
   "metadata": {},
   "outputs": [],
   "source": [
    "# Restablecer el índice\n",
    "df_business_dunkin = df_business_dunkin.reset_index(drop=True)"
   ]
  },
  {
   "cell_type": "code",
   "execution_count": 43,
   "metadata": {},
   "outputs": [
    {
     "name": "stdout",
     "output_type": "stream",
     "text": [
      "<class 'pandas.core.frame.DataFrame'>\n",
      "RangeIndex: 550 entries, 0 to 549\n",
      "Data columns (total 52 columns):\n",
      " #   Column                      Non-Null Count  Dtype  \n",
      "---  ------                      --------------  -----  \n",
      " 0   business_id                 550 non-null    object \n",
      " 1   name                        550 non-null    object \n",
      " 2   address                     550 non-null    object \n",
      " 3   city                        550 non-null    object \n",
      " 4   state                       550 non-null    object \n",
      " 5   postal_code                 550 non-null    Int64  \n",
      " 6   latitude                    550 non-null    float64\n",
      " 7   longitude                   550 non-null    float64\n",
      " 8   stars                       550 non-null    float64\n",
      " 9   review_count                550 non-null    float64\n",
      " 10  is_open                     550 non-null    float64\n",
      " 11  categories                  550 non-null    object \n",
      " 12  hours                       525 non-null    object \n",
      " 13  AcceptsInsurance            0 non-null      object \n",
      " 14  AgesAllowed                 0 non-null      object \n",
      " 15  Alcohol                     0 non-null      object \n",
      " 16  Ambience                    0 non-null      object \n",
      " 17  BYOB                        0 non-null      object \n",
      " 18  BYOBCorkage                 0 non-null      object \n",
      " 19  BestNights                  0 non-null      object \n",
      " 20  BikeParking                 0 non-null      object \n",
      " 21  BusinessAcceptsBitcoin      0 non-null      object \n",
      " 22  BusinessAcceptsCreditCards  0 non-null      object \n",
      " 23  BusinessParking             0 non-null      object \n",
      " 24  ByAppointmentOnly           0 non-null      object \n",
      " 25  Caters                      0 non-null      object \n",
      " 26  CoatCheck                   0 non-null      object \n",
      " 27  Corkage                     0 non-null      object \n",
      " 28  DietaryRestrictions         0 non-null      object \n",
      " 29  DogsAllowed                 0 non-null      object \n",
      " 30  DriveThru                   0 non-null      object \n",
      " 31  GoodForDancing              0 non-null      object \n",
      " 32  GoodForKids                 0 non-null      object \n",
      " 33  GoodForMeal                 0 non-null      object \n",
      " 34  HairSpecializesIn           0 non-null      object \n",
      " 35  HappyHour                   0 non-null      object \n",
      " 36  HasTV                       0 non-null      object \n",
      " 37  Music                       0 non-null      object \n",
      " 38  NoiseLevel                  0 non-null      object \n",
      " 39  Open24Hours                 0 non-null      object \n",
      " 40  OutdoorSeating              0 non-null      object \n",
      " 41  RestaurantsAttire           0 non-null      object \n",
      " 42  RestaurantsCounterService   0 non-null      object \n",
      " 43  RestaurantsDelivery         0 non-null      object \n",
      " 44  RestaurantsGoodForGroups    0 non-null      object \n",
      " 45  RestaurantsPriceRange2      0 non-null      object \n",
      " 46  RestaurantsReservations     0 non-null      object \n",
      " 47  RestaurantsTableService     0 non-null      object \n",
      " 48  RestaurantsTakeOut          0 non-null      object \n",
      " 49  Smoking                     0 non-null      object \n",
      " 50  WheelchairAccessible        0 non-null      object \n",
      " 51  WiFi                        0 non-null      object \n",
      "dtypes: Int64(1), float64(5), object(46)\n",
      "memory usage: 224.1+ KB\n"
     ]
    }
   ],
   "source": [
    "df_business_dunkin.info()"
   ]
  },
  {
   "cell_type": "code",
   "execution_count": 44,
   "metadata": {},
   "outputs": [
    {
     "data": {
      "text/html": [
       "<div>\n",
       "<style scoped>\n",
       "    .dataframe tbody tr th:only-of-type {\n",
       "        vertical-align: middle;\n",
       "    }\n",
       "\n",
       "    .dataframe tbody tr th {\n",
       "        vertical-align: top;\n",
       "    }\n",
       "\n",
       "    .dataframe thead th {\n",
       "        text-align: right;\n",
       "    }\n",
       "</style>\n",
       "<table border=\"1\" class=\"dataframe\">\n",
       "  <thead>\n",
       "    <tr style=\"text-align: right;\">\n",
       "      <th></th>\n",
       "      <th>business_id</th>\n",
       "      <th>name</th>\n",
       "      <th>address</th>\n",
       "      <th>city</th>\n",
       "      <th>state</th>\n",
       "      <th>postal_code</th>\n",
       "      <th>latitude</th>\n",
       "      <th>longitude</th>\n",
       "      <th>stars</th>\n",
       "      <th>review_count</th>\n",
       "      <th>is_open</th>\n",
       "      <th>categories</th>\n",
       "      <th>hours</th>\n",
       "      <th>AcceptsInsurance</th>\n",
       "      <th>AgesAllowed</th>\n",
       "      <th>Alcohol</th>\n",
       "      <th>Ambience</th>\n",
       "      <th>BYOB</th>\n",
       "      <th>BYOBCorkage</th>\n",
       "      <th>BestNights</th>\n",
       "      <th>BikeParking</th>\n",
       "      <th>BusinessAcceptsBitcoin</th>\n",
       "      <th>BusinessAcceptsCreditCards</th>\n",
       "      <th>BusinessParking</th>\n",
       "      <th>ByAppointmentOnly</th>\n",
       "      <th>Caters</th>\n",
       "      <th>CoatCheck</th>\n",
       "      <th>Corkage</th>\n",
       "      <th>DietaryRestrictions</th>\n",
       "      <th>DogsAllowed</th>\n",
       "      <th>DriveThru</th>\n",
       "      <th>GoodForDancing</th>\n",
       "      <th>GoodForKids</th>\n",
       "      <th>GoodForMeal</th>\n",
       "      <th>HairSpecializesIn</th>\n",
       "      <th>HappyHour</th>\n",
       "      <th>HasTV</th>\n",
       "      <th>Music</th>\n",
       "      <th>NoiseLevel</th>\n",
       "      <th>Open24Hours</th>\n",
       "      <th>OutdoorSeating</th>\n",
       "      <th>RestaurantsAttire</th>\n",
       "      <th>RestaurantsCounterService</th>\n",
       "      <th>RestaurantsDelivery</th>\n",
       "      <th>RestaurantsGoodForGroups</th>\n",
       "      <th>RestaurantsPriceRange2</th>\n",
       "      <th>RestaurantsReservations</th>\n",
       "      <th>RestaurantsTableService</th>\n",
       "      <th>RestaurantsTakeOut</th>\n",
       "      <th>Smoking</th>\n",
       "      <th>WheelchairAccessible</th>\n",
       "      <th>WiFi</th>\n",
       "    </tr>\n",
       "  </thead>\n",
       "  <tbody>\n",
       "    <tr>\n",
       "      <th>0</th>\n",
       "      <td>vxrGNnuEef7YCfB7mN08rA</td>\n",
       "      <td>Dunkin'</td>\n",
       "      <td>8150 Bryan Dairy Rd</td>\n",
       "      <td>Pinellas Park</td>\n",
       "      <td>AZ</td>\n",
       "      <td>33777</td>\n",
       "      <td>27.871828</td>\n",
       "      <td>-82.750285</td>\n",
       "      <td>2.0</td>\n",
       "      <td>8.0</td>\n",
       "      <td>1.0</td>\n",
       "      <td>Coffee &amp; Tea, Donuts, Food</td>\n",
       "      <td>{'Friday': '5:0-22:0', 'Monday': '5:0-22:0', '...</td>\n",
       "      <td>NaN</td>\n",
       "      <td>NaN</td>\n",
       "      <td>NaN</td>\n",
       "      <td>NaN</td>\n",
       "      <td>NaN</td>\n",
       "      <td>NaN</td>\n",
       "      <td>NaN</td>\n",
       "      <td>NaN</td>\n",
       "      <td>NaN</td>\n",
       "      <td>NaN</td>\n",
       "      <td>NaN</td>\n",
       "      <td>NaN</td>\n",
       "      <td>NaN</td>\n",
       "      <td>NaN</td>\n",
       "      <td>NaN</td>\n",
       "      <td>NaN</td>\n",
       "      <td>NaN</td>\n",
       "      <td>NaN</td>\n",
       "      <td>NaN</td>\n",
       "      <td>NaN</td>\n",
       "      <td>NaN</td>\n",
       "      <td>NaN</td>\n",
       "      <td>NaN</td>\n",
       "      <td>NaN</td>\n",
       "      <td>NaN</td>\n",
       "      <td>NaN</td>\n",
       "      <td>NaN</td>\n",
       "      <td>NaN</td>\n",
       "      <td>NaN</td>\n",
       "      <td>NaN</td>\n",
       "      <td>NaN</td>\n",
       "      <td>NaN</td>\n",
       "      <td>NaN</td>\n",
       "      <td>NaN</td>\n",
       "      <td>NaN</td>\n",
       "      <td>NaN</td>\n",
       "      <td>NaN</td>\n",
       "      <td>NaN</td>\n",
       "      <td>NaN</td>\n",
       "    </tr>\n",
       "  </tbody>\n",
       "</table>\n",
       "</div>"
      ],
      "text/plain": [
       "              business_id     name              address           city state  \\\n",
       "0  vxrGNnuEef7YCfB7mN08rA  Dunkin'  8150 Bryan Dairy Rd  Pinellas Park    AZ   \n",
       "\n",
       "   postal_code   latitude  longitude  stars  review_count  is_open  \\\n",
       "0        33777  27.871828 -82.750285    2.0           8.0      1.0   \n",
       "\n",
       "                   categories  \\\n",
       "0  Coffee & Tea, Donuts, Food   \n",
       "\n",
       "                                               hours AcceptsInsurance  \\\n",
       "0  {'Friday': '5:0-22:0', 'Monday': '5:0-22:0', '...              NaN   \n",
       "\n",
       "  AgesAllowed Alcohol Ambience BYOB BYOBCorkage BestNights BikeParking  \\\n",
       "0         NaN     NaN      NaN  NaN         NaN        NaN         NaN   \n",
       "\n",
       "  BusinessAcceptsBitcoin BusinessAcceptsCreditCards BusinessParking  \\\n",
       "0                    NaN                        NaN             NaN   \n",
       "\n",
       "  ByAppointmentOnly Caters CoatCheck Corkage DietaryRestrictions DogsAllowed  \\\n",
       "0               NaN    NaN       NaN     NaN                 NaN         NaN   \n",
       "\n",
       "  DriveThru GoodForDancing GoodForKids GoodForMeal HairSpecializesIn  \\\n",
       "0       NaN            NaN         NaN         NaN               NaN   \n",
       "\n",
       "  HappyHour HasTV Music NoiseLevel Open24Hours OutdoorSeating  \\\n",
       "0       NaN   NaN   NaN        NaN         NaN            NaN   \n",
       "\n",
       "  RestaurantsAttire RestaurantsCounterService RestaurantsDelivery  \\\n",
       "0               NaN                       NaN                 NaN   \n",
       "\n",
       "  RestaurantsGoodForGroups RestaurantsPriceRange2 RestaurantsReservations  \\\n",
       "0                      NaN                    NaN                     NaN   \n",
       "\n",
       "  RestaurantsTableService RestaurantsTakeOut Smoking WheelchairAccessible WiFi  \n",
       "0                     NaN                NaN     NaN                  NaN  NaN  "
      ]
     },
     "execution_count": 44,
     "metadata": {},
     "output_type": "execute_result"
    }
   ],
   "source": [
    "# Configurar pandas para mostrar todas las columnas\n",
    "pd.set_option('display.max_columns', None)\n",
    "df_business_dunkin.head(1)"
   ]
  },
  {
   "cell_type": "code",
   "execution_count": 45,
   "metadata": {},
   "outputs": [],
   "source": [
    "# Guardar el DataFrame como archivo Parquet\n",
    "df_business_dunkin.to_parquet('..//data//business_dunkin.parquet')"
   ]
  }
 ],
 "metadata": {
  "kernelspec": {
   "display_name": "Python 3",
   "language": "python",
   "name": "python3"
  },
  "language_info": {
   "codemirror_mode": {
    "name": "ipython",
    "version": 3
   },
   "file_extension": ".py",
   "mimetype": "text/x-python",
   "name": "python",
   "nbconvert_exporter": "python",
   "pygments_lexer": "ipython3",
   "version": "3.12.3"
  }
 },
 "nbformat": 4,
 "nbformat_minor": 2
}
