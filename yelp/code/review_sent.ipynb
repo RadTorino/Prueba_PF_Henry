{
 "cells": [
  {
   "cell_type": "code",
   "execution_count": 1,
   "metadata": {},
   "outputs": [],
   "source": [
    "import pandas as pd\n",
    "import nltk\n",
    "from nltk.sentiment import SentimentIntensityAnalyzer"
   ]
  },
  {
   "cell_type": "markdown",
   "metadata": {},
   "source": [
    "### Cargar archivo review.parquet, realizar analisis sentimental, variables dummy, agrupación por business_id"
   ]
  },
  {
   "cell_type": "code",
   "execution_count": 44,
   "metadata": {},
   "outputs": [],
   "source": [
    "# Carga el archivo .parquet en un DataFrame de Pandas\n",
    "df_review_sent = pd.read_parquet('..//data//review.parquet')"
   ]
  },
  {
   "cell_type": "code",
   "execution_count": 45,
   "metadata": {},
   "outputs": [],
   "source": [
    "# Eliminar las columnas 'review_id' y 'user_id'\n",
    "df_review_sent.drop(columns=['review_id', 'user_id'], inplace=True)"
   ]
  },
  {
   "cell_type": "code",
   "execution_count": 46,
   "metadata": {},
   "outputs": [
    {
     "name": "stderr",
     "output_type": "stream",
     "text": [
      "[nltk_data] Downloading package vader_lexicon to\n",
      "[nltk_data]     C:\\Users\\jhcat\\AppData\\Roaming\\nltk_data...\n",
      "[nltk_data]   Package vader_lexicon is already up-to-date!\n"
     ]
    },
    {
     "data": {
      "text/plain": [
       "True"
      ]
     },
     "execution_count": 46,
     "metadata": {},
     "output_type": "execute_result"
    }
   ],
   "source": [
    "# Descargar el lexicón de VADER\n",
    "nltk.download('vader_lexicon')"
   ]
  },
  {
   "cell_type": "code",
   "execution_count": 47,
   "metadata": {},
   "outputs": [],
   "source": [
    "# Inicializar el analizador de sentimientos\n",
    "sia = SentimentIntensityAnalyzer()"
   ]
  },
  {
   "cell_type": "code",
   "execution_count": 48,
   "metadata": {},
   "outputs": [],
   "source": [
    "# Función para clasificar el sentimiento\n",
    "def classify_sentiment(text):\n",
    "    scores = sia.polarity_scores(text)\n",
    "    if scores['compound'] >= 0.05:\n",
    "        return 2  # Positivo\n",
    "    elif scores['compound'] <= -0.05:\n",
    "        return 0  # Negativo\n",
    "    else:\n",
    "        return 1  # Neutral"
   ]
  },
  {
   "cell_type": "code",
   "execution_count": 49,
   "metadata": {},
   "outputs": [],
   "source": [
    "# Aplicar la función a la columna 'text'\n",
    "df_review_sent['sentiment'] = df_review_sent['text'].apply(classify_sentiment)"
   ]
  },
  {
   "cell_type": "code",
   "execution_count": 50,
   "metadata": {},
   "outputs": [
    {
     "data": {
      "text/html": [
       "<div>\n",
       "<style scoped>\n",
       "    .dataframe tbody tr th:only-of-type {\n",
       "        vertical-align: middle;\n",
       "    }\n",
       "\n",
       "    .dataframe tbody tr th {\n",
       "        vertical-align: top;\n",
       "    }\n",
       "\n",
       "    .dataframe thead th {\n",
       "        text-align: right;\n",
       "    }\n",
       "</style>\n",
       "<table border=\"1\" class=\"dataframe\">\n",
       "  <thead>\n",
       "    <tr style=\"text-align: right;\">\n",
       "      <th></th>\n",
       "      <th>business_id</th>\n",
       "      <th>stars</th>\n",
       "      <th>useful</th>\n",
       "      <th>funny</th>\n",
       "      <th>cool</th>\n",
       "      <th>text</th>\n",
       "      <th>date</th>\n",
       "      <th>sentiment</th>\n",
       "    </tr>\n",
       "  </thead>\n",
       "  <tbody>\n",
       "    <tr>\n",
       "      <th>0</th>\n",
       "      <td>aJvxWyQIG5OLfBw3qAe8xA</td>\n",
       "      <td>2.0</td>\n",
       "      <td>0</td>\n",
       "      <td>0</td>\n",
       "      <td>0</td>\n",
       "      <td>Ordered Caramel Frappe At Drive Thru, Big Mist...</td>\n",
       "      <td>2017-12-29 19:38:31</td>\n",
       "      <td>0</td>\n",
       "    </tr>\n",
       "    <tr>\n",
       "      <th>1</th>\n",
       "      <td>MjZQqZAmJeMco_Vq-Y9h-g</td>\n",
       "      <td>4.0</td>\n",
       "      <td>0</td>\n",
       "      <td>0</td>\n",
       "      <td>0</td>\n",
       "      <td>Drum-roll Please! Review #100 Coming Right Up!...</td>\n",
       "      <td>2014-02-05 19:38:24</td>\n",
       "      <td>2</td>\n",
       "    </tr>\n",
       "    <tr>\n",
       "      <th>2</th>\n",
       "      <td>u7MJKcNdZXYyTeb67vD5jw</td>\n",
       "      <td>4.0</td>\n",
       "      <td>1</td>\n",
       "      <td>0</td>\n",
       "      <td>0</td>\n",
       "      <td>We Stopped Here For My Chai And Hubby's Coffee...</td>\n",
       "      <td>2017-02-09 04:35:39</td>\n",
       "      <td>2</td>\n",
       "    </tr>\n",
       "    <tr>\n",
       "      <th>3</th>\n",
       "      <td>saJFbz12EnzanelpD8_xXQ</td>\n",
       "      <td>2.0</td>\n",
       "      <td>0</td>\n",
       "      <td>0</td>\n",
       "      <td>0</td>\n",
       "      <td>There's Been Three Times That I've Ordered A G...</td>\n",
       "      <td>2016-08-25 14:08:18</td>\n",
       "      <td>1</td>\n",
       "    </tr>\n",
       "    <tr>\n",
       "      <th>4</th>\n",
       "      <td>KiE0h68HGOO7ZXAqkMBdiw</td>\n",
       "      <td>1.0</td>\n",
       "      <td>0</td>\n",
       "      <td>1</td>\n",
       "      <td>0</td>\n",
       "      <td>I Went In When They Had 4 People Working, Wait...</td>\n",
       "      <td>2016-01-30 01:10:42</td>\n",
       "      <td>0</td>\n",
       "    </tr>\n",
       "  </tbody>\n",
       "</table>\n",
       "</div>"
      ],
      "text/plain": [
       "              business_id  stars  useful  funny  cool  \\\n",
       "0  aJvxWyQIG5OLfBw3qAe8xA    2.0       0      0     0   \n",
       "1  MjZQqZAmJeMco_Vq-Y9h-g    4.0       0      0     0   \n",
       "2  u7MJKcNdZXYyTeb67vD5jw    4.0       1      0     0   \n",
       "3  saJFbz12EnzanelpD8_xXQ    2.0       0      0     0   \n",
       "4  KiE0h68HGOO7ZXAqkMBdiw    1.0       0      1     0   \n",
       "\n",
       "                                                text                date  \\\n",
       "0  Ordered Caramel Frappe At Drive Thru, Big Mist... 2017-12-29 19:38:31   \n",
       "1  Drum-roll Please! Review #100 Coming Right Up!... 2014-02-05 19:38:24   \n",
       "2  We Stopped Here For My Chai And Hubby's Coffee... 2017-02-09 04:35:39   \n",
       "3  There's Been Three Times That I've Ordered A G... 2016-08-25 14:08:18   \n",
       "4  I Went In When They Had 4 People Working, Wait... 2016-01-30 01:10:42   \n",
       "\n",
       "   sentiment  \n",
       "0          0  \n",
       "1          2  \n",
       "2          2  \n",
       "3          1  \n",
       "4          0  "
      ]
     },
     "execution_count": 50,
     "metadata": {},
     "output_type": "execute_result"
    }
   ],
   "source": [
    "df_review_sent.head()"
   ]
  },
  {
   "cell_type": "code",
   "execution_count": 51,
   "metadata": {},
   "outputs": [],
   "source": [
    "# Guardar el DataFrame como archivo Parquet\n",
    "df_review_sent.to_parquet('..//data//review_sent.parquet')"
   ]
  },
  {
   "cell_type": "code",
   "execution_count": 52,
   "metadata": {},
   "outputs": [],
   "source": [
    "df_review_sent_total = df_review_sent"
   ]
  },
  {
   "cell_type": "code",
   "execution_count": 53,
   "metadata": {},
   "outputs": [],
   "source": [
    "# Crear variables dummy\n",
    "df_review_sent_total['positive'] = df_review_sent['sentiment'].apply(lambda x: 1 if x == 2 else 0)\n",
    "df_review_sent_total['neutral'] = df_review_sent['sentiment'].apply(lambda x: 1 if x == 1 else 0)\n",
    "df_review_sent_total['negative'] = df_review_sent['sentiment'].apply(lambda x: 1 if x == 0 else 0)"
   ]
  },
  {
   "cell_type": "code",
   "execution_count": 54,
   "metadata": {},
   "outputs": [],
   "source": [
    "# Eliminar la columna 'sentiment' si no la necesitas\n",
    "df_review_sent_total.drop(columns=['sentiment'], inplace=True)"
   ]
  },
  {
   "cell_type": "code",
   "execution_count": 55,
   "metadata": {},
   "outputs": [],
   "source": [
    "# Eliminar las columnas 'text' y 'date'\n",
    "df_review_sent_total.drop(columns=['text', 'date'], inplace=True)"
   ]
  },
  {
   "cell_type": "code",
   "execution_count": 56,
   "metadata": {},
   "outputs": [],
   "source": [
    "# Funciones personalizadas para sumar los valores > 0\n",
    "def sum_positive(x):\n",
    "    return x[x > 0].sum()\n",
    "\n",
    "def sum_neutral(x):\n",
    "    return x[x > 0].sum()\n",
    "\n",
    "def sum_negative(x):\n",
    "    return x[x > 0].sum()"
   ]
  },
  {
   "cell_type": "code",
   "execution_count": 58,
   "metadata": {},
   "outputs": [],
   "source": [
    "# Crear columnas total para positive, neutral, y negative antes de agrupar\n",
    "df_review_sent_total['positive_total'] = df_review_sent_total.groupby('business_id')['positive'].transform(lambda x: sum_positive(x))\n",
    "df_review_sent_total['neutral_total'] = df_review_sent_total.groupby('business_id')['neutral'].transform(lambda x: sum_neutral(x))\n",
    "df_review_sent_total['negative_total'] = df_review_sent_total.groupby('business_id')['negative'].transform(lambda x: sum_negative(x))\n"
   ]
  },
  {
   "cell_type": "code",
   "execution_count": 59,
   "metadata": {},
   "outputs": [],
   "source": [
    "# Agrupar por la columna 'business_id' y calcular el valor promedio de las columnas relevantes\n",
    "df_review_sent_total = df_review_sent_total.groupby('business_id').agg({\n",
    "    'stars': 'mean',\n",
    "    'useful': 'mean',\n",
    "    'funny': 'mean',\n",
    "    'cool': 'mean',\n",
    "    'positive': 'mean',\n",
    "    'neutral': 'mean',\n",
    "    'negative': 'mean',\n",
    "    'positive_total': 'sum',  # Sumar los valores totales\n",
    "    'neutral_total': 'sum',   # Sumar los valores totales\n",
    "    'negative_total': 'sum'   # Sumar los valores totales\n",
    "}).reset_index()"
   ]
  },
  {
   "cell_type": "code",
   "execution_count": 60,
   "metadata": {},
   "outputs": [
    {
     "name": "stdout",
     "output_type": "stream",
     "text": [
      "<class 'pandas.core.frame.DataFrame'>\n",
      "RangeIndex: 730 entries, 0 to 729\n",
      "Data columns (total 11 columns):\n",
      " #   Column          Non-Null Count  Dtype  \n",
      "---  ------          --------------  -----  \n",
      " 0   business_id     730 non-null    object \n",
      " 1   stars           730 non-null    float64\n",
      " 2   useful          730 non-null    float64\n",
      " 3   funny           730 non-null    float64\n",
      " 4   cool            730 non-null    float64\n",
      " 5   positive        730 non-null    float64\n",
      " 6   neutral         730 non-null    float64\n",
      " 7   negative        730 non-null    float64\n",
      " 8   positive_total  730 non-null    int64  \n",
      " 9   neutral_total   730 non-null    int64  \n",
      " 10  negative_total  730 non-null    int64  \n",
      "dtypes: float64(7), int64(3), object(1)\n",
      "memory usage: 62.9+ KB\n"
     ]
    }
   ],
   "source": [
    "df_review_sent_total.info()"
   ]
  },
  {
   "cell_type": "code",
   "execution_count": 61,
   "metadata": {},
   "outputs": [
    {
     "data": {
      "text/html": [
       "<div>\n",
       "<style scoped>\n",
       "    .dataframe tbody tr th:only-of-type {\n",
       "        vertical-align: middle;\n",
       "    }\n",
       "\n",
       "    .dataframe tbody tr th {\n",
       "        vertical-align: top;\n",
       "    }\n",
       "\n",
       "    .dataframe thead th {\n",
       "        text-align: right;\n",
       "    }\n",
       "</style>\n",
       "<table border=\"1\" class=\"dataframe\">\n",
       "  <thead>\n",
       "    <tr style=\"text-align: right;\">\n",
       "      <th></th>\n",
       "      <th>business_id</th>\n",
       "      <th>stars</th>\n",
       "      <th>useful</th>\n",
       "      <th>funny</th>\n",
       "      <th>cool</th>\n",
       "      <th>positive</th>\n",
       "      <th>neutral</th>\n",
       "      <th>negative</th>\n",
       "      <th>positive_total</th>\n",
       "      <th>neutral_total</th>\n",
       "      <th>negative_total</th>\n",
       "    </tr>\n",
       "  </thead>\n",
       "  <tbody>\n",
       "    <tr>\n",
       "      <th>0</th>\n",
       "      <td>-6kIZWnXPuDC6JiQJ-A1fg</td>\n",
       "      <td>3.317073</td>\n",
       "      <td>0.829268</td>\n",
       "      <td>0.439024</td>\n",
       "      <td>0.463415</td>\n",
       "      <td>0.707317</td>\n",
       "      <td>0.000000</td>\n",
       "      <td>0.292683</td>\n",
       "      <td>1189</td>\n",
       "      <td>0</td>\n",
       "      <td>492</td>\n",
       "    </tr>\n",
       "    <tr>\n",
       "      <th>1</th>\n",
       "      <td>-85kJMtb9wqNWDT8yLbitw</td>\n",
       "      <td>3.666667</td>\n",
       "      <td>0.861111</td>\n",
       "      <td>0.555556</td>\n",
       "      <td>0.583333</td>\n",
       "      <td>0.777778</td>\n",
       "      <td>0.055556</td>\n",
       "      <td>0.166667</td>\n",
       "      <td>1008</td>\n",
       "      <td>72</td>\n",
       "      <td>216</td>\n",
       "    </tr>\n",
       "    <tr>\n",
       "      <th>2</th>\n",
       "      <td>-FSNRWP_3twzsH-qliHcZQ</td>\n",
       "      <td>2.333333</td>\n",
       "      <td>0.333333</td>\n",
       "      <td>0.111111</td>\n",
       "      <td>0.111111</td>\n",
       "      <td>0.555556</td>\n",
       "      <td>0.000000</td>\n",
       "      <td>0.444444</td>\n",
       "      <td>45</td>\n",
       "      <td>0</td>\n",
       "      <td>36</td>\n",
       "    </tr>\n",
       "    <tr>\n",
       "      <th>3</th>\n",
       "      <td>-GJN01qCjGgnNBTbZexNpQ</td>\n",
       "      <td>3.375000</td>\n",
       "      <td>0.625000</td>\n",
       "      <td>0.375000</td>\n",
       "      <td>0.375000</td>\n",
       "      <td>0.625000</td>\n",
       "      <td>0.000000</td>\n",
       "      <td>0.375000</td>\n",
       "      <td>40</td>\n",
       "      <td>0</td>\n",
       "      <td>24</td>\n",
       "    </tr>\n",
       "    <tr>\n",
       "      <th>4</th>\n",
       "      <td>-KdeX92-JV2K8GWbAxVj2w</td>\n",
       "      <td>2.739130</td>\n",
       "      <td>0.608696</td>\n",
       "      <td>0.195652</td>\n",
       "      <td>0.108696</td>\n",
       "      <td>0.630435</td>\n",
       "      <td>0.065217</td>\n",
       "      <td>0.304348</td>\n",
       "      <td>1334</td>\n",
       "      <td>138</td>\n",
       "      <td>644</td>\n",
       "    </tr>\n",
       "  </tbody>\n",
       "</table>\n",
       "</div>"
      ],
      "text/plain": [
       "              business_id     stars    useful     funny      cool  positive  \\\n",
       "0  -6kIZWnXPuDC6JiQJ-A1fg  3.317073  0.829268  0.439024  0.463415  0.707317   \n",
       "1  -85kJMtb9wqNWDT8yLbitw  3.666667  0.861111  0.555556  0.583333  0.777778   \n",
       "2  -FSNRWP_3twzsH-qliHcZQ  2.333333  0.333333  0.111111  0.111111  0.555556   \n",
       "3  -GJN01qCjGgnNBTbZexNpQ  3.375000  0.625000  0.375000  0.375000  0.625000   \n",
       "4  -KdeX92-JV2K8GWbAxVj2w  2.739130  0.608696  0.195652  0.108696  0.630435   \n",
       "\n",
       "    neutral  negative  positive_total  neutral_total  negative_total  \n",
       "0  0.000000  0.292683            1189              0             492  \n",
       "1  0.055556  0.166667            1008             72             216  \n",
       "2  0.000000  0.444444              45              0              36  \n",
       "3  0.000000  0.375000              40              0              24  \n",
       "4  0.065217  0.304348            1334            138             644  "
      ]
     },
     "execution_count": 61,
     "metadata": {},
     "output_type": "execute_result"
    }
   ],
   "source": [
    "df_review_sent_total.head()"
   ]
  },
  {
   "cell_type": "code",
   "execution_count": 62,
   "metadata": {},
   "outputs": [],
   "source": [
    "# Guardar el DataFrame como archivo Parquet\n",
    "df_review_sent_total.to_parquet('..//data//review_sent_total.parquet')"
   ]
  }
 ],
 "metadata": {
  "kernelspec": {
   "display_name": "Python 3",
   "language": "python",
   "name": "python3"
  },
  "language_info": {
   "codemirror_mode": {
    "name": "ipython",
    "version": 3
   },
   "file_extension": ".py",
   "mimetype": "text/x-python",
   "name": "python",
   "nbconvert_exporter": "python",
   "pygments_lexer": "ipython3",
   "version": "3.12.3"
  }
 },
 "nbformat": 4,
 "nbformat_minor": 2
}
