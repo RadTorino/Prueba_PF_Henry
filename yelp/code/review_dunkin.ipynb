{
 "cells": [
  {
   "cell_type": "code",
   "execution_count": 1,
   "metadata": {},
   "outputs": [],
   "source": [
    "import pandas as pd\n",
    "import pyarrow as pa\n",
    "import pyarrow.parquet as pq\n",
    "import json"
   ]
  },
  {
   "cell_type": "markdown",
   "metadata": {},
   "source": [
    "### Cargar business_dunkin.parquet"
   ]
  },
  {
   "cell_type": "code",
   "execution_count": 6,
   "metadata": {},
   "outputs": [],
   "source": [
    "# Carga el archivo .parquet en un DataFrame de Pandas\n",
    "df_business_dunkin = pd.read_parquet('..//data//business_dunkin.parquet')"
   ]
  },
  {
   "cell_type": "markdown",
   "metadata": {},
   "source": [
    "### Preparar el achivo review_dunkin.parquet"
   ]
  },
  {
   "cell_type": "code",
   "execution_count": 2,
   "metadata": {},
   "outputs": [],
   "source": [
    "def convert_and_split_json_to_parquet(json_file_path, output_prefix, num_parts):\n",
    "    # Contadores\n",
    "    line_count = 0\n",
    "    part_count = 0\n",
    "\n",
    "    # Lee el archivo JSON en chunks\n",
    "    with open(json_file_path, 'r', encoding='utf-8') as file:\n",
    "        # Obtén el número total de líneas en el archivo\n",
    "        total_lines = sum(1 for line in file)\n",
    "        file.seek(0)\n",
    "\n",
    "        # Calcula el tamaño del chunk\n",
    "        chunk_size = total_lines // num_parts\n",
    "\n",
    "        # Inicializa una lista para almacenar los registros\n",
    "        records = []\n",
    "\n",
    "        for line in file:\n",
    "            # Parse la línea del JSON\n",
    "            record = json.loads(line.strip())\n",
    "            records.append(record)\n",
    "            line_count += 1\n",
    "\n",
    "            # Si hemos alcanzado el tamaño del chunk o es la última línea\n",
    "            if line_count % chunk_size == 0 or line_count == total_lines:\n",
    "                part_file_path = f\"{output_prefix}_part{part_count + 1}.parquet\"\n",
    "                \n",
    "                # Convertir la lista de registros a DataFrame\n",
    "                df_chunk = pd.DataFrame(records)\n",
    "                \n",
    "                # Convertir el DataFrame a tabla Arrow y escribir a Parquet\n",
    "                table = pa.Table.from_pandas(df_chunk)\n",
    "                pq.write_table(table, part_file_path)\n",
    "                print(f\"Part {part_count + 1} written to {part_file_path}\")\n",
    "                \n",
    "                # Resetear la lista de registros y aumentar el contador de partes\n",
    "                records = []\n",
    "                part_count += 1"
   ]
  },
  {
   "cell_type": "code",
   "execution_count": 3,
   "metadata": {},
   "outputs": [
    {
     "name": "stdout",
     "output_type": "stream",
     "text": [
      "Part 1 written to review_output_part1.parquet\n",
      "Part 2 written to review_output_part2.parquet\n",
      "Part 3 written to review_output_part3.parquet\n",
      "Part 4 written to review_output_part4.parquet\n",
      "Part 5 written to review_output_part5.parquet\n"
     ]
    }
   ],
   "source": [
    "# Usar la función\n",
    "convert_and_split_json_to_parquet('..//data//review.json', 'review_output', 5)"
   ]
  },
  {
   "cell_type": "code",
   "execution_count": 4,
   "metadata": {},
   "outputs": [],
   "source": [
    "# Lista de archivos .parquet\n",
    "file_paths = [\n",
    "    '..//code//review_output_part1.parquet',\n",
    "    '..//code//review_output_part2.parquet',\n",
    "    '..//code//review_output_part3.parquet',\n",
    "    '..//code//review_output_part4.parquet',\n",
    "    '..//code//review_output_part5.parquet'\n",
    "]"
   ]
  },
  {
   "cell_type": "code",
   "execution_count": 7,
   "metadata": {},
   "outputs": [
    {
     "name": "stdout",
     "output_type": "stream",
     "text": [
      "Filtered file written to ..//code//review_output_part1_filtered.parquet\n",
      "Filtered file written to ..//code//review_output_part2_filtered.parquet\n",
      "Filtered file written to ..//code//review_output_part3_filtered.parquet\n",
      "Filtered file written to ..//code//review_output_part4_filtered.parquet\n",
      "Filtered file written to ..//code//review_output_part5_filtered.parquet\n"
     ]
    }
   ],
   "source": [
    "# Filtrar cada DataFrame y almacenarlos en una lista\n",
    "filtered_dfs = []\n",
    "for file_path in file_paths:\n",
    "    # Leer el archivo .parquet\n",
    "    df_part = pd.read_parquet(file_path)\n",
    "    \n",
    "    # Filtrar el DataFrame\n",
    "    df_part_filtered = df_part[df_part['business_id'].isin(df_business_dunkin['business_id'])]\n",
    "    \n",
    "    # Agregar el DataFrame filtrado a la lista\n",
    "    filtered_dfs.append(df_part_filtered)\n",
    "    \n",
    "    # Guardar el DataFrame filtrado en un archivo .parquet\n",
    "    filtered_file_path = file_path.replace('.parquet', '_filtered.parquet')\n",
    "    df_part_filtered.to_parquet(filtered_file_path)\n",
    "    print(f\"Filtered file written to {filtered_file_path}\")"
   ]
  },
  {
   "cell_type": "code",
   "execution_count": 8,
   "metadata": {},
   "outputs": [],
   "source": [
    "# Combinar los DataFrames filtrados\n",
    "df_review_dunkin = pd.concat(filtered_dfs, ignore_index=True)"
   ]
  },
  {
   "cell_type": "code",
   "execution_count": 9,
   "metadata": {},
   "outputs": [],
   "source": [
    "# Guardar el DataFrame combinado en un archivo .parquet\n",
    "combined_file_path = '..//data//review_dunkin.parquet'\n",
    "df_review_dunkin.to_parquet(combined_file_path)"
   ]
  },
  {
   "cell_type": "markdown",
   "metadata": {},
   "source": [
    "### Ya filtrado y guardado como .parquet y para los Dunkin de todo el pais"
   ]
  },
  {
   "cell_type": "code",
   "execution_count": 10,
   "metadata": {},
   "outputs": [],
   "source": [
    "# Carga el archivo .parquet en un DataFrame de Pandas\n",
    "df_review_dunkin = pd.read_parquet('..//data//review_dunkin.parquet')"
   ]
  },
  {
   "cell_type": "code",
   "execution_count": 11,
   "metadata": {},
   "outputs": [],
   "source": [
    "# Función para normalizar y capitalizar texto\n",
    "def normalize_and_capitalize(text):\n",
    "    if text is None:\n",
    "        return ''\n",
    "    # Convertir a minúsculas y luego capitalizar la primera letra de cada palabra\n",
    "    normalized_text = ' '.join([word.capitalize() for word in text.lower().split()])\n",
    "    return normalized_text"
   ]
  },
  {
   "cell_type": "code",
   "execution_count": 12,
   "metadata": {},
   "outputs": [],
   "source": [
    "# Asegurarse de que la columna 'text' está convertida a str y luego aplicar la función\n",
    "df_review_dunkin['text'] = df_review_dunkin['text'].astype(str).apply(normalize_and_capitalize)"
   ]
  },
  {
   "cell_type": "code",
   "execution_count": 13,
   "metadata": {},
   "outputs": [
    {
     "name": "stdout",
     "output_type": "stream",
     "text": [
      "0    I Was Greated By A Nice Friendly Staff. There ...\n",
      "1    Get Off The Phone And Serve Your Customers. Al...\n",
      "2    This Place Is A Disaster In Slow Motion. I Wou...\n",
      "3    Had The Worst Experience At Dunkin Doughnuts [...\n",
      "4    Gave Them Another Try Today ... Smdh .... How ...\n",
      "Name: text, dtype: object\n"
     ]
    }
   ],
   "source": [
    "# Verificar los primeros registros de la columna 'text' después de la transformación\n",
    "print(df_review_dunkin['text'].head())"
   ]
  },
  {
   "cell_type": "code",
   "execution_count": 14,
   "metadata": {},
   "outputs": [],
   "source": [
    "# Convertir la columna 'date' a tipo datetime\n",
    "df_review_dunkin['date'] = pd.to_datetime(df_review_dunkin['date'], errors='coerce')"
   ]
  },
  {
   "cell_type": "code",
   "execution_count": 15,
   "metadata": {},
   "outputs": [
    {
     "name": "stdout",
     "output_type": "stream",
     "text": [
      "0   2016-09-18 14:59:21\n",
      "1   2012-03-01 01:48:48\n",
      "2   2010-05-15 15:42:08\n",
      "3   2017-04-30 15:33:53\n",
      "4   2017-02-19 13:05:34\n",
      "Name: date, dtype: datetime64[ns]\n"
     ]
    }
   ],
   "source": [
    "# Verificar los primeros registros de la columna 'date' después de la conversión\n",
    "print(df_review_dunkin['date'].head())"
   ]
  },
  {
   "cell_type": "code",
   "execution_count": 16,
   "metadata": {},
   "outputs": [],
   "source": [
    "# Restablecer el índice\n",
    "df_review_dunkin = df_review_dunkin.reset_index(drop=True)"
   ]
  },
  {
   "cell_type": "code",
   "execution_count": 17,
   "metadata": {},
   "outputs": [
    {
     "name": "stdout",
     "output_type": "stream",
     "text": [
      "<class 'pandas.core.frame.DataFrame'>\n",
      "RangeIndex: 10875 entries, 0 to 10874\n",
      "Data columns (total 9 columns):\n",
      " #   Column       Non-Null Count  Dtype         \n",
      "---  ------       --------------  -----         \n",
      " 0   review_id    10875 non-null  object        \n",
      " 1   user_id      10875 non-null  object        \n",
      " 2   business_id  10875 non-null  object        \n",
      " 3   stars        10875 non-null  float64       \n",
      " 4   useful       10875 non-null  int64         \n",
      " 5   funny        10875 non-null  int64         \n",
      " 6   cool         10875 non-null  int64         \n",
      " 7   text         10875 non-null  object        \n",
      " 8   date         10875 non-null  datetime64[ns]\n",
      "dtypes: datetime64[ns](1), float64(1), int64(3), object(4)\n",
      "memory usage: 764.8+ KB\n"
     ]
    }
   ],
   "source": [
    "df_review_dunkin.info()"
   ]
  },
  {
   "cell_type": "code",
   "execution_count": 18,
   "metadata": {},
   "outputs": [
    {
     "data": {
      "text/html": [
       "<div>\n",
       "<style scoped>\n",
       "    .dataframe tbody tr th:only-of-type {\n",
       "        vertical-align: middle;\n",
       "    }\n",
       "\n",
       "    .dataframe tbody tr th {\n",
       "        vertical-align: top;\n",
       "    }\n",
       "\n",
       "    .dataframe thead th {\n",
       "        text-align: right;\n",
       "    }\n",
       "</style>\n",
       "<table border=\"1\" class=\"dataframe\">\n",
       "  <thead>\n",
       "    <tr style=\"text-align: right;\">\n",
       "      <th></th>\n",
       "      <th>review_id</th>\n",
       "      <th>user_id</th>\n",
       "      <th>business_id</th>\n",
       "      <th>stars</th>\n",
       "      <th>useful</th>\n",
       "      <th>funny</th>\n",
       "      <th>cool</th>\n",
       "      <th>text</th>\n",
       "      <th>date</th>\n",
       "    </tr>\n",
       "  </thead>\n",
       "  <tbody>\n",
       "    <tr>\n",
       "      <th>0</th>\n",
       "      <td>GXOKVGgp_PER947X-eNLqg</td>\n",
       "      <td>dBWYq9h7CXhWBqs-HlUn2w</td>\n",
       "      <td>GUAF7ybULhg68asLfFZYbA</td>\n",
       "      <td>4.0</td>\n",
       "      <td>0</td>\n",
       "      <td>0</td>\n",
       "      <td>0</td>\n",
       "      <td>I Was Greated By A Nice Friendly Staff. There ...</td>\n",
       "      <td>2016-09-18 14:59:21</td>\n",
       "    </tr>\n",
       "  </tbody>\n",
       "</table>\n",
       "</div>"
      ],
      "text/plain": [
       "                review_id                 user_id             business_id  \\\n",
       "0  GXOKVGgp_PER947X-eNLqg  dBWYq9h7CXhWBqs-HlUn2w  GUAF7ybULhg68asLfFZYbA   \n",
       "\n",
       "   stars  useful  funny  cool  \\\n",
       "0    4.0       0      0     0   \n",
       "\n",
       "                                                text                date  \n",
       "0  I Was Greated By A Nice Friendly Staff. There ... 2016-09-18 14:59:21  "
      ]
     },
     "execution_count": 18,
     "metadata": {},
     "output_type": "execute_result"
    }
   ],
   "source": [
    "df_review_dunkin.head(1)"
   ]
  },
  {
   "cell_type": "code",
   "execution_count": 19,
   "metadata": {},
   "outputs": [],
   "source": [
    "# Guardar el DataFrame combinado en un archivo .parquet\n",
    "combined_file_path = '..//data//review_dunkin.parquet'\n",
    "df_review_dunkin.to_parquet(combined_file_path)"
   ]
  }
 ],
 "metadata": {
  "kernelspec": {
   "display_name": "Python 3",
   "language": "python",
   "name": "python3"
  },
  "language_info": {
   "codemirror_mode": {
    "name": "ipython",
    "version": 3
   },
   "file_extension": ".py",
   "mimetype": "text/x-python",
   "name": "python",
   "nbconvert_exporter": "python",
   "pygments_lexer": "ipython3",
   "version": "3.12.3"
  }
 },
 "nbformat": 4,
 "nbformat_minor": 2
}
