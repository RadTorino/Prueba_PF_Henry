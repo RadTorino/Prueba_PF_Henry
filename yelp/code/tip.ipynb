{
 "cells": [
  {
   "cell_type": "code",
   "execution_count": 1,
   "metadata": {},
   "outputs": [],
   "source": [
    "import pandas as pd"
   ]
  },
  {
   "cell_type": "markdown",
   "metadata": {},
   "source": [
    "### Cargar business.parquet"
   ]
  },
  {
   "cell_type": "code",
   "execution_count": 25,
   "metadata": {},
   "outputs": [],
   "source": [
    "# Carga el archivo .parquet en un DataFrame de Pandas\n",
    "df_business = pd.read_parquet('..//data//business.parquet')"
   ]
  },
  {
   "cell_type": "markdown",
   "metadata": {},
   "source": [
    "### Preparar el achivo tip.parquet"
   ]
  },
  {
   "cell_type": "code",
   "execution_count": 26,
   "metadata": {},
   "outputs": [],
   "source": [
    "# Carga el archivo .parquet en un DataFrame de Pandas\n",
    "df_tip = pd.read_parquet('..//data//tip.parquet')"
   ]
  },
  {
   "cell_type": "code",
   "execution_count": 27,
   "metadata": {},
   "outputs": [],
   "source": [
    "# Filtrar review_1 para incluir solo las filas donde business_id está en business_fl\n",
    "df_tip = df_tip[df_tip['business_id'].isin(df_business['business_id'])]"
   ]
  },
  {
   "cell_type": "code",
   "execution_count": 28,
   "metadata": {},
   "outputs": [],
   "source": [
    "# Función para normalizar y capitalizar texto\n",
    "def normalize_and_capitalize(text):\n",
    "    if text is None:\n",
    "        return ''\n",
    "    # Convertir a minúsculas y luego capitalizar la primera letra de cada palabra\n",
    "    normalized_text = ' '.join([word.capitalize() for word in text.lower().split()])\n",
    "    return normalized_text"
   ]
  },
  {
   "cell_type": "code",
   "execution_count": 29,
   "metadata": {},
   "outputs": [],
   "source": [
    "# Convertir la columna 'text' a tipo str y luego aplicar la función usando .loc\n",
    "df_tip.loc[:, 'text'] = df_tip['text'].astype(str).apply(normalize_and_capitalize)"
   ]
  },
  {
   "cell_type": "code",
   "execution_count": 30,
   "metadata": {},
   "outputs": [
    {
     "name": "stdout",
     "output_type": "stream",
     "text": [
      "0                Great Customer Service On Every Visit\n",
      "1    Never Have A Bad Experience Here. Fast, Friend...\n",
      "2    Sundays In The Summer Are Nice, Relaxed, And C...\n",
      "3    Small Place. They Need To Keep The Cream/milk ...\n",
      "4    Wear Your Winter Clothes If You're Staying - B...\n",
      "Name: text, dtype: object\n"
     ]
    }
   ],
   "source": [
    "# Verificar los primeros registros de la columna 'text' después de la transformación\n",
    "print(df_tip['text'].head())"
   ]
  },
  {
   "cell_type": "code",
   "execution_count": 31,
   "metadata": {},
   "outputs": [],
   "source": [
    "# Función para normalizar y capitalizar texto\n",
    "def normalize_and_capitalize(text):\n",
    "    if text is None:\n",
    "        return ''\n",
    "    # Convertir a minúsculas y luego capitalizar la primera letra de cada palabra\n",
    "    normalized_text = ' '.join([word.capitalize() for word in text.lower().split()])\n",
    "    return normalized_text"
   ]
  },
  {
   "cell_type": "code",
   "execution_count": 32,
   "metadata": {},
   "outputs": [],
   "source": [
    "# Asegurarse de que la columna 'text' está convertida a str y luego aplicar la función\n",
    "df_tip['text'] = df_tip['text'].astype(str).apply(normalize_and_capitalize)"
   ]
  },
  {
   "cell_type": "code",
   "execution_count": 33,
   "metadata": {},
   "outputs": [
    {
     "name": "stdout",
     "output_type": "stream",
     "text": [
      "0                Great Customer Service On Every Visit\n",
      "1    Never Have A Bad Experience Here. Fast, Friend...\n",
      "2    Sundays In The Summer Are Nice, Relaxed, And C...\n",
      "3    Small Place. They Need To Keep The Cream/milk ...\n",
      "4    Wear Your Winter Clothes If You're Staying - B...\n",
      "Name: text, dtype: object\n"
     ]
    }
   ],
   "source": [
    "# Verificar los primeros registros de la columna 'text' después de la transformación\n",
    "print(df_tip['text'].head())"
   ]
  },
  {
   "cell_type": "code",
   "execution_count": 34,
   "metadata": {},
   "outputs": [],
   "source": [
    "# Convertir la columna 'date' a tipo datetime\n",
    "df_tip['date'] = pd.to_datetime(df_tip['date'], errors='coerce')"
   ]
  },
  {
   "cell_type": "code",
   "execution_count": 35,
   "metadata": {},
   "outputs": [
    {
     "name": "stdout",
     "output_type": "stream",
     "text": [
      "0   2016-12-09 23:52:17\n",
      "1   2013-08-24 00:34:35\n",
      "2   2013-05-19 21:49:44\n",
      "3   2011-12-26 19:52:54\n",
      "4   2012-07-28 20:30:03\n",
      "Name: date, dtype: datetime64[ns]\n"
     ]
    }
   ],
   "source": [
    "# Verificar los primeros registros de la columna 'date' después de la conversión\n",
    "print(df_tip['date'].head())"
   ]
  },
  {
   "cell_type": "code",
   "execution_count": 36,
   "metadata": {},
   "outputs": [],
   "source": [
    "# Restablecer el índice\n",
    "df_tip = df_tip.reset_index(drop=True)"
   ]
  },
  {
   "cell_type": "code",
   "execution_count": 37,
   "metadata": {},
   "outputs": [
    {
     "data": {
      "text/html": [
       "<div>\n",
       "<style scoped>\n",
       "    .dataframe tbody tr th:only-of-type {\n",
       "        vertical-align: middle;\n",
       "    }\n",
       "\n",
       "    .dataframe tbody tr th {\n",
       "        vertical-align: top;\n",
       "    }\n",
       "\n",
       "    .dataframe thead th {\n",
       "        text-align: right;\n",
       "    }\n",
       "</style>\n",
       "<table border=\"1\" class=\"dataframe\">\n",
       "  <thead>\n",
       "    <tr style=\"text-align: right;\">\n",
       "      <th></th>\n",
       "      <th>user_id</th>\n",
       "      <th>business_id</th>\n",
       "      <th>text</th>\n",
       "      <th>date</th>\n",
       "      <th>compliment_count</th>\n",
       "    </tr>\n",
       "  </thead>\n",
       "  <tbody>\n",
       "    <tr>\n",
       "      <th>0</th>\n",
       "      <td>_sxfMOKphtb9S_4tq5qXQw</td>\n",
       "      <td>iFunuVzrg10UesZvMPCHHg</td>\n",
       "      <td>Great Customer Service On Every Visit</td>\n",
       "      <td>2016-12-09 23:52:17</td>\n",
       "      <td>0</td>\n",
       "    </tr>\n",
       "    <tr>\n",
       "      <th>1</th>\n",
       "      <td>ALNUwFXAHXmFeQ9V2gCTfA</td>\n",
       "      <td>wWoX5l58K8YTokEWRcFstw</td>\n",
       "      <td>Never Have A Bad Experience Here. Fast, Friend...</td>\n",
       "      <td>2013-08-24 00:34:35</td>\n",
       "      <td>0</td>\n",
       "    </tr>\n",
       "    <tr>\n",
       "      <th>2</th>\n",
       "      <td>IFhqsrhESIC66b3ICfV0vw</td>\n",
       "      <td>zXvjFr3lftIlkuFNlY4PRw</td>\n",
       "      <td>Sundays In The Summer Are Nice, Relaxed, And C...</td>\n",
       "      <td>2013-05-19 21:49:44</td>\n",
       "      <td>0</td>\n",
       "    </tr>\n",
       "    <tr>\n",
       "      <th>3</th>\n",
       "      <td>Y-HpR79F_ZqRtGMjZnhwVg</td>\n",
       "      <td>Flu8zFsJbX-mRw2yOFBC-w</td>\n",
       "      <td>Small Place. They Need To Keep The Cream/milk ...</td>\n",
       "      <td>2011-12-26 19:52:54</td>\n",
       "      <td>0</td>\n",
       "    </tr>\n",
       "    <tr>\n",
       "      <th>4</th>\n",
       "      <td>PWdye8-VRbkTtKP8oCvDYw</td>\n",
       "      <td>mNO9pUXwxP2VgOhXIPOdgw</td>\n",
       "      <td>Wear Your Winter Clothes If You're Staying - B...</td>\n",
       "      <td>2012-07-28 20:30:03</td>\n",
       "      <td>0</td>\n",
       "    </tr>\n",
       "  </tbody>\n",
       "</table>\n",
       "</div>"
      ],
      "text/plain": [
       "                  user_id             business_id  \\\n",
       "0  _sxfMOKphtb9S_4tq5qXQw  iFunuVzrg10UesZvMPCHHg   \n",
       "1  ALNUwFXAHXmFeQ9V2gCTfA  wWoX5l58K8YTokEWRcFstw   \n",
       "2  IFhqsrhESIC66b3ICfV0vw  zXvjFr3lftIlkuFNlY4PRw   \n",
       "3  Y-HpR79F_ZqRtGMjZnhwVg  Flu8zFsJbX-mRw2yOFBC-w   \n",
       "4  PWdye8-VRbkTtKP8oCvDYw  mNO9pUXwxP2VgOhXIPOdgw   \n",
       "\n",
       "                                                text                date  \\\n",
       "0              Great Customer Service On Every Visit 2016-12-09 23:52:17   \n",
       "1  Never Have A Bad Experience Here. Fast, Friend... 2013-08-24 00:34:35   \n",
       "2  Sundays In The Summer Are Nice, Relaxed, And C... 2013-05-19 21:49:44   \n",
       "3  Small Place. They Need To Keep The Cream/milk ... 2011-12-26 19:52:54   \n",
       "4  Wear Your Winter Clothes If You're Staying - B... 2012-07-28 20:30:03   \n",
       "\n",
       "   compliment_count  \n",
       "0                 0  \n",
       "1                 0  \n",
       "2                 0  \n",
       "3                 0  \n",
       "4                 0  "
      ]
     },
     "execution_count": 37,
     "metadata": {},
     "output_type": "execute_result"
    }
   ],
   "source": [
    "df_tip.head()"
   ]
  },
  {
   "cell_type": "code",
   "execution_count": 38,
   "metadata": {},
   "outputs": [
    {
     "name": "stdout",
     "output_type": "stream",
     "text": [
      "<class 'pandas.core.frame.DataFrame'>\n",
      "RangeIndex: 6865 entries, 0 to 6864\n",
      "Data columns (total 5 columns):\n",
      " #   Column            Non-Null Count  Dtype         \n",
      "---  ------            --------------  -----         \n",
      " 0   user_id           6865 non-null   object        \n",
      " 1   business_id       6865 non-null   object        \n",
      " 2   text              6865 non-null   object        \n",
      " 3   date              6865 non-null   datetime64[ns]\n",
      " 4   compliment_count  6865 non-null   int64         \n",
      "dtypes: datetime64[ns](1), int64(1), object(3)\n",
      "memory usage: 268.3+ KB\n"
     ]
    }
   ],
   "source": [
    "df_tip.info()"
   ]
  },
  {
   "cell_type": "code",
   "execution_count": 39,
   "metadata": {},
   "outputs": [],
   "source": [
    "# Guardar el DataFrame como archivo Parquet\n",
    "df_tip.to_parquet('..//data//tip.parquet')"
   ]
  }
 ],
 "metadata": {
  "kernelspec": {
   "display_name": "Python 3",
   "language": "python",
   "name": "python3"
  },
  "language_info": {
   "codemirror_mode": {
    "name": "ipython",
    "version": 3
   },
   "file_extension": ".py",
   "mimetype": "text/x-python",
   "name": "python",
   "nbconvert_exporter": "python",
   "pygments_lexer": "ipython3",
   "version": "3.12.3"
  }
 },
 "nbformat": 4,
 "nbformat_minor": 2
}
