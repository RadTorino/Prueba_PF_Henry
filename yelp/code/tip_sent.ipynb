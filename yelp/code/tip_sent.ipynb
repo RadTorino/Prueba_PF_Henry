{
 "cells": [
  {
   "cell_type": "code",
   "execution_count": 1,
   "metadata": {},
   "outputs": [],
   "source": [
    "import pandas as pd\n",
    "import nltk\n",
    "from nltk.sentiment import SentimentIntensityAnalyzer"
   ]
  },
  {
   "cell_type": "markdown",
   "metadata": {},
   "source": [
    "### Cargar archivo tip.parquet, realizar analisis sentimental, variables dummy, agrupación por business_id"
   ]
  },
  {
   "cell_type": "code",
   "execution_count": 48,
   "metadata": {},
   "outputs": [],
   "source": [
    "# Carga el archivo .parquet en un DataFrame de Pandas\n",
    "df_tip_sent = pd.read_parquet('..//data//tip.parquet')"
   ]
  },
  {
   "cell_type": "code",
   "execution_count": 49,
   "metadata": {},
   "outputs": [],
   "source": [
    "# Eliminar las columnas 'date' y 'user_id'\n",
    "df_tip_sent.drop(columns=['date', 'user_id'], inplace=True)"
   ]
  },
  {
   "cell_type": "code",
   "execution_count": 50,
   "metadata": {},
   "outputs": [
    {
     "name": "stderr",
     "output_type": "stream",
     "text": [
      "[nltk_data] Downloading package vader_lexicon to\n",
      "[nltk_data]     C:\\Users\\jhcat\\AppData\\Roaming\\nltk_data...\n",
      "[nltk_data]   Package vader_lexicon is already up-to-date!\n"
     ]
    },
    {
     "data": {
      "text/plain": [
       "True"
      ]
     },
     "execution_count": 50,
     "metadata": {},
     "output_type": "execute_result"
    }
   ],
   "source": [
    "# Descargar el lexicón de VADER\n",
    "nltk.download('vader_lexicon')"
   ]
  },
  {
   "cell_type": "code",
   "execution_count": 51,
   "metadata": {},
   "outputs": [],
   "source": [
    "# Inicializar el analizador de sentimientos\n",
    "sia = SentimentIntensityAnalyzer()"
   ]
  },
  {
   "cell_type": "code",
   "execution_count": 52,
   "metadata": {},
   "outputs": [],
   "source": [
    "# Función para clasificar el sentimiento\n",
    "def classify_sentiment(text):\n",
    "    scores = sia.polarity_scores(text)\n",
    "    if scores['compound'] >= 0.05:\n",
    "        return 2  # Positivo\n",
    "    elif scores['compound'] <= -0.05:\n",
    "        return 0  # Negativo\n",
    "    else:\n",
    "        return 1  # Neutral"
   ]
  },
  {
   "cell_type": "code",
   "execution_count": 53,
   "metadata": {},
   "outputs": [],
   "source": [
    "# Aplicar la función a la columna 'text'\n",
    "df_tip_sent['sentiment'] = df_tip_sent['text'].apply(classify_sentiment)"
   ]
  },
  {
   "cell_type": "code",
   "execution_count": 54,
   "metadata": {},
   "outputs": [],
   "source": [
    "# Crear variables dummy\n",
    "df_tip_sent['positive'] = df_tip_sent['sentiment'].apply(lambda x: 1 if x == 2 else 0)\n",
    "df_tip_sent['neutral'] = df_tip_sent['sentiment'].apply(lambda x: 1 if x == 1 else 0)\n",
    "df_tip_sent['negative'] = df_tip_sent['sentiment'].apply(lambda x: 1 if x == 0 else 0)"
   ]
  },
  {
   "cell_type": "code",
   "execution_count": 55,
   "metadata": {},
   "outputs": [],
   "source": [
    "# Eliminar las columnas 'text' y 'sentiment'\n",
    "df_tip_sent.drop(columns=['text', 'sentiment'], inplace=True)"
   ]
  },
  {
   "cell_type": "code",
   "execution_count": 56,
   "metadata": {},
   "outputs": [],
   "source": [
    "# Agrupar por la columna 'business_id' y calcular el valor promedio de las columnas relevantes\n",
    "df_tip_sent = df_tip_sent.groupby('business_id').agg({\n",
    "    'compliment_count': 'mean',\n",
    "    'positive': 'mean',\n",
    "    'neutral': 'mean',\n",
    "    'negative': 'mean'\n",
    "}).reset_index()"
   ]
  },
  {
   "cell_type": "code",
   "execution_count": 57,
   "metadata": {},
   "outputs": [
    {
     "data": {
      "text/html": [
       "<div>\n",
       "<style scoped>\n",
       "    .dataframe tbody tr th:only-of-type {\n",
       "        vertical-align: middle;\n",
       "    }\n",
       "\n",
       "    .dataframe tbody tr th {\n",
       "        vertical-align: top;\n",
       "    }\n",
       "\n",
       "    .dataframe thead th {\n",
       "        text-align: right;\n",
       "    }\n",
       "</style>\n",
       "<table border=\"1\" class=\"dataframe\">\n",
       "  <thead>\n",
       "    <tr style=\"text-align: right;\">\n",
       "      <th></th>\n",
       "      <th>business_id</th>\n",
       "      <th>compliment_count</th>\n",
       "      <th>positive</th>\n",
       "      <th>neutral</th>\n",
       "      <th>negative</th>\n",
       "    </tr>\n",
       "  </thead>\n",
       "  <tbody>\n",
       "    <tr>\n",
       "      <th>0</th>\n",
       "      <td>-6kIZWnXPuDC6JiQJ-A1fg</td>\n",
       "      <td>0.000000</td>\n",
       "      <td>0.611111</td>\n",
       "      <td>0.333333</td>\n",
       "      <td>0.055556</td>\n",
       "    </tr>\n",
       "    <tr>\n",
       "      <th>1</th>\n",
       "      <td>-85kJMtb9wqNWDT8yLbitw</td>\n",
       "      <td>0.000000</td>\n",
       "      <td>0.500000</td>\n",
       "      <td>0.500000</td>\n",
       "      <td>0.000000</td>\n",
       "    </tr>\n",
       "    <tr>\n",
       "      <th>2</th>\n",
       "      <td>-FSNRWP_3twzsH-qliHcZQ</td>\n",
       "      <td>0.000000</td>\n",
       "      <td>0.000000</td>\n",
       "      <td>0.000000</td>\n",
       "      <td>1.000000</td>\n",
       "    </tr>\n",
       "    <tr>\n",
       "      <th>3</th>\n",
       "      <td>-GJN01qCjGgnNBTbZexNpQ</td>\n",
       "      <td>0.000000</td>\n",
       "      <td>0.500000</td>\n",
       "      <td>0.500000</td>\n",
       "      <td>0.000000</td>\n",
       "    </tr>\n",
       "    <tr>\n",
       "      <th>4</th>\n",
       "      <td>-KdeX92-JV2K8GWbAxVj2w</td>\n",
       "      <td>0.045455</td>\n",
       "      <td>0.636364</td>\n",
       "      <td>0.227273</td>\n",
       "      <td>0.136364</td>\n",
       "    </tr>\n",
       "    <tr>\n",
       "      <th>5</th>\n",
       "      <td>-QG6KSRQKTQ80--wqrnLTg</td>\n",
       "      <td>0.000000</td>\n",
       "      <td>0.000000</td>\n",
       "      <td>1.000000</td>\n",
       "      <td>0.000000</td>\n",
       "    </tr>\n",
       "    <tr>\n",
       "      <th>6</th>\n",
       "      <td>-cDVG1zBZPBYU3TAoshgxw</td>\n",
       "      <td>0.166667</td>\n",
       "      <td>0.500000</td>\n",
       "      <td>0.333333</td>\n",
       "      <td>0.166667</td>\n",
       "    </tr>\n",
       "    <tr>\n",
       "      <th>7</th>\n",
       "      <td>-ilTnXu41RrxQITuolQhmQ</td>\n",
       "      <td>0.000000</td>\n",
       "      <td>0.333333</td>\n",
       "      <td>0.333333</td>\n",
       "      <td>0.333333</td>\n",
       "    </tr>\n",
       "    <tr>\n",
       "      <th>8</th>\n",
       "      <td>-vSkeoIujNpKhITwvcYVLw</td>\n",
       "      <td>0.000000</td>\n",
       "      <td>1.000000</td>\n",
       "      <td>0.000000</td>\n",
       "      <td>0.000000</td>\n",
       "    </tr>\n",
       "    <tr>\n",
       "      <th>9</th>\n",
       "      <td>-xgWMTF_F8E85I_XImNEgg</td>\n",
       "      <td>0.000000</td>\n",
       "      <td>0.100000</td>\n",
       "      <td>0.400000</td>\n",
       "      <td>0.500000</td>\n",
       "    </tr>\n",
       "  </tbody>\n",
       "</table>\n",
       "</div>"
      ],
      "text/plain": [
       "              business_id  compliment_count  positive   neutral  negative\n",
       "0  -6kIZWnXPuDC6JiQJ-A1fg          0.000000  0.611111  0.333333  0.055556\n",
       "1  -85kJMtb9wqNWDT8yLbitw          0.000000  0.500000  0.500000  0.000000\n",
       "2  -FSNRWP_3twzsH-qliHcZQ          0.000000  0.000000  0.000000  1.000000\n",
       "3  -GJN01qCjGgnNBTbZexNpQ          0.000000  0.500000  0.500000  0.000000\n",
       "4  -KdeX92-JV2K8GWbAxVj2w          0.045455  0.636364  0.227273  0.136364\n",
       "5  -QG6KSRQKTQ80--wqrnLTg          0.000000  0.000000  1.000000  0.000000\n",
       "6  -cDVG1zBZPBYU3TAoshgxw          0.166667  0.500000  0.333333  0.166667\n",
       "7  -ilTnXu41RrxQITuolQhmQ          0.000000  0.333333  0.333333  0.333333\n",
       "8  -vSkeoIujNpKhITwvcYVLw          0.000000  1.000000  0.000000  0.000000\n",
       "9  -xgWMTF_F8E85I_XImNEgg          0.000000  0.100000  0.400000  0.500000"
      ]
     },
     "execution_count": 57,
     "metadata": {},
     "output_type": "execute_result"
    }
   ],
   "source": [
    "df_tip_sent.head(10)"
   ]
  },
  {
   "cell_type": "code",
   "execution_count": 58,
   "metadata": {},
   "outputs": [
    {
     "name": "stdout",
     "output_type": "stream",
     "text": [
      "<class 'pandas.core.frame.DataFrame'>\n",
      "RangeIndex: 651 entries, 0 to 650\n",
      "Data columns (total 5 columns):\n",
      " #   Column            Non-Null Count  Dtype  \n",
      "---  ------            --------------  -----  \n",
      " 0   business_id       651 non-null    object \n",
      " 1   compliment_count  651 non-null    float64\n",
      " 2   positive          651 non-null    float64\n",
      " 3   neutral           651 non-null    float64\n",
      " 4   negative          651 non-null    float64\n",
      "dtypes: float64(4), object(1)\n",
      "memory usage: 25.6+ KB\n"
     ]
    }
   ],
   "source": [
    "df_tip_sent.info()"
   ]
  },
  {
   "cell_type": "code",
   "execution_count": 59,
   "metadata": {},
   "outputs": [],
   "source": [
    "# Guardar el DataFrame como archivo Parquet\n",
    "df_tip_sent.to_parquet('..//data//tip_sent.parquet')"
   ]
  }
 ],
 "metadata": {
  "kernelspec": {
   "display_name": "Python 3",
   "language": "python",
   "name": "python3"
  },
  "language_info": {
   "codemirror_mode": {
    "name": "ipython",
    "version": 3
   },
   "file_extension": ".py",
   "mimetype": "text/x-python",
   "name": "python",
   "nbconvert_exporter": "python",
   "pygments_lexer": "ipython3",
   "version": "3.12.3"
  }
 },
 "nbformat": 4,
 "nbformat_minor": 2
}
