{
 "cells": [
  {
   "cell_type": "code",
   "execution_count": 1,
   "metadata": {},
   "outputs": [],
   "source": [
    "import pandas as pd\n",
    "import nltk\n",
    "from nltk.sentiment import SentimentIntensityAnalyzer"
   ]
  },
  {
   "cell_type": "markdown",
   "metadata": {},
   "source": [
    "### Cargar archivo review.parquet, realizar analisis sentimental, variables dummy, agrupación por business_id"
   ]
  },
  {
   "cell_type": "code",
   "execution_count": 2,
   "metadata": {},
   "outputs": [],
   "source": [
    "# Carga el archivo .parquet en un DataFrame de Pandas\n",
    "df_review_dunkin_sent = pd.read_parquet('..//data//review_dunkin.parquet')"
   ]
  },
  {
   "cell_type": "code",
   "execution_count": 3,
   "metadata": {},
   "outputs": [],
   "source": [
    "# Eliminar las columnas 'review_id' y 'user_id'\n",
    "df_review_dunkin_sent.drop(columns=['review_id', 'user_id'], inplace=True)"
   ]
  },
  {
   "cell_type": "code",
   "execution_count": 4,
   "metadata": {},
   "outputs": [
    {
     "name": "stderr",
     "output_type": "stream",
     "text": [
      "[nltk_data] Downloading package vader_lexicon to\n",
      "[nltk_data]     C:\\Users\\jhcat\\AppData\\Roaming\\nltk_data...\n",
      "[nltk_data]   Package vader_lexicon is already up-to-date!\n"
     ]
    },
    {
     "data": {
      "text/plain": [
       "True"
      ]
     },
     "execution_count": 4,
     "metadata": {},
     "output_type": "execute_result"
    }
   ],
   "source": [
    "# Descargar el lexicón de VADER\n",
    "nltk.download('vader_lexicon')"
   ]
  },
  {
   "cell_type": "code",
   "execution_count": 5,
   "metadata": {},
   "outputs": [],
   "source": [
    "# Inicializar el analizador de sentimientos\n",
    "sia = SentimentIntensityAnalyzer()"
   ]
  },
  {
   "cell_type": "code",
   "execution_count": 6,
   "metadata": {},
   "outputs": [],
   "source": [
    "# Función para clasificar el sentimiento\n",
    "def classify_sentiment(text):\n",
    "    scores = sia.polarity_scores(text)\n",
    "    if scores['compound'] >= 0.05:\n",
    "        return 2  # Positivo\n",
    "    elif scores['compound'] <= -0.05:\n",
    "        return 0  # Negativo\n",
    "    else:\n",
    "        return 1  # Neutral"
   ]
  },
  {
   "cell_type": "code",
   "execution_count": 7,
   "metadata": {},
   "outputs": [],
   "source": [
    "# Aplicar la función a la columna 'text'\n",
    "df_review_dunkin_sent['sentiment'] = df_review_dunkin_sent['text'].apply(classify_sentiment)"
   ]
  },
  {
   "cell_type": "code",
   "execution_count": 8,
   "metadata": {},
   "outputs": [
    {
     "data": {
      "text/html": [
       "<div>\n",
       "<style scoped>\n",
       "    .dataframe tbody tr th:only-of-type {\n",
       "        vertical-align: middle;\n",
       "    }\n",
       "\n",
       "    .dataframe tbody tr th {\n",
       "        vertical-align: top;\n",
       "    }\n",
       "\n",
       "    .dataframe thead th {\n",
       "        text-align: right;\n",
       "    }\n",
       "</style>\n",
       "<table border=\"1\" class=\"dataframe\">\n",
       "  <thead>\n",
       "    <tr style=\"text-align: right;\">\n",
       "      <th></th>\n",
       "      <th>business_id</th>\n",
       "      <th>stars</th>\n",
       "      <th>useful</th>\n",
       "      <th>funny</th>\n",
       "      <th>cool</th>\n",
       "      <th>text</th>\n",
       "      <th>date</th>\n",
       "      <th>sentiment</th>\n",
       "    </tr>\n",
       "  </thead>\n",
       "  <tbody>\n",
       "    <tr>\n",
       "      <th>0</th>\n",
       "      <td>GUAF7ybULhg68asLfFZYbA</td>\n",
       "      <td>4.0</td>\n",
       "      <td>0</td>\n",
       "      <td>0</td>\n",
       "      <td>0</td>\n",
       "      <td>I Was Greated By A Nice Friendly Staff. There ...</td>\n",
       "      <td>2016-09-18 14:59:21</td>\n",
       "      <td>2</td>\n",
       "    </tr>\n",
       "    <tr>\n",
       "      <th>1</th>\n",
       "      <td>H1bbYNKgk6JF9pKcBXyDXw</td>\n",
       "      <td>1.0</td>\n",
       "      <td>2</td>\n",
       "      <td>0</td>\n",
       "      <td>1</td>\n",
       "      <td>Get Off The Phone And Serve Your Customers. Al...</td>\n",
       "      <td>2012-03-01 01:48:48</td>\n",
       "      <td>0</td>\n",
       "    </tr>\n",
       "    <tr>\n",
       "      <th>2</th>\n",
       "      <td>vMp55ea__Pk0fYbBDCn6jg</td>\n",
       "      <td>1.0</td>\n",
       "      <td>0</td>\n",
       "      <td>1</td>\n",
       "      <td>0</td>\n",
       "      <td>This Place Is A Disaster In Slow Motion. I Wou...</td>\n",
       "      <td>2010-05-15 15:42:08</td>\n",
       "      <td>0</td>\n",
       "    </tr>\n",
       "    <tr>\n",
       "      <th>3</th>\n",
       "      <td>-3dkEoYgH8AlUtBMZvzUfg</td>\n",
       "      <td>1.0</td>\n",
       "      <td>0</td>\n",
       "      <td>0</td>\n",
       "      <td>0</td>\n",
       "      <td>Had The Worst Experience At Dunkin Doughnuts [...</td>\n",
       "      <td>2017-04-30 15:33:53</td>\n",
       "      <td>2</td>\n",
       "    </tr>\n",
       "    <tr>\n",
       "      <th>4</th>\n",
       "      <td>nXJ1dAI-UGbXfeaI_b1abA</td>\n",
       "      <td>1.0</td>\n",
       "      <td>0</td>\n",
       "      <td>0</td>\n",
       "      <td>0</td>\n",
       "      <td>Gave Them Another Try Today ... Smdh .... How ...</td>\n",
       "      <td>2017-02-19 13:05:34</td>\n",
       "      <td>0</td>\n",
       "    </tr>\n",
       "  </tbody>\n",
       "</table>\n",
       "</div>"
      ],
      "text/plain": [
       "              business_id  stars  useful  funny  cool  \\\n",
       "0  GUAF7ybULhg68asLfFZYbA    4.0       0      0     0   \n",
       "1  H1bbYNKgk6JF9pKcBXyDXw    1.0       2      0     1   \n",
       "2  vMp55ea__Pk0fYbBDCn6jg    1.0       0      1     0   \n",
       "3  -3dkEoYgH8AlUtBMZvzUfg    1.0       0      0     0   \n",
       "4  nXJ1dAI-UGbXfeaI_b1abA    1.0       0      0     0   \n",
       "\n",
       "                                                text                date  \\\n",
       "0  I Was Greated By A Nice Friendly Staff. There ... 2016-09-18 14:59:21   \n",
       "1  Get Off The Phone And Serve Your Customers. Al... 2012-03-01 01:48:48   \n",
       "2  This Place Is A Disaster In Slow Motion. I Wou... 2010-05-15 15:42:08   \n",
       "3  Had The Worst Experience At Dunkin Doughnuts [... 2017-04-30 15:33:53   \n",
       "4  Gave Them Another Try Today ... Smdh .... How ... 2017-02-19 13:05:34   \n",
       "\n",
       "   sentiment  \n",
       "0          2  \n",
       "1          0  \n",
       "2          0  \n",
       "3          2  \n",
       "4          0  "
      ]
     },
     "execution_count": 8,
     "metadata": {},
     "output_type": "execute_result"
    }
   ],
   "source": [
    "df_review_dunkin_sent.head()"
   ]
  },
  {
   "cell_type": "code",
   "execution_count": 9,
   "metadata": {},
   "outputs": [],
   "source": [
    "# Guardar el DataFrame como archivo Parquet\n",
    "df_review_dunkin_sent.to_parquet('..//data//review_dunkin_sent.parquet')"
   ]
  },
  {
   "cell_type": "code",
   "execution_count": 10,
   "metadata": {},
   "outputs": [],
   "source": [
    "df_review_dunkin_sent_total = df_review_dunkin_sent"
   ]
  },
  {
   "cell_type": "code",
   "execution_count": 11,
   "metadata": {},
   "outputs": [],
   "source": [
    "# Crear variables dummy\n",
    "df_review_dunkin_sent_total['positive'] = df_review_dunkin_sent['sentiment'].apply(lambda x: 1 if x == 2 else 0)\n",
    "df_review_dunkin_sent_total['neutral'] = df_review_dunkin_sent['sentiment'].apply(lambda x: 1 if x == 1 else 0)\n",
    "df_review_dunkin_sent_total['negative'] = df_review_dunkin_sent['sentiment'].apply(lambda x: 1 if x == 0 else 0)"
   ]
  },
  {
   "cell_type": "code",
   "execution_count": 12,
   "metadata": {},
   "outputs": [],
   "source": [
    "# Eliminar la columna 'sentiment' si no la necesitas\n",
    "df_review_dunkin_sent_total.drop(columns=['sentiment'], inplace=True)"
   ]
  },
  {
   "cell_type": "code",
   "execution_count": 13,
   "metadata": {},
   "outputs": [],
   "source": [
    "# Eliminar las columnas 'text' y 'date'\n",
    "df_review_dunkin_sent_total.drop(columns=['text', 'date'], inplace=True)"
   ]
  },
  {
   "cell_type": "code",
   "execution_count": 14,
   "metadata": {},
   "outputs": [],
   "source": [
    "# Funciones personalizadas para sumar los valores > 0\n",
    "def sum_positive(x):\n",
    "    return x[x > 0].sum()\n",
    "\n",
    "def sum_neutral(x):\n",
    "    return x[x > 0].sum()\n",
    "\n",
    "def sum_negative(x):\n",
    "    return x[x > 0].sum()"
   ]
  },
  {
   "cell_type": "code",
   "execution_count": 15,
   "metadata": {},
   "outputs": [],
   "source": [
    "# Crear columnas total para positive, neutral, y negative antes de agrupar\n",
    "df_review_dunkin_sent_total['positive_total'] = df_review_dunkin_sent_total.groupby('business_id')['positive'].transform(lambda x: sum_positive(x))\n",
    "df_review_dunkin_sent_total['neutral_total'] = df_review_dunkin_sent_total.groupby('business_id')['neutral'].transform(lambda x: sum_neutral(x))\n",
    "df_review_dunkin_sent_total['negative_total'] = df_review_dunkin_sent_total.groupby('business_id')['negative'].transform(lambda x: sum_negative(x))\n"
   ]
  },
  {
   "cell_type": "code",
   "execution_count": 16,
   "metadata": {},
   "outputs": [],
   "source": [
    "# Agrupar por la columna 'business_id' y calcular el valor promedio de las columnas relevantes\n",
    "df_review_dunkin_sent_total = df_review_dunkin_sent_total.groupby('business_id').agg({\n",
    "    'stars': 'mean',\n",
    "    'useful': 'mean',\n",
    "    'funny': 'mean',\n",
    "    'cool': 'mean',\n",
    "    'positive': 'mean',\n",
    "    'neutral': 'mean',\n",
    "    'negative': 'mean',\n",
    "    'positive_total': 'sum',  # Sumar los valores totales\n",
    "    'neutral_total': 'sum',   # Sumar los valores totales\n",
    "    'negative_total': 'sum'   # Sumar los valores totales\n",
    "}).reset_index()"
   ]
  },
  {
   "cell_type": "code",
   "execution_count": 17,
   "metadata": {},
   "outputs": [
    {
     "name": "stdout",
     "output_type": "stream",
     "text": [
      "<class 'pandas.core.frame.DataFrame'>\n",
      "RangeIndex: 550 entries, 0 to 549\n",
      "Data columns (total 11 columns):\n",
      " #   Column          Non-Null Count  Dtype  \n",
      "---  ------          --------------  -----  \n",
      " 0   business_id     550 non-null    object \n",
      " 1   stars           550 non-null    float64\n",
      " 2   useful          550 non-null    float64\n",
      " 3   funny           550 non-null    float64\n",
      " 4   cool            550 non-null    float64\n",
      " 5   positive        550 non-null    float64\n",
      " 6   neutral         550 non-null    float64\n",
      " 7   negative        550 non-null    float64\n",
      " 8   positive_total  550 non-null    int64  \n",
      " 9   neutral_total   550 non-null    int64  \n",
      " 10  negative_total  550 non-null    int64  \n",
      "dtypes: float64(7), int64(3), object(1)\n",
      "memory usage: 47.4+ KB\n"
     ]
    }
   ],
   "source": [
    "df_review_dunkin_sent_total.info()"
   ]
  },
  {
   "cell_type": "code",
   "execution_count": 18,
   "metadata": {},
   "outputs": [
    {
     "data": {
      "text/html": [
       "<div>\n",
       "<style scoped>\n",
       "    .dataframe tbody tr th:only-of-type {\n",
       "        vertical-align: middle;\n",
       "    }\n",
       "\n",
       "    .dataframe tbody tr th {\n",
       "        vertical-align: top;\n",
       "    }\n",
       "\n",
       "    .dataframe thead th {\n",
       "        text-align: right;\n",
       "    }\n",
       "</style>\n",
       "<table border=\"1\" class=\"dataframe\">\n",
       "  <thead>\n",
       "    <tr style=\"text-align: right;\">\n",
       "      <th></th>\n",
       "      <th>business_id</th>\n",
       "      <th>stars</th>\n",
       "      <th>useful</th>\n",
       "      <th>funny</th>\n",
       "      <th>cool</th>\n",
       "      <th>positive</th>\n",
       "      <th>neutral</th>\n",
       "      <th>negative</th>\n",
       "      <th>positive_total</th>\n",
       "      <th>neutral_total</th>\n",
       "      <th>negative_total</th>\n",
       "    </tr>\n",
       "  </thead>\n",
       "  <tbody>\n",
       "    <tr>\n",
       "      <th>0</th>\n",
       "      <td>-2BDt9OdGiBONysWCdKgNg</td>\n",
       "      <td>3.000000</td>\n",
       "      <td>0.588235</td>\n",
       "      <td>0.235294</td>\n",
       "      <td>0.235294</td>\n",
       "      <td>0.764706</td>\n",
       "      <td>0.058824</td>\n",
       "      <td>0.176471</td>\n",
       "      <td>221</td>\n",
       "      <td>17</td>\n",
       "      <td>51</td>\n",
       "    </tr>\n",
       "    <tr>\n",
       "      <th>1</th>\n",
       "      <td>-3dkEoYgH8AlUtBMZvzUfg</td>\n",
       "      <td>2.619048</td>\n",
       "      <td>0.428571</td>\n",
       "      <td>0.380952</td>\n",
       "      <td>0.238095</td>\n",
       "      <td>0.714286</td>\n",
       "      <td>0.047619</td>\n",
       "      <td>0.238095</td>\n",
       "      <td>315</td>\n",
       "      <td>21</td>\n",
       "      <td>105</td>\n",
       "    </tr>\n",
       "    <tr>\n",
       "      <th>2</th>\n",
       "      <td>-R2w_cB1_nA9ZrgvP2PkUw</td>\n",
       "      <td>3.076923</td>\n",
       "      <td>0.307692</td>\n",
       "      <td>0.307692</td>\n",
       "      <td>0.384615</td>\n",
       "      <td>0.692308</td>\n",
       "      <td>0.000000</td>\n",
       "      <td>0.307692</td>\n",
       "      <td>117</td>\n",
       "      <td>0</td>\n",
       "      <td>52</td>\n",
       "    </tr>\n",
       "    <tr>\n",
       "      <th>3</th>\n",
       "      <td>-RLJlk68dmL--ff0lsP0JQ</td>\n",
       "      <td>3.000000</td>\n",
       "      <td>0.750000</td>\n",
       "      <td>0.125000</td>\n",
       "      <td>0.125000</td>\n",
       "      <td>0.750000</td>\n",
       "      <td>0.000000</td>\n",
       "      <td>0.250000</td>\n",
       "      <td>48</td>\n",
       "      <td>0</td>\n",
       "      <td>16</td>\n",
       "    </tr>\n",
       "    <tr>\n",
       "      <th>4</th>\n",
       "      <td>-RkGrQUxlwgaR5By4p2tAQ</td>\n",
       "      <td>2.461538</td>\n",
       "      <td>1.076923</td>\n",
       "      <td>0.461538</td>\n",
       "      <td>0.538462</td>\n",
       "      <td>0.692308</td>\n",
       "      <td>0.000000</td>\n",
       "      <td>0.307692</td>\n",
       "      <td>117</td>\n",
       "      <td>0</td>\n",
       "      <td>52</td>\n",
       "    </tr>\n",
       "  </tbody>\n",
       "</table>\n",
       "</div>"
      ],
      "text/plain": [
       "              business_id     stars    useful     funny      cool  positive  \\\n",
       "0  -2BDt9OdGiBONysWCdKgNg  3.000000  0.588235  0.235294  0.235294  0.764706   \n",
       "1  -3dkEoYgH8AlUtBMZvzUfg  2.619048  0.428571  0.380952  0.238095  0.714286   \n",
       "2  -R2w_cB1_nA9ZrgvP2PkUw  3.076923  0.307692  0.307692  0.384615  0.692308   \n",
       "3  -RLJlk68dmL--ff0lsP0JQ  3.000000  0.750000  0.125000  0.125000  0.750000   \n",
       "4  -RkGrQUxlwgaR5By4p2tAQ  2.461538  1.076923  0.461538  0.538462  0.692308   \n",
       "\n",
       "    neutral  negative  positive_total  neutral_total  negative_total  \n",
       "0  0.058824  0.176471             221             17              51  \n",
       "1  0.047619  0.238095             315             21             105  \n",
       "2  0.000000  0.307692             117              0              52  \n",
       "3  0.000000  0.250000              48              0              16  \n",
       "4  0.000000  0.307692             117              0              52  "
      ]
     },
     "execution_count": 18,
     "metadata": {},
     "output_type": "execute_result"
    }
   ],
   "source": [
    "df_review_dunkin_sent_total.head()"
   ]
  },
  {
   "cell_type": "code",
   "execution_count": 19,
   "metadata": {},
   "outputs": [],
   "source": [
    "# Guardar el DataFrame como archivo Parquet\n",
    "df_review_dunkin_sent_total.to_parquet('..//data//review_dunkin_sent_total.parquet')"
   ]
  }
 ],
 "metadata": {
  "kernelspec": {
   "display_name": "Python 3",
   "language": "python",
   "name": "python3"
  },
  "language_info": {
   "codemirror_mode": {
    "name": "ipython",
    "version": 3
   },
   "file_extension": ".py",
   "mimetype": "text/x-python",
   "name": "python",
   "nbconvert_exporter": "python",
   "pygments_lexer": "ipython3",
   "version": "3.12.3"
  }
 },
 "nbformat": 4,
 "nbformat_minor": 2
}
