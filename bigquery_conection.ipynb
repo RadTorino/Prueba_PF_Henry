{
  "cells": [
    {
      "cell_type": "code",
      "execution_count": 1,
      "metadata": {
        "colab": {
          "base_uri": "https://localhost:8080/"
        },
        "id": "lNW_FoDIGVnV",
        "outputId": "38292921-65de-4793-dbb6-4a763f9f161b"
      },
      "outputs": [
        {
          "name": "stderr",
          "output_type": "stream",
          "text": [
            "\n",
            "[notice] A new release of pip is available: 24.0 -> 24.1.1\n",
            "[notice] To update, run: python.exe -m pip install --upgrade pip\n"
          ]
        },
        {
          "name": "stdout",
          "output_type": "stream",
          "text": [
            "Collecting db-dtypes\n",
            "  Using cached db_dtypes-1.2.0-py2.py3-none-any.whl.metadata (3.0 kB)\n",
            "Requirement already satisfied: packaging>=17.0 in c:\\users\\torin\\desktop\\programación\\henry\\prueba_pf_henry\\sklearn-env\\lib\\site-packages (from db-dtypes) (24.1)\n",
            "Requirement already satisfied: pandas>=0.24.2 in c:\\users\\torin\\desktop\\programación\\henry\\prueba_pf_henry\\sklearn-env\\lib\\site-packages (from db-dtypes) (2.2.2)\n",
            "Requirement already satisfied: pyarrow>=3.0.0 in c:\\users\\torin\\desktop\\programación\\henry\\prueba_pf_henry\\sklearn-env\\lib\\site-packages (from db-dtypes) (16.1.0)\n",
            "Requirement already satisfied: numpy>=1.16.6 in c:\\users\\torin\\desktop\\programación\\henry\\prueba_pf_henry\\sklearn-env\\lib\\site-packages (from db-dtypes) (1.26.4)\n",
            "Requirement already satisfied: python-dateutil>=2.8.2 in c:\\users\\torin\\desktop\\programación\\henry\\prueba_pf_henry\\sklearn-env\\lib\\site-packages (from pandas>=0.24.2->db-dtypes) (2.9.0.post0)\n",
            "Requirement already satisfied: pytz>=2020.1 in c:\\users\\torin\\desktop\\programación\\henry\\prueba_pf_henry\\sklearn-env\\lib\\site-packages (from pandas>=0.24.2->db-dtypes) (2024.1)\n",
            "Requirement already satisfied: tzdata>=2022.7 in c:\\users\\torin\\desktop\\programación\\henry\\prueba_pf_henry\\sklearn-env\\lib\\site-packages (from pandas>=0.24.2->db-dtypes) (2024.1)\n",
            "Requirement already satisfied: six>=1.5 in c:\\users\\torin\\desktop\\programación\\henry\\prueba_pf_henry\\sklearn-env\\lib\\site-packages (from python-dateutil>=2.8.2->pandas>=0.24.2->db-dtypes) (1.16.0)\n",
            "Using cached db_dtypes-1.2.0-py2.py3-none-any.whl (14 kB)\n",
            "Installing collected packages: db-dtypes\n",
            "Successfully installed db-dtypes-1.2.0\n"
          ]
        },
        {
          "name": "stderr",
          "output_type": "stream",
          "text": [
            "\n",
            "[notice] A new release of pip is available: 24.0 -> 24.1.1\n",
            "[notice] To update, run: python.exe -m pip install --upgrade pip\n"
          ]
        }
      ],
      "source": [
        "!pip install -q google-cloud-bigquery pandas\n",
        "!pip install db-dtypes"
      ]
    },
    {
      "cell_type": "code",
      "execution_count": 4,
      "metadata": {
        "id": "-YDc5uhvIiwj"
      },
      "outputs": [],
      "source": [
        "# Configure environmental variable with credentials\n",
        "import os\n",
        "credentials_path=\"verdant-cargo-426713-k3-71ab39a331b3.json\"\n",
        "os.environ[\"GOOGLE_APPLICATION_CREDENTIALS\"] = credentials_path"
      ]
    },
    {
      "cell_type": "code",
      "execution_count": 5,
      "metadata": {
        "id": "QqffyAhSGKbk"
      },
      "outputs": [
        {
          "name": "stderr",
          "output_type": "stream",
          "text": [
            "c:\\Users\\torin\\Desktop\\Programación\\Henry\\Prueba_PF_Henry\\sklearn-env\\Lib\\site-packages\\google\\cloud\\bigquery\\table.py:1727: UserWarning: BigQuery Storage module not found, fetch data with the REST endpoint instead.\n",
            "  warnings.warn(\n"
          ]
        }
      ],
      "source": [
        "from google.cloud import bigquery\n",
        "import pandas as pd\n",
        "\n",
        "def fetch_table_as_dataframe(client, table_id):\n",
        "    \"\"\"Fetches all data from a BigQuery table and returns it as a DataFrame.\"\"\"\n",
        "    query = f\"SELECT * FROM `{table_id}`\"\n",
        "    query_job = client.query(query)\n",
        "    results = query_job.result()\n",
        "    # Convert results to DataFrame\n",
        "    df = results.to_dataframe()\n",
        "    return df\n",
        "\n",
        "\n",
        "client = bigquery.Client()\n",
        "\n",
        "# TABLAS\n",
        "#metadata_Stbcks =  \"verdant-cargo-426713-k3.google.metadata_starbucks\"\n",
        "#reviews_google = \"verdant-cargo-426713-k3.google.reviews_starbucks\"\n",
        "#review_yelp = \"verdant-cargo-426713-k3.YELP.review\"\n",
        "#business_yelp = \"verdant-cargo-426713-k3.YELP.business\"\n",
        "#business_yelp = \"verdant-cargo-426713-k3.YELP.review\"\n",
        "\n",
        "\n",
        "# Fetch data from tables\n",
        "metadata_starbucks = fetch_table_as_dataframe(client, metadata_Stbcks)\n",
        "#reviews_starbucks = fetch_table_as_dataframe(client, table_id2)\n",
        "\n"
      ]
    },
    {
      "cell_type": "code",
      "execution_count": 6,
      "metadata": {
        "colab": {
          "base_uri": "https://localhost:8080/",
          "height": 538
        },
        "id": "JdLH9KO1IVyw",
        "outputId": "aa0b2e49-fc60-4139-a8ee-097bc0d824d5"
      },
      "outputs": [
        {
          "data": {
            "text/html": [
              "<div>\n",
              "<style scoped>\n",
              "    .dataframe tbody tr th:only-of-type {\n",
              "        vertical-align: middle;\n",
              "    }\n",
              "\n",
              "    .dataframe tbody tr th {\n",
              "        vertical-align: top;\n",
              "    }\n",
              "\n",
              "    .dataframe thead th {\n",
              "        text-align: right;\n",
              "    }\n",
              "</style>\n",
              "<table border=\"1\" class=\"dataframe\">\n",
              "  <thead>\n",
              "    <tr style=\"text-align: right;\">\n",
              "      <th></th>\n",
              "      <th>name</th>\n",
              "      <th>address</th>\n",
              "      <th>gmap_id</th>\n",
              "      <th>description</th>\n",
              "      <th>latitude</th>\n",
              "      <th>longitude</th>\n",
              "      <th>category</th>\n",
              "      <th>avg_rating</th>\n",
              "      <th>num_of_reviews</th>\n",
              "      <th>price</th>\n",
              "      <th>hours</th>\n",
              "      <th>MISC</th>\n",
              "      <th>state</th>\n",
              "      <th>relative_results</th>\n",
              "      <th>url</th>\n",
              "      <th>__index_level_0__</th>\n",
              "    </tr>\n",
              "  </thead>\n",
              "  <tbody>\n",
              "    <tr>\n",
              "      <th>0</th>\n",
              "      <td>Starbucks Distribution Center In Auburn</td>\n",
              "      <td>Starbucks Distribution Center In Auburn, 2202 ...</td>\n",
              "      <td>0x5490f7e2d1a9c2ad:0xbeb8751dc0b1c80d</td>\n",
              "      <td>None</td>\n",
              "      <td>47.289567</td>\n",
              "      <td>-122.238265</td>\n",
              "      <td>{'list': [{'element': 'Distribution service'}]}</td>\n",
              "      <td>3.6</td>\n",
              "      <td>38</td>\n",
              "      <td>None</td>\n",
              "      <td>{'list': [{'element': {'list': array([{'elemen...</td>\n",
              "      <td>None</td>\n",
              "      <td>Closed ⋅ Opens 9AM Thu</td>\n",
              "      <td>{'list': [{'element': '0x5490591dcfed143f:0xf0...</td>\n",
              "      <td>https://www.google.com/maps/place//data=!4m2!3...</td>\n",
              "      <td>915556</td>\n",
              "    </tr>\n",
              "    <tr>\n",
              "      <th>1</th>\n",
              "      <td>Starbucks</td>\n",
              "      <td>Starbucks, 910 N Harbor Dr, San Diego, CA 92132</td>\n",
              "      <td>0x80deab552db0a18b:0x2aa6e5735c88cb25</td>\n",
              "      <td>Seattle-based coffeehouse chain known for its ...</td>\n",
              "      <td>32.714273</td>\n",
              "      <td>-117.173772</td>\n",
              "      <td>{'list': [{'element': 'Coffee store'}]}</td>\n",
              "      <td>3.7</td>\n",
              "      <td>6</td>\n",
              "      <td>None</td>\n",
              "      <td>None</td>\n",
              "      <td>{'Accessibility': None, 'Activities': None, 'A...</td>\n",
              "      <td>None</td>\n",
              "      <td>{'list': [{'element': '0x80d9523ab8aeb313:0x35...</td>\n",
              "      <td>https://www.google.com/maps/place//data=!4m2!3...</td>\n",
              "      <td>89637</td>\n",
              "    </tr>\n",
              "    <tr>\n",
              "      <th>2</th>\n",
              "      <td>Starbucks</td>\n",
              "      <td>Starbucks, 31009 Pacific Hwy S, Federal Way, W...</td>\n",
              "      <td>0x5490577b38c1e45b:0xdeb803f125be51a6</td>\n",
              "      <td>Seattle-based coffeehouse chain known for its ...</td>\n",
              "      <td>47.323400</td>\n",
              "      <td>-122.314840</td>\n",
              "      <td>{'list': [{'element': 'Coffee shop'}]}</td>\n",
              "      <td>5.0</td>\n",
              "      <td>3</td>\n",
              "      <td>$$</td>\n",
              "      <td>None</td>\n",
              "      <td>{'Accessibility': {'list': [{'element': 'Wheel...</td>\n",
              "      <td>None</td>\n",
              "      <td>None</td>\n",
              "      <td>https://www.google.com/maps/place//data=!4m2!3...</td>\n",
              "      <td>187049</td>\n",
              "    </tr>\n",
              "    <tr>\n",
              "      <th>3</th>\n",
              "      <td>Starbucks Support Center (Headquarters)</td>\n",
              "      <td>Starbucks Support Center (Headquarters), 2401 ...</td>\n",
              "      <td>0x549041d9019a73c1:0x8607937fd9540ea1</td>\n",
              "      <td>None</td>\n",
              "      <td>47.581185</td>\n",
              "      <td>-122.335966</td>\n",
              "      <td>{'list': [{'element': 'Corporate office'}]}</td>\n",
              "      <td>2.1</td>\n",
              "      <td>15</td>\n",
              "      <td>None</td>\n",
              "      <td>{'list': [{'element': {'list': array([{'elemen...</td>\n",
              "      <td>{'Accessibility': {'list': [{'element': 'Wheel...</td>\n",
              "      <td>Open ⋅ Closes 8PM</td>\n",
              "      <td>None</td>\n",
              "      <td>https://www.google.com/maps/place//data=!4m2!3...</td>\n",
              "      <td>371855</td>\n",
              "    </tr>\n",
              "    <tr>\n",
              "      <th>4</th>\n",
              "      <td>Starbucks Distribution Center</td>\n",
              "      <td>Starbucks Distribution Center, 1050 Internatio...</td>\n",
              "      <td>0x8864199336b585bf:0xe554befb3fb65480</td>\n",
              "      <td>None</td>\n",
              "      <td>36.136907</td>\n",
              "      <td>-86.398159</td>\n",
              "      <td>{'list': [{'element': 'Warehouse'}]}</td>\n",
              "      <td>3.5</td>\n",
              "      <td>18</td>\n",
              "      <td>None</td>\n",
              "      <td>{'list': [{'element': {'list': array([{'elemen...</td>\n",
              "      <td>{'Accessibility': {'list': [{'element': 'Wheel...</td>\n",
              "      <td>Open 24 hours</td>\n",
              "      <td>{'list': [{'element': '0x8864198ae15ff5d5:0x98...</td>\n",
              "      <td>https://www.google.com/maps/place//data=!4m2!3...</td>\n",
              "      <td>398325</td>\n",
              "    </tr>\n",
              "  </tbody>\n",
              "</table>\n",
              "</div>"
            ],
            "text/plain": [
              "                                      name  \\\n",
              "0  Starbucks Distribution Center In Auburn   \n",
              "1                                Starbucks   \n",
              "2                                Starbucks   \n",
              "3  Starbucks Support Center (Headquarters)   \n",
              "4            Starbucks Distribution Center   \n",
              "\n",
              "                                             address  \\\n",
              "0  Starbucks Distribution Center In Auburn, 2202 ...   \n",
              "1    Starbucks, 910 N Harbor Dr, San Diego, CA 92132   \n",
              "2  Starbucks, 31009 Pacific Hwy S, Federal Way, W...   \n",
              "3  Starbucks Support Center (Headquarters), 2401 ...   \n",
              "4  Starbucks Distribution Center, 1050 Internatio...   \n",
              "\n",
              "                                 gmap_id  \\\n",
              "0  0x5490f7e2d1a9c2ad:0xbeb8751dc0b1c80d   \n",
              "1  0x80deab552db0a18b:0x2aa6e5735c88cb25   \n",
              "2  0x5490577b38c1e45b:0xdeb803f125be51a6   \n",
              "3  0x549041d9019a73c1:0x8607937fd9540ea1   \n",
              "4  0x8864199336b585bf:0xe554befb3fb65480   \n",
              "\n",
              "                                         description   latitude   longitude  \\\n",
              "0                                               None  47.289567 -122.238265   \n",
              "1  Seattle-based coffeehouse chain known for its ...  32.714273 -117.173772   \n",
              "2  Seattle-based coffeehouse chain known for its ...  47.323400 -122.314840   \n",
              "3                                               None  47.581185 -122.335966   \n",
              "4                                               None  36.136907  -86.398159   \n",
              "\n",
              "                                          category  avg_rating  \\\n",
              "0  {'list': [{'element': 'Distribution service'}]}         3.6   \n",
              "1          {'list': [{'element': 'Coffee store'}]}         3.7   \n",
              "2           {'list': [{'element': 'Coffee shop'}]}         5.0   \n",
              "3      {'list': [{'element': 'Corporate office'}]}         2.1   \n",
              "4             {'list': [{'element': 'Warehouse'}]}         3.5   \n",
              "\n",
              "   num_of_reviews price                                              hours  \\\n",
              "0              38  None  {'list': [{'element': {'list': array([{'elemen...   \n",
              "1               6  None                                               None   \n",
              "2               3    $$                                               None   \n",
              "3              15  None  {'list': [{'element': {'list': array([{'elemen...   \n",
              "4              18  None  {'list': [{'element': {'list': array([{'elemen...   \n",
              "\n",
              "                                                MISC                   state  \\\n",
              "0                                               None  Closed ⋅ Opens 9AM Thu   \n",
              "1  {'Accessibility': None, 'Activities': None, 'A...                    None   \n",
              "2  {'Accessibility': {'list': [{'element': 'Wheel...                    None   \n",
              "3  {'Accessibility': {'list': [{'element': 'Wheel...       Open ⋅ Closes 8PM   \n",
              "4  {'Accessibility': {'list': [{'element': 'Wheel...           Open 24 hours   \n",
              "\n",
              "                                    relative_results  \\\n",
              "0  {'list': [{'element': '0x5490591dcfed143f:0xf0...   \n",
              "1  {'list': [{'element': '0x80d9523ab8aeb313:0x35...   \n",
              "2                                               None   \n",
              "3                                               None   \n",
              "4  {'list': [{'element': '0x8864198ae15ff5d5:0x98...   \n",
              "\n",
              "                                                 url  __index_level_0__  \n",
              "0  https://www.google.com/maps/place//data=!4m2!3...             915556  \n",
              "1  https://www.google.com/maps/place//data=!4m2!3...              89637  \n",
              "2  https://www.google.com/maps/place//data=!4m2!3...             187049  \n",
              "3  https://www.google.com/maps/place//data=!4m2!3...             371855  \n",
              "4  https://www.google.com/maps/place//data=!4m2!3...             398325  "
            ]
          },
          "execution_count": 6,
          "metadata": {},
          "output_type": "execute_result"
        }
      ],
      "source": [
        "metadata_starbucks.head()"
      ]
    }
  ],
  "metadata": {
    "colab": {
      "provenance": []
    },
    "kernelspec": {
      "display_name": "Python 3",
      "name": "python3"
    },
    "language_info": {
      "codemirror_mode": {
        "name": "ipython",
        "version": 3
      },
      "file_extension": ".py",
      "mimetype": "text/x-python",
      "name": "python",
      "nbconvert_exporter": "python",
      "pygments_lexer": "ipython3",
      "version": "3.12.4"
    }
  },
  "nbformat": 4,
  "nbformat_minor": 0
}
